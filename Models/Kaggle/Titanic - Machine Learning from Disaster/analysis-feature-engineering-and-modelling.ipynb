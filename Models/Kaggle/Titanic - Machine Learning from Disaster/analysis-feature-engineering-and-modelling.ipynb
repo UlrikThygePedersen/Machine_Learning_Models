{
 "cells": [
  {
   "cell_type": "markdown",
   "id": "5ac47264",
   "metadata": {
    "papermill": {
     "duration": 0.018581,
     "end_time": "2023-01-08T17:37:20.509804",
     "exception": false,
     "start_time": "2023-01-08T17:37:20.491223",
     "status": "completed"
    },
    "tags": []
   },
   "source": [
    "# Titanic - Machine Learning from Disaster\n",
    "\n",
    "![](https://storage.googleapis.com/kaggle-competitions/kaggle/3136/logos/header.png)"
   ]
  },
  {
   "cell_type": "markdown",
   "id": "dd603896",
   "metadata": {
    "papermill": {
     "duration": 0.014944,
     "end_time": "2023-01-08T17:37:20.539808",
     "exception": false,
     "start_time": "2023-01-08T17:37:20.524864",
     "status": "completed"
    },
    "tags": []
   },
   "source": [
    "# Table of Contents\n",
    "\n",
    "* [Introduction](#introduction)\n",
    "* [House Keeping](#house)\n",
    "* [Exploratory Data Analysis](#EDA)\n",
    "* [Feature Selection](#feature)\n",
    "* [Final Processing](#final)\n",
    "* [Modelling](#model)\n",
    "* [Model Tuning - Hyperparameter GridSearch](#tuning)\n",
    "* [Model Performance](#performance)\n",
    "* [To Do in future versions!](#future)"
   ]
  },
  {
   "cell_type": "markdown",
   "id": "1c625db1",
   "metadata": {
    "papermill": {
     "duration": 0.01495,
     "end_time": "2023-01-08T17:37:20.569868",
     "exception": false,
     "start_time": "2023-01-08T17:37:20.554918",
     "status": "completed"
    },
    "tags": []
   },
   "source": [
    "# Introduction <a id=\"introduction\"></a>\n",
    "\n",
    "Analysis, Feature Engineering and Modelling of the titanic dataset from [Kaggle](https://www.kaggle.com/competitions/titanic/overview).\n",
    "\n",
    "In this notebook is my first attempt of a thorough analysis of the titanic dataset. The goal was to predict survivors of the tragic sinking of the titanic based passenger information such as age, sex and socio-economic status.\n",
    "\n",
    "I tried several models, both with and without tuning to both improve my result and learn along the way.\n",
    "\n",
    "**Best performing model: 83.4%**\n",
    "\n",
    "**Hope you enjoy, let me know how I can improve, and if you liked it, an upvote would help me out alot!**"
   ]
  },
  {
   "cell_type": "markdown",
   "id": "0aa45142",
   "metadata": {
    "papermill": {
     "duration": 0.015368,
     "end_time": "2023-01-08T17:37:20.600707",
     "exception": false,
     "start_time": "2023-01-08T17:37:20.585339",
     "status": "completed"
    },
    "tags": []
   },
   "source": [
    "## Columns in the dataset\n",
    "\n",
    "The columns present in the dataset are as follows: \n",
    "1. **PassengerId**: This column assigns a unique identifier for each passenger.\n",
    "2. **Survived**: Specifies whether the given passenger survived or not (1 - survived, 0 - didn't survive)\n",
    "3. **Pclass**: The passenger's class. (1 = Upper Deck, 2 = Middle Deck, 3 = Lower Deck)\n",
    "4. **Name**: The name of the passenger. \n",
    "5. **Sex**: The sex of the passenger (male, female)\n",
    "6. **Age**: The age of the passenger in years. If the age is estimated, is it in the form of xx.5. \n",
    "7. **SibSp**: How many siblings or spouses the passenger had on board with them. Sibling = brother, sister, stepbrother, stepsister and Spouse = husband, wife (mistresses and fiancés were ignored)\n",
    "8. **Parch**: How many parents or children the passenger had on boad with them. Parent = mother and father, child = daughter, son, stepdaughter and stepson and some children travelled only with a nanny, therefore parch=0 for them.\n",
    "9. **Ticket**: The ticket of the passenger. \n",
    "10. **Fare**: The fare amount paid by the passenger for the trip. \n",
    "11. **Cabin**: The cabin in which the passenger stayed. \n",
    "12. **Embarked**: The place from which the passenger embarked (S, C, Q)"
   ]
  },
  {
   "cell_type": "markdown",
   "id": "4cc8548e",
   "metadata": {
    "papermill": {
     "duration": 0.015587,
     "end_time": "2023-01-08T17:37:20.631231",
     "exception": false,
     "start_time": "2023-01-08T17:37:20.615644",
     "status": "completed"
    },
    "tags": []
   },
   "source": [
    "# House Keeping <a id=\"house\"></a>"
   ]
  },
  {
   "cell_type": "markdown",
   "id": "eadf0af6",
   "metadata": {
    "papermill": {
     "duration": 0.015304,
     "end_time": "2023-01-08T17:37:20.663238",
     "exception": false,
     "start_time": "2023-01-08T17:37:20.647934",
     "status": "completed"
    },
    "tags": []
   },
   "source": [
    "## Import Libraries"
   ]
  },
  {
   "cell_type": "code",
   "execution_count": 1,
   "id": "4b217750",
   "metadata": {
    "execution": {
     "iopub.execute_input": "2023-01-08T17:37:20.696961Z",
     "iopub.status.busy": "2023-01-08T17:37:20.696079Z",
     "iopub.status.idle": "2023-01-08T17:37:22.650923Z",
     "shell.execute_reply": "2023-01-08T17:37:22.649387Z"
    },
    "papermill": {
     "duration": 1.97568,
     "end_time": "2023-01-08T17:37:22.654064",
     "exception": false,
     "start_time": "2023-01-08T17:37:20.678384",
     "status": "completed"
    },
    "tags": []
   },
   "outputs": [],
   "source": [
    "from IPython.display import FileLink # add stuff to file\n",
    "import warnings\n",
    "warnings.filterwarnings('ignore')\n",
    "import pandas as pd\n",
    "import numpy as np\n",
    "import matplotlib.pyplot as plt\n",
    "import seaborn as sns\n",
    "sns.set_palette(\"YlGnBu\")\n",
    "\n",
    "from sklearn.preprocessing import StandardScaler\n",
    "\n",
    "from sklearn.model_selection import cross_val_score\n",
    "from sklearn.naive_bayes import GaussianNB\n",
    "from sklearn.linear_model import LogisticRegression\n",
    "from sklearn import tree\n",
    "from sklearn.neighbors import KNeighborsClassifier\n",
    "from sklearn.ensemble import RandomForestClassifier\n",
    "from sklearn.svm import SVC\n",
    "from xgboost import XGBClassifier\n",
    "from sklearn.ensemble import VotingClassifier\n",
    "\n",
    "from sklearn.model_selection import GridSearchCV \n",
    "from sklearn.model_selection import RandomizedSearchCV \n",
    "\n",
    "from sklearn.metrics import classification_report"
   ]
  },
  {
   "cell_type": "markdown",
   "id": "2d4c195b",
   "metadata": {
    "execution": {
     "iopub.execute_input": "2023-01-06T13:31:47.419917Z",
     "iopub.status.busy": "2023-01-06T13:31:47.419380Z",
     "iopub.status.idle": "2023-01-06T13:31:47.425184Z",
     "shell.execute_reply": "2023-01-06T13:31:47.424192Z",
     "shell.execute_reply.started": "2023-01-06T13:31:47.419872Z"
    },
    "papermill": {
     "duration": 0.015229,
     "end_time": "2023-01-08T17:37:22.685156",
     "exception": false,
     "start_time": "2023-01-08T17:37:22.669927",
     "status": "completed"
    },
    "tags": []
   },
   "source": [
    "## Dataset load and summary"
   ]
  },
  {
   "cell_type": "code",
   "execution_count": 2,
   "id": "2e7fcde1",
   "metadata": {
    "execution": {
     "iopub.execute_input": "2023-01-08T17:37:22.718664Z",
     "iopub.status.busy": "2023-01-08T17:37:22.718223Z",
     "iopub.status.idle": "2023-01-08T17:37:22.783361Z",
     "shell.execute_reply": "2023-01-08T17:37:22.781795Z"
    },
    "papermill": {
     "duration": 0.085958,
     "end_time": "2023-01-08T17:37:22.786711",
     "exception": false,
     "start_time": "2023-01-08T17:37:22.700753",
     "status": "completed"
    },
    "tags": []
   },
   "outputs": [
    {
     "name": "stdout",
     "output_type": "stream",
     "text": [
      "\n",
      "Train Dataset:\n",
      "Loaded train dataset with shape (891, 13) (891 rows and 13 columns) and column names: \n",
      "['PassengerId', 'Survived', 'Pclass', 'Name', 'Sex', 'Age', 'SibSp', 'Parch', 'Ticket', 'Fare', 'Cabin', 'Embarked', 'train_test']\n",
      "\n",
      "Test Dataset:\n",
      "Loaded test dataset with shape (418, 13) (418 rows and 13 columns) and column names:\n",
      "['PassengerId', 'Pclass', 'Name', 'Sex', 'Age', 'SibSp', 'Parch', 'Ticket', 'Fare', 'Cabin', 'Embarked', 'train_test', 'Survived']')\n",
      "\n",
      "Sample Submission Dataset:\n",
      "Loaded sample submission dataset with shape (418, 2) (418 rows and 2 columns) and column names:\n",
      "['PassengerId', 'Survived']\n",
      "\n"
     ]
    }
   ],
   "source": [
    "# load datasets\n",
    "df_train = pd.read_csv('/kaggle/input/titanic/train.csv')\n",
    "df_test = pd.read_csv('/kaggle/input/titanic/test.csv')\n",
    "df_gender_submission = pd.read_csv('/kaggle/input/titanic/gender_submission.csv')\n",
    "\n",
    "# mark train and test sets for future split\n",
    "df_train['train_test'] = 1\n",
    "df_test['train_test'] = 0\n",
    "df_test['Survived'] = np.NaN\n",
    "\n",
    "#combine to a single dataframe with all data for feature engineering\n",
    "df_all = pd.concat([df_train, df_test])\n",
    "\n",
    "# print dataset shape and columns\n",
    "print(f'''\n",
    "Train Dataset:\n",
    "Loaded train dataset with shape {df_train.shape} ({df_train.shape[0]} rows and {df_train.shape[1]} columns) and column names: \n",
    "{df_train.columns.to_list()}\n",
    "\n",
    "Test Dataset:\n",
    "Loaded test dataset with shape {df_test.shape} ({df_test.shape[0]} rows and {df_test.shape[1]} columns) and column names:\n",
    "{df_test.columns.to_list()}')\n",
    "\n",
    "Sample Submission Dataset:\n",
    "Loaded sample submission dataset with shape {df_gender_submission.shape} ({df_gender_submission.shape[0]} rows and {df_gender_submission.shape[1]} columns) and column names:\n",
    "{df_gender_submission.columns.to_list()}\n",
    "''')"
   ]
  },
  {
   "cell_type": "markdown",
   "id": "11588500",
   "metadata": {
    "papermill": {
     "duration": 0.016739,
     "end_time": "2023-01-08T17:37:22.820481",
     "exception": false,
     "start_time": "2023-01-08T17:37:22.803742",
     "status": "completed"
    },
    "tags": []
   },
   "source": [
    "## Train dataset"
   ]
  },
  {
   "cell_type": "code",
   "execution_count": 3,
   "id": "e4aa4e12",
   "metadata": {
    "execution": {
     "iopub.execute_input": "2023-01-08T17:37:22.854001Z",
     "iopub.status.busy": "2023-01-08T17:37:22.853529Z",
     "iopub.status.idle": "2023-01-08T17:37:22.881936Z",
     "shell.execute_reply": "2023-01-08T17:37:22.880478Z"
    },
    "papermill": {
     "duration": 0.047919,
     "end_time": "2023-01-08T17:37:22.884618",
     "exception": false,
     "start_time": "2023-01-08T17:37:22.836699",
     "status": "completed"
    },
    "tags": []
   },
   "outputs": [
    {
     "data": {
      "text/html": [
       "<div>\n",
       "<style scoped>\n",
       "    .dataframe tbody tr th:only-of-type {\n",
       "        vertical-align: middle;\n",
       "    }\n",
       "\n",
       "    .dataframe tbody tr th {\n",
       "        vertical-align: top;\n",
       "    }\n",
       "\n",
       "    .dataframe thead th {\n",
       "        text-align: right;\n",
       "    }\n",
       "</style>\n",
       "<table border=\"1\" class=\"dataframe\">\n",
       "  <thead>\n",
       "    <tr style=\"text-align: right;\">\n",
       "      <th></th>\n",
       "      <th>PassengerId</th>\n",
       "      <th>Survived</th>\n",
       "      <th>Pclass</th>\n",
       "      <th>Name</th>\n",
       "      <th>Sex</th>\n",
       "      <th>Age</th>\n",
       "      <th>SibSp</th>\n",
       "      <th>Parch</th>\n",
       "      <th>Ticket</th>\n",
       "      <th>Fare</th>\n",
       "      <th>Cabin</th>\n",
       "      <th>Embarked</th>\n",
       "      <th>train_test</th>\n",
       "    </tr>\n",
       "  </thead>\n",
       "  <tbody>\n",
       "    <tr>\n",
       "      <th>0</th>\n",
       "      <td>1</td>\n",
       "      <td>0</td>\n",
       "      <td>3</td>\n",
       "      <td>Braund, Mr. Owen Harris</td>\n",
       "      <td>male</td>\n",
       "      <td>22.0</td>\n",
       "      <td>1</td>\n",
       "      <td>0</td>\n",
       "      <td>A/5 21171</td>\n",
       "      <td>7.2500</td>\n",
       "      <td>NaN</td>\n",
       "      <td>S</td>\n",
       "      <td>1</td>\n",
       "    </tr>\n",
       "    <tr>\n",
       "      <th>1</th>\n",
       "      <td>2</td>\n",
       "      <td>1</td>\n",
       "      <td>1</td>\n",
       "      <td>Cumings, Mrs. John Bradley (Florence Briggs Th...</td>\n",
       "      <td>female</td>\n",
       "      <td>38.0</td>\n",
       "      <td>1</td>\n",
       "      <td>0</td>\n",
       "      <td>PC 17599</td>\n",
       "      <td>71.2833</td>\n",
       "      <td>C85</td>\n",
       "      <td>C</td>\n",
       "      <td>1</td>\n",
       "    </tr>\n",
       "    <tr>\n",
       "      <th>2</th>\n",
       "      <td>3</td>\n",
       "      <td>1</td>\n",
       "      <td>3</td>\n",
       "      <td>Heikkinen, Miss. Laina</td>\n",
       "      <td>female</td>\n",
       "      <td>26.0</td>\n",
       "      <td>0</td>\n",
       "      <td>0</td>\n",
       "      <td>STON/O2. 3101282</td>\n",
       "      <td>7.9250</td>\n",
       "      <td>NaN</td>\n",
       "      <td>S</td>\n",
       "      <td>1</td>\n",
       "    </tr>\n",
       "    <tr>\n",
       "      <th>3</th>\n",
       "      <td>4</td>\n",
       "      <td>1</td>\n",
       "      <td>1</td>\n",
       "      <td>Futrelle, Mrs. Jacques Heath (Lily May Peel)</td>\n",
       "      <td>female</td>\n",
       "      <td>35.0</td>\n",
       "      <td>1</td>\n",
       "      <td>0</td>\n",
       "      <td>113803</td>\n",
       "      <td>53.1000</td>\n",
       "      <td>C123</td>\n",
       "      <td>S</td>\n",
       "      <td>1</td>\n",
       "    </tr>\n",
       "    <tr>\n",
       "      <th>4</th>\n",
       "      <td>5</td>\n",
       "      <td>0</td>\n",
       "      <td>3</td>\n",
       "      <td>Allen, Mr. William Henry</td>\n",
       "      <td>male</td>\n",
       "      <td>35.0</td>\n",
       "      <td>0</td>\n",
       "      <td>0</td>\n",
       "      <td>373450</td>\n",
       "      <td>8.0500</td>\n",
       "      <td>NaN</td>\n",
       "      <td>S</td>\n",
       "      <td>1</td>\n",
       "    </tr>\n",
       "  </tbody>\n",
       "</table>\n",
       "</div>"
      ],
      "text/plain": [
       "   PassengerId  Survived  Pclass  \\\n",
       "0            1         0       3   \n",
       "1            2         1       1   \n",
       "2            3         1       3   \n",
       "3            4         1       1   \n",
       "4            5         0       3   \n",
       "\n",
       "                                                Name     Sex   Age  SibSp  \\\n",
       "0                            Braund, Mr. Owen Harris    male  22.0      1   \n",
       "1  Cumings, Mrs. John Bradley (Florence Briggs Th...  female  38.0      1   \n",
       "2                             Heikkinen, Miss. Laina  female  26.0      0   \n",
       "3       Futrelle, Mrs. Jacques Heath (Lily May Peel)  female  35.0      1   \n",
       "4                           Allen, Mr. William Henry    male  35.0      0   \n",
       "\n",
       "   Parch            Ticket     Fare Cabin Embarked  train_test  \n",
       "0      0         A/5 21171   7.2500   NaN        S           1  \n",
       "1      0          PC 17599  71.2833   C85        C           1  \n",
       "2      0  STON/O2. 3101282   7.9250   NaN        S           1  \n",
       "3      0            113803  53.1000  C123        S           1  \n",
       "4      0            373450   8.0500   NaN        S           1  "
      ]
     },
     "execution_count": 3,
     "metadata": {},
     "output_type": "execute_result"
    }
   ],
   "source": [
    "df_train.head()"
   ]
  },
  {
   "cell_type": "code",
   "execution_count": 4,
   "id": "080652b0",
   "metadata": {
    "execution": {
     "iopub.execute_input": "2023-01-08T17:37:22.918739Z",
     "iopub.status.busy": "2023-01-08T17:37:22.918270Z",
     "iopub.status.idle": "2023-01-08T17:37:22.941207Z",
     "shell.execute_reply": "2023-01-08T17:37:22.939789Z"
    },
    "papermill": {
     "duration": 0.043681,
     "end_time": "2023-01-08T17:37:22.943892",
     "exception": false,
     "start_time": "2023-01-08T17:37:22.900211",
     "status": "completed"
    },
    "tags": []
   },
   "outputs": [
    {
     "name": "stdout",
     "output_type": "stream",
     "text": [
      "<class 'pandas.core.frame.DataFrame'>\n",
      "RangeIndex: 891 entries, 0 to 890\n",
      "Data columns (total 13 columns):\n",
      " #   Column       Non-Null Count  Dtype  \n",
      "---  ------       --------------  -----  \n",
      " 0   PassengerId  891 non-null    int64  \n",
      " 1   Survived     891 non-null    int64  \n",
      " 2   Pclass       891 non-null    int64  \n",
      " 3   Name         891 non-null    object \n",
      " 4   Sex          891 non-null    object \n",
      " 5   Age          714 non-null    float64\n",
      " 6   SibSp        891 non-null    int64  \n",
      " 7   Parch        891 non-null    int64  \n",
      " 8   Ticket       891 non-null    object \n",
      " 9   Fare         891 non-null    float64\n",
      " 10  Cabin        204 non-null    object \n",
      " 11  Embarked     889 non-null    object \n",
      " 12  train_test   891 non-null    int64  \n",
      "dtypes: float64(2), int64(6), object(5)\n",
      "memory usage: 90.6+ KB\n"
     ]
    }
   ],
   "source": [
    "df_train.info()"
   ]
  },
  {
   "cell_type": "code",
   "execution_count": 5,
   "id": "e7287b24",
   "metadata": {
    "execution": {
     "iopub.execute_input": "2023-01-08T17:37:22.979765Z",
     "iopub.status.busy": "2023-01-08T17:37:22.979349Z",
     "iopub.status.idle": "2023-01-08T17:37:23.021928Z",
     "shell.execute_reply": "2023-01-08T17:37:23.020598Z"
    },
    "papermill": {
     "duration": 0.063566,
     "end_time": "2023-01-08T17:37:23.024789",
     "exception": false,
     "start_time": "2023-01-08T17:37:22.961223",
     "status": "completed"
    },
    "tags": []
   },
   "outputs": [
    {
     "data": {
      "text/html": [
       "<div>\n",
       "<style scoped>\n",
       "    .dataframe tbody tr th:only-of-type {\n",
       "        vertical-align: middle;\n",
       "    }\n",
       "\n",
       "    .dataframe tbody tr th {\n",
       "        vertical-align: top;\n",
       "    }\n",
       "\n",
       "    .dataframe thead th {\n",
       "        text-align: right;\n",
       "    }\n",
       "</style>\n",
       "<table border=\"1\" class=\"dataframe\">\n",
       "  <thead>\n",
       "    <tr style=\"text-align: right;\">\n",
       "      <th></th>\n",
       "      <th>PassengerId</th>\n",
       "      <th>Survived</th>\n",
       "      <th>Pclass</th>\n",
       "      <th>Age</th>\n",
       "      <th>SibSp</th>\n",
       "      <th>Parch</th>\n",
       "      <th>Fare</th>\n",
       "      <th>train_test</th>\n",
       "    </tr>\n",
       "  </thead>\n",
       "  <tbody>\n",
       "    <tr>\n",
       "      <th>count</th>\n",
       "      <td>891.000000</td>\n",
       "      <td>891.000000</td>\n",
       "      <td>891.000000</td>\n",
       "      <td>714.000000</td>\n",
       "      <td>891.000000</td>\n",
       "      <td>891.000000</td>\n",
       "      <td>891.000000</td>\n",
       "      <td>891.0</td>\n",
       "    </tr>\n",
       "    <tr>\n",
       "      <th>mean</th>\n",
       "      <td>446.000000</td>\n",
       "      <td>0.383838</td>\n",
       "      <td>2.308642</td>\n",
       "      <td>29.699118</td>\n",
       "      <td>0.523008</td>\n",
       "      <td>0.381594</td>\n",
       "      <td>32.204208</td>\n",
       "      <td>1.0</td>\n",
       "    </tr>\n",
       "    <tr>\n",
       "      <th>std</th>\n",
       "      <td>257.353842</td>\n",
       "      <td>0.486592</td>\n",
       "      <td>0.836071</td>\n",
       "      <td>14.526497</td>\n",
       "      <td>1.102743</td>\n",
       "      <td>0.806057</td>\n",
       "      <td>49.693429</td>\n",
       "      <td>0.0</td>\n",
       "    </tr>\n",
       "    <tr>\n",
       "      <th>min</th>\n",
       "      <td>1.000000</td>\n",
       "      <td>0.000000</td>\n",
       "      <td>1.000000</td>\n",
       "      <td>0.420000</td>\n",
       "      <td>0.000000</td>\n",
       "      <td>0.000000</td>\n",
       "      <td>0.000000</td>\n",
       "      <td>1.0</td>\n",
       "    </tr>\n",
       "    <tr>\n",
       "      <th>25%</th>\n",
       "      <td>223.500000</td>\n",
       "      <td>0.000000</td>\n",
       "      <td>2.000000</td>\n",
       "      <td>20.125000</td>\n",
       "      <td>0.000000</td>\n",
       "      <td>0.000000</td>\n",
       "      <td>7.910400</td>\n",
       "      <td>1.0</td>\n",
       "    </tr>\n",
       "    <tr>\n",
       "      <th>50%</th>\n",
       "      <td>446.000000</td>\n",
       "      <td>0.000000</td>\n",
       "      <td>3.000000</td>\n",
       "      <td>28.000000</td>\n",
       "      <td>0.000000</td>\n",
       "      <td>0.000000</td>\n",
       "      <td>14.454200</td>\n",
       "      <td>1.0</td>\n",
       "    </tr>\n",
       "    <tr>\n",
       "      <th>75%</th>\n",
       "      <td>668.500000</td>\n",
       "      <td>1.000000</td>\n",
       "      <td>3.000000</td>\n",
       "      <td>38.000000</td>\n",
       "      <td>1.000000</td>\n",
       "      <td>0.000000</td>\n",
       "      <td>31.000000</td>\n",
       "      <td>1.0</td>\n",
       "    </tr>\n",
       "    <tr>\n",
       "      <th>max</th>\n",
       "      <td>891.000000</td>\n",
       "      <td>1.000000</td>\n",
       "      <td>3.000000</td>\n",
       "      <td>80.000000</td>\n",
       "      <td>8.000000</td>\n",
       "      <td>6.000000</td>\n",
       "      <td>512.329200</td>\n",
       "      <td>1.0</td>\n",
       "    </tr>\n",
       "  </tbody>\n",
       "</table>\n",
       "</div>"
      ],
      "text/plain": [
       "       PassengerId    Survived      Pclass         Age       SibSp  \\\n",
       "count   891.000000  891.000000  891.000000  714.000000  891.000000   \n",
       "mean    446.000000    0.383838    2.308642   29.699118    0.523008   \n",
       "std     257.353842    0.486592    0.836071   14.526497    1.102743   \n",
       "min       1.000000    0.000000    1.000000    0.420000    0.000000   \n",
       "25%     223.500000    0.000000    2.000000   20.125000    0.000000   \n",
       "50%     446.000000    0.000000    3.000000   28.000000    0.000000   \n",
       "75%     668.500000    1.000000    3.000000   38.000000    1.000000   \n",
       "max     891.000000    1.000000    3.000000   80.000000    8.000000   \n",
       "\n",
       "            Parch        Fare  train_test  \n",
       "count  891.000000  891.000000       891.0  \n",
       "mean     0.381594   32.204208         1.0  \n",
       "std      0.806057   49.693429         0.0  \n",
       "min      0.000000    0.000000         1.0  \n",
       "25%      0.000000    7.910400         1.0  \n",
       "50%      0.000000   14.454200         1.0  \n",
       "75%      0.000000   31.000000         1.0  \n",
       "max      6.000000  512.329200         1.0  "
      ]
     },
     "execution_count": 5,
     "metadata": {},
     "output_type": "execute_result"
    }
   ],
   "source": [
    "df_train.describe()"
   ]
  },
  {
   "cell_type": "markdown",
   "id": "87de98d9",
   "metadata": {
    "papermill": {
     "duration": 0.019692,
     "end_time": "2023-01-08T17:37:23.061876",
     "exception": false,
     "start_time": "2023-01-08T17:37:23.042184",
     "status": "completed"
    },
    "tags": []
   },
   "source": [
    "## Initial thoughs\n",
    "\n",
    "* The **PassengerID** column shouldnt provide any useful information about survival, so it should be dropped.\n",
    "* The **Fare** column looks very volatile on the high end, Q3 (75%) = 31 and MAX = 512, maybe outliers?\n",
    "* There are null values in **Age**, **Cabin** and **Embarked**, these should be fixed, maybe **Age** and **Embarked** are missing data and **Cabin** is simply due to not every passenger having a **Cabin**\n",
    "* Both numerical and categorical columns. They should be examined further and either scaled or one hot encoded to improve model performance"
   ]
  },
  {
   "cell_type": "markdown",
   "id": "61935c46",
   "metadata": {
    "jp-MarkdownHeadingCollapsed": true,
    "papermill": {
     "duration": 0.019098,
     "end_time": "2023-01-08T17:37:23.107148",
     "exception": false,
     "start_time": "2023-01-08T17:37:23.088050",
     "status": "completed"
    },
    "tags": []
   },
   "source": [
    "# Exploratory Data Analysis <a id=\"EDA\"></a>"
   ]
  },
  {
   "cell_type": "markdown",
   "id": "8c03ecea",
   "metadata": {
    "papermill": {
     "duration": 0.016886,
     "end_time": "2023-01-08T17:37:23.142475",
     "exception": false,
     "start_time": "2023-01-08T17:37:23.125589",
     "status": "completed"
    },
    "tags": []
   },
   "source": [
    "## Survival ratio"
   ]
  },
  {
   "cell_type": "code",
   "execution_count": 6,
   "id": "f541e8df",
   "metadata": {
    "execution": {
     "iopub.execute_input": "2023-01-08T17:37:23.177059Z",
     "iopub.status.busy": "2023-01-08T17:37:23.176611Z",
     "iopub.status.idle": "2023-01-08T17:37:23.419939Z",
     "shell.execute_reply": "2023-01-08T17:37:23.418609Z"
    },
    "papermill": {
     "duration": 0.264079,
     "end_time": "2023-01-08T17:37:23.423013",
     "exception": false,
     "start_time": "2023-01-08T17:37:23.158934",
     "status": "completed"
    },
    "tags": []
   },
   "outputs": [
    {
     "name": "stdout",
     "output_type": "stream",
     "text": [
      "\n",
      "There were 342 survivors and 549 mortalities in the train set.\n",
      "Making the chance of survival 38.38383838383838%\n",
      "\n"
     ]
    },
    {
     "data": {
      "image/png": "[encoded data removed]",
      "text/plain": [
       "<Figure size 432x288 with 1 Axes>"
      ]
     },
     "metadata": {
      "needs_background": "light"
     },
     "output_type": "display_data"
    }
   ],
   "source": [
    "df_survived = df_train['Survived']\n",
    "\n",
    "print(f'''\n",
    "There were {df_survived.value_counts()[1]} survivors and {df_survived.value_counts()[0]} mortalities in the train set.\n",
    "Making the chance of survival {df_survived.value_counts()[1] / (df_survived.value_counts()[1] + df_survived.value_counts()[0]) * 100}%\n",
    "''')\n",
    "\n",
    "sns.countplot(x = df_survived)\n",
    "plt.title('Distribution of survival or mortality')\n",
    "plt.show()"
   ]
  },
  {
   "cell_type": "markdown",
   "id": "118bc0e6",
   "metadata": {
    "papermill": {
     "duration": 0.015768,
     "end_time": "2023-01-08T17:37:23.455002",
     "exception": false,
     "start_time": "2023-01-08T17:37:23.439234",
     "status": "completed"
    },
    "tags": []
   },
   "source": [
    "## Name"
   ]
  },
  {
   "cell_type": "code",
   "execution_count": 7,
   "id": "7841b044",
   "metadata": {
    "execution": {
     "iopub.execute_input": "2023-01-08T17:37:23.491889Z",
     "iopub.status.busy": "2023-01-08T17:37:23.491160Z",
     "iopub.status.idle": "2023-01-08T17:37:23.513335Z",
     "shell.execute_reply": "2023-01-08T17:37:23.512063Z"
    },
    "papermill": {
     "duration": 0.044061,
     "end_time": "2023-01-08T17:37:23.515868",
     "exception": false,
     "start_time": "2023-01-08T17:37:23.471807",
     "status": "completed"
    },
    "tags": []
   },
   "outputs": [
    {
     "data": {
      "text/html": [
       "<div>\n",
       "<style scoped>\n",
       "    .dataframe tbody tr th:only-of-type {\n",
       "        vertical-align: middle;\n",
       "    }\n",
       "\n",
       "    .dataframe tbody tr th {\n",
       "        vertical-align: top;\n",
       "    }\n",
       "\n",
       "    .dataframe thead th {\n",
       "        text-align: right;\n",
       "    }\n",
       "</style>\n",
       "<table border=\"1\" class=\"dataframe\">\n",
       "  <thead>\n",
       "    <tr style=\"text-align: right;\">\n",
       "      <th></th>\n",
       "      <th>Title</th>\n",
       "      <th>Frequency</th>\n",
       "    </tr>\n",
       "  </thead>\n",
       "  <tbody>\n",
       "    <tr>\n",
       "      <th>0</th>\n",
       "      <td>Mr</td>\n",
       "      <td>517</td>\n",
       "    </tr>\n",
       "    <tr>\n",
       "      <th>1</th>\n",
       "      <td>Miss</td>\n",
       "      <td>182</td>\n",
       "    </tr>\n",
       "    <tr>\n",
       "      <th>2</th>\n",
       "      <td>Mrs</td>\n",
       "      <td>125</td>\n",
       "    </tr>\n",
       "    <tr>\n",
       "      <th>3</th>\n",
       "      <td>Master</td>\n",
       "      <td>40</td>\n",
       "    </tr>\n",
       "    <tr>\n",
       "      <th>4</th>\n",
       "      <td>Dr</td>\n",
       "      <td>7</td>\n",
       "    </tr>\n",
       "    <tr>\n",
       "      <th>5</th>\n",
       "      <td>Rev</td>\n",
       "      <td>6</td>\n",
       "    </tr>\n",
       "  </tbody>\n",
       "</table>\n",
       "</div>"
      ],
      "text/plain": [
       "     Title  Frequency\n",
       "0       Mr        517\n",
       "1     Miss        182\n",
       "2      Mrs        125\n",
       "3   Master         40\n",
       "4       Dr          7\n",
       "5      Rev          6"
      ]
     },
     "execution_count": 7,
     "metadata": {},
     "output_type": "execute_result"
    }
   ],
   "source": [
    "# Extract titles\n",
    "df_train['Title'] = df_train['Name'].str.split(',', expand=True)[1].str.split('.', expand=True)[0]\n",
    "\n",
    "# List most frequent titles\n",
    "(df_train['Title'].value_counts()\n",
    "                  .to_frame()\n",
    "                  .reset_index()\n",
    "                  .iloc[:6]\n",
    "                  .rename(columns={'index':'Title', 'Title':'Frequency'}))"
   ]
  },
  {
   "cell_type": "markdown",
   "id": "57344d8e",
   "metadata": {
    "papermill": {
     "duration": 0.016726,
     "end_time": "2023-01-08T17:37:23.550620",
     "exception": false,
     "start_time": "2023-01-08T17:37:23.533894",
     "status": "completed"
    },
    "tags": []
   },
   "source": [
    "## Ticket Class"
   ]
  },
  {
   "cell_type": "code",
   "execution_count": 8,
   "id": "8adfd4b9",
   "metadata": {
    "execution": {
     "iopub.execute_input": "2023-01-08T17:37:23.588188Z",
     "iopub.status.busy": "2023-01-08T17:37:23.587496Z",
     "iopub.status.idle": "2023-01-08T17:37:23.779445Z",
     "shell.execute_reply": "2023-01-08T17:37:23.778455Z"
    },
    "papermill": {
     "duration": 0.21402,
     "end_time": "2023-01-08T17:37:23.781860",
     "exception": false,
     "start_time": "2023-01-08T17:37:23.567840",
     "status": "completed"
    },
    "tags": []
   },
   "outputs": [
    {
     "name": "stdout",
     "output_type": "stream",
     "text": [
      "\n",
      "Passengers were split into three Ticket Classes and hereby the placement on the ship deck:\n",
      "There were 216 people on the upper deck.\n",
      "There were 184 people on the middle deck.\n",
      "There were 491 people on the lower deck\n",
      "\n"
     ]
    },
    {
     "data": {
      "image/png": "[encoded data removed]",
      "text/plain": [
       "<Figure size 432x288 with 1 Axes>"
      ]
     },
     "metadata": {
      "needs_background": "light"
     },
     "output_type": "display_data"
    }
   ],
   "source": [
    "df_pclass = df_train['Pclass']\n",
    "\n",
    "print(f'''\n",
    "Passengers were split into three Ticket Classes and hereby the placement on the ship deck:\n",
    "There were {df_pclass.value_counts().sort_index()[1]} people on the upper deck.\n",
    "There were {df_pclass.value_counts().sort_index()[2]} people on the middle deck.\n",
    "There were {df_pclass.value_counts().sort_index()[3]} people on the lower deck\n",
    "''')\n",
    "\n",
    "sns.countplot(x = df_pclass)\n",
    "plt.title('Distribution of ticket classes')\n",
    "plt.show()"
   ]
  },
  {
   "cell_type": "markdown",
   "id": "a664c798",
   "metadata": {
    "papermill": {
     "duration": 0.016767,
     "end_time": "2023-01-08T17:37:23.816159",
     "exception": false,
     "start_time": "2023-01-08T17:37:23.799392",
     "status": "completed"
    },
    "tags": []
   },
   "source": [
    "## Passenger sex"
   ]
  },
  {
   "cell_type": "code",
   "execution_count": 9,
   "id": "d375a47b",
   "metadata": {
    "execution": {
     "iopub.execute_input": "2023-01-08T17:37:23.854207Z",
     "iopub.status.busy": "2023-01-08T17:37:23.853523Z",
     "iopub.status.idle": "2023-01-08T17:37:24.044880Z",
     "shell.execute_reply": "2023-01-08T17:37:24.043815Z"
    },
    "papermill": {
     "duration": 0.213592,
     "end_time": "2023-01-08T17:37:24.047180",
     "exception": false,
     "start_time": "2023-01-08T17:37:23.833588",
     "status": "completed"
    },
    "tags": []
   },
   "outputs": [
    {
     "name": "stdout",
     "output_type": "stream",
     "text": [
      "\n",
      "There were 577 males aboard.\n",
      "There were 314 females aboard.\n",
      "\n"
     ]
    },
    {
     "data": {
      "image/png": "[encoded data removed]",
      "text/plain": [
       "<Figure size 432x288 with 1 Axes>"
      ]
     },
     "metadata": {
      "needs_background": "light"
     },
     "output_type": "display_data"
    }
   ],
   "source": [
    "df_sex = df_train['Sex']\n",
    "\n",
    "print(f'''\n",
    "There were {df_sex.value_counts().sort_index()[1]} males aboard.\n",
    "There were {df_sex.value_counts().sort_index()[0]} females aboard.\n",
    "''') \n",
    "\n",
    "sns.countplot(x = df_sex)\n",
    "plt.title('Distribution of passenger sex')\n",
    "plt.show()"
   ]
  },
  {
   "cell_type": "markdown",
   "id": "60945c17",
   "metadata": {
    "papermill": {
     "duration": 0.017596,
     "end_time": "2023-01-08T17:37:24.082509",
     "exception": false,
     "start_time": "2023-01-08T17:37:24.064913",
     "status": "completed"
    },
    "tags": []
   },
   "source": [
    "## Passenger age"
   ]
  },
  {
   "cell_type": "code",
   "execution_count": 10,
   "id": "4f844e38",
   "metadata": {
    "execution": {
     "iopub.execute_input": "2023-01-08T17:37:24.119141Z",
     "iopub.status.busy": "2023-01-08T17:37:24.118735Z",
     "iopub.status.idle": "2023-01-08T17:37:24.419032Z",
     "shell.execute_reply": "2023-01-08T17:37:24.417568Z"
    },
    "papermill": {
     "duration": 0.321872,
     "end_time": "2023-01-08T17:37:24.422208",
     "exception": false,
     "start_time": "2023-01-08T17:37:24.100336",
     "status": "completed"
    },
    "tags": []
   },
   "outputs": [
    {
     "name": "stdout",
     "output_type": "stream",
     "text": [
      "\n",
      "There were 278 passenges under the age of 25.\n",
      "There were 428 passengers between the age of 25 and 65.\n",
      "There were 8 passenges older than 65.\n",
      "\n"
     ]
    },
    {
     "data": {
      "image/png": "[encoded data removed]",
      "text/plain": [
       "<Figure size 432x288 with 1 Axes>"
      ]
     },
     "metadata": {
      "needs_background": "light"
     },
     "output_type": "display_data"
    }
   ],
   "source": [
    "df_age = df_train['Age']\n",
    "\n",
    "print(f'''\n",
    "There were {np.count_nonzero(df_age < 25)} passenges under the age of 25.\n",
    "There were {np.count_nonzero((df_age >= 25) & (df_age <= 65))} passengers between the age of 25 and 65.\n",
    "There were {np.count_nonzero(df_age > 65)} passenges older than 65.\n",
    "''') \n",
    "\n",
    "sns.histplot(data = df_age)\n",
    "plt.title('Distribution of passenger age')\n",
    "plt.show()"
   ]
  },
  {
   "cell_type": "markdown",
   "id": "2e450a3a",
   "metadata": {
    "papermill": {
     "duration": 0.017431,
     "end_time": "2023-01-08T17:37:24.459083",
     "exception": false,
     "start_time": "2023-01-08T17:37:24.441652",
     "status": "completed"
    },
    "tags": []
   },
   "source": [
    "## Number of siblings/spouses"
   ]
  },
  {
   "cell_type": "code",
   "execution_count": 11,
   "id": "75d9030f",
   "metadata": {
    "execution": {
     "iopub.execute_input": "2023-01-08T17:37:24.495819Z",
     "iopub.status.busy": "2023-01-08T17:37:24.495381Z",
     "iopub.status.idle": "2023-01-08T17:37:24.721855Z",
     "shell.execute_reply": "2023-01-08T17:37:24.720633Z"
    },
    "papermill": {
     "duration": 0.247875,
     "end_time": "2023-01-08T17:37:24.724625",
     "exception": false,
     "start_time": "2023-01-08T17:37:24.476750",
     "status": "completed"
    },
    "tags": []
   },
   "outputs": [
    {
     "name": "stdout",
     "output_type": "stream",
     "text": [
      "There were 608 passengers with no siblings or spouses.\n"
     ]
    },
    {
     "data": {
      "image/png": "[encoded data removed]",
      "text/plain": [
       "<Figure size 432x288 with 1 Axes>"
      ]
     },
     "metadata": {
      "needs_background": "light"
     },
     "output_type": "display_data"
    }
   ],
   "source": [
    "df_sibsp = df_train['SibSp']\n",
    "\n",
    "print(f'There were {df_sibsp.value_counts().sort_index()[0]} passengers with no siblings or spouses.')\n",
    "\n",
    "sns.countplot(x = df_sibsp)\n",
    "plt.title('Distribution of number of siblings/spouses aboard')\n",
    "plt.show()"
   ]
  },
  {
   "cell_type": "markdown",
   "id": "0212d1fc",
   "metadata": {
    "papermill": {
     "duration": 0.017663,
     "end_time": "2023-01-08T17:37:24.760097",
     "exception": false,
     "start_time": "2023-01-08T17:37:24.742434",
     "status": "completed"
    },
    "tags": []
   },
   "source": [
    "## Number of parents/children"
   ]
  },
  {
   "cell_type": "code",
   "execution_count": 12,
   "id": "a766054d",
   "metadata": {
    "execution": {
     "iopub.execute_input": "2023-01-08T17:37:24.798464Z",
     "iopub.status.busy": "2023-01-08T17:37:24.797760Z",
     "iopub.status.idle": "2023-01-08T17:37:25.037145Z",
     "shell.execute_reply": "2023-01-08T17:37:25.036167Z"
    },
    "papermill": {
     "duration": 0.26093,
     "end_time": "2023-01-08T17:37:25.039774",
     "exception": false,
     "start_time": "2023-01-08T17:37:24.778844",
     "status": "completed"
    },
    "tags": []
   },
   "outputs": [
    {
     "name": "stdout",
     "output_type": "stream",
     "text": [
      "There were 678 passengers with no parents or children.\n"
     ]
    },
    {
     "data": {
      "image/png": "[encoded data removed]",
      "text/plain": [
       "<Figure size 432x288 with 1 Axes>"
      ]
     },
     "metadata": {
      "needs_background": "light"
     },
     "output_type": "display_data"
    }
   ],
   "source": [
    "df_parch = df_train['Parch']\n",
    "\n",
    "print(f'There were {df_parch.value_counts().sort_index()[0]} passengers with no parents or children.')\n",
    "\n",
    "sns.countplot(x = df_parch)\n",
    "plt.title('Distribution of number of parents/children aboard')\n",
    "plt.show()"
   ]
  },
  {
   "cell_type": "markdown",
   "id": "08db79ab",
   "metadata": {
    "papermill": {
     "duration": 0.017381,
     "end_time": "2023-01-08T17:37:25.075772",
     "exception": false,
     "start_time": "2023-01-08T17:37:25.058391",
     "status": "completed"
    },
    "tags": []
   },
   "source": [
    "## Tickets"
   ]
  },
  {
   "cell_type": "code",
   "execution_count": 13,
   "id": "31000c63",
   "metadata": {
    "execution": {
     "iopub.execute_input": "2023-01-08T17:37:25.114413Z",
     "iopub.status.busy": "2023-01-08T17:37:25.113925Z",
     "iopub.status.idle": "2023-01-08T17:37:25.368913Z",
     "shell.execute_reply": "2023-01-08T17:37:25.367857Z"
    },
    "papermill": {
     "duration": 0.277111,
     "end_time": "2023-01-08T17:37:25.371572",
     "exception": false,
     "start_time": "2023-01-08T17:37:25.094461",
     "status": "completed"
    },
    "tags": []
   },
   "outputs": [
    {
     "name": "stdout",
     "output_type": "stream",
     "text": [
      "\n",
      "There were 547 passengers who bought their ticket alone.\n",
      "There were 134 passengers who bought tickets together.\n",
      "\n"
     ]
    },
    {
     "data": {
      "image/png": "[encoded data removed]",
      "text/plain": [
       "<Figure size 432x288 with 1 Axes>"
      ]
     },
     "metadata": {
      "needs_background": "light"
     },
     "output_type": "display_data"
    }
   ],
   "source": [
    "df_ticket = df_train['Ticket']\n",
    "\n",
    "print(f'''\n",
    "There were {np.count_nonzero(df_ticket.value_counts() == 1)} passengers who bought their ticket alone.\n",
    "There were {np.count_nonzero(df_ticket.value_counts() > 1)} passengers who bought tickets together.\n",
    "''') \n",
    "\n",
    "sns.histplot(data = df_ticket.value_counts())\n",
    "plt.title('Distribution of people per ticket')\n",
    "plt.show()"
   ]
  },
  {
   "cell_type": "markdown",
   "id": "413089c4",
   "metadata": {
    "papermill": {
     "duration": 0.017921,
     "end_time": "2023-01-08T17:37:25.408704",
     "exception": false,
     "start_time": "2023-01-08T17:37:25.390783",
     "status": "completed"
    },
    "tags": []
   },
   "source": [
    "## Fare"
   ]
  },
  {
   "cell_type": "code",
   "execution_count": 14,
   "id": "cb4ba14d",
   "metadata": {
    "execution": {
     "iopub.execute_input": "2023-01-08T17:37:25.447834Z",
     "iopub.status.busy": "2023-01-08T17:37:25.447050Z",
     "iopub.status.idle": "2023-01-08T17:37:25.881213Z",
     "shell.execute_reply": "2023-01-08T17:37:25.880317Z"
    },
    "papermill": {
     "duration": 0.456699,
     "end_time": "2023-01-08T17:37:25.883513",
     "exception": false,
     "start_time": "2023-01-08T17:37:25.426814",
     "status": "completed"
    },
    "tags": []
   },
   "outputs": [
    {
     "name": "stdout",
     "output_type": "stream",
     "text": [
      "\n",
      "There were 336 passengers payed less than 10 dollars for their ticket.\n",
      "There were 395 passengers payed between 10 and 50 dollars for their ticket.\n",
      "There were 160 passengers payed more than 50 dollars for their ticket.\n",
      "\n"
     ]
    },
    {
     "data": {
      "image/png": "[encoded data removed]",
      "text/plain": [
       "<Figure size 432x288 with 1 Axes>"
      ]
     },
     "metadata": {
      "needs_background": "light"
     },
     "output_type": "display_data"
    }
   ],
   "source": [
    "df_fare = df_train['Fare']\n",
    "\n",
    "print(f'''\n",
    "There were {np.count_nonzero(df_fare < 10)} passengers payed less than 10 dollars for their ticket.\n",
    "There were {np.count_nonzero((df_fare >= 10) & (df_fare <= 50))} passengers payed between 10 and 50 dollars for their ticket.\n",
    "There were {np.count_nonzero(df_fare > 50)} passengers payed more than 50 dollars for their ticket.\n",
    "''') \n",
    "\n",
    "\n",
    "sns.histplot(data = df_fare)\n",
    "plt.title('Distribution of fares')\n",
    "plt.show()"
   ]
  },
  {
   "cell_type": "markdown",
   "id": "0c1424e1",
   "metadata": {
    "papermill": {
     "duration": 0.020204,
     "end_time": "2023-01-08T17:37:25.923812",
     "exception": false,
     "start_time": "2023-01-08T17:37:25.903608",
     "status": "completed"
    },
    "tags": []
   },
   "source": [
    "## Cabin"
   ]
  },
  {
   "cell_type": "code",
   "execution_count": 15,
   "id": "2411af25",
   "metadata": {
    "execution": {
     "iopub.execute_input": "2023-01-08T17:37:25.965468Z",
     "iopub.status.busy": "2023-01-08T17:37:25.964113Z",
     "iopub.status.idle": "2023-01-08T17:37:26.156833Z",
     "shell.execute_reply": "2023-01-08T17:37:26.154962Z"
    },
    "papermill": {
     "duration": 0.217113,
     "end_time": "2023-01-08T17:37:26.160164",
     "exception": false,
     "start_time": "2023-01-08T17:37:25.943051",
     "status": "completed"
    },
    "tags": []
   },
   "outputs": [
    {
     "name": "stdout",
     "output_type": "stream",
     "text": [
      "\n",
      "There were 204 passengers who had a cabin. \n",
      "There were 687 passengers who did not have a cabin.\n",
      "\n"
     ]
    },
    {
     "data": {
      "image/png": "[encoded data removed]",
      "text/plain": [
       "<Figure size 432x288 with 1 Axes>"
      ]
     },
     "metadata": {
      "needs_background": "light"
     },
     "output_type": "display_data"
    }
   ],
   "source": [
    "df_cabin = df_train['Cabin'].apply(lambda x: 1 if not pd.isnull(x) else 0)\n",
    "\n",
    "print(f'''\n",
    "There were {df_cabin.value_counts().sort_index()[1]} passengers who had a cabin. \n",
    "There were {df_cabin.value_counts().sort_index()[0]} passengers who did not have a cabin.\n",
    "''') \n",
    "\n",
    "sns.countplot(x = df_cabin)\n",
    "plt.title('Distribution of number of passengers with a cabin')\n",
    "plt.show()"
   ]
  },
  {
   "cell_type": "markdown",
   "id": "4c24251a",
   "metadata": {
    "papermill": {
     "duration": 0.019388,
     "end_time": "2023-01-08T17:37:26.199582",
     "exception": false,
     "start_time": "2023-01-08T17:37:26.180194",
     "status": "completed"
    },
    "tags": []
   },
   "source": [
    "## Port of Embarkation"
   ]
  },
  {
   "cell_type": "code",
   "execution_count": 16,
   "id": "488dcfea",
   "metadata": {
    "execution": {
     "iopub.execute_input": "2023-01-08T17:37:26.242792Z",
     "iopub.status.busy": "2023-01-08T17:37:26.242340Z",
     "iopub.status.idle": "2023-01-08T17:37:26.438944Z",
     "shell.execute_reply": "2023-01-08T17:37:26.437482Z"
    },
    "papermill": {
     "duration": 0.221308,
     "end_time": "2023-01-08T17:37:26.441559",
     "exception": false,
     "start_time": "2023-01-08T17:37:26.220251",
     "status": "completed"
    },
    "tags": []
   },
   "outputs": [
    {
     "name": "stdout",
     "output_type": "stream",
     "text": [
      "\n",
      "There were 644 passengers boarding the ship at Southampton.\n",
      "There were 168 passengers boarding the ship at Cherbourg.\n",
      "There were 77 passengers boarding the ship at Queenstown.\n",
      "\n"
     ]
    },
    {
     "data": {
      "image/png": "[encoded data removed]",
      "text/plain": [
       "<Figure size 432x288 with 1 Axes>"
      ]
     },
     "metadata": {
      "needs_background": "light"
     },
     "output_type": "display_data"
    }
   ],
   "source": [
    "df_port = df_train['Embarked']\n",
    "\n",
    "print(f'''\n",
    "There were {df_port.value_counts().sort_index()[2]} passengers boarding the ship at Southampton.\n",
    "There were {df_port.value_counts().sort_index()[0]} passengers boarding the ship at Cherbourg.\n",
    "There were {df_port.value_counts().sort_index()[1]} passengers boarding the ship at Queenstown.\n",
    "''') \n",
    "\n",
    "sns.countplot(x = df_port)\n",
    "plt.title('Distribution of number of passengers with a cabin')\n",
    "plt.show()"
   ]
  },
  {
   "cell_type": "markdown",
   "id": "8b6aba0e",
   "metadata": {
    "papermill": {
     "duration": 0.01949,
     "end_time": "2023-01-08T17:37:26.480881",
     "exception": false,
     "start_time": "2023-01-08T17:37:26.461391",
     "status": "completed"
    },
    "tags": []
   },
   "source": [
    "## Survival rate factors"
   ]
  },
  {
   "cell_type": "code",
   "execution_count": 17,
   "id": "90fece34",
   "metadata": {
    "execution": {
     "iopub.execute_input": "2023-01-08T17:37:26.522532Z",
     "iopub.status.busy": "2023-01-08T17:37:26.522080Z",
     "iopub.status.idle": "2023-01-08T17:37:27.044316Z",
     "shell.execute_reply": "2023-01-08T17:37:27.042910Z"
    },
    "papermill": {
     "duration": 0.545749,
     "end_time": "2023-01-08T17:37:27.047094",
     "exception": false,
     "start_time": "2023-01-08T17:37:26.501345",
     "status": "completed"
    },
    "tags": []
   },
   "outputs": [
    {
     "data": {
      "image/png": "[encoded data removed]",
      "text/plain": [
       "<Figure size 402.375x360 with 1 Axes>"
      ]
     },
     "metadata": {
      "needs_background": "light"
     },
     "output_type": "display_data"
    }
   ],
   "source": [
    "sns.catplot(data=df_train, x=\"Sex\", y=\"Survived\", hue=\"Pclass\", kind=\"bar\")\n",
    "plt.title('Survival rate based on sex and passanger class')\n",
    "plt.show()"
   ]
  },
  {
   "cell_type": "markdown",
   "id": "ccae21e2",
   "metadata": {
    "jp-MarkdownHeadingCollapsed": true,
    "papermill": {
     "duration": 0.019399,
     "end_time": "2023-01-08T17:37:27.085830",
     "exception": false,
     "start_time": "2023-01-08T17:37:27.066431",
     "status": "completed"
    },
    "tags": []
   },
   "source": [
    "# Feature Selection <a id=\"feature\"></a>"
   ]
  },
  {
   "cell_type": "code",
   "execution_count": 18,
   "id": "4d66ef74",
   "metadata": {
    "execution": {
     "iopub.execute_input": "2023-01-08T17:37:27.128512Z",
     "iopub.status.busy": "2023-01-08T17:37:27.127279Z",
     "iopub.status.idle": "2023-01-08T17:37:27.147082Z",
     "shell.execute_reply": "2023-01-08T17:37:27.145810Z"
    },
    "papermill": {
     "duration": 0.044036,
     "end_time": "2023-01-08T17:37:27.150014",
     "exception": false,
     "start_time": "2023-01-08T17:37:27.105978",
     "status": "completed"
    },
    "tags": []
   },
   "outputs": [],
   "source": [
    "# change cabin names and numbers to cabin yes or no\n",
    "\n",
    "df_train['Cabin'] = df_train['Cabin'].apply(lambda x: 1 if not pd.isnull(x) else 0)\n",
    "\n",
    "# change male/female to 0 and 1\n",
    "\n",
    "df_train.loc[df_train['Sex'] == 'male', 'Sex'] = 0\n",
    "df_train.loc[df_train['Sex'] == 'female', 'Sex'] = 1\n",
    "\n",
    "# One-Hot encode Embarkation (done with pd.get_dummies() further down)\n",
    "\n",
    "df_train.loc[df_train['Embarked'] == 'S', 'embarked_Southampton'] = 1\n",
    "df_train.loc[df_train['Embarked'] == 'C', 'embarked_Cherbough'] = 1\n",
    "df_train.loc[df_train['Embarked'] == 'Q', 'embarked_Queenstown'] = 1\n",
    "\n",
    "df_train = df_train.drop('Embarked', axis = 1)\n",
    "\n",
    "df_train = df_train.replace(np.nan, 0)"
   ]
  },
  {
   "cell_type": "code",
   "execution_count": 19,
   "id": "11879688",
   "metadata": {
    "execution": {
     "iopub.execute_input": "2023-01-08T17:37:27.190786Z",
     "iopub.status.busy": "2023-01-08T17:37:27.190221Z",
     "iopub.status.idle": "2023-01-08T17:37:27.214980Z",
     "shell.execute_reply": "2023-01-08T17:37:27.213670Z"
    },
    "papermill": {
     "duration": 0.048462,
     "end_time": "2023-01-08T17:37:27.217745",
     "exception": false,
     "start_time": "2023-01-08T17:37:27.169283",
     "status": "completed"
    },
    "tags": []
   },
   "outputs": [
    {
     "data": {
      "text/html": [
       "<div>\n",
       "<style scoped>\n",
       "    .dataframe tbody tr th:only-of-type {\n",
       "        vertical-align: middle;\n",
       "    }\n",
       "\n",
       "    .dataframe tbody tr th {\n",
       "        vertical-align: top;\n",
       "    }\n",
       "\n",
       "    .dataframe thead th {\n",
       "        text-align: right;\n",
       "    }\n",
       "</style>\n",
       "<table border=\"1\" class=\"dataframe\">\n",
       "  <thead>\n",
       "    <tr style=\"text-align: right;\">\n",
       "      <th></th>\n",
       "      <th>PassengerId</th>\n",
       "      <th>Survived</th>\n",
       "      <th>Age</th>\n",
       "      <th>SibSp</th>\n",
       "      <th>Parch</th>\n",
       "      <th>Fare</th>\n",
       "      <th>Cabin</th>\n",
       "      <th>Pclass</th>\n",
       "      <th>embarked_Southampton</th>\n",
       "      <th>embarked_Cherbough</th>\n",
       "      <th>embarked_Queenstown</th>\n",
       "    </tr>\n",
       "  </thead>\n",
       "  <tbody>\n",
       "    <tr>\n",
       "      <th>PassengerId</th>\n",
       "      <td>1.000000</td>\n",
       "      <td>-0.005007</td>\n",
       "      <td>0.038125</td>\n",
       "      <td>-0.057527</td>\n",
       "      <td>-0.001652</td>\n",
       "      <td>0.012658</td>\n",
       "      <td>0.019919</td>\n",
       "      <td>-0.035144</td>\n",
       "      <td>0.022148</td>\n",
       "      <td>-0.001205</td>\n",
       "      <td>-0.033606</td>\n",
       "    </tr>\n",
       "    <tr>\n",
       "      <th>Survived</th>\n",
       "      <td>-0.005007</td>\n",
       "      <td>1.000000</td>\n",
       "      <td>0.010539</td>\n",
       "      <td>-0.035322</td>\n",
       "      <td>0.081629</td>\n",
       "      <td>0.257307</td>\n",
       "      <td>0.316912</td>\n",
       "      <td>-0.338481</td>\n",
       "      <td>-0.155660</td>\n",
       "      <td>0.168240</td>\n",
       "      <td>0.003650</td>\n",
       "    </tr>\n",
       "    <tr>\n",
       "      <th>Age</th>\n",
       "      <td>0.038125</td>\n",
       "      <td>0.010539</td>\n",
       "      <td>1.000000</td>\n",
       "      <td>-0.184664</td>\n",
       "      <td>-0.048786</td>\n",
       "      <td>0.135516</td>\n",
       "      <td>0.269360</td>\n",
       "      <td>-0.361353</td>\n",
       "      <td>0.140578</td>\n",
       "      <td>0.001246</td>\n",
       "      <td>-0.237586</td>\n",
       "    </tr>\n",
       "    <tr>\n",
       "      <th>SibSp</th>\n",
       "      <td>-0.057527</td>\n",
       "      <td>-0.035322</td>\n",
       "      <td>-0.184664</td>\n",
       "      <td>1.000000</td>\n",
       "      <td>0.414838</td>\n",
       "      <td>0.159651</td>\n",
       "      <td>-0.040460</td>\n",
       "      <td>0.083081</td>\n",
       "      <td>0.070941</td>\n",
       "      <td>-0.059528</td>\n",
       "      <td>-0.026354</td>\n",
       "    </tr>\n",
       "    <tr>\n",
       "      <th>Parch</th>\n",
       "      <td>-0.001652</td>\n",
       "      <td>0.081629</td>\n",
       "      <td>-0.048786</td>\n",
       "      <td>0.414838</td>\n",
       "      <td>1.000000</td>\n",
       "      <td>0.216225</td>\n",
       "      <td>0.036987</td>\n",
       "      <td>0.018443</td>\n",
       "      <td>0.063036</td>\n",
       "      <td>-0.011069</td>\n",
       "      <td>-0.081228</td>\n",
       "    </tr>\n",
       "    <tr>\n",
       "      <th>Fare</th>\n",
       "      <td>0.012658</td>\n",
       "      <td>0.257307</td>\n",
       "      <td>0.135516</td>\n",
       "      <td>0.159651</td>\n",
       "      <td>0.216225</td>\n",
       "      <td>1.000000</td>\n",
       "      <td>0.482075</td>\n",
       "      <td>-0.549500</td>\n",
       "      <td>-0.166603</td>\n",
       "      <td>0.269335</td>\n",
       "      <td>-0.117216</td>\n",
       "    </tr>\n",
       "    <tr>\n",
       "      <th>Cabin</th>\n",
       "      <td>0.019919</td>\n",
       "      <td>0.316912</td>\n",
       "      <td>0.269360</td>\n",
       "      <td>-0.040460</td>\n",
       "      <td>0.036987</td>\n",
       "      <td>0.482075</td>\n",
       "      <td>1.000000</td>\n",
       "      <td>-0.725541</td>\n",
       "      <td>-0.110087</td>\n",
       "      <td>0.208528</td>\n",
       "      <td>-0.129572</td>\n",
       "    </tr>\n",
       "    <tr>\n",
       "      <th>Pclass</th>\n",
       "      <td>-0.035144</td>\n",
       "      <td>-0.338481</td>\n",
       "      <td>-0.361353</td>\n",
       "      <td>0.083081</td>\n",
       "      <td>0.018443</td>\n",
       "      <td>-0.549500</td>\n",
       "      <td>-0.725541</td>\n",
       "      <td>1.000000</td>\n",
       "      <td>0.081720</td>\n",
       "      <td>-0.243292</td>\n",
       "      <td>0.221009</td>\n",
       "    </tr>\n",
       "    <tr>\n",
       "      <th>embarked_Southampton</th>\n",
       "      <td>0.022148</td>\n",
       "      <td>-0.155660</td>\n",
       "      <td>0.140578</td>\n",
       "      <td>0.070941</td>\n",
       "      <td>0.063036</td>\n",
       "      <td>-0.166603</td>\n",
       "      <td>-0.110087</td>\n",
       "      <td>0.081720</td>\n",
       "      <td>1.000000</td>\n",
       "      <td>-0.778359</td>\n",
       "      <td>-0.496624</td>\n",
       "    </tr>\n",
       "    <tr>\n",
       "      <th>embarked_Cherbough</th>\n",
       "      <td>-0.001205</td>\n",
       "      <td>0.168240</td>\n",
       "      <td>0.001246</td>\n",
       "      <td>-0.059528</td>\n",
       "      <td>-0.011069</td>\n",
       "      <td>0.269335</td>\n",
       "      <td>0.208528</td>\n",
       "      <td>-0.243292</td>\n",
       "      <td>-0.778359</td>\n",
       "      <td>1.000000</td>\n",
       "      <td>-0.148258</td>\n",
       "    </tr>\n",
       "    <tr>\n",
       "      <th>embarked_Queenstown</th>\n",
       "      <td>-0.033606</td>\n",
       "      <td>0.003650</td>\n",
       "      <td>-0.237586</td>\n",
       "      <td>-0.026354</td>\n",
       "      <td>-0.081228</td>\n",
       "      <td>-0.117216</td>\n",
       "      <td>-0.129572</td>\n",
       "      <td>0.221009</td>\n",
       "      <td>-0.496624</td>\n",
       "      <td>-0.148258</td>\n",
       "      <td>1.000000</td>\n",
       "    </tr>\n",
       "  </tbody>\n",
       "</table>\n",
       "</div>"
      ],
      "text/plain": [
       "                      PassengerId  Survived       Age     SibSp     Parch  \\\n",
       "PassengerId              1.000000 -0.005007  0.038125 -0.057527 -0.001652   \n",
       "Survived                -0.005007  1.000000  0.010539 -0.035322  0.081629   \n",
       "Age                      0.038125  0.010539  1.000000 -0.184664 -0.048786   \n",
       "SibSp                   -0.057527 -0.035322 -0.184664  1.000000  0.414838   \n",
       "Parch                   -0.001652  0.081629 -0.048786  0.414838  1.000000   \n",
       "Fare                     0.012658  0.257307  0.135516  0.159651  0.216225   \n",
       "Cabin                    0.019919  0.316912  0.269360 -0.040460  0.036987   \n",
       "Pclass                  -0.035144 -0.338481 -0.361353  0.083081  0.018443   \n",
       "embarked_Southampton     0.022148 -0.155660  0.140578  0.070941  0.063036   \n",
       "embarked_Cherbough      -0.001205  0.168240  0.001246 -0.059528 -0.011069   \n",
       "embarked_Queenstown     -0.033606  0.003650 -0.237586 -0.026354 -0.081228   \n",
       "\n",
       "                          Fare     Cabin    Pclass  embarked_Southampton  \\\n",
       "PassengerId           0.012658  0.019919 -0.035144              0.022148   \n",
       "Survived              0.257307  0.316912 -0.338481             -0.155660   \n",
       "Age                   0.135516  0.269360 -0.361353              0.140578   \n",
       "SibSp                 0.159651 -0.040460  0.083081              0.070941   \n",
       "Parch                 0.216225  0.036987  0.018443              0.063036   \n",
       "Fare                  1.000000  0.482075 -0.549500             -0.166603   \n",
       "Cabin                 0.482075  1.000000 -0.725541             -0.110087   \n",
       "Pclass               -0.549500 -0.725541  1.000000              0.081720   \n",
       "embarked_Southampton -0.166603 -0.110087  0.081720              1.000000   \n",
       "embarked_Cherbough    0.269335  0.208528 -0.243292             -0.778359   \n",
       "embarked_Queenstown  -0.117216 -0.129572  0.221009             -0.496624   \n",
       "\n",
       "                      embarked_Cherbough  embarked_Queenstown  \n",
       "PassengerId                    -0.001205            -0.033606  \n",
       "Survived                        0.168240             0.003650  \n",
       "Age                             0.001246            -0.237586  \n",
       "SibSp                          -0.059528            -0.026354  \n",
       "Parch                          -0.011069            -0.081228  \n",
       "Fare                            0.269335            -0.117216  \n",
       "Cabin                           0.208528            -0.129572  \n",
       "Pclass                         -0.243292             0.221009  \n",
       "embarked_Southampton           -0.778359            -0.496624  \n",
       "embarked_Cherbough              1.000000            -0.148258  \n",
       "embarked_Queenstown            -0.148258             1.000000  "
      ]
     },
     "execution_count": 19,
     "metadata": {},
     "output_type": "execute_result"
    }
   ],
   "source": [
    "# Corelation matrix of numerical categories\n",
    "(df_train[[\n",
    "    'PassengerId', \n",
    "    'Survived', \n",
    "    'Age',\n",
    "    'SibSp',\n",
    "    'Parch',\n",
    "    'Fare',\n",
    "    'Cabin',\n",
    "    'Pclass',\n",
    "    'embarked_Southampton',\n",
    "    'embarked_Cherbough',\n",
    "    'embarked_Queenstown']].corr())"
   ]
  },
  {
   "cell_type": "code",
   "execution_count": 20,
   "id": "894a5e30",
   "metadata": {
    "execution": {
     "iopub.execute_input": "2023-01-08T17:37:27.258711Z",
     "iopub.status.busy": "2023-01-08T17:37:27.258305Z",
     "iopub.status.idle": "2023-01-08T17:37:28.488351Z",
     "shell.execute_reply": "2023-01-08T17:37:28.487271Z"
    },
    "papermill": {
     "duration": 1.254132,
     "end_time": "2023-01-08T17:37:28.491632",
     "exception": false,
     "start_time": "2023-01-08T17:37:27.237500",
     "status": "completed"
    },
    "tags": []
   },
   "outputs": [
    {
     "data": {
      "text/plain": [
       "Text(0.5, 1.0, 'Heatmap for correlation between columns of training data')"
      ]
     },
     "execution_count": 20,
     "metadata": {},
     "output_type": "execute_result"
    },
    {
     "data": {
      "image/png": "[encoded data removed]",
      "text/plain": [
       "<Figure size 864x576 with 2 Axes>"
      ]
     },
     "metadata": {
      "needs_background": "light"
     },
     "output_type": "display_data"
    }
   ],
   "source": [
    "# Heatmap of correlation matrix for training data columns\n",
    "\n",
    "fig, ax = plt.subplots(figsize=(12,8)) \n",
    "\n",
    "sns.heatmap((df_train[[\n",
    "            'PassengerId', \n",
    "            'Survived', \n",
    "            'Age',\n",
    "            'SibSp',\n",
    "            'Parch',\n",
    "            'Fare',\n",
    "            'Cabin',\n",
    "            'Pclass',\n",
    "            'embarked_Southampton',\n",
    "            'embarked_Cherbough',\n",
    "            'embarked_Queenstown'\n",
    "            ]].corr()),\n",
    "            linewidths=1,\n",
    "            cmap=plt.cm.Blues, \n",
    "            annot=True,\n",
    "            ax=ax)\n",
    "\n",
    "plt.title('Heatmap for correlation between columns of training data')"
   ]
  },
  {
   "cell_type": "markdown",
   "id": "155bad2c",
   "metadata": {
    "jp-MarkdownHeadingCollapsed": true,
    "papermill": {
     "duration": 0.021718,
     "end_time": "2023-01-08T17:37:28.535135",
     "exception": false,
     "start_time": "2023-01-08T17:37:28.513417",
     "status": "completed"
    },
    "tags": []
   },
   "source": [
    "# Final Processing <a id=\"final\"></a>"
   ]
  },
  {
   "cell_type": "code",
   "execution_count": 21,
   "id": "8ac53d30",
   "metadata": {
    "execution": {
     "iopub.execute_input": "2023-01-08T17:37:28.580314Z",
     "iopub.status.busy": "2023-01-08T17:37:28.579772Z",
     "iopub.status.idle": "2023-01-08T17:37:28.599992Z",
     "shell.execute_reply": "2023-01-08T17:37:28.598647Z"
    },
    "papermill": {
     "duration": 0.0459,
     "end_time": "2023-01-08T17:37:28.602335",
     "exception": false,
     "start_time": "2023-01-08T17:37:28.556435",
     "status": "completed"
    },
    "tags": []
   },
   "outputs": [
    {
     "data": {
      "text/html": [
       "<div>\n",
       "<style scoped>\n",
       "    .dataframe tbody tr th:only-of-type {\n",
       "        vertical-align: middle;\n",
       "    }\n",
       "\n",
       "    .dataframe tbody tr th {\n",
       "        vertical-align: top;\n",
       "    }\n",
       "\n",
       "    .dataframe thead th {\n",
       "        text-align: right;\n",
       "    }\n",
       "</style>\n",
       "<table border=\"1\" class=\"dataframe\">\n",
       "  <thead>\n",
       "    <tr style=\"text-align: right;\">\n",
       "      <th></th>\n",
       "      <th>PassengerId</th>\n",
       "      <th>Survived</th>\n",
       "      <th>Pclass</th>\n",
       "      <th>Name</th>\n",
       "      <th>Sex</th>\n",
       "      <th>Age</th>\n",
       "      <th>SibSp</th>\n",
       "      <th>Parch</th>\n",
       "      <th>Ticket</th>\n",
       "      <th>Fare</th>\n",
       "      <th>Cabin</th>\n",
       "      <th>Embarked</th>\n",
       "      <th>train_test</th>\n",
       "    </tr>\n",
       "  </thead>\n",
       "  <tbody>\n",
       "    <tr>\n",
       "      <th>0</th>\n",
       "      <td>1</td>\n",
       "      <td>0.0</td>\n",
       "      <td>3</td>\n",
       "      <td>Braund, Mr. Owen Harris</td>\n",
       "      <td>male</td>\n",
       "      <td>22.0</td>\n",
       "      <td>1</td>\n",
       "      <td>0</td>\n",
       "      <td>A/5 21171</td>\n",
       "      <td>7.2500</td>\n",
       "      <td>NaN</td>\n",
       "      <td>S</td>\n",
       "      <td>1</td>\n",
       "    </tr>\n",
       "    <tr>\n",
       "      <th>1</th>\n",
       "      <td>2</td>\n",
       "      <td>1.0</td>\n",
       "      <td>1</td>\n",
       "      <td>Cumings, Mrs. John Bradley (Florence Briggs Th...</td>\n",
       "      <td>female</td>\n",
       "      <td>38.0</td>\n",
       "      <td>1</td>\n",
       "      <td>0</td>\n",
       "      <td>PC 17599</td>\n",
       "      <td>71.2833</td>\n",
       "      <td>C85</td>\n",
       "      <td>C</td>\n",
       "      <td>1</td>\n",
       "    </tr>\n",
       "    <tr>\n",
       "      <th>2</th>\n",
       "      <td>3</td>\n",
       "      <td>1.0</td>\n",
       "      <td>3</td>\n",
       "      <td>Heikkinen, Miss. Laina</td>\n",
       "      <td>female</td>\n",
       "      <td>26.0</td>\n",
       "      <td>0</td>\n",
       "      <td>0</td>\n",
       "      <td>STON/O2. 3101282</td>\n",
       "      <td>7.9250</td>\n",
       "      <td>NaN</td>\n",
       "      <td>S</td>\n",
       "      <td>1</td>\n",
       "    </tr>\n",
       "    <tr>\n",
       "      <th>3</th>\n",
       "      <td>4</td>\n",
       "      <td>1.0</td>\n",
       "      <td>1</td>\n",
       "      <td>Futrelle, Mrs. Jacques Heath (Lily May Peel)</td>\n",
       "      <td>female</td>\n",
       "      <td>35.0</td>\n",
       "      <td>1</td>\n",
       "      <td>0</td>\n",
       "      <td>113803</td>\n",
       "      <td>53.1000</td>\n",
       "      <td>C123</td>\n",
       "      <td>S</td>\n",
       "      <td>1</td>\n",
       "    </tr>\n",
       "    <tr>\n",
       "      <th>4</th>\n",
       "      <td>5</td>\n",
       "      <td>0.0</td>\n",
       "      <td>3</td>\n",
       "      <td>Allen, Mr. William Henry</td>\n",
       "      <td>male</td>\n",
       "      <td>35.0</td>\n",
       "      <td>0</td>\n",
       "      <td>0</td>\n",
       "      <td>373450</td>\n",
       "      <td>8.0500</td>\n",
       "      <td>NaN</td>\n",
       "      <td>S</td>\n",
       "      <td>1</td>\n",
       "    </tr>\n",
       "  </tbody>\n",
       "</table>\n",
       "</div>"
      ],
      "text/plain": [
       "   PassengerId  Survived  Pclass  \\\n",
       "0            1       0.0       3   \n",
       "1            2       1.0       1   \n",
       "2            3       1.0       3   \n",
       "3            4       1.0       1   \n",
       "4            5       0.0       3   \n",
       "\n",
       "                                                Name     Sex   Age  SibSp  \\\n",
       "0                            Braund, Mr. Owen Harris    male  22.0      1   \n",
       "1  Cumings, Mrs. John Bradley (Florence Briggs Th...  female  38.0      1   \n",
       "2                             Heikkinen, Miss. Laina  female  26.0      0   \n",
       "3       Futrelle, Mrs. Jacques Heath (Lily May Peel)  female  35.0      1   \n",
       "4                           Allen, Mr. William Henry    male  35.0      0   \n",
       "\n",
       "   Parch            Ticket     Fare Cabin Embarked  train_test  \n",
       "0      0         A/5 21171   7.2500   NaN        S           1  \n",
       "1      0          PC 17599  71.2833   C85        C           1  \n",
       "2      0  STON/O2. 3101282   7.9250   NaN        S           1  \n",
       "3      0            113803  53.1000  C123        S           1  \n",
       "4      0            373450   8.0500   NaN        S           1  "
      ]
     },
     "execution_count": 21,
     "metadata": {},
     "output_type": "execute_result"
    }
   ],
   "source": [
    "df_all.head()"
   ]
  },
  {
   "cell_type": "code",
   "execution_count": 22,
   "id": "5034a534",
   "metadata": {
    "execution": {
     "iopub.execute_input": "2023-01-08T17:37:28.652214Z",
     "iopub.status.busy": "2023-01-08T17:37:28.651483Z",
     "iopub.status.idle": "2023-01-08T17:37:28.698628Z",
     "shell.execute_reply": "2023-01-08T17:37:28.696885Z"
    },
    "papermill": {
     "duration": 0.075106,
     "end_time": "2023-01-08T17:37:28.701227",
     "exception": false,
     "start_time": "2023-01-08T17:37:28.626121",
     "status": "completed"
    },
    "tags": []
   },
   "outputs": [
    {
     "name": "stdout",
     "output_type": "stream",
     "text": [
      "Before training models our train set has (889, 13) rows and columns and our test set has (418, 13) rows and columns.\n"
     ]
    }
   ],
   "source": [
    "# impute nulls for continuous data \n",
    "df_all.Age = df_all.Age.fillna(df_train.Age.median())\n",
    "df_all.Fare = df_all.Fare.fillna(df_train.Fare.median())\n",
    "\n",
    "# drop null the two null Embarked values\n",
    "df_all.dropna(subset=['Embarked'],inplace = True)\n",
    "\n",
    "# change cabin names and numbers to cabin yes or no\n",
    "df_all['Cabin'] = df_all['Cabin'].apply(lambda x: 1 if not pd.isnull(x) else 0)\n",
    "\n",
    "# extract titles\n",
    "df_all['Title'] = df_all['Name'].str.split(',', expand=True)[1].str.split('.', expand=True)[0]\n",
    "\n",
    "# drop unneeded columns\n",
    "df_all = (df_all.drop([\n",
    "                    'PassengerId',\n",
    "                    'Name',\n",
    "                    'Title',\n",
    "                    'Ticket',\n",
    "                    'Name'],\n",
    "                    axis = 1\n",
    "                    ))\n",
    "\n",
    "df_all['Pclass'] = df_all['Pclass'].astype(str)\n",
    "\n",
    "# make dummies (OneHotEncode) categorical variables\n",
    "df_all_dummies = pd.get_dummies(df_all[['Pclass', \n",
    "                                        'Sex', \n",
    "                                        'Age',\n",
    "                                        'SibSp', \n",
    "                                        'Parch', \n",
    "                                        'Fare', \n",
    "                                        'Cabin', \n",
    "                                        'Embarked', \n",
    "                                        'train_test']])\n",
    "\n",
    "# Scale data\n",
    "scaler = StandardScaler()\n",
    "(df_all_dummies[['Age', \n",
    "                 'SibSp', \n",
    "                 'Parch', \n",
    "                 'Fare']]) = (scaler.fit_transform(df_all_dummies[['Age', \n",
    "                                                                  'SibSp', \n",
    "                                                                  'Parch', \n",
    "                                                                  'Fare']]))\n",
    "\n",
    "# resplit into train and test sets\n",
    "X_train = df_all_dummies[df_all_dummies.train_test == 1].drop(['train_test'], axis =1)\n",
    "X_test = df_all_dummies[df_all_dummies.train_test == 0].drop(['train_test'], axis =1)\n",
    "y_train = df_all[df_all['train_test'] == 1]['Survived']\n",
    "y_test = df_all[df_all['train_test'] == 0]['Survived']\n",
    "\n",
    "print(f'Before training models our train set has {X_train.shape} rows and columns and our test set has {X_test.shape} rows and columns.')"
   ]
  },
  {
   "cell_type": "markdown",
   "id": "9d6ccd9a",
   "metadata": {
    "jp-MarkdownHeadingCollapsed": true,
    "papermill": {
     "duration": 0.024152,
     "end_time": "2023-01-08T17:37:28.749283",
     "exception": false,
     "start_time": "2023-01-08T17:37:28.725131",
     "status": "completed"
    },
    "tags": []
   },
   "source": [
    "# Modelling <a id=\"model\"></a>"
   ]
  },
  {
   "cell_type": "markdown",
   "id": "30c48338",
   "metadata": {
    "execution": {
     "iopub.execute_input": "2023-01-08T16:27:08.237173Z",
     "iopub.status.busy": "2023-01-08T16:27:08.236683Z",
     "iopub.status.idle": "2023-01-08T16:27:08.245358Z",
     "shell.execute_reply": "2023-01-08T16:27:08.243473Z",
     "shell.execute_reply.started": "2023-01-08T16:27:08.237138Z"
    },
    "papermill": {
     "duration": 0.022022,
     "end_time": "2023-01-08T17:37:28.793639",
     "exception": false,
     "start_time": "2023-01-08T17:37:28.771617",
     "status": "completed"
    },
    "tags": []
   },
   "source": [
    "We have a preprocessed and model ready dataset, now to chose the right model. We are trying to predict which passangers survived the titanic sinkage, so most of the models we are testing, are **classification** models.\n",
    "\n",
    "To get an indication of the best model, I will try several, baseline, models without any tuning. After getting an indication of which model performs best on our dataset, I will use grid search to tune the model hyperparameters to further improve the accuracy.\n",
    "\n",
    "* [Naive Bayes](https://scikit-learn.org/stable/modules/generated/sklearn.naive_bayes.GaussianNB.html) - Naive Bayes models uses Bayes Theorem that offers conditional probability of events taking place.\n",
    "* [Logistic Regression](https://scikit-learn.org/stable/modules/generated/sklearn.linear_model.LogisticRegression.html)\n",
    "* [Decision Tree Classifier](https://scikit-learn.org/stable/modules/generated/sklearn.tree.DecisionTreeClassifier.html) - Decision Trees create a series of decisions to classify data based on the rules learned from the dataset.\n",
    "* [KNeighbors Classifier](https://scikit-learn.org/stable/modules/generated/sklearn.neighbors.KNeighborsClassifier.html) - Neightbor Classifiers groups data with other data near to it based in a specified k value.\n",
    "* [Random Forest Classifier](https://scikit-learn.org/stable/modules/generated/sklearn.ensemble.RandomForestClassifier.html) - Random Forest classifiers fits a number of decision treees on subsamples of the dataset to improve the accuracy and redude over-fitting.\n",
    "* [Support Vector Classifier (SVC)](https://scikit-learn.org/stable/modules/generated/sklearn.svm.SVC.html)\n",
    "* [XGBoost Classifier](https://scikit-learn.org/stable/modules/generated/sklearn.ensemble.GradientBoostingClassifier.html) - Bootsting Classifiers builds additive models to allow optimization of the downstream models based on loss functions.\n",
    "* [Voting Classifier](https://scikit-learn.org/stable/modules/generated/sklearn.ensemble.VotingClassifier.html) - Voting Classifier trains different models using the chosen algorithms, returning the majority's vote as the result."
   ]
  },
  {
   "cell_type": "code",
   "execution_count": 23,
   "id": "ba45ed78",
   "metadata": {
    "execution": {
     "iopub.execute_input": "2023-01-08T17:37:28.840201Z",
     "iopub.status.busy": "2023-01-08T17:37:28.839753Z",
     "iopub.status.idle": "2023-01-08T17:37:28.882709Z",
     "shell.execute_reply": "2023-01-08T17:37:28.881027Z"
    },
    "papermill": {
     "duration": 0.069838,
     "end_time": "2023-01-08T17:37:28.885674",
     "exception": false,
     "start_time": "2023-01-08T17:37:28.815836",
     "status": "completed"
    },
    "tags": []
   },
   "outputs": [
    {
     "name": "stdout",
     "output_type": "stream",
     "text": [
      "[0.74719101 0.74719101 0.7752809  0.79775281 0.78531073]\n",
      "Average: 0.7705452929600711\n"
     ]
    }
   ],
   "source": [
    "gnb = GaussianNB()\n",
    "\n",
    "cv = cross_val_score(gnb, \n",
    "                     X_train, \n",
    "                     y_train, \n",
    "                     cv=5)\n",
    "\n",
    "print(f'{cv}\\nAverage: {cv.mean()}')"
   ]
  },
  {
   "cell_type": "code",
   "execution_count": 24,
   "id": "7a1b6d09",
   "metadata": {
    "execution": {
     "iopub.execute_input": "2023-01-08T17:37:28.932206Z",
     "iopub.status.busy": "2023-01-08T17:37:28.931791Z",
     "iopub.status.idle": "2023-01-08T17:37:29.106533Z",
     "shell.execute_reply": "2023-01-08T17:37:29.105068Z"
    },
    "papermill": {
     "duration": 0.202426,
     "end_time": "2023-01-08T17:37:29.110450",
     "exception": false,
     "start_time": "2023-01-08T17:37:28.908024",
     "status": "completed"
    },
    "tags": []
   },
   "outputs": [
    {
     "name": "stdout",
     "output_type": "stream",
     "text": [
      "[0.82022472 0.79775281 0.78651685 0.78089888 0.84180791]\n",
      "Average: 0.8054402336062972\n"
     ]
    }
   ],
   "source": [
    "lr = LogisticRegression(max_iter=2000)\n",
    "\n",
    "cv = cross_val_score(lr, \n",
    "                     X_train, \n",
    "                     y_train, \n",
    "                     cv=5)\n",
    "\n",
    "print(f'{cv}\\nAverage: {cv.mean()}')"
   ]
  },
  {
   "cell_type": "code",
   "execution_count": 25,
   "id": "e81445d1",
   "metadata": {
    "execution": {
     "iopub.execute_input": "2023-01-08T17:37:29.223311Z",
     "iopub.status.busy": "2023-01-08T17:37:29.222865Z",
     "iopub.status.idle": "2023-01-08T17:37:29.271688Z",
     "shell.execute_reply": "2023-01-08T17:37:29.270447Z"
    },
    "papermill": {
     "duration": 0.10824,
     "end_time": "2023-01-08T17:37:29.275691",
     "exception": false,
     "start_time": "2023-01-08T17:37:29.167451",
     "status": "completed"
    },
    "tags": []
   },
   "outputs": [
    {
     "name": "stdout",
     "output_type": "stream",
     "text": [
      "[0.75280899 0.78089888 0.82022472 0.7247191  0.84180791]\n",
      "Average: 0.7840919189995557\n"
     ]
    }
   ],
   "source": [
    "dt = tree.DecisionTreeClassifier(random_state=42)\n",
    "\n",
    "cv = cross_val_score(dt, \n",
    "                     X_train, \n",
    "                     y_train, \n",
    "                     cv=5)\n",
    "\n",
    "print(f'{cv}\\nAverage: {cv.mean()}')"
   ]
  },
  {
   "cell_type": "code",
   "execution_count": 26,
   "id": "b111f89a",
   "metadata": {
    "execution": {
     "iopub.execute_input": "2023-01-08T17:37:29.337904Z",
     "iopub.status.busy": "2023-01-08T17:37:29.336806Z",
     "iopub.status.idle": "2023-01-08T17:37:29.417884Z",
     "shell.execute_reply": "2023-01-08T17:37:29.416256Z"
    },
    "papermill": {
     "duration": 0.114734,
     "end_time": "2023-01-08T17:37:29.421889",
     "exception": false,
     "start_time": "2023-01-08T17:37:29.307155",
     "status": "completed"
    },
    "tags": []
   },
   "outputs": [
    {
     "name": "stdout",
     "output_type": "stream",
     "text": [
      "[0.80337079 0.78089888 0.80898876 0.8258427  0.8079096 ]\n",
      "Average: 0.805402145623056\n"
     ]
    }
   ],
   "source": [
    "knn = KNeighborsClassifier()\n",
    "\n",
    "cv = cross_val_score(knn, \n",
    "                     X_train, \n",
    "                     y_train, \n",
    "                     cv=5)\n",
    "\n",
    "print(f'{cv}\\nAverage: {cv.mean()}')"
   ]
  },
  {
   "cell_type": "code",
   "execution_count": 27,
   "id": "b4933ade",
   "metadata": {
    "execution": {
     "iopub.execute_input": "2023-01-08T17:37:29.471605Z",
     "iopub.status.busy": "2023-01-08T17:37:29.470341Z",
     "iopub.status.idle": "2023-01-08T17:37:30.603837Z",
     "shell.execute_reply": "2023-01-08T17:37:30.602351Z"
    },
    "papermill": {
     "duration": 1.160971,
     "end_time": "2023-01-08T17:37:30.606526",
     "exception": false,
     "start_time": "2023-01-08T17:37:29.445555",
     "status": "completed"
    },
    "tags": []
   },
   "outputs": [
    {
     "name": "stdout",
     "output_type": "stream",
     "text": [
      "[0.78089888 0.78651685 0.85393258 0.78089888 0.82485876]\n",
      "Average: 0.8054211896146766\n"
     ]
    }
   ],
   "source": [
    "rf = RandomForestClassifier(random_state=42)\n",
    "\n",
    "cv = cross_val_score(rf, \n",
    "                     X_train, \n",
    "                     y_train, \n",
    "                     cv=5)\n",
    "\n",
    "print(f'{cv}\\nAverage: {cv.mean()}')"
   ]
  },
  {
   "cell_type": "code",
   "execution_count": 28,
   "id": "6990618e",
   "metadata": {
    "execution": {
     "iopub.execute_input": "2023-01-08T17:37:30.655047Z",
     "iopub.status.busy": "2023-01-08T17:37:30.654172Z",
     "iopub.status.idle": "2023-01-08T17:37:31.194087Z",
     "shell.execute_reply": "2023-01-08T17:37:31.192384Z"
    },
    "papermill": {
     "duration": 0.568639,
     "end_time": "2023-01-08T17:37:31.197320",
     "exception": false,
     "start_time": "2023-01-08T17:37:30.628681",
     "status": "completed"
    },
    "tags": []
   },
   "outputs": [
    {
     "name": "stdout",
     "output_type": "stream",
     "text": [
      "[0.8258427  0.81460674 0.80337079 0.81460674 0.86440678]\n",
      "Average: 0.8245667491906303\n"
     ]
    }
   ],
   "source": [
    "svc = SVC(probability=True)\n",
    "\n",
    "cv = cross_val_score(svc, \n",
    "                     X_train, \n",
    "                     y_train, \n",
    "                     cv=5)\n",
    "\n",
    "print(f'{cv}\\nAverage: {cv.mean()}')"
   ]
  },
  {
   "cell_type": "code",
   "execution_count": 29,
   "id": "49149ed9",
   "metadata": {
    "execution": {
     "iopub.execute_input": "2023-01-08T17:37:31.245925Z",
     "iopub.status.busy": "2023-01-08T17:37:31.244817Z",
     "iopub.status.idle": "2023-01-08T17:37:32.893236Z",
     "shell.execute_reply": "2023-01-08T17:37:32.892236Z"
    },
    "papermill": {
     "duration": 1.675215,
     "end_time": "2023-01-08T17:37:32.895853",
     "exception": false,
     "start_time": "2023-01-08T17:37:31.220638",
     "status": "completed"
    },
    "tags": []
   },
   "outputs": [
    {
     "name": "stdout",
     "output_type": "stream",
     "text": [
      "[0.79213483 0.81460674 0.84831461 0.79213483 0.86440678]\n",
      "Average: 0.8223195581793945\n"
     ]
    }
   ],
   "source": [
    "xgb = XGBClassifier(random_state = 42)\n",
    "\n",
    "cv = cross_val_score(xgb, \n",
    "                     X_train, \n",
    "                     y_train, \n",
    "                     cv=5)\n",
    "\n",
    "print(f'{cv}\\nAverage: {cv.mean()}')"
   ]
  },
  {
   "cell_type": "code",
   "execution_count": 30,
   "id": "40e20be1",
   "metadata": {
    "execution": {
     "iopub.execute_input": "2023-01-08T17:37:32.945631Z",
     "iopub.status.busy": "2023-01-08T17:37:32.945155Z",
     "iopub.status.idle": "2023-01-08T17:37:36.780002Z",
     "shell.execute_reply": "2023-01-08T17:37:36.778462Z"
    },
    "papermill": {
     "duration": 3.863654,
     "end_time": "2023-01-08T17:37:36.784343",
     "exception": false,
     "start_time": "2023-01-08T17:37:32.920689",
     "status": "completed"
    },
    "tags": []
   },
   "outputs": [
    {
     "name": "stdout",
     "output_type": "stream",
     "text": [
      "[0.80898876 0.80898876 0.84831461 0.78651685 0.85875706]\n",
      "Average: 0.8223132101821875\n"
     ]
    }
   ],
   "source": [
    "voting_clf = VotingClassifier(estimators=[\n",
    "                                          ('lr', lr), \n",
    "                                          ('knn', knn), \n",
    "                                          ('rf', rf), \n",
    "                                          ('gnb', gnb), \n",
    "                                          ('dt', dt), \n",
    "                                          ('svc', svc), \n",
    "                                          ('xgb', xgb)],\n",
    "                                          voting='soft'\n",
    "                                          )\n",
    "\n",
    "cv = cross_val_score(voting_clf, X_train, y_train, cv=5)\n",
    "\n",
    "print(f'{cv}\\nAverage: {cv.mean()}')"
   ]
  },
  {
   "cell_type": "markdown",
   "id": "a14b4fc4",
   "metadata": {
    "papermill": {
     "duration": 0.023931,
     "end_time": "2023-01-08T17:37:36.841215",
     "exception": false,
     "start_time": "2023-01-08T17:37:36.817284",
     "status": "completed"
    },
    "tags": []
   },
   "source": [
    "## Baseline submission of best performing model"
   ]
  },
  {
   "cell_type": "code",
   "execution_count": 31,
   "id": "f278e239",
   "metadata": {
    "execution": {
     "iopub.execute_input": "2023-01-08T17:37:36.889154Z",
     "iopub.status.busy": "2023-01-08T17:37:36.888732Z",
     "iopub.status.idle": "2023-01-08T17:37:37.750243Z",
     "shell.execute_reply": "2023-01-08T17:37:37.749010Z"
    },
    "papermill": {
     "duration": 0.89013,
     "end_time": "2023-01-08T17:37:37.753582",
     "exception": false,
     "start_time": "2023-01-08T17:37:36.863452",
     "status": "completed"
    },
    "tags": []
   },
   "outputs": [],
   "source": [
    "voting_clf.fit(X_train, y_train)\n",
    "\n",
    "y_hat_baseline = voting_clf.predict(X_test).astype(int)\n",
    "\n",
    "baseline_submission = {'PassengerId': df_test.PassengerId, 'Survived': y_hat_baseline}\n",
    "\n",
    "baseline_submission = pd.DataFrame(data=baseline_submission)\n",
    "\n",
    "baseline_submission.to_csv('baseline_submission.csv', index=False)"
   ]
  },
  {
   "cell_type": "markdown",
   "id": "0ca74d2f",
   "metadata": {
    "papermill": {
     "duration": 0.02207,
     "end_time": "2023-01-08T17:37:37.799134",
     "exception": false,
     "start_time": "2023-01-08T17:37:37.777064",
     "status": "completed"
    },
    "tags": []
   },
   "source": [
    "## Baseline model performance"
   ]
  },
  {
   "cell_type": "markdown",
   "id": "ab4641af",
   "metadata": {
    "papermill": {
     "duration": 0.021917,
     "end_time": "2023-01-08T17:37:37.844829",
     "exception": false,
     "start_time": "2023-01-08T17:37:37.822912",
     "status": "completed"
    },
    "tags": []
   },
   "source": [
    "|Model|Baseline Performance|\n",
    "|--|--|\n",
    "|Naive Bayes| 77.0%|\n",
    "|Logistic Regression| 80.5%| \n",
    "|Decision Tree Classifier| 78.4%|\n",
    "|KNN Classifier| 80.5%|\n",
    "|Random Forest Classifier| 80.5%|\n",
    "|**Support Vector Classifier**| **82.5%**|\n",
    "|Xtreme Gradient Boosting| 82.2%|\n",
    "|Voting Classifier| 82.0%|"
   ]
  },
  {
   "cell_type": "markdown",
   "id": "af4ca4cc",
   "metadata": {
    "papermill": {
     "duration": 0.022284,
     "end_time": "2023-01-08T17:37:37.889405",
     "exception": false,
     "start_time": "2023-01-08T17:37:37.867121",
     "status": "completed"
    },
    "tags": []
   },
   "source": [
    "# Model Tuning - Hyperparameter GridSearch <a id=\"tuning\"></a>"
   ]
  },
  {
   "cell_type": "code",
   "execution_count": 32,
   "id": "9b7fcdaa",
   "metadata": {
    "execution": {
     "iopub.execute_input": "2023-01-08T17:37:37.935939Z",
     "iopub.status.busy": "2023-01-08T17:37:37.934937Z",
     "iopub.status.idle": "2023-01-08T17:37:37.940700Z",
     "shell.execute_reply": "2023-01-08T17:37:37.939691Z"
    },
    "papermill": {
     "duration": 0.031618,
     "end_time": "2023-01-08T17:37:37.943134",
     "exception": false,
     "start_time": "2023-01-08T17:37:37.911516",
     "status": "completed"
    },
    "tags": []
   },
   "outputs": [],
   "source": [
    "def model_performance(model, name):\n",
    "    print(name)\n",
    "    print(f'Best Score: {model.best_score_}')\n",
    "    print(f'Best Parameters: {model.best_params_}')    "
   ]
  },
  {
   "cell_type": "code",
   "execution_count": 33,
   "id": "89a69c17",
   "metadata": {
    "execution": {
     "iopub.execute_input": "2023-01-08T17:37:37.989968Z",
     "iopub.status.busy": "2023-01-08T17:37:37.989481Z",
     "iopub.status.idle": "2023-01-08T17:37:40.182753Z",
     "shell.execute_reply": "2023-01-08T17:37:40.181083Z"
    },
    "papermill": {
     "duration": 2.219851,
     "end_time": "2023-01-08T17:37:40.185502",
     "exception": false,
     "start_time": "2023-01-08T17:37:37.965651",
     "status": "completed"
    },
    "tags": []
   },
   "outputs": [
    {
     "name": "stdout",
     "output_type": "stream",
     "text": [
      "Fitting 5 folds for each of 40 candidates, totalling 200 fits\n",
      "LogisticRegression\n",
      "Best Score: 0.8065638291119152\n",
      "Best Parameters: {'C': 1.623776739188721, 'max_iter': 2000, 'penalty': 'l2', 'solver': 'liblinear'}\n"
     ]
    }
   ],
   "source": [
    "lr = LogisticRegression()\n",
    "\n",
    "parameter_grid = {'max_iter' : [2000],\n",
    "                  'penalty' : ['l1', 'l2'],\n",
    "                  'C' : np.logspace(-4, 4, 20),\n",
    "                  'solver' : ['liblinear'\n",
    "                  ]}\n",
    "\n",
    "lr_model = GridSearchCV(lr, \n",
    "                        param_grid=parameter_grid, \n",
    "                        cv=5, \n",
    "                        verbose=True, \n",
    "                        n_jobs=1)\n",
    "\n",
    "best_lr_model = lr_model.fit(X_train, y_train)\n",
    "\n",
    "model_performance(best_lr_model, 'LogisticRegression')"
   ]
  },
  {
   "cell_type": "code",
   "execution_count": 34,
   "id": "861be40c",
   "metadata": {
    "execution": {
     "iopub.execute_input": "2023-01-08T17:37:40.231177Z",
     "iopub.status.busy": "2023-01-08T17:37:40.230769Z",
     "iopub.status.idle": "2023-01-08T17:37:43.290890Z",
     "shell.execute_reply": "2023-01-08T17:37:43.288642Z"
    },
    "papermill": {
     "duration": 3.085823,
     "end_time": "2023-01-08T17:37:43.293507",
     "exception": false,
     "start_time": "2023-01-08T17:37:40.207684",
     "status": "completed"
    },
    "tags": []
   },
   "outputs": [
    {
     "name": "stdout",
     "output_type": "stream",
     "text": [
      "Fitting 5 folds for each of 48 candidates, totalling 240 fits\n",
      "KNN\n",
      "Best Score: 0.8065257411286739\n",
      "Best Parameters: {'algorithm': 'auto', 'n_neighbors': 5, 'p': 1, 'weights': 'uniform'}\n"
     ]
    }
   ],
   "source": [
    "knn = KNeighborsClassifier()\n",
    "\n",
    "parameter_grid = {'n_neighbors' : [3,5,7,9],\n",
    "                  'weights' : ['uniform', 'distance'],\n",
    "                  'algorithm' : ['auto', 'ball_tree','kd_tree'],\n",
    "                  'p' : [1,2]}\n",
    "\n",
    "knn_model = GridSearchCV(knn, \n",
    "                         param_grid=parameter_grid, \n",
    "                         cv=5, \n",
    "                         verbose=True, \n",
    "                         n_jobs=-1)\n",
    "\n",
    "best_knn_model = knn_model.fit(X_train, y_train)\n",
    "\n",
    "model_performance(best_knn_model, 'KNN')"
   ]
  },
  {
   "cell_type": "code",
   "execution_count": 35,
   "id": "7f6bee40",
   "metadata": {
    "execution": {
     "iopub.execute_input": "2023-01-08T17:37:43.343380Z",
     "iopub.status.busy": "2023-01-08T17:37:43.342106Z",
     "iopub.status.idle": "2023-01-08T17:37:46.431634Z",
     "shell.execute_reply": "2023-01-08T17:37:46.430380Z"
    },
    "papermill": {
     "duration": 3.117744,
     "end_time": "2023-01-08T17:37:46.434160",
     "exception": false,
     "start_time": "2023-01-08T17:37:43.316416",
     "status": "completed"
    },
    "tags": []
   },
   "outputs": [
    {
     "name": "stdout",
     "output_type": "stream",
     "text": [
      "Fitting 5 folds for each of 9 candidates, totalling 45 fits\n",
      "SVC\n",
      "Best Score: 0.8290547832158953\n",
      "Best Parameters: {'C': 1, 'gamma': 0.1, 'kernel': 'rbf'}\n"
     ]
    }
   ],
   "source": [
    "svc = SVC(probability=True)\n",
    "\n",
    "parameter_grid = {'kernel': ['rbf'], \n",
    "                   'gamma': [.1,.5,1],\n",
    "                   'C': [.1, 1, 10]}\n",
    "\n",
    "svc_model = GridSearchCV(svc, \n",
    "                       param_grid=parameter_grid, \n",
    "                       cv=5, \n",
    "                       verbose=True, \n",
    "                       n_jobs=-1)\n",
    "\n",
    "best_svc_model = svc_model.fit(X_train, y_train)\n",
    "\n",
    "model_performance(best_svc_model,'SVC')"
   ]
  },
  {
   "cell_type": "code",
   "execution_count": 36,
   "id": "38c00418",
   "metadata": {
    "execution": {
     "iopub.execute_input": "2023-01-08T17:37:46.483112Z",
     "iopub.status.busy": "2023-01-08T17:37:46.482072Z",
     "iopub.status.idle": "2023-01-08T17:38:35.536142Z",
     "shell.execute_reply": "2023-01-08T17:38:35.535240Z"
    },
    "papermill": {
     "duration": 49.112033,
     "end_time": "2023-01-08T17:38:35.569718",
     "exception": false,
     "start_time": "2023-01-08T17:37:46.457685",
     "status": "completed"
    },
    "tags": []
   },
   "outputs": [
    {
     "name": "stdout",
     "output_type": "stream",
     "text": [
      "Fitting 5 folds for each of 50 candidates, totalling 250 fits\n",
      "Random Forest\n",
      "Best Score: 0.8256903446962482\n",
      "Best Parameters: {'n_estimators': 500, 'min_samples_split': 5, 'min_samples_leaf': 1, 'max_features': 'sqrt', 'max_depth': 75, 'bootstrap': True}\n"
     ]
    }
   ],
   "source": [
    "rf = RandomForestClassifier(random_state=42)\n",
    "\n",
    "parameter_grid = {'n_estimators': [100,500], \n",
    "                  'bootstrap': [True,False],\n",
    "                  'max_depth': [10,20,50,75,None],\n",
    "                  'max_features': ['auto','sqrt'],\n",
    "                  'min_samples_leaf': [1,2,4],\n",
    "                  'min_samples_split': [2,5,10]}\n",
    "                                  \n",
    "rf_model_randomcv = RandomizedSearchCV(rf, \n",
    "                                param_distributions=parameter_grid, \n",
    "                                n_iter=50, \n",
    "                                cv=5, \n",
    "                                verbose=True, \n",
    "                                n_jobs=-1)\n",
    "\n",
    "\n",
    "best_rf_model_randomcv = rf_model_randomcv.fit(X_train, y_train)\n",
    "\n",
    "model_performance(best_rf_model_randomcv, 'Random Forest')"
   ]
  },
  {
   "cell_type": "code",
   "execution_count": 37,
   "id": "d272c56e",
   "metadata": {
    "execution": {
     "iopub.execute_input": "2023-01-08T17:38:35.622253Z",
     "iopub.status.busy": "2023-01-08T17:38:35.621589Z",
     "iopub.status.idle": "2023-01-08T17:42:43.664583Z",
     "shell.execute_reply": "2023-01-08T17:42:43.663395Z"
    },
    "papermill": {
     "duration": 248.093239,
     "end_time": "2023-01-08T17:42:43.690711",
     "exception": false,
     "start_time": "2023-01-08T17:38:35.597472",
     "status": "completed"
    },
    "tags": []
   },
   "outputs": [
    {
     "name": "stdout",
     "output_type": "stream",
     "text": [
      "Fitting 5 folds for each of 108 candidates, totalling 540 fits\n",
      "Random Forest\n",
      "Best Score: 0.8324382657271631\n",
      "Best Parameters: {'bootstrap': True, 'criterion': 'gini', 'max_depth': 15, 'max_features': 10, 'min_samples_leaf': 2, 'min_samples_split': 2, 'n_estimators': 600}\n"
     ]
    }
   ],
   "source": [
    "rf = RandomForestClassifier(random_state=42)\n",
    "\n",
    "parameter_grid = {'n_estimators': [500,550,600],\n",
    "              'criterion':['gini'],\n",
    "              'bootstrap': [True],\n",
    "              'max_depth': [10, 15, 20],\n",
    "              'max_features': ['auto','sqrt', 10],\n",
    "              'min_samples_leaf': [2,3],\n",
    "              'min_samples_split': [2,3]}\n",
    "                                  \n",
    "rf_model = GridSearchCV(rf, \n",
    "                      param_grid = parameter_grid, \n",
    "                      cv=5, \n",
    "                      verbose=True, \n",
    "                      n_jobs=-1)\n",
    "\n",
    "best_rf_model = rf_model.fit(X_train, y_train)\n",
    "\n",
    "model_performance(best_rf_model, 'Random Forest')"
   ]
  },
  {
   "cell_type": "code",
   "execution_count": 38,
   "id": "38660b34",
   "metadata": {
    "execution": {
     "iopub.execute_input": "2023-01-08T17:42:43.739250Z",
     "iopub.status.busy": "2023-01-08T17:42:43.738613Z",
     "iopub.status.idle": "2023-01-08T17:42:43.743851Z",
     "shell.execute_reply": "2023-01-08T17:42:43.742696Z"
    },
    "papermill": {
     "duration": 0.032883,
     "end_time": "2023-01-08T17:42:43.746520",
     "exception": false,
     "start_time": "2023-01-08T17:42:43.713637",
     "status": "completed"
    },
    "tags": []
   },
   "outputs": [],
   "source": [
    "#%%capture --no-display\n",
    "#xgb = XGBClassifier(random_state=42)\n",
    "\n",
    "#parametere_grid = {\n",
    "              #'n_estimators': [450,500,550],\n",
    "              #'colsample_bytree': [0.75,0.8,0.85],\n",
    "              #'max_depth': [None],\n",
    "              #'reg_alpha': [1],\n",
    "              #'reg_lambda': [2, 5, 10],\n",
    "              #'subsample': [0.55, 0.6, .65],\n",
    "              #'learning_rate':[0.5],\n",
    "              #'gamma':[.5,1,2],\n",
    "              #'min_child_weight':[0.01],\n",
    "              #'sampling_method': ['uniform']}\n",
    "\n",
    "#xgb_model = GridSearchCV(xgb, \n",
    "                         #param_grid=parameter_grid, \n",
    "                         #cv=5, \n",
    "                         #verbose=True, \n",
    "                         #n_jobs=-1)\n",
    "\n",
    "#best_xgb_model = xgb_model.fit(X_train, y_train)\n",
    "\n",
    "#model_performance(best_xgb_model, 'XGB')"
   ]
  },
  {
   "cell_type": "code",
   "execution_count": 39,
   "id": "4eafe100",
   "metadata": {
    "execution": {
     "iopub.execute_input": "2023-01-08T17:42:43.795631Z",
     "iopub.status.busy": "2023-01-08T17:42:43.795189Z",
     "iopub.status.idle": "2023-01-08T17:46:51.493101Z",
     "shell.execute_reply": "2023-01-08T17:46:51.491310Z"
    },
    "papermill": {
     "duration": 247.727347,
     "end_time": "2023-01-08T17:46:51.496912",
     "exception": false,
     "start_time": "2023-01-08T17:42:43.769565",
     "status": "completed"
    },
    "tags": []
   },
   "outputs": [
    {
     "name": "stdout",
     "output_type": "stream",
     "text": [
      "Fitting 5 folds for each of 108 candidates, totalling 540 fits\n"
     ]
    }
   ],
   "source": [
    "best_rf_model.fit(X_train, y_train)\n",
    "\n",
    "y_hat_tuned = best_rf_model.predict(X_test).astype(int)\n",
    "\n",
    "tuned_submission = {'PassengerId': df_test.PassengerId, 'Survived': y_hat_tuned}\n",
    "\n",
    "tuned_submission = pd.DataFrame(data=tuned_submission)\n",
    "\n",
    "tuned_submission.to_csv('tuned_submission.csv', index=False)"
   ]
  },
  {
   "cell_type": "markdown",
   "id": "99175dc9",
   "metadata": {
    "papermill": {
     "duration": 0.025317,
     "end_time": "2023-01-08T17:46:51.551454",
     "exception": false,
     "start_time": "2023-01-08T17:46:51.526137",
     "status": "completed"
    },
    "tags": []
   },
   "source": [
    "# Model performance <a id=\"performance\"></a>"
   ]
  },
  {
   "cell_type": "markdown",
   "id": "3ae63b72",
   "metadata": {
    "papermill": {
     "duration": 0.024596,
     "end_time": "2023-01-08T17:46:51.600514",
     "exception": false,
     "start_time": "2023-01-08T17:46:51.575918",
     "status": "completed"
    },
    "tags": []
   },
   "source": [
    "|Model|Scaled Performance|Scaled and Tuned Performance|\n",
    "|--|--|--|\n",
    "|Naive Bayes| 77.0%| NA|\n",
    "|Logistic Regression| 80.5%| 80.7%|\n",
    "|Decision Tree Classifier| 78.4%| NA|\n",
    "|KNN Classifier| 80.5%|80.7%|\n",
    "|**Random Forest Classifier**| 80.5%| **83.2%**|\n",
    "|Support Vector Classifier| **82.5%**| 82.9%|\n",
    "|Xtreme Gradient Boosting| 82.2%| 81.0%|\n",
    "|Voting Classifier| 82.0%| NA|"
   ]
  },
  {
   "cell_type": "markdown",
   "id": "540a7d4c",
   "metadata": {
    "papermill": {
     "duration": 0.024824,
     "end_time": "2023-01-08T17:46:51.651174",
     "exception": false,
     "start_time": "2023-01-08T17:46:51.626350",
     "status": "completed"
    },
    "tags": []
   },
   "source": [
    "## Submissions"
   ]
  },
  {
   "cell_type": "code",
   "execution_count": 40,
   "id": "c9f364a7",
   "metadata": {
    "execution": {
     "iopub.execute_input": "2023-01-08T17:46:51.704688Z",
     "iopub.status.busy": "2023-01-08T17:46:51.703353Z",
     "iopub.status.idle": "2023-01-08T17:46:51.712604Z",
     "shell.execute_reply": "2023-01-08T17:46:51.711444Z"
    },
    "papermill": {
     "duration": 0.038207,
     "end_time": "2023-01-08T17:46:51.715774",
     "exception": false,
     "start_time": "2023-01-08T17:46:51.677567",
     "status": "completed"
    },
    "tags": []
   },
   "outputs": [
    {
     "data": {
      "text/html": [
       "<a href='baseline_submission.csv' target='_blank'>baseline_submission.csv</a><br>"
      ],
      "text/plain": [
       "/kaggle/working/baseline_submission.csv"
      ]
     },
     "execution_count": 40,
     "metadata": {},
     "output_type": "execute_result"
    }
   ],
   "source": [
    "FileLink(r'baseline_submission.csv')"
   ]
  },
  {
   "cell_type": "code",
   "execution_count": 41,
   "id": "dea380f6",
   "metadata": {
    "execution": {
     "iopub.execute_input": "2023-01-08T17:46:51.773247Z",
     "iopub.status.busy": "2023-01-08T17:46:51.771980Z",
     "iopub.status.idle": "2023-01-08T17:46:51.781604Z",
     "shell.execute_reply": "2023-01-08T17:46:51.780379Z"
    },
    "papermill": {
     "duration": 0.043103,
     "end_time": "2023-01-08T17:46:51.784159",
     "exception": false,
     "start_time": "2023-01-08T17:46:51.741056",
     "status": "completed"
    },
    "tags": []
   },
   "outputs": [
    {
     "data": {
      "text/html": [
       "<a href='tuned_submission.csv' target='_blank'>tuned_submission.csv</a><br>"
      ],
      "text/plain": [
       "/kaggle/working/tuned_submission.csv"
      ]
     },
     "execution_count": 41,
     "metadata": {},
     "output_type": "execute_result"
    }
   ],
   "source": [
    "FileLink(r'tuned_submission.csv')"
   ]
  },
  {
   "cell_type": "markdown",
   "id": "518d4a56",
   "metadata": {
    "papermill": {
     "duration": 0.025959,
     "end_time": "2023-01-08T17:46:51.835336",
     "exception": false,
     "start_time": "2023-01-08T17:46:51.809377",
     "status": "completed"
    },
    "tags": []
   },
   "source": [
    "# To do in future versions! <a id=\"future\"></a>"
   ]
  },
  {
   "cell_type": "markdown",
   "id": "e11dde39",
   "metadata": {
    "papermill": {
     "duration": 0.025717,
     "end_time": "2023-01-08T17:46:51.887381",
     "exception": false,
     "start_time": "2023-01-08T17:46:51.861664",
     "status": "completed"
    },
    "tags": []
   },
   "source": [
    "* Exploratory Data Analysis:\n",
    "    * Perform further EDA\n",
    "* Feature Engineering:\n",
    "    * Group and bin age and fare features\n",
    "    * Remove fare outliers\n",
    "    * SMOTE Survival rates?\n",
    "* Model Evaluation:\n",
    "    * Make classification_report and ROC-curve"
   ]
  }
 ],
 "metadata": {
  "kernelspec": {
   "display_name": "Python 3",
   "language": "python",
   "name": "python3"
  },
  "language_info": {
   "codemirror_mode": {
    "name": "ipython",
    "version": 3
   },
   "file_extension": ".py",
   "mimetype": "text/x-python",
   "name": "python",
   "nbconvert_exporter": "python",
   "pygments_lexer": "ipython3",
   "version": "3.7.12"
  },
  "papermill": {
   "default_parameters": {},
   "duration": 583.970835,
   "end_time": "2023-01-08T17:46:54.538026",
   "environment_variables": {},
   "exception": null,
   "input_path": "__notebook__.ipynb",
   "output_path": "__notebook__.ipynb",
   "parameters": {},
   "start_time": "2023-01-08T17:37:10.567191",
   "version": "2.3.4"
  }
 },
 "nbformat": 4,
 "nbformat_minor": 5
}
