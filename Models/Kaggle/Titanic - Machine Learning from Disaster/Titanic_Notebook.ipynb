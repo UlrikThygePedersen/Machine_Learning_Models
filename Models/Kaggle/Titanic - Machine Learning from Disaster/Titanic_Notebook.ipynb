{
 "cells": [
  {
   "cell_type": "markdown",
   "id": "6923d1e2-7845-4bb4-824e-6d02491a721d",
   "metadata": {},
   "source": [
    "# Titanic - Machine Learning from Disaster\n",
    "\n",
    "<img src=\"header.png\" alt=\"Italian Trulli\">"
   ]
  },
  {
   "cell_type": "markdown",
   "id": "399e5fbb-5480-45e5-a52d-d5c11015f0e8",
   "metadata": {
    "tags": []
   },
   "source": [
    "# Table of Contents\n",
    "\n",
    "* [Introduction](#introduction)\n",
    "* [House Keeping](#house)\n",
    "* [Exploratory Data Analysis](#EDA)\n",
    "* [Feature Selection](#feature)\n",
    "* [Final Processing](#final)\n",
    "* [Models](#model)\n",
    "* [Model Tuning - Hyperparameter GridSearch](#tuning)\n",
    "* [Model Performance](#performance)"
   ]
  },
  {
   "cell_type": "markdown",
   "id": "89ca5e29-18cf-4811-8575-5bb4bb20bd65",
   "metadata": {
    "tags": []
   },
   "source": [
    "# Introduction <a id=\"introduction\"></a>\n",
    "\n",
    "Analysis, Feature Engineering and Modelling of the titanic dataset from [Kaggle](https://www.kaggle.com/competitions/titanic/overview).\n",
    "\n",
    "In this notebook is my first attempt of a thorough analysis of the titanic dataset. The goal was to predict survivors of the tragic sinking of the titanic based on various information such as age, sex and socio-economic status.\n",
    "\n",
    "I tried several models, both with and without tuning to both improve my result and learn along the way.\n",
    "\n",
    "**Best performing model: 83.4%**\n",
    "\n",
    "**Hope you enjoy, let me know how I can improve, and if you liked it, an upvote would help me out alot!**"
   ]
  },
  {
   "cell_type": "markdown",
   "id": "c2c1e43b-e7a6-4d49-a5e6-dab48316a795",
   "metadata": {},
   "source": [
    "## Columns in the dataset\n",
    "\n",
    "The columns present in the dataset are as follows: \n",
    "1. **PassengerId**: This column assigns a unique identifier for each passenger.\n",
    "2. **Survived**: Specifies whether the given passenger survived or not (1 - survived, 0 - didn't survive)\n",
    "3. **Pclass**: The passenger's class. (1 = Upper Deck, 2 = Middle Deck, 3 = Lower Deck)\n",
    "4. **Name**: The name of the passenger. \n",
    "5. **Sex**: The sex of the passenger (male, female)\n",
    "6. **Age**: The age of the passenger in years. If the age is estimated, is it in the form of xx.5. \n",
    "7. **SibSp**: How many siblings or spouses the passenger had on board with them. Sibling = brother, sister, stepbrother, stepsister and Spouse = husband, wife (mistresses and fiancés were ignored)\n",
    "8. **Parch**: How many parents or children the passenger had on boad with them. Parent = mother and father, child = daughter, son, stepdaughter and stepson and some children travelled only with a nanny, therefore parch=0 for them.\n",
    "9. **Ticket**: The ticket of the passenger. \n",
    "10. **Fare**: The fare amount paid by the passenger for the trip. \n",
    "11. **Cabin**: The cabin in which the passenger stayed. \n",
    "12. **Embarked**: The place from which the passenger embarked (S, C, Q)"
   ]
  },
  {
   "cell_type": "markdown",
   "id": "1afc2948-fb54-40ef-9cce-8aedb4db47ce",
   "metadata": {
    "tags": []
   },
   "source": [
    "# House Keeping <a id=\"house\"></a>"
   ]
  },
  {
   "cell_type": "markdown",
   "id": "88ef6513-40e7-4a2c-a211-4f7396773fb5",
   "metadata": {},
   "source": [
    "## Import Libraries"
   ]
  },
  {
   "cell_type": "code",
   "execution_count": 82,
   "id": "09c48aeb-7d15-41b4-a7b7-78c0ec4df492",
   "metadata": {},
   "outputs": [],
   "source": [
    "from IPython.display import FileLink # add stuff to file\n",
    "import pandas as pd\n",
    "import numpy as np\n",
    "import matplotlib.pyplot as plt\n",
    "import seaborn as sns\n",
    "sns.set_palette(\"YlGnBu\")\n",
    "\n",
    "from sklearn.preprocessing import StandardScaler\n",
    "\n",
    "from sklearn.model_selection import cross_val_score\n",
    "from sklearn.naive_bayes import GaussianNB\n",
    "from sklearn.linear_model import LogisticRegression\n",
    "from sklearn import tree\n",
    "from sklearn.neighbors import KNeighborsClassifier\n",
    "from sklearn.ensemble import RandomForestClassifier\n",
    "from sklearn.svm import SVC\n",
    "from xgboost import XGBClassifier\n",
    "from sklearn.ensemble import VotingClassifier\n",
    "\n",
    "from sklearn.model_selection import GridSearchCV \n",
    "from sklearn.model_selection import RandomizedSearchCV \n",
    "\n",
    "from sklearn.metrics import classification_report"
   ]
  },
  {
   "cell_type": "markdown",
   "id": "3ededcb9-41c2-4a5a-9d13-ca12596ed754",
   "metadata": {},
   "source": [
    "## Load Datasets"
   ]
  },
  {
   "cell_type": "code",
   "execution_count": 59,
   "id": "26377d5f-85dd-4bb0-8d79-62e094054728",
   "metadata": {},
   "outputs": [],
   "source": [
    "# load datasets\n",
    "df_train = pd.read_csv('train.csv')\n",
    "df_test = pd.read_csv('test.csv')\n",
    "df_gender_submission = pd.read_csv('gender_submission.csv')\n",
    "\n",
    "# mark train and test sets for future split\n",
    "df_train['train_test'] = 1\n",
    "df_test['train_test'] = 0\n",
    "df_test['Survived'] = np.NaN\n",
    "\n",
    "#combine to a single dataframe with all data for feature engineering\n",
    "df_all = pd.concat([df_train, df_test])"
   ]
  },
  {
   "cell_type": "markdown",
   "id": "0a23bca2-a637-43bc-a5d4-70ddfdbf7663",
   "metadata": {},
   "source": [
    "## First look at the 3 datasets"
   ]
  },
  {
   "cell_type": "code",
   "execution_count": 78,
   "id": "599e0e48-6210-4faf-a7c1-a581246b4ce4",
   "metadata": {},
   "outputs": [
    {
     "data": {
      "text/html": [
       "<div>\n",
       "<style scoped>\n",
       "    .dataframe tbody tr th:only-of-type {\n",
       "        vertical-align: middle;\n",
       "    }\n",
       "\n",
       "    .dataframe tbody tr th {\n",
       "        vertical-align: top;\n",
       "    }\n",
       "\n",
       "    .dataframe thead th {\n",
       "        text-align: right;\n",
       "    }\n",
       "</style>\n",
       "<table border=\"1\" class=\"dataframe\">\n",
       "  <thead>\n",
       "    <tr style=\"text-align: right;\">\n",
       "      <th></th>\n",
       "      <th>PassengerId</th>\n",
       "      <th>Survived</th>\n",
       "      <th>Pclass</th>\n",
       "      <th>Name</th>\n",
       "      <th>Sex</th>\n",
       "      <th>Age</th>\n",
       "      <th>SibSp</th>\n",
       "      <th>Parch</th>\n",
       "      <th>Ticket</th>\n",
       "      <th>Fare</th>\n",
       "      <th>Cabin</th>\n",
       "      <th>Embarked</th>\n",
       "      <th>train_test</th>\n",
       "    </tr>\n",
       "  </thead>\n",
       "  <tbody>\n",
       "    <tr>\n",
       "      <th>0</th>\n",
       "      <td>1</td>\n",
       "      <td>0</td>\n",
       "      <td>3</td>\n",
       "      <td>Braund, Mr. Owen Harris</td>\n",
       "      <td>male</td>\n",
       "      <td>22.0</td>\n",
       "      <td>1</td>\n",
       "      <td>0</td>\n",
       "      <td>A/5 21171</td>\n",
       "      <td>7.2500</td>\n",
       "      <td>NaN</td>\n",
       "      <td>S</td>\n",
       "      <td>1</td>\n",
       "    </tr>\n",
       "    <tr>\n",
       "      <th>1</th>\n",
       "      <td>2</td>\n",
       "      <td>1</td>\n",
       "      <td>1</td>\n",
       "      <td>Cumings, Mrs. John Bradley (Florence Briggs Th...</td>\n",
       "      <td>female</td>\n",
       "      <td>38.0</td>\n",
       "      <td>1</td>\n",
       "      <td>0</td>\n",
       "      <td>PC 17599</td>\n",
       "      <td>71.2833</td>\n",
       "      <td>C85</td>\n",
       "      <td>C</td>\n",
       "      <td>1</td>\n",
       "    </tr>\n",
       "    <tr>\n",
       "      <th>2</th>\n",
       "      <td>3</td>\n",
       "      <td>1</td>\n",
       "      <td>3</td>\n",
       "      <td>Heikkinen, Miss. Laina</td>\n",
       "      <td>female</td>\n",
       "      <td>26.0</td>\n",
       "      <td>0</td>\n",
       "      <td>0</td>\n",
       "      <td>STON/O2. 3101282</td>\n",
       "      <td>7.9250</td>\n",
       "      <td>NaN</td>\n",
       "      <td>S</td>\n",
       "      <td>1</td>\n",
       "    </tr>\n",
       "  </tbody>\n",
       "</table>\n",
       "</div>"
      ],
      "text/plain": [
       "   PassengerId  Survived  Pclass  \\\n",
       "0            1         0       3   \n",
       "1            2         1       1   \n",
       "2            3         1       3   \n",
       "\n",
       "                                                Name     Sex   Age  SibSp  \\\n",
       "0                            Braund, Mr. Owen Harris    male  22.0      1   \n",
       "1  Cumings, Mrs. John Bradley (Florence Briggs Th...  female  38.0      1   \n",
       "2                             Heikkinen, Miss. Laina  female  26.0      0   \n",
       "\n",
       "   Parch            Ticket     Fare Cabin Embarked  train_test  \n",
       "0      0         A/5 21171   7.2500   NaN        S           1  \n",
       "1      0          PC 17599  71.2833   C85        C           1  \n",
       "2      0  STON/O2. 3101282   7.9250   NaN        S           1  "
      ]
     },
     "execution_count": 78,
     "metadata": {},
     "output_type": "execute_result"
    }
   ],
   "source": [
    "# train set\n",
    "\n",
    "df_train.head(3)"
   ]
  },
  {
   "cell_type": "code",
   "execution_count": 79,
   "id": "84eebfcd-699c-44f4-95c1-7c1e2c8a886e",
   "metadata": {},
   "outputs": [
    {
     "data": {
      "text/html": [
       "<div>\n",
       "<style scoped>\n",
       "    .dataframe tbody tr th:only-of-type {\n",
       "        vertical-align: middle;\n",
       "    }\n",
       "\n",
       "    .dataframe tbody tr th {\n",
       "        vertical-align: top;\n",
       "    }\n",
       "\n",
       "    .dataframe thead th {\n",
       "        text-align: right;\n",
       "    }\n",
       "</style>\n",
       "<table border=\"1\" class=\"dataframe\">\n",
       "  <thead>\n",
       "    <tr style=\"text-align: right;\">\n",
       "      <th></th>\n",
       "      <th>PassengerId</th>\n",
       "      <th>Pclass</th>\n",
       "      <th>Name</th>\n",
       "      <th>Sex</th>\n",
       "      <th>Age</th>\n",
       "      <th>SibSp</th>\n",
       "      <th>Parch</th>\n",
       "      <th>Ticket</th>\n",
       "      <th>Fare</th>\n",
       "      <th>Cabin</th>\n",
       "      <th>Embarked</th>\n",
       "      <th>train_test</th>\n",
       "      <th>Survived</th>\n",
       "    </tr>\n",
       "  </thead>\n",
       "  <tbody>\n",
       "    <tr>\n",
       "      <th>0</th>\n",
       "      <td>892</td>\n",
       "      <td>3</td>\n",
       "      <td>Kelly, Mr. James</td>\n",
       "      <td>male</td>\n",
       "      <td>34.5</td>\n",
       "      <td>0</td>\n",
       "      <td>0</td>\n",
       "      <td>330911</td>\n",
       "      <td>7.8292</td>\n",
       "      <td>NaN</td>\n",
       "      <td>Q</td>\n",
       "      <td>0</td>\n",
       "      <td>NaN</td>\n",
       "    </tr>\n",
       "    <tr>\n",
       "      <th>1</th>\n",
       "      <td>893</td>\n",
       "      <td>3</td>\n",
       "      <td>Wilkes, Mrs. James (Ellen Needs)</td>\n",
       "      <td>female</td>\n",
       "      <td>47.0</td>\n",
       "      <td>1</td>\n",
       "      <td>0</td>\n",
       "      <td>363272</td>\n",
       "      <td>7.0000</td>\n",
       "      <td>NaN</td>\n",
       "      <td>S</td>\n",
       "      <td>0</td>\n",
       "      <td>NaN</td>\n",
       "    </tr>\n",
       "    <tr>\n",
       "      <th>2</th>\n",
       "      <td>894</td>\n",
       "      <td>2</td>\n",
       "      <td>Myles, Mr. Thomas Francis</td>\n",
       "      <td>male</td>\n",
       "      <td>62.0</td>\n",
       "      <td>0</td>\n",
       "      <td>0</td>\n",
       "      <td>240276</td>\n",
       "      <td>9.6875</td>\n",
       "      <td>NaN</td>\n",
       "      <td>Q</td>\n",
       "      <td>0</td>\n",
       "      <td>NaN</td>\n",
       "    </tr>\n",
       "  </tbody>\n",
       "</table>\n",
       "</div>"
      ],
      "text/plain": [
       "   PassengerId  Pclass                              Name     Sex   Age  SibSp  \\\n",
       "0          892       3                  Kelly, Mr. James    male  34.5      0   \n",
       "1          893       3  Wilkes, Mrs. James (Ellen Needs)  female  47.0      1   \n",
       "2          894       2         Myles, Mr. Thomas Francis    male  62.0      0   \n",
       "\n",
       "   Parch  Ticket    Fare Cabin Embarked  train_test  Survived  \n",
       "0      0  330911  7.8292   NaN        Q           0       NaN  \n",
       "1      0  363272  7.0000   NaN        S           0       NaN  \n",
       "2      0  240276  9.6875   NaN        Q           0       NaN  "
      ]
     },
     "execution_count": 79,
     "metadata": {},
     "output_type": "execute_result"
    }
   ],
   "source": [
    "# test set\n",
    "\n",
    "df_test.head(3)"
   ]
  },
  {
   "cell_type": "code",
   "execution_count": 80,
   "id": "8edc664c-cd34-454a-81fe-1722378e6f21",
   "metadata": {},
   "outputs": [
    {
     "data": {
      "text/html": [
       "<div>\n",
       "<style scoped>\n",
       "    .dataframe tbody tr th:only-of-type {\n",
       "        vertical-align: middle;\n",
       "    }\n",
       "\n",
       "    .dataframe tbody tr th {\n",
       "        vertical-align: top;\n",
       "    }\n",
       "\n",
       "    .dataframe thead th {\n",
       "        text-align: right;\n",
       "    }\n",
       "</style>\n",
       "<table border=\"1\" class=\"dataframe\">\n",
       "  <thead>\n",
       "    <tr style=\"text-align: right;\">\n",
       "      <th></th>\n",
       "      <th>PassengerId</th>\n",
       "      <th>Survived</th>\n",
       "    </tr>\n",
       "  </thead>\n",
       "  <tbody>\n",
       "    <tr>\n",
       "      <th>0</th>\n",
       "      <td>892</td>\n",
       "      <td>0</td>\n",
       "    </tr>\n",
       "    <tr>\n",
       "      <th>1</th>\n",
       "      <td>893</td>\n",
       "      <td>1</td>\n",
       "    </tr>\n",
       "    <tr>\n",
       "      <th>2</th>\n",
       "      <td>894</td>\n",
       "      <td>0</td>\n",
       "    </tr>\n",
       "  </tbody>\n",
       "</table>\n",
       "</div>"
      ],
      "text/plain": [
       "   PassengerId  Survived\n",
       "0          892         0\n",
       "1          893         1\n",
       "2          894         0"
      ]
     },
     "execution_count": 80,
     "metadata": {},
     "output_type": "execute_result"
    }
   ],
   "source": [
    "# sample submission\n",
    "\n",
    "df_gender_submission.head(3)"
   ]
  },
  {
   "cell_type": "markdown",
   "id": "1a4df5c9-cce4-4497-8372-aecbf4d0d439",
   "metadata": {},
   "source": [
    "## Dataset summary"
   ]
  },
  {
   "cell_type": "code",
   "execution_count": 72,
   "id": "ed9ea720-2f65-491d-b64e-9cf20b03f5da",
   "metadata": {},
   "outputs": [
    {
     "name": "stdout",
     "output_type": "stream",
     "text": [
      "Loaded train dataset with shape (891, 13) (891 rows and 13 columns) and column names: \n",
      "['PassengerId', 'Survived', 'Pclass', 'Name', 'Sex', 'Age', 'SibSp', 'Parch', 'Ticket', 'Fare', 'Cabin', 'Embarked', 'train_test']\n",
      "\n",
      "Loaded test dataset with shape (418, 13) (418 rows and 13 columns) and column names: \n",
      "['PassengerId', 'Pclass', 'Name', 'Sex', 'Age', 'SibSp', 'Parch', 'Ticket', 'Fare', 'Cabin', 'Embarked', 'train_test', 'Survived']\n",
      "\n",
      "Loaded sample submission dataset with shape (418, 2) (418 rows and 2 columns) and column names: \n",
      "['PassengerId', 'Survived']\n"
     ]
    }
   ],
   "source": [
    "# train data\n",
    "print(f'Loaded train dataset with shape {df_train.shape} ({df_train.shape[0]} rows and {df_train.shape[1]} columns) and column names: \\n{df_train.columns.to_list()}')\n",
    "\n",
    "# test data\n",
    "print(f'\\nLoaded test dataset with shape {df_test.shape} ({df_test.shape[0]} rows and {df_test.shape[1]} columns) and column names: \\n{df_test.columns.to_list()}')\n",
    "\n",
    "# sample submission data\n",
    "print(f'\\nLoaded sample submission dataset with shape {df_gender_submission.shape} ({df_gender_submission.shape[0]} rows and {df_gender_submission.shape[1]} columns) and column names: \\n{df_gender_submission.columns.to_list()}')"
   ]
  },
  {
   "cell_type": "markdown",
   "id": "f3664664-cfb8-4274-bcd8-34f558948eec",
   "metadata": {},
   "source": [
    "## Train dataset"
   ]
  },
  {
   "cell_type": "code",
   "execution_count": 75,
   "id": "7b2fef36-64d9-4649-8564-77f39881152c",
   "metadata": {},
   "outputs": [
    {
     "data": {
      "text/html": [
       "<div>\n",
       "<style scoped>\n",
       "    .dataframe tbody tr th:only-of-type {\n",
       "        vertical-align: middle;\n",
       "    }\n",
       "\n",
       "    .dataframe tbody tr th {\n",
       "        vertical-align: top;\n",
       "    }\n",
       "\n",
       "    .dataframe thead th {\n",
       "        text-align: right;\n",
       "    }\n",
       "</style>\n",
       "<table border=\"1\" class=\"dataframe\">\n",
       "  <thead>\n",
       "    <tr style=\"text-align: right;\">\n",
       "      <th></th>\n",
       "      <th>PassengerId</th>\n",
       "      <th>Survived</th>\n",
       "      <th>Pclass</th>\n",
       "      <th>Name</th>\n",
       "      <th>Sex</th>\n",
       "      <th>Age</th>\n",
       "      <th>SibSp</th>\n",
       "      <th>Parch</th>\n",
       "      <th>Ticket</th>\n",
       "      <th>Fare</th>\n",
       "      <th>Cabin</th>\n",
       "      <th>Embarked</th>\n",
       "      <th>train_test</th>\n",
       "    </tr>\n",
       "  </thead>\n",
       "  <tbody>\n",
       "    <tr>\n",
       "      <th>0</th>\n",
       "      <td>1</td>\n",
       "      <td>0</td>\n",
       "      <td>3</td>\n",
       "      <td>Braund, Mr. Owen Harris</td>\n",
       "      <td>male</td>\n",
       "      <td>22.0</td>\n",
       "      <td>1</td>\n",
       "      <td>0</td>\n",
       "      <td>A/5 21171</td>\n",
       "      <td>7.2500</td>\n",
       "      <td>NaN</td>\n",
       "      <td>S</td>\n",
       "      <td>1</td>\n",
       "    </tr>\n",
       "    <tr>\n",
       "      <th>1</th>\n",
       "      <td>2</td>\n",
       "      <td>1</td>\n",
       "      <td>1</td>\n",
       "      <td>Cumings, Mrs. John Bradley (Florence Briggs Th...</td>\n",
       "      <td>female</td>\n",
       "      <td>38.0</td>\n",
       "      <td>1</td>\n",
       "      <td>0</td>\n",
       "      <td>PC 17599</td>\n",
       "      <td>71.2833</td>\n",
       "      <td>C85</td>\n",
       "      <td>C</td>\n",
       "      <td>1</td>\n",
       "    </tr>\n",
       "    <tr>\n",
       "      <th>2</th>\n",
       "      <td>3</td>\n",
       "      <td>1</td>\n",
       "      <td>3</td>\n",
       "      <td>Heikkinen, Miss. Laina</td>\n",
       "      <td>female</td>\n",
       "      <td>26.0</td>\n",
       "      <td>0</td>\n",
       "      <td>0</td>\n",
       "      <td>STON/O2. 3101282</td>\n",
       "      <td>7.9250</td>\n",
       "      <td>NaN</td>\n",
       "      <td>S</td>\n",
       "      <td>1</td>\n",
       "    </tr>\n",
       "    <tr>\n",
       "      <th>3</th>\n",
       "      <td>4</td>\n",
       "      <td>1</td>\n",
       "      <td>1</td>\n",
       "      <td>Futrelle, Mrs. Jacques Heath (Lily May Peel)</td>\n",
       "      <td>female</td>\n",
       "      <td>35.0</td>\n",
       "      <td>1</td>\n",
       "      <td>0</td>\n",
       "      <td>113803</td>\n",
       "      <td>53.1000</td>\n",
       "      <td>C123</td>\n",
       "      <td>S</td>\n",
       "      <td>1</td>\n",
       "    </tr>\n",
       "    <tr>\n",
       "      <th>4</th>\n",
       "      <td>5</td>\n",
       "      <td>0</td>\n",
       "      <td>3</td>\n",
       "      <td>Allen, Mr. William Henry</td>\n",
       "      <td>male</td>\n",
       "      <td>35.0</td>\n",
       "      <td>0</td>\n",
       "      <td>0</td>\n",
       "      <td>373450</td>\n",
       "      <td>8.0500</td>\n",
       "      <td>NaN</td>\n",
       "      <td>S</td>\n",
       "      <td>1</td>\n",
       "    </tr>\n",
       "  </tbody>\n",
       "</table>\n",
       "</div>"
      ],
      "text/plain": [
       "   PassengerId  Survived  Pclass  \\\n",
       "0            1         0       3   \n",
       "1            2         1       1   \n",
       "2            3         1       3   \n",
       "3            4         1       1   \n",
       "4            5         0       3   \n",
       "\n",
       "                                                Name     Sex   Age  SibSp  \\\n",
       "0                            Braund, Mr. Owen Harris    male  22.0      1   \n",
       "1  Cumings, Mrs. John Bradley (Florence Briggs Th...  female  38.0      1   \n",
       "2                             Heikkinen, Miss. Laina  female  26.0      0   \n",
       "3       Futrelle, Mrs. Jacques Heath (Lily May Peel)  female  35.0      1   \n",
       "4                           Allen, Mr. William Henry    male  35.0      0   \n",
       "\n",
       "   Parch            Ticket     Fare Cabin Embarked  train_test  \n",
       "0      0         A/5 21171   7.2500   NaN        S           1  \n",
       "1      0          PC 17599  71.2833   C85        C           1  \n",
       "2      0  STON/O2. 3101282   7.9250   NaN        S           1  \n",
       "3      0            113803  53.1000  C123        S           1  \n",
       "4      0            373450   8.0500   NaN        S           1  "
      ]
     },
     "execution_count": 75,
     "metadata": {},
     "output_type": "execute_result"
    }
   ],
   "source": [
    "df_train.head()"
   ]
  },
  {
   "cell_type": "code",
   "execution_count": 77,
   "id": "7944e391-c21a-4faf-ae17-d0facddf7c6c",
   "metadata": {},
   "outputs": [
    {
     "name": "stdout",
     "output_type": "stream",
     "text": [
      "<class 'pandas.core.frame.DataFrame'>\n",
      "RangeIndex: 891 entries, 0 to 890\n",
      "Data columns (total 13 columns):\n",
      " #   Column       Non-Null Count  Dtype  \n",
      "---  ------       --------------  -----  \n",
      " 0   PassengerId  891 non-null    int64  \n",
      " 1   Survived     891 non-null    int64  \n",
      " 2   Pclass       891 non-null    int64  \n",
      " 3   Name         891 non-null    object \n",
      " 4   Sex          891 non-null    object \n",
      " 5   Age          714 non-null    float64\n",
      " 6   SibSp        891 non-null    int64  \n",
      " 7   Parch        891 non-null    int64  \n",
      " 8   Ticket       891 non-null    object \n",
      " 9   Fare         891 non-null    float64\n",
      " 10  Cabin        204 non-null    object \n",
      " 11  Embarked     889 non-null    object \n",
      " 12  train_test   891 non-null    int64  \n",
      "dtypes: float64(2), int64(6), object(5)\n",
      "memory usage: 90.6+ KB\n"
     ]
    }
   ],
   "source": [
    "df_train.info()"
   ]
  },
  {
   "cell_type": "code",
   "execution_count": 9,
   "id": "a0a60028-3664-4068-a3d7-c6657255e3fb",
   "metadata": {},
   "outputs": [
    {
     "data": {
      "text/html": [
       "<div>\n",
       "<style scoped>\n",
       "    .dataframe tbody tr th:only-of-type {\n",
       "        vertical-align: middle;\n",
       "    }\n",
       "\n",
       "    .dataframe tbody tr th {\n",
       "        vertical-align: top;\n",
       "    }\n",
       "\n",
       "    .dataframe thead th {\n",
       "        text-align: right;\n",
       "    }\n",
       "</style>\n",
       "<table border=\"1\" class=\"dataframe\">\n",
       "  <thead>\n",
       "    <tr style=\"text-align: right;\">\n",
       "      <th></th>\n",
       "      <th>PassengerId</th>\n",
       "      <th>Survived</th>\n",
       "      <th>Pclass</th>\n",
       "      <th>Age</th>\n",
       "      <th>SibSp</th>\n",
       "      <th>Parch</th>\n",
       "      <th>Fare</th>\n",
       "      <th>train_test</th>\n",
       "    </tr>\n",
       "  </thead>\n",
       "  <tbody>\n",
       "    <tr>\n",
       "      <th>count</th>\n",
       "      <td>891.000000</td>\n",
       "      <td>891.000000</td>\n",
       "      <td>891.000000</td>\n",
       "      <td>714.000000</td>\n",
       "      <td>891.000000</td>\n",
       "      <td>891.000000</td>\n",
       "      <td>891.000000</td>\n",
       "      <td>891.0</td>\n",
       "    </tr>\n",
       "    <tr>\n",
       "      <th>mean</th>\n",
       "      <td>446.000000</td>\n",
       "      <td>0.383838</td>\n",
       "      <td>2.308642</td>\n",
       "      <td>29.699118</td>\n",
       "      <td>0.523008</td>\n",
       "      <td>0.381594</td>\n",
       "      <td>32.204208</td>\n",
       "      <td>1.0</td>\n",
       "    </tr>\n",
       "    <tr>\n",
       "      <th>std</th>\n",
       "      <td>257.353842</td>\n",
       "      <td>0.486592</td>\n",
       "      <td>0.836071</td>\n",
       "      <td>14.526497</td>\n",
       "      <td>1.102743</td>\n",
       "      <td>0.806057</td>\n",
       "      <td>49.693429</td>\n",
       "      <td>0.0</td>\n",
       "    </tr>\n",
       "    <tr>\n",
       "      <th>min</th>\n",
       "      <td>1.000000</td>\n",
       "      <td>0.000000</td>\n",
       "      <td>1.000000</td>\n",
       "      <td>0.420000</td>\n",
       "      <td>0.000000</td>\n",
       "      <td>0.000000</td>\n",
       "      <td>0.000000</td>\n",
       "      <td>1.0</td>\n",
       "    </tr>\n",
       "    <tr>\n",
       "      <th>25%</th>\n",
       "      <td>223.500000</td>\n",
       "      <td>0.000000</td>\n",
       "      <td>2.000000</td>\n",
       "      <td>20.125000</td>\n",
       "      <td>0.000000</td>\n",
       "      <td>0.000000</td>\n",
       "      <td>7.910400</td>\n",
       "      <td>1.0</td>\n",
       "    </tr>\n",
       "    <tr>\n",
       "      <th>50%</th>\n",
       "      <td>446.000000</td>\n",
       "      <td>0.000000</td>\n",
       "      <td>3.000000</td>\n",
       "      <td>28.000000</td>\n",
       "      <td>0.000000</td>\n",
       "      <td>0.000000</td>\n",
       "      <td>14.454200</td>\n",
       "      <td>1.0</td>\n",
       "    </tr>\n",
       "    <tr>\n",
       "      <th>75%</th>\n",
       "      <td>668.500000</td>\n",
       "      <td>1.000000</td>\n",
       "      <td>3.000000</td>\n",
       "      <td>38.000000</td>\n",
       "      <td>1.000000</td>\n",
       "      <td>0.000000</td>\n",
       "      <td>31.000000</td>\n",
       "      <td>1.0</td>\n",
       "    </tr>\n",
       "    <tr>\n",
       "      <th>max</th>\n",
       "      <td>891.000000</td>\n",
       "      <td>1.000000</td>\n",
       "      <td>3.000000</td>\n",
       "      <td>80.000000</td>\n",
       "      <td>8.000000</td>\n",
       "      <td>6.000000</td>\n",
       "      <td>512.329200</td>\n",
       "      <td>1.0</td>\n",
       "    </tr>\n",
       "  </tbody>\n",
       "</table>\n",
       "</div>"
      ],
      "text/plain": [
       "       PassengerId    Survived      Pclass         Age       SibSp  \\\n",
       "count   891.000000  891.000000  891.000000  714.000000  891.000000   \n",
       "mean    446.000000    0.383838    2.308642   29.699118    0.523008   \n",
       "std     257.353842    0.486592    0.836071   14.526497    1.102743   \n",
       "min       1.000000    0.000000    1.000000    0.420000    0.000000   \n",
       "25%     223.500000    0.000000    2.000000   20.125000    0.000000   \n",
       "50%     446.000000    0.000000    3.000000   28.000000    0.000000   \n",
       "75%     668.500000    1.000000    3.000000   38.000000    1.000000   \n",
       "max     891.000000    1.000000    3.000000   80.000000    8.000000   \n",
       "\n",
       "            Parch        Fare  train_test  \n",
       "count  891.000000  891.000000       891.0  \n",
       "mean     0.381594   32.204208         1.0  \n",
       "std      0.806057   49.693429         0.0  \n",
       "min      0.000000    0.000000         1.0  \n",
       "25%      0.000000    7.910400         1.0  \n",
       "50%      0.000000   14.454200         1.0  \n",
       "75%      0.000000   31.000000         1.0  \n",
       "max      6.000000  512.329200         1.0  "
      ]
     },
     "execution_count": 9,
     "metadata": {},
     "output_type": "execute_result"
    }
   ],
   "source": [
    "df_train.describe()"
   ]
  },
  {
   "cell_type": "markdown",
   "id": "7db28c82-6629-4aa4-932e-9cc27aa06d1a",
   "metadata": {},
   "source": [
    "## Initial thoughs\n",
    "\n",
    "* The **PassengerID** column shouldnt provide any useful information about survival, so it should be dropped.\n",
    "* The **Fare** column looks very volatile on the high end, Q3 (75%) = 31 and MAX = 512, maybe outliers?\n",
    "* There are null values in **Age**, **Cabin** and **Embarked**, these should be fixed, maybe **Age** and **Embarked** are missing data and **Cabin** is simply due to not every passenger having a **Cabin**\n",
    "* Both numerical and categorical columns. They should be examined further and either scaled or one hot encoded to improve model performance"
   ]
  },
  {
   "cell_type": "markdown",
   "id": "28f076c2-c8a4-4453-85e7-8fe125164ab8",
   "metadata": {
    "jp-MarkdownHeadingCollapsed": true,
    "tags": []
   },
   "source": [
    "# Exploratory Data Analysis <a id=\"EDA\"></a>"
   ]
  },
  {
   "cell_type": "markdown",
   "id": "563af994-9799-4276-a94f-1bf656c2811d",
   "metadata": {},
   "source": [
    "## Survival ratio"
   ]
  },
  {
   "cell_type": "code",
   "execution_count": 10,
   "id": "2f59a7cc-b53b-44dd-9677-b600dfe889ce",
   "metadata": {},
   "outputs": [
    {
     "name": "stdout",
     "output_type": "stream",
     "text": [
      "There were 342 survivors and 549 mortalities in the train set.\n",
      "Making the chance of survival 38.38383838383838%\n"
     ]
    },
    {
     "data": {
      "image/png": "[encoded data removed]",
      "text/plain": [
       "<Figure size 640x480 with 1 Axes>"
      ]
     },
     "metadata": {},
     "output_type": "display_data"
    }
   ],
   "source": [
    "df_survived = df_train['Survived']\n",
    "\n",
    "print(f'There were {df_survived.value_counts()[1]} survivors and {df_survived.value_counts()[0]} mortalities in the train set.')\n",
    "print(f'Making the chance of survival {df_survived.value_counts()[1] / (df_survived.value_counts()[1] + df_survived.value_counts()[0]) * 100}%')\n",
    "\n",
    "sns.countplot(x = df_survived)\n",
    "plt.title('Distribution of survival or mortality')\n",
    "plt.show()"
   ]
  },
  {
   "cell_type": "markdown",
   "id": "89a9f421-56e6-417e-aad1-8238d3d33ba8",
   "metadata": {},
   "source": [
    "## Name"
   ]
  },
  {
   "cell_type": "code",
   "execution_count": 11,
   "id": "8048d2df-c9f2-47b3-a0a7-c7b90e027041",
   "metadata": {},
   "outputs": [
    {
     "name": "stdout",
     "output_type": "stream",
     "text": [
      " Mr        517\n",
      " Miss      182\n",
      " Mrs       125\n",
      " Master     40\n",
      " Dr          7\n",
      " Rev         6\n",
      "Name: Title, dtype: int64\n",
      "Survival ratio for Mr: nan\n"
     ]
    }
   ],
   "source": [
    "# Extract titles\n",
    "\n",
    "df_train['Title'] = df_train['Name'].str.split(',', expand=True)[1].str.split('.', expand=True)[0]\n",
    "\n",
    "#df_train['Title'] = df_train['Title'].str.split('.', expand=True)[0]\n",
    "\n",
    "#df_train['Title'] = df_train['Title'].astype('string')\n",
    "\n",
    "# List most frequent titles\n",
    "\n",
    "titles = df_train['Title'].value_counts()[0:6]\n",
    "\n",
    "print(titles)\n",
    "\n",
    "for title in ['Mr']:\n",
    "    print(f\"Survival ratio for {title}: {df_train[df_train['Title'] == title]['Survived'].mean()}\")"
   ]
  },
  {
   "cell_type": "code",
   "execution_count": 12,
   "id": "7e6f48fa-c471-44a1-9211-92a4036d8c62",
   "metadata": {},
   "outputs": [
    {
     "data": {
      "text/html": [
       "<div>\n",
       "<style scoped>\n",
       "    .dataframe tbody tr th:only-of-type {\n",
       "        vertical-align: middle;\n",
       "    }\n",
       "\n",
       "    .dataframe tbody tr th {\n",
       "        vertical-align: top;\n",
       "    }\n",
       "\n",
       "    .dataframe thead th {\n",
       "        text-align: right;\n",
       "    }\n",
       "</style>\n",
       "<table border=\"1\" class=\"dataframe\">\n",
       "  <thead>\n",
       "    <tr style=\"text-align: right;\">\n",
       "      <th></th>\n",
       "      <th>Title</th>\n",
       "      <th>Frequency</th>\n",
       "    </tr>\n",
       "  </thead>\n",
       "  <tbody>\n",
       "    <tr>\n",
       "      <th>0</th>\n",
       "      <td>Mr</td>\n",
       "      <td>517</td>\n",
       "    </tr>\n",
       "    <tr>\n",
       "      <th>1</th>\n",
       "      <td>Miss</td>\n",
       "      <td>182</td>\n",
       "    </tr>\n",
       "    <tr>\n",
       "      <th>2</th>\n",
       "      <td>Mrs</td>\n",
       "      <td>125</td>\n",
       "    </tr>\n",
       "    <tr>\n",
       "      <th>3</th>\n",
       "      <td>Master</td>\n",
       "      <td>40</td>\n",
       "    </tr>\n",
       "    <tr>\n",
       "      <th>4</th>\n",
       "      <td>Dr</td>\n",
       "      <td>7</td>\n",
       "    </tr>\n",
       "    <tr>\n",
       "      <th>5</th>\n",
       "      <td>Rev</td>\n",
       "      <td>6</td>\n",
       "    </tr>\n",
       "  </tbody>\n",
       "</table>\n",
       "</div>"
      ],
      "text/plain": [
       "     Title  Frequency\n",
       "0       Mr        517\n",
       "1     Miss        182\n",
       "2      Mrs        125\n",
       "3   Master         40\n",
       "4       Dr          7\n",
       "5      Rev          6"
      ]
     },
     "execution_count": 12,
     "metadata": {},
     "output_type": "execute_result"
    }
   ],
   "source": [
    "(df_train['Title'].value_counts()\n",
    "                  .to_frame()\n",
    "                  .reset_index()\n",
    "                  .iloc[:6]\n",
    "                  .rename(columns={'index':'Title', 'Title':'Frequency'}))"
   ]
  },
  {
   "cell_type": "markdown",
   "id": "0ab7d5f9-5eef-4002-aa34-95259f6ad604",
   "metadata": {},
   "source": [
    "## Ticket Class"
   ]
  },
  {
   "cell_type": "code",
   "execution_count": 13,
   "id": "a2fdfb94-a0c4-4308-99e0-5cc76163aaf0",
   "metadata": {},
   "outputs": [
    {
     "name": "stdout",
     "output_type": "stream",
     "text": [
      "Passengers were split into three Ticket Classes and hereby the placement on the ship deck:\n",
      "There were 216 people on the upper deck.\n",
      "There were 184 people on the middle deck.\n",
      "There were 491 people on the lower deck\n"
     ]
    },
    {
     "data": {
      "image/png": "[encoded data removed]",
      "text/plain": [
       "<Figure size 640x480 with 1 Axes>"
      ]
     },
     "metadata": {},
     "output_type": "display_data"
    }
   ],
   "source": [
    "df_pclass = df_train['Pclass']\n",
    "\n",
    "print('Passengers were split into three Ticket Classes and hereby the placement on the ship deck:')\n",
    "print(f'There were {df_pclass.value_counts().sort_index()[1]} people on the upper deck.') \n",
    "print(f'There were {df_pclass.value_counts().sort_index()[2]} people on the middle deck.') \n",
    "print(f'There were {df_pclass.value_counts().sort_index()[3]} people on the lower deck')\n",
    "\n",
    "sns.countplot(x = df_pclass)\n",
    "plt.title('Distribution of ticket classes')\n",
    "plt.show()"
   ]
  },
  {
   "cell_type": "markdown",
   "id": "c2d44c06-7461-4443-9d20-8ff76688ece7",
   "metadata": {},
   "source": [
    "## Passenger sex"
   ]
  },
  {
   "cell_type": "code",
   "execution_count": 14,
   "id": "1b74c30f-3d0c-4476-9bee-cef4048d09e3",
   "metadata": {},
   "outputs": [
    {
     "name": "stdout",
     "output_type": "stream",
     "text": [
      "There were 577 males aboard.\n",
      "There were 314 females aboard.\n"
     ]
    },
    {
     "data": {
      "image/png": "[encoded data removed]",
      "text/plain": [
       "<Figure size 640x480 with 1 Axes>"
      ]
     },
     "metadata": {},
     "output_type": "display_data"
    }
   ],
   "source": [
    "df_sex = df_train['Sex']\n",
    "print(f'There were {df_sex.value_counts().sort_index()[1]} males aboard.') \n",
    "print(f'There were {df_sex.value_counts().sort_index()[0]} females aboard.') \n",
    "\n",
    "sns.countplot(x = df_sex)\n",
    "plt.title('Distribution of passenger sex')\n",
    "plt.show()"
   ]
  },
  {
   "cell_type": "markdown",
   "id": "73d06543-38b6-4ec0-a8f0-540256388efd",
   "metadata": {},
   "source": [
    "## Passenger age"
   ]
  },
  {
   "cell_type": "code",
   "execution_count": 15,
   "id": "ae24c08e-456c-4219-9f7c-baf2af3bdb63",
   "metadata": {},
   "outputs": [
    {
     "name": "stdout",
     "output_type": "stream",
     "text": [
      "There were 278 passenges under the age of 25.\n",
      "There were 428 passengers between the age of 25 and 65.\n",
      "There were 8 passenges older than 65.\n"
     ]
    },
    {
     "data": {
      "image/png": "[encoded data removed]",
      "text/plain": [
       "<Figure size 640x480 with 1 Axes>"
      ]
     },
     "metadata": {},
     "output_type": "display_data"
    }
   ],
   "source": [
    "df_age = df_train['Age']\n",
    "print(f'There were {np.count_nonzero(df_age < 25)} passenges under the age of 25.') \n",
    "print(f'There were {np.count_nonzero((df_age >= 25) & (df_age <= 65))} passengers between the age of 25 and 65.') \n",
    "print(f'There were {np.count_nonzero(df_age > 65)} passenges older than 65.') \n",
    "\n",
    "\n",
    "sns.histplot(data = df_age)\n",
    "plt.title('Distribution of passenger age')\n",
    "plt.show()"
   ]
  },
  {
   "cell_type": "markdown",
   "id": "6a2d4086-2a55-48d1-bd6a-7ec926c3f940",
   "metadata": {},
   "source": [
    "## Number of siblings/spouses"
   ]
  },
  {
   "cell_type": "code",
   "execution_count": 16,
   "id": "672f3d79-a469-4b2d-af53-e67b905695f7",
   "metadata": {},
   "outputs": [
    {
     "name": "stdout",
     "output_type": "stream",
     "text": [
      "There were 608 passengers with no siblings or spouses.\n"
     ]
    },
    {
     "data": {
      "image/png": "[encoded data removed]",
      "text/plain": [
       "<Figure size 640x480 with 1 Axes>"
      ]
     },
     "metadata": {},
     "output_type": "display_data"
    }
   ],
   "source": [
    "df_sibsp = df_train['SibSp']\n",
    "print(f'There were {df_sibsp.value_counts().sort_index()[0]} passengers with no siblings or spouses.')\n",
    "\n",
    "sns.countplot(x = df_sibsp)\n",
    "plt.title('Distribution of number of siblings/spouses aboard')\n",
    "plt.show()"
   ]
  },
  {
   "cell_type": "markdown",
   "id": "f1f51fcb-d902-4597-9409-010415450426",
   "metadata": {},
   "source": [
    "## Number of parents/children"
   ]
  },
  {
   "cell_type": "code",
   "execution_count": 17,
   "id": "661dc7ae-c1e4-43bb-a3f1-c193c8d58a4c",
   "metadata": {},
   "outputs": [
    {
     "name": "stdout",
     "output_type": "stream",
     "text": [
      "There were 678 passengers with no parents or children.\n"
     ]
    },
    {
     "data": {
      "image/png": "[encoded data removed]",
      "text/plain": [
       "<Figure size 640x480 with 1 Axes>"
      ]
     },
     "metadata": {},
     "output_type": "display_data"
    }
   ],
   "source": [
    "df_parch = df_train['Parch']\n",
    "print(f'There were {df_parch.value_counts().sort_index()[0]} passengers with no parents or children.')\n",
    "\n",
    "sns.countplot(x = df_parch)\n",
    "plt.title('Distribution of number of parents/children aboard')\n",
    "plt.show()"
   ]
  },
  {
   "cell_type": "markdown",
   "id": "0ac96dcb-3461-4a4f-8792-d355525ba107",
   "metadata": {},
   "source": [
    "## Tickets"
   ]
  },
  {
   "cell_type": "code",
   "execution_count": 18,
   "id": "8be882ff-b722-4fc7-a280-a9b8ee6f2229",
   "metadata": {},
   "outputs": [
    {
     "data": {
      "image/png": "[encoded data removed]",
      "text/plain": [
       "<Figure size 640x480 with 1 Axes>"
      ]
     },
     "metadata": {},
     "output_type": "display_data"
    }
   ],
   "source": [
    "df_ticket = df_train['Ticket']\n",
    "#print(f'There were {np.count_nonzero(df_fare < 10)} passengers payed less than 10 dollars for their ticket.') \n",
    "#print(f'There were {np.count_nonzero((df_fare >= 10) & (df_fare <= 50))} passengers payed between 10 and 50 dollars for their ticket.') \n",
    "#print(f'There were {np.count_nonzero(df_fare > 50)} passengers payed more than 50 dollars for their ticket.') \n",
    "\n",
    "\n",
    "sns.histplot(data = df_ticket.value_counts())\n",
    "plt.title('Distribution of people per ticket')\n",
    "plt.show()"
   ]
  },
  {
   "cell_type": "markdown",
   "id": "f703364e-60d9-4fda-83b2-16df547b16f4",
   "metadata": {},
   "source": [
    "## Fare"
   ]
  },
  {
   "cell_type": "code",
   "execution_count": 19,
   "id": "7064e802-3faf-48d9-a409-48e97b44fa56",
   "metadata": {},
   "outputs": [
    {
     "name": "stdout",
     "output_type": "stream",
     "text": [
      "There were 336 passengers payed less than 10 dollars for their ticket.\n",
      "There were 395 passengers payed between 10 and 50 dollars for their ticket.\n",
      "There were 160 passengers payed more than 50 dollars for their ticket.\n"
     ]
    },
    {
     "data": {
      "image/png": "[encoded data removed]",
      "text/plain": [
       "<Figure size 640x480 with 1 Axes>"
      ]
     },
     "metadata": {},
     "output_type": "display_data"
    }
   ],
   "source": [
    "df_fare = df_train['Fare']\n",
    "print(f'There were {np.count_nonzero(df_fare < 10)} passengers payed less than 10 dollars for their ticket.') \n",
    "print(f'There were {np.count_nonzero((df_fare >= 10) & (df_fare <= 50))} passengers payed between 10 and 50 dollars for their ticket.') \n",
    "print(f'There were {np.count_nonzero(df_fare > 50)} passengers payed more than 50 dollars for their ticket.') \n",
    "\n",
    "\n",
    "sns.histplot(data = df_fare)\n",
    "plt.title('Distribution of fares')\n",
    "plt.show()"
   ]
  },
  {
   "cell_type": "markdown",
   "id": "650608f0-5e36-4504-82b8-557fd8ef9f78",
   "metadata": {},
   "source": [
    "## Cabin"
   ]
  },
  {
   "cell_type": "code",
   "execution_count": 20,
   "id": "963fffe5-8425-469e-9462-13cd6e366371",
   "metadata": {},
   "outputs": [
    {
     "name": "stdout",
     "output_type": "stream",
     "text": [
      "There were 204 passengers who had a cabin.\n",
      "There were 687 passengers who did not have a cabin.\n"
     ]
    },
    {
     "data": {
      "image/png": "[encoded data removed]",
      "text/plain": [
       "<Figure size 640x480 with 1 Axes>"
      ]
     },
     "metadata": {},
     "output_type": "display_data"
    }
   ],
   "source": [
    "df_cabin = df_train['Cabin']\n",
    "df_cabin = df_cabin.apply(lambda x: 1 if not pd.isnull(x) else 0)\n",
    "print(f'There were {df_cabin.value_counts().sort_index()[1]} passengers who had a cabin.') \n",
    "print(f'There were {df_cabin.value_counts().sort_index()[0]} passengers who did not have a cabin.') \n",
    "\n",
    "sns.countplot(x = df_cabin)\n",
    "plt.title('Distribution of number of passengers with a cabin')\n",
    "plt.show()"
   ]
  },
  {
   "cell_type": "markdown",
   "id": "3682af28-7eb4-4aaf-9c6c-19fa8e24e118",
   "metadata": {},
   "source": [
    "## Port of Embarkation"
   ]
  },
  {
   "cell_type": "code",
   "execution_count": 21,
   "id": "bd97e2d4-6197-41a0-8316-b5a87b6ec31b",
   "metadata": {},
   "outputs": [
    {
     "name": "stdout",
     "output_type": "stream",
     "text": [
      "There were 644 passengers boarding the ship at Southampton.\n",
      "There were 168 passengers boarding the ship at Cherbourg.\n",
      "There were 77 passengers boarding the ship at Queenstown.\n"
     ]
    },
    {
     "data": {
      "image/png": "[encoded data removed]",
      "text/plain": [
       "<Figure size 640x480 with 1 Axes>"
      ]
     },
     "metadata": {},
     "output_type": "display_data"
    }
   ],
   "source": [
    "df_port = df_train['Embarked']\n",
    "print(f'There were {df_port.value_counts().sort_index()[2]} passengers boarding the ship at Southampton.') \n",
    "print(f'There were {df_port.value_counts().sort_index()[0]} passengers boarding the ship at Cherbourg.') \n",
    "print(f'There were {df_port.value_counts().sort_index()[1]} passengers boarding the ship at Queenstown.') \n",
    "\n",
    "sns.countplot(x = df_port)\n",
    "plt.title('Distribution of number of passengers with a cabin')\n",
    "plt.show()"
   ]
  },
  {
   "cell_type": "markdown",
   "id": "5bb9e7a7-9c84-46f6-ab6a-13930e4acd8a",
   "metadata": {},
   "source": [
    "## Survival rate factors"
   ]
  },
  {
   "cell_type": "code",
   "execution_count": 22,
   "id": "656a42f4-359c-45b2-9aff-ffc779448e66",
   "metadata": {},
   "outputs": [
    {
     "data": {
      "image/png": "[encoded data removed]",
      "text/plain": [
       "<Figure size 558.875x500 with 1 Axes>"
      ]
     },
     "metadata": {},
     "output_type": "display_data"
    }
   ],
   "source": [
    "sns.catplot(data=df_train, x=\"Sex\", y=\"Survived\", hue=\"Pclass\", kind=\"bar\")\n",
    "plt.title('Survival rate based on sex and passanger class')\n",
    "plt.show()"
   ]
  },
  {
   "cell_type": "markdown",
   "id": "47bb30b1-eb49-42f5-a320-386a0e0388c5",
   "metadata": {
    "jp-MarkdownHeadingCollapsed": true,
    "tags": []
   },
   "source": [
    "# Feature Selection <a id=\"feature\"></a>"
   ]
  },
  {
   "cell_type": "code",
   "execution_count": 23,
   "id": "8bd3f918-a4df-4ec9-a638-7a1e7d8e8064",
   "metadata": {},
   "outputs": [],
   "source": [
    "# change cabin names and numbers to cabin yes or no\n",
    "\n",
    "df_train['Cabin'] = df_train['Cabin'].apply(lambda x: 1 if not pd.isnull(x) else 0)\n",
    "\n",
    "# change male/female to 0 and 1\n",
    "\n",
    "df_train.loc[df_train['Sex'] == 'male', 'Sex'] = 0\n",
    "df_train.loc[df_train['Sex'] == 'female', 'Sex'] = 1\n",
    "\n",
    "# One-Hot encode Embarkation (done with pd.get_dummies() further down)\n",
    "\n",
    "df_train.loc[df_train['Embarked'] == 'S', 'embarked_Southampton'] = 1\n",
    "df_train.loc[df_train['Embarked'] == 'C', 'embarked_Cherbough'] = 1\n",
    "df_train.loc[df_train['Embarked'] == 'Q', 'embarked_Queenstown'] = 1\n",
    "\n",
    "df_train = df_train.drop('Embarked', axis = 1)\n",
    "\n",
    "df_train = df_train.replace(np.nan, 0)"
   ]
  },
  {
   "cell_type": "code",
   "execution_count": 24,
   "id": "183b92f3-a481-4e6d-85b3-da49de5e48da",
   "metadata": {},
   "outputs": [
    {
     "data": {
      "text/html": [
       "<div>\n",
       "<style scoped>\n",
       "    .dataframe tbody tr th:only-of-type {\n",
       "        vertical-align: middle;\n",
       "    }\n",
       "\n",
       "    .dataframe tbody tr th {\n",
       "        vertical-align: top;\n",
       "    }\n",
       "\n",
       "    .dataframe thead th {\n",
       "        text-align: right;\n",
       "    }\n",
       "</style>\n",
       "<table border=\"1\" class=\"dataframe\">\n",
       "  <thead>\n",
       "    <tr style=\"text-align: right;\">\n",
       "      <th></th>\n",
       "      <th>PassengerId</th>\n",
       "      <th>Survived</th>\n",
       "      <th>Age</th>\n",
       "      <th>SibSp</th>\n",
       "      <th>Parch</th>\n",
       "      <th>Fare</th>\n",
       "      <th>Cabin</th>\n",
       "      <th>Pclass</th>\n",
       "      <th>embarked_Southampton</th>\n",
       "      <th>embarked_Cherbough</th>\n",
       "      <th>embarked_Queenstown</th>\n",
       "    </tr>\n",
       "  </thead>\n",
       "  <tbody>\n",
       "    <tr>\n",
       "      <th>PassengerId</th>\n",
       "      <td>1.000000</td>\n",
       "      <td>-0.005007</td>\n",
       "      <td>0.038125</td>\n",
       "      <td>-0.057527</td>\n",
       "      <td>-0.001652</td>\n",
       "      <td>0.012658</td>\n",
       "      <td>0.019919</td>\n",
       "      <td>-0.035144</td>\n",
       "      <td>0.022148</td>\n",
       "      <td>-0.001205</td>\n",
       "      <td>-0.033606</td>\n",
       "    </tr>\n",
       "    <tr>\n",
       "      <th>Survived</th>\n",
       "      <td>-0.005007</td>\n",
       "      <td>1.000000</td>\n",
       "      <td>0.010539</td>\n",
       "      <td>-0.035322</td>\n",
       "      <td>0.081629</td>\n",
       "      <td>0.257307</td>\n",
       "      <td>0.316912</td>\n",
       "      <td>-0.338481</td>\n",
       "      <td>-0.155660</td>\n",
       "      <td>0.168240</td>\n",
       "      <td>0.003650</td>\n",
       "    </tr>\n",
       "    <tr>\n",
       "      <th>Age</th>\n",
       "      <td>0.038125</td>\n",
       "      <td>0.010539</td>\n",
       "      <td>1.000000</td>\n",
       "      <td>-0.184664</td>\n",
       "      <td>-0.048786</td>\n",
       "      <td>0.135516</td>\n",
       "      <td>0.269360</td>\n",
       "      <td>-0.361353</td>\n",
       "      <td>0.140578</td>\n",
       "      <td>0.001246</td>\n",
       "      <td>-0.237586</td>\n",
       "    </tr>\n",
       "    <tr>\n",
       "      <th>SibSp</th>\n",
       "      <td>-0.057527</td>\n",
       "      <td>-0.035322</td>\n",
       "      <td>-0.184664</td>\n",
       "      <td>1.000000</td>\n",
       "      <td>0.414838</td>\n",
       "      <td>0.159651</td>\n",
       "      <td>-0.040460</td>\n",
       "      <td>0.083081</td>\n",
       "      <td>0.070941</td>\n",
       "      <td>-0.059528</td>\n",
       "      <td>-0.026354</td>\n",
       "    </tr>\n",
       "    <tr>\n",
       "      <th>Parch</th>\n",
       "      <td>-0.001652</td>\n",
       "      <td>0.081629</td>\n",
       "      <td>-0.048786</td>\n",
       "      <td>0.414838</td>\n",
       "      <td>1.000000</td>\n",
       "      <td>0.216225</td>\n",
       "      <td>0.036987</td>\n",
       "      <td>0.018443</td>\n",
       "      <td>0.063036</td>\n",
       "      <td>-0.011069</td>\n",
       "      <td>-0.081228</td>\n",
       "    </tr>\n",
       "    <tr>\n",
       "      <th>Fare</th>\n",
       "      <td>0.012658</td>\n",
       "      <td>0.257307</td>\n",
       "      <td>0.135516</td>\n",
       "      <td>0.159651</td>\n",
       "      <td>0.216225</td>\n",
       "      <td>1.000000</td>\n",
       "      <td>0.482075</td>\n",
       "      <td>-0.549500</td>\n",
       "      <td>-0.166603</td>\n",
       "      <td>0.269335</td>\n",
       "      <td>-0.117216</td>\n",
       "    </tr>\n",
       "    <tr>\n",
       "      <th>Cabin</th>\n",
       "      <td>0.019919</td>\n",
       "      <td>0.316912</td>\n",
       "      <td>0.269360</td>\n",
       "      <td>-0.040460</td>\n",
       "      <td>0.036987</td>\n",
       "      <td>0.482075</td>\n",
       "      <td>1.000000</td>\n",
       "      <td>-0.725541</td>\n",
       "      <td>-0.110087</td>\n",
       "      <td>0.208528</td>\n",
       "      <td>-0.129572</td>\n",
       "    </tr>\n",
       "    <tr>\n",
       "      <th>Pclass</th>\n",
       "      <td>-0.035144</td>\n",
       "      <td>-0.338481</td>\n",
       "      <td>-0.361353</td>\n",
       "      <td>0.083081</td>\n",
       "      <td>0.018443</td>\n",
       "      <td>-0.549500</td>\n",
       "      <td>-0.725541</td>\n",
       "      <td>1.000000</td>\n",
       "      <td>0.081720</td>\n",
       "      <td>-0.243292</td>\n",
       "      <td>0.221009</td>\n",
       "    </tr>\n",
       "    <tr>\n",
       "      <th>embarked_Southampton</th>\n",
       "      <td>0.022148</td>\n",
       "      <td>-0.155660</td>\n",
       "      <td>0.140578</td>\n",
       "      <td>0.070941</td>\n",
       "      <td>0.063036</td>\n",
       "      <td>-0.166603</td>\n",
       "      <td>-0.110087</td>\n",
       "      <td>0.081720</td>\n",
       "      <td>1.000000</td>\n",
       "      <td>-0.778359</td>\n",
       "      <td>-0.496624</td>\n",
       "    </tr>\n",
       "    <tr>\n",
       "      <th>embarked_Cherbough</th>\n",
       "      <td>-0.001205</td>\n",
       "      <td>0.168240</td>\n",
       "      <td>0.001246</td>\n",
       "      <td>-0.059528</td>\n",
       "      <td>-0.011069</td>\n",
       "      <td>0.269335</td>\n",
       "      <td>0.208528</td>\n",
       "      <td>-0.243292</td>\n",
       "      <td>-0.778359</td>\n",
       "      <td>1.000000</td>\n",
       "      <td>-0.148258</td>\n",
       "    </tr>\n",
       "    <tr>\n",
       "      <th>embarked_Queenstown</th>\n",
       "      <td>-0.033606</td>\n",
       "      <td>0.003650</td>\n",
       "      <td>-0.237586</td>\n",
       "      <td>-0.026354</td>\n",
       "      <td>-0.081228</td>\n",
       "      <td>-0.117216</td>\n",
       "      <td>-0.129572</td>\n",
       "      <td>0.221009</td>\n",
       "      <td>-0.496624</td>\n",
       "      <td>-0.148258</td>\n",
       "      <td>1.000000</td>\n",
       "    </tr>\n",
       "  </tbody>\n",
       "</table>\n",
       "</div>"
      ],
      "text/plain": [
       "                      PassengerId  Survived       Age     SibSp     Parch  \\\n",
       "PassengerId              1.000000 -0.005007  0.038125 -0.057527 -0.001652   \n",
       "Survived                -0.005007  1.000000  0.010539 -0.035322  0.081629   \n",
       "Age                      0.038125  0.010539  1.000000 -0.184664 -0.048786   \n",
       "SibSp                   -0.057527 -0.035322 -0.184664  1.000000  0.414838   \n",
       "Parch                   -0.001652  0.081629 -0.048786  0.414838  1.000000   \n",
       "Fare                     0.012658  0.257307  0.135516  0.159651  0.216225   \n",
       "Cabin                    0.019919  0.316912  0.269360 -0.040460  0.036987   \n",
       "Pclass                  -0.035144 -0.338481 -0.361353  0.083081  0.018443   \n",
       "embarked_Southampton     0.022148 -0.155660  0.140578  0.070941  0.063036   \n",
       "embarked_Cherbough      -0.001205  0.168240  0.001246 -0.059528 -0.011069   \n",
       "embarked_Queenstown     -0.033606  0.003650 -0.237586 -0.026354 -0.081228   \n",
       "\n",
       "                          Fare     Cabin    Pclass  embarked_Southampton  \\\n",
       "PassengerId           0.012658  0.019919 -0.035144              0.022148   \n",
       "Survived              0.257307  0.316912 -0.338481             -0.155660   \n",
       "Age                   0.135516  0.269360 -0.361353              0.140578   \n",
       "SibSp                 0.159651 -0.040460  0.083081              0.070941   \n",
       "Parch                 0.216225  0.036987  0.018443              0.063036   \n",
       "Fare                  1.000000  0.482075 -0.549500             -0.166603   \n",
       "Cabin                 0.482075  1.000000 -0.725541             -0.110087   \n",
       "Pclass               -0.549500 -0.725541  1.000000              0.081720   \n",
       "embarked_Southampton -0.166603 -0.110087  0.081720              1.000000   \n",
       "embarked_Cherbough    0.269335  0.208528 -0.243292             -0.778359   \n",
       "embarked_Queenstown  -0.117216 -0.129572  0.221009             -0.496624   \n",
       "\n",
       "                      embarked_Cherbough  embarked_Queenstown  \n",
       "PassengerId                    -0.001205            -0.033606  \n",
       "Survived                        0.168240             0.003650  \n",
       "Age                             0.001246            -0.237586  \n",
       "SibSp                          -0.059528            -0.026354  \n",
       "Parch                          -0.011069            -0.081228  \n",
       "Fare                            0.269335            -0.117216  \n",
       "Cabin                           0.208528            -0.129572  \n",
       "Pclass                         -0.243292             0.221009  \n",
       "embarked_Southampton           -0.778359            -0.496624  \n",
       "embarked_Cherbough              1.000000            -0.148258  \n",
       "embarked_Queenstown            -0.148258             1.000000  "
      ]
     },
     "execution_count": 24,
     "metadata": {},
     "output_type": "execute_result"
    }
   ],
   "source": [
    "# Corelation matrix of numerical categories\n",
    "(df_train[[\n",
    "    'PassengerId', \n",
    "    'Survived', \n",
    "    'Age',\n",
    "    'SibSp',\n",
    "    'Parch',\n",
    "    'Fare',\n",
    "    'Cabin',\n",
    "    'Pclass',\n",
    "    'embarked_Southampton',\n",
    "    'embarked_Cherbough',\n",
    "    'embarked_Queenstown']].corr())"
   ]
  },
  {
   "cell_type": "code",
   "execution_count": 25,
   "id": "83e14321-6b4a-40ca-a393-3688586db53a",
   "metadata": {},
   "outputs": [
    {
     "data": {
      "text/plain": [
       "Text(0.5, 1.0, 'Heatmap for correlation between columns of training data')"
      ]
     },
     "execution_count": 25,
     "metadata": {},
     "output_type": "execute_result"
    },
    {
     "data": {
      "image/png": "[encoded data removed]",
      "text/plain": [
       "<Figure size 1200x800 with 2 Axes>"
      ]
     },
     "metadata": {},
     "output_type": "display_data"
    }
   ],
   "source": [
    "# Heatmap of correlation matrix for training data columns\n",
    "\n",
    "fig, ax = plt.subplots(figsize=(12,8)) \n",
    "\n",
    "sns.heatmap((df_train[[\n",
    "            'PassengerId', \n",
    "            'Survived', \n",
    "            'Age',\n",
    "            'SibSp',\n",
    "            'Parch',\n",
    "            'Fare',\n",
    "            'Cabin',\n",
    "            'Pclass',\n",
    "            'embarked_Southampton',\n",
    "            'embarked_Cherbough',\n",
    "            'embarked_Queenstown'\n",
    "            ]].corr()),\n",
    "            linewidths=1,\n",
    "            cmap=plt.cm.Blues, \n",
    "            annot=True,\n",
    "            ax=ax)\n",
    "\n",
    "plt.title('Heatmap for correlation between columns of training data')"
   ]
  },
  {
   "cell_type": "code",
   "execution_count": null,
   "id": "342c7f66-aaff-4670-8d03-c32e7845dedb",
   "metadata": {},
   "outputs": [],
   "source": []
  },
  {
   "cell_type": "markdown",
   "id": "4e6e5269-15c1-40d3-9495-1523afe860bd",
   "metadata": {
    "jp-MarkdownHeadingCollapsed": true,
    "tags": []
   },
   "source": [
    "# Final Processing <a id=\"final\"></a>"
   ]
  },
  {
   "cell_type": "code",
   "execution_count": 26,
   "id": "257c3a99-a2e3-4b2b-bf90-53b6318d4826",
   "metadata": {},
   "outputs": [
    {
     "data": {
      "text/html": [
       "<div>\n",
       "<style scoped>\n",
       "    .dataframe tbody tr th:only-of-type {\n",
       "        vertical-align: middle;\n",
       "    }\n",
       "\n",
       "    .dataframe tbody tr th {\n",
       "        vertical-align: top;\n",
       "    }\n",
       "\n",
       "    .dataframe thead th {\n",
       "        text-align: right;\n",
       "    }\n",
       "</style>\n",
       "<table border=\"1\" class=\"dataframe\">\n",
       "  <thead>\n",
       "    <tr style=\"text-align: right;\">\n",
       "      <th></th>\n",
       "      <th>PassengerId</th>\n",
       "      <th>Survived</th>\n",
       "      <th>Pclass</th>\n",
       "      <th>Name</th>\n",
       "      <th>Sex</th>\n",
       "      <th>Age</th>\n",
       "      <th>SibSp</th>\n",
       "      <th>Parch</th>\n",
       "      <th>Ticket</th>\n",
       "      <th>Fare</th>\n",
       "      <th>Cabin</th>\n",
       "      <th>Embarked</th>\n",
       "      <th>train_test</th>\n",
       "    </tr>\n",
       "  </thead>\n",
       "  <tbody>\n",
       "    <tr>\n",
       "      <th>0</th>\n",
       "      <td>1</td>\n",
       "      <td>0.0</td>\n",
       "      <td>3</td>\n",
       "      <td>Braund, Mr. Owen Harris</td>\n",
       "      <td>male</td>\n",
       "      <td>22.0</td>\n",
       "      <td>1</td>\n",
       "      <td>0</td>\n",
       "      <td>A/5 21171</td>\n",
       "      <td>7.2500</td>\n",
       "      <td>NaN</td>\n",
       "      <td>S</td>\n",
       "      <td>1</td>\n",
       "    </tr>\n",
       "    <tr>\n",
       "      <th>1</th>\n",
       "      <td>2</td>\n",
       "      <td>1.0</td>\n",
       "      <td>1</td>\n",
       "      <td>Cumings, Mrs. John Bradley (Florence Briggs Th...</td>\n",
       "      <td>female</td>\n",
       "      <td>38.0</td>\n",
       "      <td>1</td>\n",
       "      <td>0</td>\n",
       "      <td>PC 17599</td>\n",
       "      <td>71.2833</td>\n",
       "      <td>C85</td>\n",
       "      <td>C</td>\n",
       "      <td>1</td>\n",
       "    </tr>\n",
       "    <tr>\n",
       "      <th>2</th>\n",
       "      <td>3</td>\n",
       "      <td>1.0</td>\n",
       "      <td>3</td>\n",
       "      <td>Heikkinen, Miss. Laina</td>\n",
       "      <td>female</td>\n",
       "      <td>26.0</td>\n",
       "      <td>0</td>\n",
       "      <td>0</td>\n",
       "      <td>STON/O2. 3101282</td>\n",
       "      <td>7.9250</td>\n",
       "      <td>NaN</td>\n",
       "      <td>S</td>\n",
       "      <td>1</td>\n",
       "    </tr>\n",
       "    <tr>\n",
       "      <th>3</th>\n",
       "      <td>4</td>\n",
       "      <td>1.0</td>\n",
       "      <td>1</td>\n",
       "      <td>Futrelle, Mrs. Jacques Heath (Lily May Peel)</td>\n",
       "      <td>female</td>\n",
       "      <td>35.0</td>\n",
       "      <td>1</td>\n",
       "      <td>0</td>\n",
       "      <td>113803</td>\n",
       "      <td>53.1000</td>\n",
       "      <td>C123</td>\n",
       "      <td>S</td>\n",
       "      <td>1</td>\n",
       "    </tr>\n",
       "    <tr>\n",
       "      <th>4</th>\n",
       "      <td>5</td>\n",
       "      <td>0.0</td>\n",
       "      <td>3</td>\n",
       "      <td>Allen, Mr. William Henry</td>\n",
       "      <td>male</td>\n",
       "      <td>35.0</td>\n",
       "      <td>0</td>\n",
       "      <td>0</td>\n",
       "      <td>373450</td>\n",
       "      <td>8.0500</td>\n",
       "      <td>NaN</td>\n",
       "      <td>S</td>\n",
       "      <td>1</td>\n",
       "    </tr>\n",
       "  </tbody>\n",
       "</table>\n",
       "</div>"
      ],
      "text/plain": [
       "   PassengerId  Survived  Pclass  \\\n",
       "0            1       0.0       3   \n",
       "1            2       1.0       1   \n",
       "2            3       1.0       3   \n",
       "3            4       1.0       1   \n",
       "4            5       0.0       3   \n",
       "\n",
       "                                                Name     Sex   Age  SibSp  \\\n",
       "0                            Braund, Mr. Owen Harris    male  22.0      1   \n",
       "1  Cumings, Mrs. John Bradley (Florence Briggs Th...  female  38.0      1   \n",
       "2                             Heikkinen, Miss. Laina  female  26.0      0   \n",
       "3       Futrelle, Mrs. Jacques Heath (Lily May Peel)  female  35.0      1   \n",
       "4                           Allen, Mr. William Henry    male  35.0      0   \n",
       "\n",
       "   Parch            Ticket     Fare Cabin Embarked  train_test  \n",
       "0      0         A/5 21171   7.2500   NaN        S           1  \n",
       "1      0          PC 17599  71.2833   C85        C           1  \n",
       "2      0  STON/O2. 3101282   7.9250   NaN        S           1  \n",
       "3      0            113803  53.1000  C123        S           1  \n",
       "4      0            373450   8.0500   NaN        S           1  "
      ]
     },
     "execution_count": 26,
     "metadata": {},
     "output_type": "execute_result"
    }
   ],
   "source": [
    "df_all.head()"
   ]
  },
  {
   "cell_type": "code",
   "execution_count": 27,
   "id": "9287fdba-22e0-43b1-ac75-456271a4d0e5",
   "metadata": {},
   "outputs": [
    {
     "name": "stdout",
     "output_type": "stream",
     "text": [
      "(889, 13), (418, 13), (889,)\n"
     ]
    },
    {
     "name": "stderr",
     "output_type": "stream",
     "text": [
      "C:\\Users\\10122055\\AppData\\Local\\Temp\\ipykernel_10140\\4201216275.py:32: FutureWarning: In a future version, the Index constructor will not infer numeric dtypes when passed object-dtype sequences (matching Series behavior)\n",
      "  df_all_dummies = pd.get_dummies(df_all[['Pclass',\n"
     ]
    }
   ],
   "source": [
    "#impute nulls for continuous data \n",
    "df_all.Age = df_all.Age.fillna(df_train.Age.median())\n",
    "df_all.Fare = df_all.Fare.fillna(df_train.Fare.median())\n",
    "\n",
    "# drop null the two null Embarked values\n",
    "df_all.dropna(subset=['Embarked'],inplace = True)\n",
    "\n",
    "# change cabin names and numbers to cabin yes or no\n",
    "\n",
    "df_all['Cabin'] = df_all['Cabin'].apply(lambda x: 1 if not pd.isnull(x) else 0)\n",
    "\n",
    "# change male/female to 0 and 1\n",
    "\n",
    "df_all.loc[df_all['Sex'] == 'male', 'Sex'] = 0\n",
    "df_all.loc[df_all['Sex'] == 'female', 'Sex'] = 1\n",
    "\n",
    "# extract titles\n",
    "\n",
    "df_all['Title'] = df_all['Name'].str.split(',', expand=True)[1].str.split('.', expand=True)[0]\n",
    "\n",
    "df_all = (df_all.drop([\n",
    "                    'PassengerId',\n",
    "                    'Name',\n",
    "                    'Title',\n",
    "                    'Ticket',\n",
    "                    'Name'],\n",
    "                    axis = 1\n",
    "                    ))\n",
    "\n",
    "df_all['Pclass'] = df_all['Pclass'].astype(str)\n",
    "\n",
    "df_all_dummies = pd.get_dummies(df_all[['Pclass', \n",
    "                                        'Sex', \n",
    "                                        'Age',\n",
    "                                        'SibSp', \n",
    "                                        'Parch', \n",
    "                                        'Fare', \n",
    "                                        'Cabin', \n",
    "                                        'Embarked', \n",
    "                                        'train_test']])\n",
    "\n",
    "# Scale data\n",
    "from sklearn.preprocessing import StandardScaler\n",
    "scale = StandardScaler()\n",
    "(df_all_dummies[['Age', \n",
    "                 'SibSp', \n",
    "                 'Parch', \n",
    "                 'Fare']]) = (scale.fit_transform(df_all_dummies[['Age', \n",
    "                                                                  'SibSp', \n",
    "                                                                  'Parch', \n",
    "                                                                  'Fare']]))\n",
    "\n",
    "X_train = df_all_dummies[df_all_dummies.train_test == 1].drop(['train_test'], axis =1)\n",
    "X_test = df_all_dummies[df_all_dummies.train_test == 0].drop(['train_test'], axis =1)\n",
    "\n",
    "y_train = df_all[df_all['train_test'] == 1]['Survived']\n",
    "y_test = df_all[df_all['train_test'] == 0]['Survived']\n",
    "\n",
    "print(f'{X_train.shape}, {X_test.shape}, {y_train.shape}')"
   ]
  },
  {
   "cell_type": "markdown",
   "id": "0ee5a616-776b-497b-a258-f3f8c1186525",
   "metadata": {
    "jp-MarkdownHeadingCollapsed": true,
    "tags": []
   },
   "source": [
    "# Models <a id=\"model\"></a>"
   ]
  },
  {
   "cell_type": "markdown",
   "id": "189c7a61-063d-4a7b-b028-ab4ac0817c7b",
   "metadata": {},
   "source": [
    "## Naive Bayes"
   ]
  },
  {
   "cell_type": "code",
   "execution_count": 28,
   "id": "3fcf3f8e-0968-4f54-a1f5-e7b603180070",
   "metadata": {},
   "outputs": [
    {
     "name": "stdout",
     "output_type": "stream",
     "text": [
      "[0.74719101 0.74719101 0.7752809  0.79775281 0.78531073]\n",
      "0.7705452929600711\n"
     ]
    }
   ],
   "source": [
    "gnb = GaussianNB()\n",
    "\n",
    "cv = cross_val_score(gnb, \n",
    "                     X_train, \n",
    "                     y_train, \n",
    "                     cv=5)\n",
    "\n",
    "print(cv)\n",
    "print(cv.mean())"
   ]
  },
  {
   "cell_type": "code",
   "execution_count": 29,
   "id": "e42ab798-43f5-406f-aca3-f6d7fc15bc28",
   "metadata": {},
   "outputs": [
    {
     "name": "stdout",
     "output_type": "stream",
     "text": [
      "[0.82022472 0.79775281 0.78651685 0.78089888 0.84180791]\n",
      "0.8054402336062972\n"
     ]
    }
   ],
   "source": [
    "lr = LogisticRegression(max_iter=2000)\n",
    "\n",
    "cv = cross_val_score(lr, \n",
    "                     X_train, \n",
    "                     y_train, \n",
    "                     cv=5)\n",
    "\n",
    "print(cv)\n",
    "print(cv.mean())"
   ]
  },
  {
   "cell_type": "code",
   "execution_count": 30,
   "id": "c5d7c672-bbd8-4a5d-af38-185a2e5fe3a6",
   "metadata": {},
   "outputs": [
    {
     "name": "stdout",
     "output_type": "stream",
     "text": [
      "[0.75280899 0.7752809  0.81460674 0.73033708 0.81920904]\n",
      "0.7784485494826383\n"
     ]
    }
   ],
   "source": [
    "dt = tree.DecisionTreeClassifier(random_state=42)\n",
    "\n",
    "cv = cross_val_score(dt, \n",
    "                     X_train, \n",
    "                     y_train, \n",
    "                     cv=5)\n",
    "\n",
    "print(cv)\n",
    "print(cv.mean())"
   ]
  },
  {
   "cell_type": "code",
   "execution_count": 31,
   "id": "b15a57fc-d852-4110-b776-60b3f5794603",
   "metadata": {},
   "outputs": [
    {
     "name": "stdout",
     "output_type": "stream",
     "text": [
      "[0.80337079 0.78089888 0.80898876 0.8258427  0.8079096 ]\n",
      "0.805402145623056\n"
     ]
    }
   ],
   "source": [
    "knn = KNeighborsClassifier()\n",
    "\n",
    "cv = cross_val_score(knn, \n",
    "                     X_train, \n",
    "                     y_train, \n",
    "                     cv=5)\n",
    "\n",
    "print(cv)\n",
    "print(cv.mean())"
   ]
  },
  {
   "cell_type": "code",
   "execution_count": 32,
   "id": "2d64b32d-4f6e-4991-afc0-9957d84e0012",
   "metadata": {},
   "outputs": [
    {
     "name": "stdout",
     "output_type": "stream",
     "text": [
      "[0.79775281 0.78651685 0.84831461 0.76404494 0.81920904]\n",
      "0.8031676506062337\n"
     ]
    }
   ],
   "source": [
    "rf = RandomForestClassifier(random_state=42)\n",
    "\n",
    "cv = cross_val_score(rf, \n",
    "                     X_train, \n",
    "                     y_train, \n",
    "                     cv=5)\n",
    "\n",
    "print(cv)\n",
    "print(cv.mean())"
   ]
  },
  {
   "cell_type": "code",
   "execution_count": 33,
   "id": "a2f23529-3d83-449d-b8c3-293a5c889a6b",
   "metadata": {},
   "outputs": [
    {
     "name": "stdout",
     "output_type": "stream",
     "text": [
      "[0.8258427  0.81460674 0.80337079 0.81460674 0.86440678]\n",
      "0.8245667491906303\n"
     ]
    }
   ],
   "source": [
    "svc = SVC(probability=True)\n",
    "\n",
    "cv = cross_val_score(svc, \n",
    "                     X_train, \n",
    "                     y_train, \n",
    "                     cv=5)\n",
    "\n",
    "print(cv)\n",
    "print(cv.mean())"
   ]
  },
  {
   "cell_type": "code",
   "execution_count": 34,
   "id": "4e6e99a0-14b3-40b1-ad92-9bfa13b769e2",
   "metadata": {},
   "outputs": [
    {
     "name": "stdout",
     "output_type": "stream",
     "text": [
      "[0.79213483 0.81460674 0.84831461 0.79213483 0.86440678]\n",
      "0.8223195581793945\n"
     ]
    }
   ],
   "source": [
    "xgb = XGBClassifier(random_state = 42)\n",
    "\n",
    "cv = cross_val_score(xgb, \n",
    "                     X_train, \n",
    "                     y_train, \n",
    "                     cv=5)\n",
    "\n",
    "print(cv)\n",
    "print(cv.mean())"
   ]
  },
  {
   "cell_type": "code",
   "execution_count": 35,
   "id": "fcfea134-9ec5-473e-8ff2-5dca279515ce",
   "metadata": {},
   "outputs": [
    {
     "name": "stdout",
     "output_type": "stream",
     "text": [
      "[0.80337079 0.79775281 0.84831461 0.78651685 0.85875706]\n",
      "0.8189424236653335\n"
     ]
    }
   ],
   "source": [
    "voting_clf = VotingClassifier(estimators=[\n",
    "                                          ('lr', lr), \n",
    "                                          ('knn', knn), \n",
    "                                          ('rf', rf), \n",
    "                                          ('gnb', gnb), \n",
    "                                          ('dt', dt), \n",
    "                                          ('svc', svc), \n",
    "                                          ('xgb', xgb)],\n",
    "                                          voting='soft'\n",
    "                                          )\n",
    "\n",
    "cv = cross_val_score(voting_clf, X_train, y_train, cv=5)\n",
    "\n",
    "print(cv)\n",
    "print(cv.mean())"
   ]
  },
  {
   "cell_type": "markdown",
   "id": "49b85066-be6f-4183-b4e3-9ef74e8a047d",
   "metadata": {},
   "source": [
    "## Baseline submission of best performing model"
   ]
  },
  {
   "cell_type": "code",
   "execution_count": 36,
   "id": "f0392604-0728-424e-88c9-281322943fc1",
   "metadata": {},
   "outputs": [],
   "source": [
    "voting_clf.fit(X_train, y_train)\n",
    "\n",
    "y_hat_baseline = voting_clf.predict(X_test).astype(int)\n",
    "\n",
    "baseline_submission = {'PassengerId': df_test.PassengerId, 'Survived': y_hat_baseline}\n",
    "\n",
    "baseline_submission = pd.DataFrame(data=baseline_submission)\n",
    "\n",
    "baseline_submission.to_csv('baseline_submission.csv', index=False)"
   ]
  },
  {
   "cell_type": "markdown",
   "id": "03b02f95-ef24-4c16-8ad8-979ef0d4e1b7",
   "metadata": {
    "tags": []
   },
   "source": [
    "# Model Tuning - Hyperparameter GridSearch <a id=\"tuning\"></a>"
   ]
  },
  {
   "cell_type": "code",
   "execution_count": 37,
   "id": "0739a667-5c69-49bc-9faf-f891910f0a12",
   "metadata": {},
   "outputs": [],
   "source": [
    "def model_performance(model, name):\n",
    "    print(name)\n",
    "    print(f'Best Score: {model.best_score_}')\n",
    "    print(f'Best Parameters: {model.best_params_}')    "
   ]
  },
  {
   "cell_type": "code",
   "execution_count": 38,
   "id": "38e9fd4a-737f-49c6-a62f-39fe7c0fa7a1",
   "metadata": {},
   "outputs": [
    {
     "name": "stdout",
     "output_type": "stream",
     "text": [
      "Fitting 5 folds for each of 40 candidates, totalling 200 fits\n",
      "LogisticRegression\n",
      "Best Score: 0.8065638291119152\n",
      "Best Parameters: {'C': 1.623776739188721, 'max_iter': 2000, 'penalty': 'l2', 'solver': 'liblinear'}\n"
     ]
    }
   ],
   "source": [
    "lr = LogisticRegression()\n",
    "\n",
    "parameter_grid = {'max_iter' : [2000],\n",
    "                  'penalty' : ['l1', 'l2'],\n",
    "                  'C' : np.logspace(-4, 4, 20),\n",
    "                  'solver' : ['liblinear'\n",
    "                  ]}\n",
    "\n",
    "lr_model = GridSearchCV(lr, \n",
    "                        param_grid=parameter_grid, \n",
    "                        cv=5, \n",
    "                        verbose=True, \n",
    "                        n_jobs=1)\n",
    "\n",
    "best_lr_model = lr_model.fit(X_train, y_train)\n",
    "\n",
    "model_performance(best_lr_model, 'LogisticRegression')"
   ]
  },
  {
   "cell_type": "code",
   "execution_count": 39,
   "id": "f006eb39-66eb-4e86-a889-f652f9f8f028",
   "metadata": {},
   "outputs": [
    {
     "name": "stdout",
     "output_type": "stream",
     "text": [
      "Fitting 5 folds for each of 48 candidates, totalling 240 fits\n",
      "KNN\n",
      "Best Score: 0.8065257411286739\n",
      "Best Parameters: {'algorithm': 'auto', 'n_neighbors': 5, 'p': 1, 'weights': 'uniform'}\n"
     ]
    }
   ],
   "source": [
    "knn = KNeighborsClassifier()\n",
    "\n",
    "parameter_grid = {'n_neighbors' : [3,5,7,9],\n",
    "                  'weights' : ['uniform', 'distance'],\n",
    "                  'algorithm' : ['auto', 'ball_tree','kd_tree'],\n",
    "                  'p' : [1,2]}\n",
    "\n",
    "knn_model = GridSearchCV(knn, \n",
    "                         param_grid=parameter_grid, \n",
    "                         cv=5, \n",
    "                         verbose=True, \n",
    "                         n_jobs=-1)\n",
    "\n",
    "best_knn_model = knn_model.fit(X_train, y_train)\n",
    "\n",
    "model_performance(best_knn_model, 'KNN')"
   ]
  },
  {
   "cell_type": "code",
   "execution_count": 40,
   "id": "224f0589-41ee-43bb-84a3-2efbe89b67ac",
   "metadata": {},
   "outputs": [
    {
     "name": "stdout",
     "output_type": "stream",
     "text": [
      "Fitting 5 folds for each of 30 candidates, totalling 150 fits\n",
      "SVC\n",
      "Best Score: 0.8290547832158953\n",
      "Best Parameters: {'C': 1, 'gamma': 0.1, 'kernel': 'rbf'}\n"
     ]
    }
   ],
   "source": [
    "svc = SVC(probability=True)\n",
    "\n",
    "parameter_grid = {'kernel': ['rbf'], \n",
    "                   'gamma': [.1,.5,1,2,5,10],\n",
    "                   'C': [.1, 1, 10, 100, 1000]}\n",
    "\n",
    "svc_model = GridSearchCV(svc, \n",
    "                       param_grid=parameter_grid, \n",
    "                       cv=5, \n",
    "                       verbose=True, \n",
    "                       n_jobs=-1)\n",
    "\n",
    "best_svc_model = svc_model.fit(X_train, y_train)\n",
    "\n",
    "model_performance(best_svc_model,'SVC')"
   ]
  },
  {
   "cell_type": "code",
   "execution_count": 41,
   "id": "99e41355-93a0-4804-a76e-838559d10c1d",
   "metadata": {},
   "outputs": [
    {
     "name": "stdout",
     "output_type": "stream",
     "text": [
      "Fitting 5 folds for each of 100 candidates, totalling 500 fits\n",
      "Random Forest\n",
      "Best Score: 0.8301720307243065\n",
      "Best Parameters: {'n_estimators': 100, 'min_samples_split': 5, 'min_samples_leaf': 2, 'max_features': 'sqrt', 'max_depth': 50, 'bootstrap': True}\n"
     ]
    }
   ],
   "source": [
    "rf = RandomForestClassifier(random_state=42)\n",
    "\n",
    "parameter_grid = {'n_estimators': [100,500,1000], \n",
    "                  'bootstrap': [True,False],\n",
    "                  'max_depth': [3,5,10,20,50,75,100,None],\n",
    "                  'max_features': ['auto','sqrt'],\n",
    "                  'min_samples_leaf': [1,2,4,10],\n",
    "                  'min_samples_split': [2,5,10]}\n",
    "                                  \n",
    "rf_model_randomcv = RandomizedSearchCV(rf, \n",
    "                                param_distributions=parameter_grid, \n",
    "                                n_iter=100, \n",
    "                                cv=5, \n",
    "                                verbose=True, \n",
    "                                n_jobs=-1)\n",
    "\n",
    "\n",
    "best_rf_model_randomcv = rf_model_randomcv.fit(X_train, y_train)\n",
    "\n",
    "model_performance(best_rf_model_randomcv, 'Random Forest')"
   ]
  },
  {
   "cell_type": "code",
   "execution_count": 42,
   "id": "3c4fa17b-8338-4e7f-a4f2-530e521aacae",
   "metadata": {},
   "outputs": [
    {
     "name": "stdout",
     "output_type": "stream",
     "text": [
      "Fitting 5 folds for each of 288 candidates, totalling 1440 fits\n",
      "Random Forest\n",
      "Best Score: 0.8346854567383991\n",
      "Best Parameters: {'bootstrap': True, 'criterion': 'gini', 'max_depth': 15, 'max_features': 10, 'min_samples_leaf': 2, 'min_samples_split': 2, 'n_estimators': 550}\n"
     ]
    }
   ],
   "source": [
    "rf = RandomForestClassifier(random_state=42)\n",
    "\n",
    "parameter_grid = {'n_estimators': [400,450,500,550],\n",
    "              'criterion':['gini','entropy'],\n",
    "              'bootstrap': [True],\n",
    "              'max_depth': [15, 20, 25],\n",
    "              'max_features': ['auto','sqrt', 10],\n",
    "              'min_samples_leaf': [2,3],\n",
    "              'min_samples_split': [2,3]}\n",
    "                                  \n",
    "rf_model = GridSearchCV(rf, \n",
    "                      param_grid = parameter_grid, \n",
    "                      cv=5, \n",
    "                      verbose=True, \n",
    "                      n_jobs=-1)\n",
    "\n",
    "best_rf_model = rf_model.fit(X_train, y_train)\n",
    "\n",
    "model_performance(best_rf_model, 'Random Forest')"
   ]
  },
  {
   "cell_type": "code",
   "execution_count": 43,
   "id": "087324b7-9546-4461-afb5-ad086df4324b",
   "metadata": {},
   "outputs": [
    {
     "name": "stdout",
     "output_type": "stream",
     "text": [
      "Fitting 5 folds for each of 288 candidates, totalling 1440 fits\n",
      "[11:49:52] WARNING: C:/buildkite-agent/builds/buildkite-windows-cpu-autoscaling-group-i-030221e36e1a46bfb-1/xgboost/xgboost-ci-windows/src/learner.cc:767: \n",
      "Parameters: { \"bootstrap\", \"criterion\", \"max_features\", \"min_samples_leaf\", \"min_samples_split\" } are not used.\n",
      "\n",
      "XGB\n",
      "Best Score: 0.8099155716371484\n",
      "Best Parameters: {'bootstrap': True, 'criterion': 'gini', 'max_depth': 25, 'max_features': 'auto', 'min_samples_leaf': 2, 'min_samples_split': 2, 'n_estimators': 550}\n"
     ]
    }
   ],
   "source": [
    "%%capture --no-display\n",
    "xgb = XGBClassifier(random_state=42)\n",
    "\n",
    "parametere_grid = {\n",
    "              'n_estimators': [450,500,550],\n",
    "              'colsample_bytree': [0.75,0.8,0.85],\n",
    "              'max_depth': [None],\n",
    "              'reg_alpha': [1],\n",
    "              'reg_lambda': [2, 5, 10],\n",
    "              'subsample': [0.55, 0.6, .65],\n",
    "              'learning_rate':[0.5],\n",
    "              'gamma':[.5,1,2],\n",
    "              'min_child_weight':[0.01],\n",
    "              'sampling_method': ['uniform']}\n",
    "\n",
    "xgb_model = GridSearchCV(xgb, \n",
    "                         param_grid=parameter_grid, \n",
    "                         cv=5, \n",
    "                         verbose=True, \n",
    "                         n_jobs=-1)\n",
    "\n",
    "best_xgb_model = xgb_model.fit(X_train, y_train)\n",
    "\n",
    "model_performance(best_xgb_model, 'XGB')"
   ]
  },
  {
   "cell_type": "code",
   "execution_count": 46,
   "id": "b45c9dfb-d124-4157-bff6-a4dff6bd96dc",
   "metadata": {},
   "outputs": [
    {
     "name": "stdout",
     "output_type": "stream",
     "text": [
      "Fitting 5 folds for each of 288 candidates, totalling 1440 fits\n"
     ]
    }
   ],
   "source": [
    "best_rf_model.fit(X_train, y_train)\n",
    "\n",
    "y_hat_tuned = best_rf_model.predict(X_test).astype(int)\n",
    "\n",
    "tuned_submission = {'PassengerId': df_test.PassengerId, 'Survived': y_hat_tuned}\n",
    "\n",
    "tuned_submission = pd.DataFrame(data=tuned_submission)\n",
    "\n",
    "tuned_submission.to_csv('tuned_submission.csv', index=False)"
   ]
  },
  {
   "cell_type": "markdown",
   "id": "a3d58ad9-8878-49e3-a9e6-ad7ecb0c4d52",
   "metadata": {
    "tags": []
   },
   "source": [
    "# Model performance <a id=\"performance\"></a>"
   ]
  },
  {
   "cell_type": "markdown",
   "id": "bc74c0e7-3935-4540-9aa1-9015af85a106",
   "metadata": {},
   "source": [
    "|Model|Scaled Performance|Scaled and Tuned Performance|\n",
    "|--|--|--|\n",
    "|Naive Bayes| 77.0%| NA|\n",
    "|Logistic Regression| 80.5%| 80.7%|\n",
    "|Decision Tree Classifier| 77.8%| NA|\n",
    "|KNN Classifier| 80.5%|80.7%|\n",
    "|**Random Forest Classifier**| 80.3%| **83.4%**|\n",
    "|Support Vector Classifier| **82.5%**| 82.9%|\n",
    "|Xtreme Gradient Boosting| 82.2%| 81.0%|\n",
    "|Voting Classifier| 81.8%| NA|"
   ]
  },
  {
   "cell_type": "code",
   "execution_count": 51,
   "id": "3481a559-1063-47ed-af96-a9324f0e4bd2",
   "metadata": {
    "collapsed": true,
    "jupyter": {
     "outputs_hidden": true
    },
    "tags": []
   },
   "outputs": [
    {
     "ename": "ValueError",
     "evalue": "Input y_true contains NaN.",
     "output_type": "error",
     "traceback": [
      "\u001b[1;31m---------------------------------------------------------------------------\u001b[0m",
      "\u001b[1;31mValueError\u001b[0m                                Traceback (most recent call last)",
      "Cell \u001b[1;32mIn[51], line 1\u001b[0m\n\u001b[1;32m----> 1\u001b[0m \u001b[38;5;28mprint\u001b[39m(\u001b[43mclassification_report\u001b[49m\u001b[43m(\u001b[49m\u001b[43my_test\u001b[49m\u001b[43m,\u001b[49m\u001b[43m \u001b[49m\u001b[43my_hat_baseline\u001b[49m\u001b[43m)\u001b[49m)\n\u001b[0;32m      3\u001b[0m \u001b[38;5;28mprint\u001b[39m(classification_report(y_test, y_hat_tuned))\n",
      "File \u001b[1;32m~\\OneDrive - NTT DATA Business Solutions\\Projekter\\Machine_Learning_Models\\.venv\\lib\\site-packages\\sklearn\\metrics\\_classification.py:2310\u001b[0m, in \u001b[0;36mclassification_report\u001b[1;34m(y_true, y_pred, labels, target_names, sample_weight, digits, output_dict, zero_division)\u001b[0m\n\u001b[0;32m   2195\u001b[0m \u001b[38;5;28;01mdef\u001b[39;00m \u001b[38;5;21mclassification_report\u001b[39m(\n\u001b[0;32m   2196\u001b[0m     y_true,\n\u001b[0;32m   2197\u001b[0m     y_pred,\n\u001b[1;32m   (...)\u001b[0m\n\u001b[0;32m   2204\u001b[0m     zero_division\u001b[38;5;241m=\u001b[39m\u001b[38;5;124m\"\u001b[39m\u001b[38;5;124mwarn\u001b[39m\u001b[38;5;124m\"\u001b[39m,\n\u001b[0;32m   2205\u001b[0m ):\n\u001b[0;32m   2206\u001b[0m     \u001b[38;5;124;03m\"\"\"Build a text report showing the main classification metrics.\u001b[39;00m\n\u001b[0;32m   2207\u001b[0m \n\u001b[0;32m   2208\u001b[0m \u001b[38;5;124;03m    Read more in the :ref:`User Guide <classification_report>`.\u001b[39;00m\n\u001b[1;32m   (...)\u001b[0m\n\u001b[0;32m   2307\u001b[0m \u001b[38;5;124;03m    <BLANKLINE>\u001b[39;00m\n\u001b[0;32m   2308\u001b[0m \u001b[38;5;124;03m    \"\"\"\u001b[39;00m\n\u001b[1;32m-> 2310\u001b[0m     y_type, y_true, y_pred \u001b[38;5;241m=\u001b[39m \u001b[43m_check_targets\u001b[49m\u001b[43m(\u001b[49m\u001b[43my_true\u001b[49m\u001b[43m,\u001b[49m\u001b[43m \u001b[49m\u001b[43my_pred\u001b[49m\u001b[43m)\u001b[49m\n\u001b[0;32m   2312\u001b[0m     \u001b[38;5;28;01mif\u001b[39;00m labels \u001b[38;5;129;01mis\u001b[39;00m \u001b[38;5;28;01mNone\u001b[39;00m:\n\u001b[0;32m   2313\u001b[0m         labels \u001b[38;5;241m=\u001b[39m unique_labels(y_true, y_pred)\n",
      "File \u001b[1;32m~\\OneDrive - NTT DATA Business Solutions\\Projekter\\Machine_Learning_Models\\.venv\\lib\\site-packages\\sklearn\\metrics\\_classification.py:87\u001b[0m, in \u001b[0;36m_check_targets\u001b[1;34m(y_true, y_pred)\u001b[0m\n\u001b[0;32m     60\u001b[0m \u001b[38;5;124;03m\"\"\"Check that y_true and y_pred belong to the same classification task.\u001b[39;00m\n\u001b[0;32m     61\u001b[0m \n\u001b[0;32m     62\u001b[0m \u001b[38;5;124;03mThis converts multiclass or binary types to a common shape, and raises a\u001b[39;00m\n\u001b[1;32m   (...)\u001b[0m\n\u001b[0;32m     84\u001b[0m \u001b[38;5;124;03my_pred : array or indicator matrix\u001b[39;00m\n\u001b[0;32m     85\u001b[0m \u001b[38;5;124;03m\"\"\"\u001b[39;00m\n\u001b[0;32m     86\u001b[0m check_consistent_length(y_true, y_pred)\n\u001b[1;32m---> 87\u001b[0m type_true \u001b[38;5;241m=\u001b[39m \u001b[43mtype_of_target\u001b[49m\u001b[43m(\u001b[49m\u001b[43my_true\u001b[49m\u001b[43m,\u001b[49m\u001b[43m \u001b[49m\u001b[43minput_name\u001b[49m\u001b[38;5;241;43m=\u001b[39;49m\u001b[38;5;124;43m\"\u001b[39;49m\u001b[38;5;124;43my_true\u001b[39;49m\u001b[38;5;124;43m\"\u001b[39;49m\u001b[43m)\u001b[49m\n\u001b[0;32m     88\u001b[0m type_pred \u001b[38;5;241m=\u001b[39m type_of_target(y_pred, input_name\u001b[38;5;241m=\u001b[39m\u001b[38;5;124m\"\u001b[39m\u001b[38;5;124my_pred\u001b[39m\u001b[38;5;124m\"\u001b[39m)\n\u001b[0;32m     90\u001b[0m y_type \u001b[38;5;241m=\u001b[39m {type_true, type_pred}\n",
      "File \u001b[1;32m~\\OneDrive - NTT DATA Business Solutions\\Projekter\\Machine_Learning_Models\\.venv\\lib\\site-packages\\sklearn\\utils\\multiclass.py:358\u001b[0m, in \u001b[0;36mtype_of_target\u001b[1;34m(y, input_name)\u001b[0m\n\u001b[0;32m    356\u001b[0m     data \u001b[38;5;241m=\u001b[39m y\u001b[38;5;241m.\u001b[39mdata \u001b[38;5;28;01mif\u001b[39;00m issparse(y) \u001b[38;5;28;01melse\u001b[39;00m y\n\u001b[0;32m    357\u001b[0m     \u001b[38;5;28;01mif\u001b[39;00m xp\u001b[38;5;241m.\u001b[39many(data \u001b[38;5;241m!=\u001b[39m data\u001b[38;5;241m.\u001b[39mastype(\u001b[38;5;28mint\u001b[39m)):\n\u001b[1;32m--> 358\u001b[0m         \u001b[43m_assert_all_finite\u001b[49m\u001b[43m(\u001b[49m\u001b[43mdata\u001b[49m\u001b[43m,\u001b[49m\u001b[43m \u001b[49m\u001b[43minput_name\u001b[49m\u001b[38;5;241;43m=\u001b[39;49m\u001b[43minput_name\u001b[49m\u001b[43m)\u001b[49m\n\u001b[0;32m    359\u001b[0m         \u001b[38;5;28;01mreturn\u001b[39;00m \u001b[38;5;124m\"\u001b[39m\u001b[38;5;124mcontinuous\u001b[39m\u001b[38;5;124m\"\u001b[39m \u001b[38;5;241m+\u001b[39m suffix\n\u001b[0;32m    361\u001b[0m \u001b[38;5;66;03m# Check multiclass\u001b[39;00m\n",
      "File \u001b[1;32m~\\OneDrive - NTT DATA Business Solutions\\Projekter\\Machine_Learning_Models\\.venv\\lib\\site-packages\\sklearn\\utils\\validation.py:161\u001b[0m, in \u001b[0;36m_assert_all_finite\u001b[1;34m(X, allow_nan, msg_dtype, estimator_name, input_name)\u001b[0m\n\u001b[0;32m    144\u001b[0m \u001b[38;5;28;01mif\u001b[39;00m estimator_name \u001b[38;5;129;01mand\u001b[39;00m input_name \u001b[38;5;241m==\u001b[39m \u001b[38;5;124m\"\u001b[39m\u001b[38;5;124mX\u001b[39m\u001b[38;5;124m\"\u001b[39m \u001b[38;5;129;01mand\u001b[39;00m has_nan_error:\n\u001b[0;32m    145\u001b[0m     \u001b[38;5;66;03m# Improve the error message on how to handle missing values in\u001b[39;00m\n\u001b[0;32m    146\u001b[0m     \u001b[38;5;66;03m# scikit-learn.\u001b[39;00m\n\u001b[0;32m    147\u001b[0m     msg_err \u001b[38;5;241m+\u001b[39m\u001b[38;5;241m=\u001b[39m (\n\u001b[0;32m    148\u001b[0m         \u001b[38;5;124mf\u001b[39m\u001b[38;5;124m\"\u001b[39m\u001b[38;5;130;01m\\n\u001b[39;00m\u001b[38;5;132;01m{\u001b[39;00mestimator_name\u001b[38;5;132;01m}\u001b[39;00m\u001b[38;5;124m does not accept missing values\u001b[39m\u001b[38;5;124m\"\u001b[39m\n\u001b[0;32m    149\u001b[0m         \u001b[38;5;124m\"\u001b[39m\u001b[38;5;124m encoded as NaN natively. For supervised learning, you might want\u001b[39m\u001b[38;5;124m\"\u001b[39m\n\u001b[1;32m   (...)\u001b[0m\n\u001b[0;32m    159\u001b[0m         \u001b[38;5;124m\"\u001b[39m\u001b[38;5;124m#estimators-that-handle-nan-values\u001b[39m\u001b[38;5;124m\"\u001b[39m\n\u001b[0;32m    160\u001b[0m     )\n\u001b[1;32m--> 161\u001b[0m \u001b[38;5;28;01mraise\u001b[39;00m \u001b[38;5;167;01mValueError\u001b[39;00m(msg_err)\n",
      "\u001b[1;31mValueError\u001b[0m: Input y_true contains NaN."
     ]
    }
   ],
   "source": [
    "#print(classification_report(y_test, y_hat_baseline))\n",
    "\n",
    "#print(classification_report(y_test, y_hat_tuned))"
   ]
  },
  {
   "cell_type": "markdown",
   "id": "ff9693cc-6b04-41c2-9a25-68e53891c3bf",
   "metadata": {},
   "source": [
    "## Submissions"
   ]
  },
  {
   "cell_type": "code",
   "execution_count": 88,
   "id": "ade79058-0893-4437-bd4f-d4b9ad1ac2f5",
   "metadata": {},
   "outputs": [
    {
     "data": {
      "text/html": [
       "<a href='baseline_submission.csv' target='_blank'>baseline_submission.csv</a><br>"
      ],
      "text/plain": [
       "C:\\Users\\10122055\\OneDrive - NTT DATA Business Solutions\\Projekter\\Machine_Learning_Models\\Models\\Kaggle\\Titanic - Machine Learning from Disaster\\baseline_submission.csv"
      ]
     },
     "execution_count": 88,
     "metadata": {},
     "output_type": "execute_result"
    }
   ],
   "source": [
    "FileLink(r'baseline_submission.csv')"
   ]
  },
  {
   "cell_type": "code",
   "execution_count": 87,
   "id": "6b88f7bb-e603-4322-a80f-02cdaeabf95f",
   "metadata": {},
   "outputs": [
    {
     "data": {
      "text/html": [
       "<a href='tuned_submission.csv' target='_blank'>tuned_submission.csv</a><br>"
      ],
      "text/plain": [
       "C:\\Users\\10122055\\OneDrive - NTT DATA Business Solutions\\Projekter\\Machine_Learning_Models\\Models\\Kaggle\\Titanic - Machine Learning from Disaster\\tuned_submission.csv"
      ]
     },
     "execution_count": 87,
     "metadata": {},
     "output_type": "execute_result"
    }
   ],
   "source": [
    "FileLink(r'tuned_submission.csv')"
   ]
  },
  {
   "cell_type": "code",
   "execution_count": null,
   "id": "882dddb8-9bc6-44ca-89af-cfd70b2f6d0f",
   "metadata": {},
   "outputs": [],
   "source": []
  }
 ],
 "metadata": {
  "kernelspec": {
   "display_name": "Python 3 (ipykernel)",
   "language": "python",
   "name": "python3"
  },
  "language_info": {
   "codemirror_mode": {
    "name": "ipython",
    "version": 3
   },
   "file_extension": ".py",
   "mimetype": "text/x-python",
   "name": "python",
   "nbconvert_exporter": "python",
   "pygments_lexer": "ipython3",
   "version": "3.10.7"
  }
 },
 "nbformat": 4,
 "nbformat_minor": 5
}
