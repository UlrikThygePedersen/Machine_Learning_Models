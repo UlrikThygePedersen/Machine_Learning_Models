{
 "cells": [
  {
   "cell_type": "code",
   "execution_count": null,
   "id": "09c48aeb-7d15-41b4-a7b7-78c0ec4df492",
   "metadata": {},
   "outputs": [],
   "source": [
    "import pandas as pd\n",
    "import numpy as np\n",
    "import matplotlib.pyplot as plt\n",
    "import seaborn as sns\n",
    "sns.set_palette(\"YlGnBu\")"
   ]
  },
  {
   "cell_type": "code",
   "execution_count": null,
   "id": "26377d5f-85dd-4bb0-8d79-62e094054728",
   "metadata": {},
   "outputs": [],
   "source": [
    "df_train = pd.read_csv('train.csv')\n",
    "df_test = pd.read_csv('test.csv')\n",
    "df_gender_submission = pd.read_csv('gender_submission.csv')\n",
    "\n",
    "df_train['train_test'] = 1\n",
    "df_test['train_test'] = 0\n",
    "df_test['Survived'] = np.NaN\n",
    "\n",
    "df_all = pd.concat([df_train, df_test])\n",
    "\n",
    "df_all.columns"
   ]
  },
  {
   "cell_type": "code",
   "execution_count": null,
   "id": "599e0e48-6210-4faf-a7c1-a581246b4ce4",
   "metadata": {},
   "outputs": [],
   "source": [
    "# train set\n",
    "\n",
    "df_train"
   ]
  },
  {
   "cell_type": "code",
   "execution_count": null,
   "id": "84eebfcd-699c-44f4-95c1-7c1e2c8a886e",
   "metadata": {},
   "outputs": [],
   "source": [
    "# test set\n",
    "\n",
    "df_test"
   ]
  },
  {
   "cell_type": "code",
   "execution_count": null,
   "id": "8edc664c-cd34-454a-81fe-1722378e6f21",
   "metadata": {},
   "outputs": [],
   "source": [
    "# sample submission\n",
    "\n",
    "df_gender_submission"
   ]
  },
  {
   "cell_type": "markdown",
   "id": "28f076c2-c8a4-4453-85e7-8fe125164ab8",
   "metadata": {},
   "source": [
    "# Exploratory Data Analysis"
   ]
  },
  {
   "cell_type": "code",
   "execution_count": null,
   "id": "ed9ea720-2f65-491d-b64e-9cf20b03f5da",
   "metadata": {},
   "outputs": [],
   "source": [
    "# train data\n",
    "\n",
    "train_columns = []\n",
    "\n",
    "train_columns.extend(df_train.columns)\n",
    "\n",
    "print(f'Loaded train dataset with shape {df_train.shape} ({df_train.shape[0]} rows and {df_train.shape[1]} columns) and column names: \\n{train_columns}')\n",
    "\n",
    "test_columns = []\n",
    "\n",
    "test_columns.extend(df_test.columns)\n",
    "\n",
    "print(f'\\nLoaded test dataset with shape {df_test.shape} ({df_test.shape[0]} rows and {df_test.shape[1]} columns) and column names: \\n{test_columns}')\n",
    "\n",
    "gender_submission_columns = []\n",
    "\n",
    "gender_submission_columns.extend(df_gender_submission.columns)\n",
    "\n",
    "print(f'\\nLoaded sample submission dataset with shape {df_gender_submission.shape} ({df_gender_submission.shape[0]} rows and {df_gender_submission.shape[1]} columns) and column names: \\n{gender_submission_columns}')"
   ]
  },
  {
   "cell_type": "markdown",
   "id": "f3664664-cfb8-4274-bcd8-34f558948eec",
   "metadata": {},
   "source": [
    "## Train dataset"
   ]
  },
  {
   "cell_type": "code",
   "execution_count": null,
   "id": "7b2fef36-64d9-4649-8564-77f39881152c",
   "metadata": {},
   "outputs": [],
   "source": [
    "df_train.head()"
   ]
  },
  {
   "cell_type": "code",
   "execution_count": null,
   "id": "7944e391-c21a-4faf-ae17-d0facddf7c6c",
   "metadata": {},
   "outputs": [],
   "source": [
    "df_train.info()"
   ]
  },
  {
   "cell_type": "code",
   "execution_count": null,
   "id": "a0a60028-3664-4068-a3d7-c6657255e3fb",
   "metadata": {},
   "outputs": [],
   "source": [
    "df_train.describe()"
   ]
  },
  {
   "cell_type": "markdown",
   "id": "563af994-9799-4276-a94f-1bf656c2811d",
   "metadata": {},
   "source": [
    "## Survival ratio"
   ]
  },
  {
   "cell_type": "code",
   "execution_count": null,
   "id": "2f59a7cc-b53b-44dd-9677-b600dfe889ce",
   "metadata": {},
   "outputs": [],
   "source": [
    "df_survived = df_train['Survived']\n",
    "\n",
    "print(f'There were {df_survived.value_counts()[1]} survivors and {df_survived.value_counts()[0]} mortalities in the train set.')\n",
    "print(f'Making the chance of survival {df_survived.value_counts()[1] / (df_survived.value_counts()[1] + df_survived.value_counts()[0]) * 100}%')\n",
    "\n",
    "sns.countplot(x = df_survived)\n",
    "plt.title('Distribution of survival or mortality')\n",
    "plt.show()"
   ]
  },
  {
   "cell_type": "markdown",
   "id": "89a9f421-56e6-417e-aad1-8238d3d33ba8",
   "metadata": {},
   "source": [
    "## Name"
   ]
  },
  {
   "cell_type": "code",
   "execution_count": null,
   "id": "8048d2df-c9f2-47b3-a0a7-c7b90e027041",
   "metadata": {},
   "outputs": [],
   "source": [
    "# Extract titles\n",
    "\n",
    "df_train['Title'] = df_train['Name'].str.split(',', expand=True)[1].str.split('.', expand=True)[0]\n",
    "\n",
    "#df_train['Title'] = df_train['Title'].str.split('.', expand=True)[0]\n",
    "\n",
    "#df_train['Title'] = df_train['Title'].astype('string')\n",
    "\n",
    "# List most frequent titles\n",
    "\n",
    "titles = df_train['Title'].value_counts()[0:6]\n",
    "\n",
    "print(titles)\n",
    "\n",
    "for title in ['Mr']:\n",
    "    print(f\"Survival ratio for {title}: {df_train[df_train['Title'] == title]['Survived'].mean()}\")"
   ]
  },
  {
   "cell_type": "code",
   "execution_count": null,
   "id": "7e6f48fa-c471-44a1-9211-92a4036d8c62",
   "metadata": {},
   "outputs": [],
   "source": [
    "(df_train['Title'].value_counts()\n",
    "                .to_frame()\n",
    "                .reset_index()\n",
    "                .iloc[:6]\n",
    "                .rename(columns={'index':'Title', 'Title':'Frequency'}))"
   ]
  },
  {
   "cell_type": "markdown",
   "id": "0ab7d5f9-5eef-4002-aa34-95259f6ad604",
   "metadata": {},
   "source": [
    "## Ticket Class"
   ]
  },
  {
   "cell_type": "code",
   "execution_count": null,
   "id": "a2fdfb94-a0c4-4308-99e0-5cc76163aaf0",
   "metadata": {},
   "outputs": [],
   "source": [
    "df_pclass = df_train['Pclass']\n",
    "\n",
    "print('Passengers were split into three Ticket Classes and hereby the placement on the ship deck:')\n",
    "print(f'There were {df_pclass.value_counts().sort_index()[1]} people on the upper deck.') \n",
    "print(f'There were {df_pclass.value_counts().sort_index()[2]} people on the middle deck.') \n",
    "print(f'There were {df_pclass.value_counts().sort_index()[3]} people on the lower deck')\n",
    "\n",
    "sns.countplot(x = df_pclass)\n",
    "plt.title('Distribution of ticket classes')\n",
    "plt.show()"
   ]
  },
  {
   "cell_type": "markdown",
   "id": "c2d44c06-7461-4443-9d20-8ff76688ece7",
   "metadata": {},
   "source": [
    "## Passenger sex"
   ]
  },
  {
   "cell_type": "code",
   "execution_count": null,
   "id": "1b74c30f-3d0c-4476-9bee-cef4048d09e3",
   "metadata": {},
   "outputs": [],
   "source": [
    "df_sex = df_train['Sex']\n",
    "print(f'There were {df_sex.value_counts().sort_index()[1]} males aboard.') \n",
    "print(f'There were {df_sex.value_counts().sort_index()[0]} females aboard.') \n",
    "\n",
    "sns.countplot(x = df_sex)\n",
    "plt.title('Distribution of passenger sex')\n",
    "plt.show()"
   ]
  },
  {
   "cell_type": "markdown",
   "id": "73d06543-38b6-4ec0-a8f0-540256388efd",
   "metadata": {},
   "source": [
    "## Passenger age"
   ]
  },
  {
   "cell_type": "code",
   "execution_count": null,
   "id": "ae24c08e-456c-4219-9f7c-baf2af3bdb63",
   "metadata": {},
   "outputs": [],
   "source": [
    "df_age = df_train['Age']\n",
    "print(f'There were {np.count_nonzero(df_age < 25)} passenges under the age of 25.') \n",
    "print(f'There were {np.count_nonzero((df_age >= 25) & (df_age <= 65))} passengers between the age of 25 and 65.') \n",
    "print(f'There were {np.count_nonzero(df_age > 65)} passenges older than 65.') \n",
    "\n",
    "\n",
    "sns.histplot(data = df_age)\n",
    "plt.title('Distribution of passenger age')\n",
    "plt.show()"
   ]
  },
  {
   "cell_type": "markdown",
   "id": "6a2d4086-2a55-48d1-bd6a-7ec926c3f940",
   "metadata": {},
   "source": [
    "## Number of siblings/spouses"
   ]
  },
  {
   "cell_type": "code",
   "execution_count": null,
   "id": "672f3d79-a469-4b2d-af53-e67b905695f7",
   "metadata": {},
   "outputs": [],
   "source": [
    "df_sibsp = df_train['SibSp']\n",
    "print(f'There were {df_sibsp.value_counts().sort_index()[0]} passengers with no siblings or spouses.')\n",
    "\n",
    "sns.countplot(x = df_sibsp)\n",
    "plt.title('Distribution of number of siblings/spouses aboard')\n",
    "plt.show()"
   ]
  },
  {
   "cell_type": "markdown",
   "id": "f1f51fcb-d902-4597-9409-010415450426",
   "metadata": {},
   "source": [
    "## Number of parents/children"
   ]
  },
  {
   "cell_type": "code",
   "execution_count": null,
   "id": "661dc7ae-c1e4-43bb-a3f1-c193c8d58a4c",
   "metadata": {},
   "outputs": [],
   "source": [
    "df_parch = df_train['Parch']\n",
    "print(f'There were {df_parch.value_counts().sort_index()[0]} passengers with no parents or children.')\n",
    "\n",
    "sns.countplot(x = df_parch)\n",
    "plt.title('Distribution of number of parents/children aboard')\n",
    "plt.show()"
   ]
  },
  {
   "cell_type": "markdown",
   "id": "0ac96dcb-3461-4a4f-8792-d355525ba107",
   "metadata": {},
   "source": [
    "## Tickets"
   ]
  },
  {
   "cell_type": "code",
   "execution_count": null,
   "id": "8be882ff-b722-4fc7-a280-a9b8ee6f2229",
   "metadata": {},
   "outputs": [],
   "source": [
    "df_ticket = df_train['Ticket']\n",
    "#print(f'There were {np.count_nonzero(df_fare < 10)} passengers payed less than 10 dollars for their ticket.') \n",
    "#print(f'There were {np.count_nonzero((df_fare >= 10) & (df_fare <= 50))} passengers payed between 10 and 50 dollars for their ticket.') \n",
    "#print(f'There were {np.count_nonzero(df_fare > 50)} passengers payed more than 50 dollars for their ticket.') \n",
    "\n",
    "\n",
    "sns.histplot(data = df_ticket.value_counts())\n",
    "plt.title('Distribution of people per ticket')\n",
    "plt.show()"
   ]
  },
  {
   "cell_type": "markdown",
   "id": "f703364e-60d9-4fda-83b2-16df547b16f4",
   "metadata": {},
   "source": [
    "## Fare"
   ]
  },
  {
   "cell_type": "code",
   "execution_count": null,
   "id": "7064e802-3faf-48d9-a409-48e97b44fa56",
   "metadata": {},
   "outputs": [],
   "source": [
    "df_fare = df_train['Fare']\n",
    "print(f'There were {np.count_nonzero(df_fare < 10)} passengers payed less than 10 dollars for their ticket.') \n",
    "print(f'There were {np.count_nonzero((df_fare >= 10) & (df_fare <= 50))} passengers payed between 10 and 50 dollars for their ticket.') \n",
    "print(f'There were {np.count_nonzero(df_fare > 50)} passengers payed more than 50 dollars for their ticket.') \n",
    "\n",
    "\n",
    "sns.histplot(data = df_fare)\n",
    "plt.title('Distribution of fares')\n",
    "plt.show()"
   ]
  },
  {
   "cell_type": "markdown",
   "id": "650608f0-5e36-4504-82b8-557fd8ef9f78",
   "metadata": {},
   "source": [
    "## Cabin"
   ]
  },
  {
   "cell_type": "code",
   "execution_count": null,
   "id": "963fffe5-8425-469e-9462-13cd6e366371",
   "metadata": {},
   "outputs": [],
   "source": [
    "df_cabin = df_train['Cabin']\n",
    "df_cabin = df_cabin.apply(lambda x: 1 if not pd.isnull(x) else 0)\n",
    "print(f'There were {df_cabin.value_counts().sort_index()[1]} passengers who had a cabin.') \n",
    "print(f'There were {df_cabin.value_counts().sort_index()[0]} passengers who did not have a cabin.') \n",
    "\n",
    "sns.countplot(x = df_cabin)\n",
    "plt.title('Distribution of number of passengers with a cabin')\n",
    "plt.show()"
   ]
  },
  {
   "cell_type": "markdown",
   "id": "3682af28-7eb4-4aaf-9c6c-19fa8e24e118",
   "metadata": {},
   "source": [
    "## Port of Embarkation"
   ]
  },
  {
   "cell_type": "code",
   "execution_count": null,
   "id": "bd97e2d4-6197-41a0-8316-b5a87b6ec31b",
   "metadata": {},
   "outputs": [],
   "source": [
    "df_port = df_train['Embarked']\n",
    "print(f'There were {df_port.value_counts().sort_index()[2]} passengers boarding the ship at Southampton.') \n",
    "print(f'There were {df_port.value_counts().sort_index()[0]} passengers boarding the ship at Cherbourg.') \n",
    "print(f'There were {df_port.value_counts().sort_index()[1]} passengers boarding the ship at Queenstown.') \n",
    "\n",
    "sns.countplot(x = df_port)\n",
    "plt.title('Distribution of number of passengers with a cabin')\n",
    "plt.show()"
   ]
  },
  {
   "cell_type": "markdown",
   "id": "5bb9e7a7-9c84-46f6-ab6a-13930e4acd8a",
   "metadata": {},
   "source": [
    "## Survival rate factors"
   ]
  },
  {
   "cell_type": "code",
   "execution_count": null,
   "id": "656a42f4-359c-45b2-9aff-ffc779448e66",
   "metadata": {},
   "outputs": [],
   "source": [
    "sns.catplot(data=df_train, x=\"Sex\", y=\"Survived\", hue=\"Pclass\", kind=\"bar\")\n",
    "plt.title('Survival rate based on sex and passanger class')\n",
    "plt.show()"
   ]
  },
  {
   "cell_type": "markdown",
   "id": "47bb30b1-eb49-42f5-a320-386a0e0388c5",
   "metadata": {},
   "source": [
    "# Feature selection"
   ]
  },
  {
   "cell_type": "code",
   "execution_count": null,
   "id": "8bd3f918-a4df-4ec9-a638-7a1e7d8e8064",
   "metadata": {},
   "outputs": [],
   "source": [
    "# change cabin names and numbers to cabin yes or no\n",
    "\n",
    "df_train['Cabin'] = df_train['Cabin'].apply(lambda x: 1 if not pd.isnull(x) else 0)\n",
    "\n",
    "# change male/female to 0 and 1\n",
    "\n",
    "df_train.loc[df_train['Sex'] == 'male', 'Sex'] = 0\n",
    "df_train.loc[df_train['Sex'] == 'female', 'Sex'] = 1\n",
    "\n",
    "# One-Hot encode Embarkation (done with pd.get_dummies() further down)\n",
    "\n",
    "df_train.loc[df_train['Embarked'] == 'S', 'embarked_Southampton'] = 1\n",
    "df_train.loc[df_train['Embarked'] == 'C', 'embarked_Cherbough'] = 1\n",
    "df_train.loc[df_train['Embarked'] == 'Q', 'embarked_Queenstown'] = 1\n",
    "\n",
    "df_train = df_train.drop('Embarked', axis = 1)\n",
    "\n",
    "df_train = df_train.replace(np.nan, 0)"
   ]
  },
  {
   "cell_type": "code",
   "execution_count": null,
   "id": "183b92f3-a481-4e6d-85b3-da49de5e48da",
   "metadata": {},
   "outputs": [],
   "source": [
    "# Corelation matrix of numerical categories\n",
    "(df_train[[\n",
    "    'PassengerId', \n",
    "    'Survived', \n",
    "    'Age',\n",
    "    'SibSp',\n",
    "    'Parch',\n",
    "    'Fare',\n",
    "    'Cabin',\n",
    "    'Pclass',\n",
    "    'embarked_Southampton',\n",
    "    'embarked_Cherbough',\n",
    "    'embarked_Queenstown']].corr())"
   ]
  },
  {
   "cell_type": "code",
   "execution_count": null,
   "id": "83e14321-6b4a-40ca-a393-3688586db53a",
   "metadata": {},
   "outputs": [],
   "source": [
    "# Heatmap of correlation matrix for training data columns\n",
    "\n",
    "fig, ax = plt.subplots(figsize=(12,8)) \n",
    "\n",
    "sns.heatmap((df_train[[\n",
    "            'PassengerId', \n",
    "            'Survived', \n",
    "            'Age',\n",
    "            'SibSp',\n",
    "            'Parch',\n",
    "            'Fare',\n",
    "            'Cabin',\n",
    "            'Pclass',\n",
    "            'embarked_Southampton',\n",
    "            'embarked_Cherbough',\n",
    "            'embarked_Queenstown'\n",
    "            ]].corr()),\n",
    "            linewidths=1,\n",
    "            cmap=plt.cm.Blues, \n",
    "            annot=True,\n",
    "            ax=ax)\n",
    "\n",
    "plt.title('Heatmap for correlation between columns of training data')"
   ]
  },
  {
   "cell_type": "code",
   "execution_count": null,
   "id": "342c7f66-aaff-4670-8d03-c32e7845dedb",
   "metadata": {},
   "outputs": [],
   "source": []
  },
  {
   "cell_type": "markdown",
   "id": "4e6e5269-15c1-40d3-9495-1523afe860bd",
   "metadata": {},
   "source": [
    "# Final Processing"
   ]
  },
  {
   "cell_type": "code",
   "execution_count": null,
   "id": "257c3a99-a2e3-4b2b-bf90-53b6318d4826",
   "metadata": {},
   "outputs": [],
   "source": [
    "df_all.head()"
   ]
  },
  {
   "cell_type": "code",
   "execution_count": null,
   "id": "9287fdba-22e0-43b1-ac75-456271a4d0e5",
   "metadata": {},
   "outputs": [],
   "source": [
    "# drop null the two null Embarked values\n",
    "df_all.dropna(subset=['Embarked'],inplace = True)\n",
    "\n",
    "# change cabin names and numbers to cabin yes or no\n",
    "\n",
    "df_all['Cabin'] = df_all['Cabin'].apply(lambda x: 1 if not pd.isnull(x) else 0)\n",
    "\n",
    "# change male/female to 0 and 1\n",
    "\n",
    "df_all.loc[df_all['Sex'] == 'male', 'Sex'] = 0\n",
    "df_all.loc[df_all['Sex'] == 'female', 'Sex'] = 1\n",
    "\n",
    "# extract titles\n",
    "\n",
    "df_all['Title'] = df_all['Name'].str.split(',', expand=True)[1].str.split('.', expand=True)[0]\n",
    "\n",
    "df_all = (df_all.drop([\n",
    "                    'PassengerId',\n",
    "                    'Name',\n",
    "                    'Title',\n",
    "                    'Ticket',\n",
    "                    'Name'],\n",
    "                    axis = 1\n",
    "                    ))\n",
    "\n",
    "df_all['Pclass'] = df_all['Pclass'].astype(str)\n",
    "\n",
    "df_all_dummies = pd.get_dummies(df_all[['Pclass', 'Sex', 'Age', 'SibSp', 'Parch', 'Fare', 'Cabin', 'Embarked', 'train_test']])\n",
    "\n",
    "X_train = df_all_dummies[df_all_dummies.train_test == 1].drop(['train_test'], axis =1)\n",
    "X_test = df_all_dummies[df_all_dummies.train_test == 0].drop(['train_test'], axis =1)\n",
    "\n",
    "y_train = df_all[df_all['train_test'] == 1]['Survived']\n",
    "\n",
    "print(f'{X_train.shape}, {X_test.shape}, {y_train.shape}')"
   ]
  },
  {
   "cell_type": "code",
   "execution_count": null,
   "id": "219fa3b0-ccf1-453a-94c9-dafc102e8ced",
   "metadata": {},
   "outputs": [],
   "source": []
  },
  {
   "cell_type": "code",
   "execution_count": null,
   "id": "ceae69f5-2c13-44c5-8efa-2953fb26ef57",
   "metadata": {},
   "outputs": [],
   "source": []
  },
  {
   "cell_type": "markdown",
   "id": "0ee5a616-776b-497b-a258-f3f8c1186525",
   "metadata": {},
   "source": [
    "# Model"
   ]
  },
  {
   "cell_type": "code",
   "execution_count": null,
   "id": "2e65ec2b-06c4-4964-82e7-c6f5c5f4acac",
   "metadata": {},
   "outputs": [],
   "source": [
    "from sklearn.model_selection import cross_val_score\n",
    "from sklearn.naive_bayes import GaussianNB\n",
    "from sklearn.linear_model import LogisticRegression\n",
    "from sklearn import tree\n",
    "from sklearn.neighbors import KNeighborsClassifier\n",
    "from sklearn.ensemble import RandomForestClassifier\n",
    "from sklearn.svm import SVC\n",
    "from xgboost import XGBClassifier\n",
    "from sklearn.ensemble import VotingClassifier"
   ]
  },
  {
   "cell_type": "markdown",
   "id": "189c7a61-063d-4a7b-b028-ab4ac0817c7b",
   "metadata": {},
   "source": [
    "## Naive Bayes"
   ]
  },
  {
   "cell_type": "code",
   "execution_count": null,
   "id": "3fcf3f8e-0968-4f54-a1f5-e7b603180070",
   "metadata": {},
   "outputs": [],
   "source": [
    "gnb = GaussianNB()\n",
    "\n",
    "cv = cross_val_score(gnb, \n",
    "                     X_train, \n",
    "                     y_train, \n",
    "                     cv=5)\n",
    "\n",
    "print(cv)\n",
    "print(cv.mean())"
   ]
  },
  {
   "cell_type": "code",
   "execution_count": null,
   "id": "e42ab798-43f5-406f-aca3-f6d7fc15bc28",
   "metadata": {},
   "outputs": [],
   "source": [
    "lr = LogisticRegression(max_iter=2000)\n",
    "\n",
    "cv = cross_val_score(lr, \n",
    "                     X_train, \n",
    "                     y_train, \n",
    "                     cv=5)\n",
    "\n",
    "print(cv)\n",
    "print(cv.mean())"
   ]
  },
  {
   "cell_type": "code",
   "execution_count": null,
   "id": "c5d7c672-bbd8-4a5d-af38-185a2e5fe3a6",
   "metadata": {},
   "outputs": [],
   "source": [
    "dt = tree.DecisionTreeClassifier(random_state=42)\n",
    "\n",
    "cv = cross_val_score(dt, \n",
    "                     X_train, \n",
    "                     y_train, \n",
    "                     cv=5)\n",
    "\n",
    "print(cv)\n",
    "print(cv.mean())"
   ]
  },
  {
   "cell_type": "code",
   "execution_count": null,
   "id": "b15a57fc-d852-4110-b776-60b3f5794603",
   "metadata": {},
   "outputs": [],
   "source": [
    "knn = KNeighborsClassifier()\n",
    "\n",
    "cv = cross_val_score(knn, \n",
    "                     X_train, \n",
    "                     y_train, \n",
    "                     cv=5)\n",
    "\n",
    "print(cv)\n",
    "print(cv.mean())"
   ]
  },
  {
   "cell_type": "code",
   "execution_count": null,
   "id": "2d64b32d-4f6e-4991-afc0-9957d84e0012",
   "metadata": {},
   "outputs": [],
   "source": [
    "rf = RandomForestClassifier()\n",
    "\n",
    "cv = cross_val_score(rf, \n",
    "                     X_train, \n",
    "                     y_train, \n",
    "                     cv=5)\n",
    "\n",
    "print(cv)\n",
    "print(cv.mean())"
   ]
  },
  {
   "cell_type": "code",
   "execution_count": null,
   "id": "a2f23529-3d83-449d-b8c3-293a5c889a6b",
   "metadata": {},
   "outputs": [],
   "source": [
    "svc = SVC(probability=True)\n",
    "\n",
    "cv = cross_val_score(svc, \n",
    "                     X_train, \n",
    "                     y_train, \n",
    "                     cv=5)\n",
    "\n",
    "print(cv)\n",
    "print(cv.mean())"
   ]
  },
  {
   "cell_type": "code",
   "execution_count": null,
   "id": "4e6e99a0-14b3-40b1-ad92-9bfa13b769e2",
   "metadata": {},
   "outputs": [],
   "source": [
    "xgb = XGBClassifier(random_state = 42)\n",
    "\n",
    "cv = cross_val_score(xgb, \n",
    "                     X_train, \n",
    "                     y_train, \n",
    "                     cv=5)\n",
    "\n",
    "print(cv)\n",
    "print(cv.mean())"
   ]
  },
  {
   "cell_type": "code",
   "execution_count": null,
   "id": "fcfea134-9ec5-473e-8ff2-5dca279515ce",
   "metadata": {},
   "outputs": [],
   "source": [
    "voting_clf = VotingClassifier(estimators=[\n",
    "                                          ('lr', lr), \n",
    "                                          ('knn', knn), \n",
    "                                          ('rf', rf), \n",
    "                                          ('gnb', gnb), \n",
    "                                          ('dt', dt), \n",
    "                                          ('svc', svc), \n",
    "                                          ('xgb', xgb)],\n",
    "                                          voting='soft'\n",
    "                                          )\n",
    "\n",
    "cv = cross_val_score(voting_clf, X_train, y_train, cv=5)\n",
    "\n",
    "print(cv)\n",
    "print(cv.mean())"
   ]
  },
  {
   "cell_type": "markdown",
   "id": "49b85066-be6f-4183-b4e3-9ef74e8a047d",
   "metadata": {},
   "source": [
    "## Baseline submission of best performing model"
   ]
  },
  {
   "cell_type": "code",
   "execution_count": null,
   "id": "f0392604-0728-424e-88c9-281322943fc1",
   "metadata": {},
   "outputs": [],
   "source": [
    "voting_clf.fit(X_train, y_train)\n",
    "\n",
    "y_hat_baseline = voting_clf.predict(X_test).astype(int)\n",
    "\n",
    "baseline_submission = {'PassengerId': df_test.PassengerId, 'Survived': y_hat_baseline}\n",
    "\n",
    "#baseline_submission = pd.DataFrame(data=baseline_submission)\n"
   ]
  },
  {
   "cell_type": "code",
   "execution_count": null,
   "id": "71c6d11c-c025-41a2-8bd4-aa3542ff4ab3",
   "metadata": {},
   "outputs": [],
   "source": [
    "y_hat_baseline.size"
   ]
  },
  {
   "cell_type": "code",
   "execution_count": null,
   "id": "12ac16f4-0d64-4049-b76a-f52bc7d3e2c7",
   "metadata": {},
   "outputs": [],
   "source": [
    "X_test"
   ]
  },
  {
   "cell_type": "code",
   "execution_count": null,
   "id": "70184dd4-06df-4c7d-b1c3-9ed72df4db32",
   "metadata": {},
   "outputs": [],
   "source": []
  },
  {
   "cell_type": "markdown",
   "id": "a3d58ad9-8878-49e3-a9e6-ad7ecb0c4d52",
   "metadata": {},
   "source": [
    "# Model performance"
   ]
  },
  {
   "cell_type": "markdown",
   "id": "bc74c0e7-3935-4540-9aa1-9015af85a106",
   "metadata": {},
   "source": [
    "|Model|Baseline|Scaled Performance|Scaled and Tuned Performance|\n",
    "|--|--|--|--|\n",
    "|Naive Bayes| 77.1%| NA|\n",
    "|Logistic Regression| 79.3%| 82.6%|\n",
    "|Decision Tree Classifier| 75.4%| NA|\n",
    "|KNN Classifier| 71.3%|83.0%|\n",
    "|Random Forest Classifier| 78.8%| 83.6|\n",
    "|Support Vector Classifier| 68.9%| 83.2%|\n",
    "|Xtreme Gradient Boosting| 79.2%| 85.3%|\n",
    "|Voting Classifier| **80.6%**| 61%|"
   ]
  },
  {
   "cell_type": "code",
   "execution_count": null,
   "id": "3481a559-1063-47ed-af96-a9324f0e4bd2",
   "metadata": {},
   "outputs": [],
   "source": []
  },
  {
   "cell_type": "code",
   "execution_count": null,
   "id": "0dcb72b6-44e4-4528-a575-efa69e11544d",
   "metadata": {},
   "outputs": [],
   "source": []
  },
  {
   "cell_type": "code",
   "execution_count": null,
   "id": "32306a74-d4f9-4f1c-b1f8-74c9563cfb78",
   "metadata": {},
   "outputs": [],
   "source": []
  },
  {
   "cell_type": "code",
   "execution_count": null,
   "id": "ade79058-0893-4437-bd4f-d4b9ad1ac2f5",
   "metadata": {},
   "outputs": [],
   "source": []
  }
 ],
 "metadata": {
  "kernelspec": {
   "display_name": "Python 3 (ipykernel)",
   "language": "python",
   "name": "python3"
  },
  "language_info": {
   "codemirror_mode": {
    "name": "ipython",
    "version": 3
   },
   "file_extension": ".py",
   "mimetype": "text/x-python",
   "name": "python",
   "nbconvert_exporter": "python",
   "pygments_lexer": "ipython3",
   "version": "3.10.7"
  }
 },
 "nbformat": 4,
 "nbformat_minor": 5
}
