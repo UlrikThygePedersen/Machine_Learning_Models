{
 "cells": [
  {
   "cell_type": "markdown",
   "id": "cda842b9-bbfa-4128-865c-4a69b8eb10d8",
   "metadata": {},
   "source": [
    "# Import libraries"
   ]
  },
  {
   "cell_type": "code",
   "execution_count": null,
   "id": "1177cc17-4bbc-4373-bbda-d532c3175a10",
   "metadata": {},
   "outputs": [],
   "source": [
    "import numpy as np\n",
    "import pandas as pd\n",
    "import matplotlib.pyplot as plt\n",
    "import seaborn as sns\n",
    "import plotly.figure_factory as ff\n",
    "import plotly.express as px\n",
    "from biopandas.pdb import PandasPdb as ppdb"
   ]
  },
  {
   "cell_type": "code",
   "execution_count": null,
   "id": "12014fab-559a-49ef-8821-a63e336e2e73",
   "metadata": {},
   "outputs": [],
   "source": [
    "TRAIN_PATH = \"/kaggle/input/novozymes-enzyme-stability-prediction/train.csv\"\n",
    "TEST_PATH = \"/kaggle/input/novozymes-enzyme-stability-prediction/test.csv\"\n",
    "SUB_PATH = \"/kaggle/input/novozymes-enzyme-stability-prediction/sample_submission.csv\"\n",
    "\n",
    "PDB_PATH = \"/kaggle/input/novozymes-enzyme-stability-prediction/wildtype_structure_prediction_af2.pdb\"\n"
   ]
  },
  {
   "cell_type": "code",
   "execution_count": null,
   "id": "41caf956-ab2b-4faf-922b-4e4da012e140",
   "metadata": {},
   "outputs": [],
   "source": [
    "train_df = pd.read_csv('train.csv')\n",
    "test_df = pd.read_csv('test_csv')\n",
    "sub_df = pd.read_csv('sample_submission.csv')"
   ]
  },
  {
   "cell_type": "code",
   "execution_count": null,
   "id": "6c044e5e-b963-45e6-b264-580a371016ac",
   "metadata": {},
   "outputs": [],
   "source": [
    "pdb_df = ppdb().read_pdb('wildtype_structure_prediction_af2.pdb')"
   ]
  },
  {
   "cell_type": "code",
   "execution_count": null,
   "id": "0adbe68d-dd93-40da-9fca-add4ca142503",
   "metadata": {},
   "outputs": [],
   "source": [
    "type(pdb_df.df)"
   ]
  },
  {
   "cell_type": "code",
   "execution_count": null,
   "id": "15a4a9a4-d0b1-465a-9be7-1f8ce6f98658",
   "metadata": {},
   "outputs": [],
   "source": [
    "pdb_df.df.keys()"
   ]
  },
  {
   "cell_type": "code",
   "execution_count": null,
   "id": "667efb7e-c17d-4835-9072-4dfb972d4118",
   "metadata": {},
   "outputs": [],
   "source": [
    "pdb_df.df.items()"
   ]
  },
  {
   "cell_type": "markdown",
   "id": "2b5f5ad7-7dae-4134-8637-ba104b386756",
   "metadata": {},
   "source": [
    "# DF - ATOM"
   ]
  },
  {
   "cell_type": "code",
   "execution_count": null,
   "id": "7aa8fcf1-ab8c-463e-b5b9-3f9757af6635",
   "metadata": {},
   "outputs": [],
   "source": [
    "atom_df = pdb_df.df[\"ATOM\"]\n",
    "atom_df.head()"
   ]
  },
  {
   "cell_type": "code",
   "execution_count": null,
   "id": "b3c231a5-f7e2-4aca-a3e2-89108e0d48e4",
   "metadata": {},
   "outputs": [],
   "source": [
    "atom_df.info()"
   ]
  },
  {
   "cell_type": "code",
   "execution_count": null,
   "id": "2fdc6876-05d0-46cc-bfbe-3d3ce3112eb4",
   "metadata": {},
   "outputs": [],
   "source": [
    "atom_df.describe().T"
   ]
  },
  {
   "cell_type": "code",
   "execution_count": null,
   "id": "a3fd6cd8-83ba-490a-b440-76861692aa4b",
   "metadata": {},
   "outputs": [],
   "source": [
    "plt.title(\"The Distribution of Coordinates\")\n",
    "\n",
    "sns.kdeplot(atom_df.x_coord, fill=True)\n",
    "sns.kdeplot(atom_df.y_coord, fill=True)\n",
    "sns.kdeplot(atom_df.z_coord, fill=True)\n",
    "\n",
    "plt.xlabel(\"Coordinates\")\n",
    "plt.legend([\"x_coord\", \"y_coord\", \"z_coord\"])\n",
    "\n",
    "plt.show()"
   ]
  },
  {
   "cell_type": "code",
   "execution_count": null,
   "id": "e290d726-d1a9-41ad-97b0-c2591f1ac117",
   "metadata": {},
   "outputs": [],
   "source": [
    "sns.kdeplot(atom_df.b_factor, fill=True)\n",
    "plt.show()"
   ]
  },
  {
   "cell_type": "code",
   "execution_count": null,
   "id": "e6740f2c-3a61-450f-aadd-659a115b824c",
   "metadata": {},
   "outputs": [],
   "source": [
    "sns.kdeplot(atom_df.atom_number, fill=True)\n",
    "plt.show()"
   ]
  },
  {
   "cell_type": "code",
   "execution_count": null,
   "id": "6d34aaa0-e500-485a-b344-24410f09620a",
   "metadata": {},
   "outputs": [],
   "source": [
    "sns.countplot(atom_df.element_symbol)\n",
    "plt.show()"
   ]
  },
  {
   "cell_type": "code",
   "execution_count": null,
   "id": "ea007cee-1164-4618-a8da-ed11918837d4",
   "metadata": {},
   "outputs": [],
   "source": [
    "plt.figure(figsize=(15,18))\n",
    "\n",
    "sns.countplot(atom_df.atom_name)\n",
    "\n",
    "plt.xlabel(\"Atom Name\", fontsize=16)\n",
    "plt.xticks(rotation=45, fontsize=14)\n",
    "plt.show()"
   ]
  },
  {
   "cell_type": "code",
   "execution_count": null,
   "id": "61338417-7be1-4b8f-9cfe-200c57bbcaa5",
   "metadata": {},
   "outputs": [],
   "source": [
    "hist_data =[atom_df[\"x_coord\"].values]\n",
    "group_labels = ['x_coord'] \n",
    "\n",
    "fig = ff.create_distplot(hist_data, group_labels)\n",
    "\n",
    "fig.update_layout(title_text='x_coord Distribution Plot')\n",
    "\n",
    "fig.show()"
   ]
  },
  {
   "cell_type": "code",
   "execution_count": null,
   "id": "dae6ae7d-9d12-49ae-aac0-3a4cadbb9983",
   "metadata": {},
   "outputs": [],
   "source": [
    "hist_data =[atom_df[\"y_coord\"].values]\n",
    "group_labels = ['y_coord'] \n",
    "\n",
    "fig = ff.create_distplot(hist_data, group_labels)\n",
    "\n",
    "fig.update_layout(title_text='y_coord Distribution Plot')\n",
    "\n",
    "fig.show()"
   ]
  },
  {
   "cell_type": "code",
   "execution_count": null,
   "id": "5f5ccc2d-3a81-4102-b37b-9d2cdbd3d186",
   "metadata": {},
   "outputs": [],
   "source": [
    "hist_data =[atom_df[\"z_coord\"].values]\n",
    "group_labels = ['z_coord'] \n",
    "\n",
    "fig = ff.create_distplot(hist_data, group_labels)\n",
    "\n",
    "fig.update_layout(title_text='z_coord Distribution Plot')\n",
    "\n",
    "fig.show()"
   ]
  },
  {
   "cell_type": "code",
   "execution_count": null,
   "id": "674c22cf-5b2f-464e-ab21-a665f38b6f2a",
   "metadata": {},
   "outputs": [],
   "source": [
    "hist_data =[atom_df[\"b_factor\"].values]\n",
    "group_labels = ['b_factor'] \n",
    "\n",
    "fig = ff.create_distplot(hist_data, group_labels)\n",
    "\n",
    "fig.update_layout(title_text='b_factor Distribution Plot')\n",
    "\n",
    "fig.show()"
   ]
  },
  {
   "cell_type": "code",
   "execution_count": null,
   "id": "c86f14f8-a8c7-4e28-87ac-681b0f70f8bf",
   "metadata": {},
   "outputs": [],
   "source": [
    "fig = px.box(atom_df, x='element_symbol', y='b_factor', points=\"all\")\n",
    "fig.update_layout(\n",
    "    title_text=\"b-factor wise element-symbol Spread\")\n",
    "fig.show()"
   ]
  },
  {
   "cell_type": "code",
   "execution_count": null,
   "id": "1c410707-3ad2-43de-9aa2-2fbb7beb2003",
   "metadata": {},
   "outputs": [],
   "source": [
    "fig = px.box(atom_df, x='atom_name', y='b_factor', points=\"all\")\n",
    "fig.update_layout(\n",
    "    title_text=\"b-factor wise atom_name Spread\")\n",
    "fig.show()"
   ]
  },
  {
   "cell_type": "code",
   "execution_count": null,
   "id": "8485d729-3961-484b-b720-91af03bd6056",
   "metadata": {},
   "outputs": [],
   "source": [
    "# examine correlation\n",
    "sns.set(font_scale=1.4)\n",
    "\n",
    "cmap = sns.diverging_palette(2, 165, s=80, l=55, n=9)\n",
    "corrmat = atom_df.corr()\n",
    "plt.subplots(figsize=(20,20))\n",
    "sns.heatmap(corrmat,cmap= cmap,annot=True, square=True)"
   ]
  },
  {
   "cell_type": "markdown",
   "id": "49bd31dc-9daf-4fe8-8abb-52b49e0b4cfd",
   "metadata": {},
   "source": [
    "# HETAM"
   ]
  },
  {
   "cell_type": "code",
   "execution_count": null,
   "id": "aaf6e75b-dc5f-4389-a73e-6c01c70b21b3",
   "metadata": {},
   "outputs": [],
   "source": [
    "heatm_df = pdb_df.df[\"HETATM\"]\n",
    "heatm_df.head()"
   ]
  },
  {
   "cell_type": "markdown",
   "id": "6e668fa4-dff7-4b6b-9bc0-9301334fc39a",
   "metadata": {},
   "source": [
    "# DF - ANISOU"
   ]
  },
  {
   "cell_type": "code",
   "execution_count": null,
   "id": "c4845c0d-a879-475d-912c-6be3f24a2487",
   "metadata": {},
   "outputs": [],
   "source": [
    "anisou_df = pdb_df.df[\"ANISOU\"]\n",
    "anisou_df.head()"
   ]
  },
  {
   "cell_type": "markdown",
   "id": "dea9e70a-6af1-43c1-8aa1-ef67db6c8f16",
   "metadata": {},
   "source": [
    "# DF - OTHERS"
   ]
  },
  {
   "cell_type": "code",
   "execution_count": null,
   "id": "422372d8-5597-44cf-8121-9542e6862503",
   "metadata": {},
   "outputs": [],
   "source": [
    "others_df = pdb_df.df[\"OTHERS\"]\n",
    "others_df.head()"
   ]
  },
  {
   "cell_type": "markdown",
   "id": "8a4ea564-5525-479a-ac83-46f673935827",
   "metadata": {},
   "source": [
    "# 3D Visualization - Proteins"
   ]
  },
  {
   "cell_type": "code",
   "execution_count": null,
   "id": "4454a60f-17e2-479d-831a-f666ffa694d9",
   "metadata": {},
   "outputs": [],
   "source": [
    "%%capture\n",
    "\n",
    "!pip install prody"
   ]
  },
  {
   "cell_type": "code",
   "execution_count": null,
   "id": "05d7359b-b507-4102-a989-e723c8a3a1d6",
   "metadata": {},
   "outputs": [],
   "source": [
    "from prody import parsePDB, showProtein, showContactMap, calcPhi"
   ]
  },
  {
   "cell_type": "code",
   "execution_count": null,
   "id": "812d7577-8a50-4726-b234-64eedfb4cf1e",
   "metadata": {},
   "outputs": [],
   "source": [
    "pdbs = parsePDB(PDB_PATH)\n",
    "pdbs"
   ]
  },
  {
   "cell_type": "code",
   "execution_count": null,
   "id": "afee0441-7349-481c-9f38-30444c7777b6",
   "metadata": {},
   "outputs": [],
   "source": [
    "print(\"Protein Sequence: \\n\".upper())\n",
    "pdbs.getSequence()"
   ]
  },
  {
   "cell_type": "code",
   "execution_count": null,
   "id": "1479ddca-26e6-48e5-bd6d-c11e7394c862",
   "metadata": {},
   "outputs": [],
   "source": [
    "showProtein(pdbs)"
   ]
  },
  {
   "cell_type": "code",
   "execution_count": null,
   "id": "f38908bb-e088-45a3-a9a6-02c64c86ad44",
   "metadata": {},
   "outputs": [],
   "source": [
    "showContactMap(pdbs.ca)"
   ]
  },
  {
   "cell_type": "code",
   "execution_count": null,
   "id": "8af1d5fa-ebe9-4613-9e59-56772f8b5db2",
   "metadata": {},
   "outputs": [],
   "source": [
    "sns.kdeplot(pdbs.getMasses(), fill=True)\n",
    "plt.xlabel(\"Masses\");"
   ]
  },
  {
   "cell_type": "code",
   "execution_count": null,
   "id": "e3c17531-cfb3-4308-b514-85c9b752a903",
   "metadata": {},
   "outputs": [],
   "source": [
    "sns.kdeplot(pdbs.getResnums(), fill=True)\n",
    "plt.xlabel(\"Res Nums\");"
   ]
  },
  {
   "cell_type": "code",
   "execution_count": null,
   "id": "7414e917-6f4f-4308-a000-67c945596b25",
   "metadata": {},
   "outputs": [],
   "source": [
    "plt.figure(figsize=(12,12))\n",
    "sns.countplot(pdbs.getResnames());"
   ]
  },
  {
   "cell_type": "code",
   "execution_count": null,
   "id": "4a16959b-b96a-41d9-81da-c5b9fce070b7",
   "metadata": {},
   "outputs": [],
   "source": [
    "#Returns φ (phi) angle of residue in degrees.\n",
    "#This function checks the distance between\n",
    "#Cα atoms of two residues and raises an exception\n",
    "#if the residues are disconnected.\n",
    "\n",
    "calcPhi(pdbs['A', 10])"
   ]
  },
  {
   "cell_type": "code",
   "execution_count": null,
   "id": "b6ac6f6e-d995-4348-aece-bcef9b0539b7",
   "metadata": {},
   "outputs": [],
   "source": [
    "sns.kdeplot(pdbs.getBetas(), fill=True)"
   ]
  },
  {
   "cell_type": "code",
   "execution_count": null,
   "id": "a44f362c-3b7c-43f5-b53d-9280a002bfcc",
   "metadata": {},
   "outputs": [],
   "source": []
  },
  {
   "cell_type": "code",
   "execution_count": null,
   "id": "a536d33f-4c60-4cdb-a9c2-dfbba3a1f22d",
   "metadata": {},
   "outputs": [],
   "source": []
  },
  {
   "cell_type": "code",
   "execution_count": null,
   "id": "c75f6668-4f86-41ac-81ab-f6a98cd7c678",
   "metadata": {},
   "outputs": [],
   "source": []
  }
 ],
 "metadata": {
  "kernelspec": {
   "display_name": "Python 3 (ipykernel)",
   "language": "python",
   "name": "python3"
  },
  "language_info": {
   "codemirror_mode": {
    "name": "ipython",
    "version": 3
   },
   "file_extension": ".py",
   "mimetype": "text/x-python",
   "name": "python",
   "nbconvert_exporter": "python",
   "pygments_lexer": "ipython3",
   "version": "3.10.7"
  }
 },
 "nbformat": 4,
 "nbformat_minor": 5
}
