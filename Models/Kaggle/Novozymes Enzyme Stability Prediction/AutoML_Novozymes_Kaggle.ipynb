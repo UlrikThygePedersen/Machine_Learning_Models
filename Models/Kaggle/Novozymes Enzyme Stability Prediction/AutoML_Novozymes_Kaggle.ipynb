{
 "cells": [
  {
   "cell_type": "code",
   "execution_count": 1,
   "id": "d7535795-3f87-415e-b376-9a4c99e77b83",
   "metadata": {},
   "outputs": [
    {
     "name": "stderr",
     "output_type": "stream",
     "text": [
      "C:\\Users\\10122055\\OneDrive - NTT DATA Business Solutions\\Projekter\\Machine_Learning_Models\\.venv\\lib\\site-packages\\tqdm\\auto.py:22: TqdmWarning: IProgress not found. Please update jupyter and ipywidgets. See https://ipywidgets.readthedocs.io/en/stable/user_install.html\n",
      "  from .autonotebook import tqdm as notebook_tqdm\n"
     ]
    }
   ],
   "source": [
    "import pandas as pd\n",
    "from sklearn.model_selection import GridSearchCV\n",
    "from xgboost import XGBRegressor\n",
    "from scipy.stats import spearmanr\n",
    "from catboost import CatBoostRegressor\n",
    "from sklearn.model_selection import train_test_split\n",
    "from supervised.automl import AutoML"
   ]
  },
  {
   "cell_type": "code",
   "execution_count": 2,
   "id": "75f421ca-a22e-4e2a-865c-7b5263f2abba",
   "metadata": {},
   "outputs": [],
   "source": [
    "total_time_limit = 60 * 5  # for automl, in seconds\n",
    "random_state = 42\n",
    "VER = 3"
   ]
  },
  {
   "cell_type": "code",
   "execution_count": 4,
   "id": "568bd95a-d85e-441f-850c-6ae529f2aec0",
   "metadata": {},
   "outputs": [],
   "source": [
    "df_train = pd.read_csv(\"train.csv\")\n",
    "df_test =  pd.read_csv(\"test.csv\")\n",
    "df_update = pd.read_csv(\"train_updates_20220929.csv\")\n",
    "\n",
    "#update train-set \n",
    "temp = df_update[df_update[\"pH\"] > -0.1]\n",
    "for i in range(len(temp)):\n",
    "    df_train[df_train.seq_id == temp.iloc[i].seq_id] = temp.iloc[i]\n",
    "\n",
    "df_train[[\"pH\",\"tm\"]] = df_train[[\"tm\",\"pH\"]].where(df_train[\"pH\"] > 14, df_train[[\"pH\",\"tm\"]].values)\n",
    "\n",
    "df_train.drop(columns=[\"seq_id\",\"data_source\"], inplace=True)\n",
    "df_train.dropna(inplace=True)\n",
    "\n",
    "df_train = df_train.reset_index(drop=True)\n",
    "\n",
    "df_train[\"protein_length\"] = [len(s) for s in df_train[\"protein_sequence\"]]\n",
    "df_test[\"protein_length\"] = [len(s) for s in df_test[\"protein_sequence\"]]\n",
    "\n",
    "# drop too long sequence\n",
    "train_long_id = df_train[df_train[\"protein_length\"] > 851].index\n",
    "df_train = df_train.drop(df_train.index[train_long_id], axis=0)\n",
    "df_train = df_train.reset_index(drop=True)\n",
    "\n",
    "amino_acids= [\"A\", \"C\", \"D\", \"E\", \"F\", \"G\", \"H\", \"I\", \"K\", \"L\", \"M\", \"N\", \"P\", \"Q\", \"R\", \"S\", \"T\", \"V\", \"W\", \"Y\"]\n",
    "for letter in amino_acids:\n",
    "    df_train[letter] = df_train[\"protein_sequence\"].str.count(letter)\n",
    "    df_test[letter]  = df_test[\"protein_sequence\"].str.count(letter)\n",
    "    \n",
    "    \n",
    "test_ids = df_test[\"seq_id\"]\n",
    "\n",
    "\n",
    "df_train.drop(columns=[\"protein_sequence\"], inplace=True)\n",
    "df_test.drop(columns=[\"seq_id\",\"protein_sequence\",\"data_source\"], inplace=True)\n",
    "\n",
    "\n",
    "df_train = df_train[df_train[\"tm\"] > 51.5]\n",
    "\n",
    "\n",
    "train_y_df = df_train[\"tm\"].values\n",
    "train_x_df = df_train.drop(columns=[\"tm\"])\n",
    "test_x_df = df_test.values\n",
    "\n",
    "\n",
    "poplist = [\"I\"]\n",
    "train_x_df.drop(columns=poplist, inplace=True)\n",
    "df_test.drop(columns=poplist, inplace=True)\n",
    "\n",
    "x_train, x_test, y_train, y_test = train_test_split(train_x_df, \n",
    "                                                    train_y_df, \n",
    "                                                    test_size=0.2, \n",
    "                                                    random_state=random_state)"
   ]
  },
  {
   "cell_type": "code",
   "execution_count": 5,
   "id": "12b725bd-17e7-40c5-bde8-7c2121d538cb",
   "metadata": {},
   "outputs": [],
   "source": [
    "def get_model(model_name, params={}):\n",
    "    if model_name == \"XGBRegressor\":\n",
    "        model = XGBRegressor(verbosity=0, **params)\n",
    "    elif model_name == \"CatBoostRegressor\":\n",
    "        model = CatBoostRegressor(verbose=0, **params)\n",
    "    return model\n",
    "\n",
    "\n",
    "def fit_predict(model_name, x_train, x_test, y_train, y_test, gs_params):\n",
    "    model = get_model(model_name)\n",
    "    \n",
    "    gs = GridSearchCV(model, gs_params, verbose=1)\n",
    "    gs.fit(x_train,y_train)\n",
    "    \n",
    "    print(gs.best_params_)\n",
    "    \n",
    "    model = get_model(model_name, gs.best_params_)\n",
    "    model.fit(x_train,y_train)\n",
    "    \n",
    "    predictions = model.predict(x_test)\n",
    "    spearman = spearmanr(y_test, predictions)\n",
    "    return spearman, model"
   ]
  },
  {
   "cell_type": "code",
   "execution_count": 6,
   "id": "4c99120f-7c24-43ee-bf5f-0ce7b3f6a3f7",
   "metadata": {},
   "outputs": [],
   "source": [
    "submission = pd.read_csv(\"sample_submission.csv\")"
   ]
  },
  {
   "cell_type": "code",
   "execution_count": 7,
   "id": "c0cdb146-ba1c-4bcd-81e9-16238124b4df",
   "metadata": {},
   "outputs": [
    {
     "name": "stdout",
     "output_type": "stream",
     "text": [
      "Fitting 5 folds for each of 12 candidates, totalling 60 fits\n",
      "{'learning_rate': 0.05, 'max_depth': 9, 'n_estimators': 650, 'random_state': 42}\n",
      "CatBoostRegressor: SpearmanrResult(correlation=0.7190267522007091, pvalue=4.1331578154826e-311)\n",
      "Fitting 5 folds for each of 12 candidates, totalling 60 fits\n",
      "{'learning_rate': 0.05, 'max_depth': 9, 'n_estimators': 250, 'random_state': 42}\n",
      "XGBRegressor: SpearmanrResult(correlation=0.6994704011738112, pvalue=2.1069703261799782e-287)\n"
     ]
    }
   ],
   "source": [
    "model_names = [\n",
    "    \"CatBoostRegressor\",\n",
    "    \"XGBRegressor\"\n",
    "]\n",
    "\n",
    "gs_params = {\n",
    "    \"learning_rate\": [0.01, 0.05],\n",
    "    \"max_depth\": [6, 9], \n",
    "    \"n_estimators\": [150, 250, 650],\n",
    "    \"random_state\": [random_state]\n",
    "}\n",
    "\n",
    "for model_name in model_names:\n",
    "    spearman, model = fit_predict(model_name, x_train, x_test, y_train, y_test, gs_params)\n",
    "    print(f\"{model_name}: {spearman}\")\n",
    "    submission[\"tm\"] = model.predict(df_test)\n",
    "    submission.to_csv(f\"submission_{model_name}_ver{VER}.csv\", index=False)"
   ]
  },
  {
   "cell_type": "code",
   "execution_count": 8,
   "id": "047a390d-c4f3-4c58-b91d-6d57ca02ec9a",
   "metadata": {},
   "outputs": [
    {
     "name": "stdout",
     "output_type": "stream",
     "text": [
      "AutoML directory: AutoML_1\n",
      "The task is regression with evaluation metric rmse\n",
      "AutoML will use algorithms: ['Decision Tree', 'Linear', 'Random Forest', 'Extra Trees', 'LightGBM', 'Xgboost', 'CatBoost', 'Neural Network', 'Nearest Neighbors']\n",
      "AutoML will stack models\n",
      "AutoML will ensemble available models\n",
      "AutoML steps: ['adjust_validation', 'simple_algorithms', 'default_algorithms', 'not_so_random', 'golden_features', 'kmeans_features', 'insert_random_feature', 'features_selection', 'hill_climbing_1', 'hill_climbing_2', 'boost_on_errors', 'ensemble', 'stack', 'ensemble_stacked']\n",
      "* Step adjust_validation will try to check up to 1 model\n",
      "1_DecisionTree rmse 8.81425 trained in 0.59 seconds\n",
      "Adjust validation. Remove: 1_DecisionTree\n",
      "Validation strategy: 5-fold CV Shuffle\n",
      "* Step simple_algorithms will try to check up to 4 models\n",
      "1_DecisionTree rmse 9.312058 trained in 1.87 seconds\n",
      "2_DecisionTree rmse 10.411612 trained in 1.13 seconds\n",
      "3_DecisionTree rmse 10.411612 trained in 1.25 seconds\n"
     ]
    },
    {
     "name": "stderr",
     "output_type": "stream",
     "text": [
      "C:\\Users\\10122055\\OneDrive - NTT DATA Business Solutions\\Projekter\\Machine_Learning_Models\\.venv\\lib\\site-packages\\supervised\\preprocessing\\scale.py:35: FutureWarning: In a future version, `df.iloc[:, i] = newvals` will attempt to set the values inplace instead of always setting a new array. To retain the old behavior, use either `df[df.columns[i]] = newvals` or, if columns are non-unique, `df.isetitem(i, newvals)`\n",
      "C:\\Users\\10122055\\OneDrive - NTT DATA Business Solutions\\Projekter\\Machine_Learning_Models\\.venv\\lib\\site-packages\\supervised\\preprocessing\\scale.py:35: FutureWarning: In a future version, `df.iloc[:, i] = newvals` will attempt to set the values inplace instead of always setting a new array. To retain the old behavior, use either `df[df.columns[i]] = newvals` or, if columns are non-unique, `df.isetitem(i, newvals)`\n",
      "C:\\Users\\10122055\\OneDrive - NTT DATA Business Solutions\\Projekter\\Machine_Learning_Models\\.venv\\lib\\site-packages\\supervised\\preprocessing\\scale.py:35: FutureWarning: In a future version, `df.iloc[:, i] = newvals` will attempt to set the values inplace instead of always setting a new array. To retain the old behavior, use either `df[df.columns[i]] = newvals` or, if columns are non-unique, `df.isetitem(i, newvals)`\n",
      "C:\\Users\\10122055\\OneDrive - NTT DATA Business Solutions\\Projekter\\Machine_Learning_Models\\.venv\\lib\\site-packages\\supervised\\preprocessing\\scale.py:35: FutureWarning: In a future version, `df.iloc[:, i] = newvals` will attempt to set the values inplace instead of always setting a new array. To retain the old behavior, use either `df[df.columns[i]] = newvals` or, if columns are non-unique, `df.isetitem(i, newvals)`\n",
      "C:\\Users\\10122055\\OneDrive - NTT DATA Business Solutions\\Projekter\\Machine_Learning_Models\\.venv\\lib\\site-packages\\supervised\\preprocessing\\scale.py:35: FutureWarning: In a future version, `df.iloc[:, i] = newvals` will attempt to set the values inplace instead of always setting a new array. To retain the old behavior, use either `df[df.columns[i]] = newvals` or, if columns are non-unique, `df.isetitem(i, newvals)`\n"
     ]
    },
    {
     "name": "stdout",
     "output_type": "stream",
     "text": [
      "4_Linear rmse 9.409044 trained in 1.78 seconds\n",
      "* Step default_algorithms will try to check up to 7 models\n",
      "5_Default_LightGBM rmse 6.772319 trained in 7.48 seconds\n",
      "6_Default_Xgboost rmse 6.948317 trained in 6.51 seconds\n",
      "7_Default_CatBoost rmse 6.767519 trained in 15.7 seconds\n"
     ]
    },
    {
     "name": "stderr",
     "output_type": "stream",
     "text": [
      "C:\\Users\\10122055\\OneDrive - NTT DATA Business Solutions\\Projekter\\Machine_Learning_Models\\.venv\\lib\\site-packages\\supervised\\preprocessing\\scale.py:35: FutureWarning: In a future version, `df.iloc[:, i] = newvals` will attempt to set the values inplace instead of always setting a new array. To retain the old behavior, use either `df[df.columns[i]] = newvals` or, if columns are non-unique, `df.isetitem(i, newvals)`\n",
      "C:\\Users\\10122055\\OneDrive - NTT DATA Business Solutions\\Projekter\\Machine_Learning_Models\\.venv\\lib\\site-packages\\supervised\\preprocessing\\scale.py:35: FutureWarning: In a future version, `df.iloc[:, i] = newvals` will attempt to set the values inplace instead of always setting a new array. To retain the old behavior, use either `df[df.columns[i]] = newvals` or, if columns are non-unique, `df.isetitem(i, newvals)`\n",
      "C:\\Users\\10122055\\OneDrive - NTT DATA Business Solutions\\Projekter\\Machine_Learning_Models\\.venv\\lib\\site-packages\\supervised\\preprocessing\\scale.py:35: FutureWarning: In a future version, `df.iloc[:, i] = newvals` will attempt to set the values inplace instead of always setting a new array. To retain the old behavior, use either `df[df.columns[i]] = newvals` or, if columns are non-unique, `df.isetitem(i, newvals)`\n",
      "C:\\Users\\10122055\\OneDrive - NTT DATA Business Solutions\\Projekter\\Machine_Learning_Models\\.venv\\lib\\site-packages\\supervised\\preprocessing\\scale.py:35: FutureWarning: In a future version, `df.iloc[:, i] = newvals` will attempt to set the values inplace instead of always setting a new array. To retain the old behavior, use either `df[df.columns[i]] = newvals` or, if columns are non-unique, `df.isetitem(i, newvals)`\n",
      "C:\\Users\\10122055\\OneDrive - NTT DATA Business Solutions\\Projekter\\Machine_Learning_Models\\.venv\\lib\\site-packages\\supervised\\preprocessing\\scale.py:35: FutureWarning: In a future version, `df.iloc[:, i] = newvals` will attempt to set the values inplace instead of always setting a new array. To retain the old behavior, use either `df[df.columns[i]] = newvals` or, if columns are non-unique, `df.isetitem(i, newvals)`\n"
     ]
    },
    {
     "name": "stdout",
     "output_type": "stream",
     "text": [
      "8_Default_NeuralNetwork rmse 7.278111 trained in 5.2 seconds\n",
      "9_Default_RandomForest rmse 8.849949 trained in 7.33 seconds\n",
      "10_Default_ExtraTrees rmse 9.61916 trained in 5.41 seconds\n"
     ]
    },
    {
     "name": "stderr",
     "output_type": "stream",
     "text": [
      "C:\\Users\\10122055\\OneDrive - NTT DATA Business Solutions\\Projekter\\Machine_Learning_Models\\.venv\\lib\\site-packages\\supervised\\preprocessing\\scale.py:35: FutureWarning: In a future version, `df.iloc[:, i] = newvals` will attempt to set the values inplace instead of always setting a new array. To retain the old behavior, use either `df[df.columns[i]] = newvals` or, if columns are non-unique, `df.isetitem(i, newvals)`\n"
     ]
    },
    {
     "name": "stdout",
     "output_type": "stream",
     "text": [
      "There was an error during 11_Default_NearestNeighbors training.\n",
      "Please check AutoML_1\\errors.md for details.\n",
      "* Step not_so_random will try to check up to 63 models\n",
      "20_LightGBM rmse 6.910127 trained in 6.45 seconds\n",
      "11_Xgboost rmse 6.833549 trained in 4.76 seconds\n",
      "29_CatBoost rmse 6.756253 trained in 18.36 seconds\n",
      "38_RandomForest rmse 8.931156 trained in 9.39 seconds\n",
      "47_ExtraTrees rmse 9.472239 trained in 5.62 seconds\n"
     ]
    },
    {
     "name": "stderr",
     "output_type": "stream",
     "text": [
      "C:\\Users\\10122055\\OneDrive - NTT DATA Business Solutions\\Projekter\\Machine_Learning_Models\\.venv\\lib\\site-packages\\supervised\\preprocessing\\scale.py:35: FutureWarning: In a future version, `df.iloc[:, i] = newvals` will attempt to set the values inplace instead of always setting a new array. To retain the old behavior, use either `df[df.columns[i]] = newvals` or, if columns are non-unique, `df.isetitem(i, newvals)`\n",
      "C:\\Users\\10122055\\OneDrive - NTT DATA Business Solutions\\Projekter\\Machine_Learning_Models\\.venv\\lib\\site-packages\\supervised\\preprocessing\\scale.py:35: FutureWarning: In a future version, `df.iloc[:, i] = newvals` will attempt to set the values inplace instead of always setting a new array. To retain the old behavior, use either `df[df.columns[i]] = newvals` or, if columns are non-unique, `df.isetitem(i, newvals)`\n",
      "C:\\Users\\10122055\\OneDrive - NTT DATA Business Solutions\\Projekter\\Machine_Learning_Models\\.venv\\lib\\site-packages\\supervised\\preprocessing\\scale.py:35: FutureWarning: In a future version, `df.iloc[:, i] = newvals` will attempt to set the values inplace instead of always setting a new array. To retain the old behavior, use either `df[df.columns[i]] = newvals` or, if columns are non-unique, `df.isetitem(i, newvals)`\n",
      "C:\\Users\\10122055\\OneDrive - NTT DATA Business Solutions\\Projekter\\Machine_Learning_Models\\.venv\\lib\\site-packages\\supervised\\preprocessing\\scale.py:35: FutureWarning: In a future version, `df.iloc[:, i] = newvals` will attempt to set the values inplace instead of always setting a new array. To retain the old behavior, use either `df[df.columns[i]] = newvals` or, if columns are non-unique, `df.isetitem(i, newvals)`\n",
      "C:\\Users\\10122055\\OneDrive - NTT DATA Business Solutions\\Projekter\\Machine_Learning_Models\\.venv\\lib\\site-packages\\supervised\\preprocessing\\scale.py:35: FutureWarning: In a future version, `df.iloc[:, i] = newvals` will attempt to set the values inplace instead of always setting a new array. To retain the old behavior, use either `df[df.columns[i]] = newvals` or, if columns are non-unique, `df.isetitem(i, newvals)`\n"
     ]
    },
    {
     "name": "stdout",
     "output_type": "stream",
     "text": [
      "56_NeuralNetwork rmse 9.610247 trained in 4.89 seconds\n"
     ]
    },
    {
     "name": "stderr",
     "output_type": "stream",
     "text": [
      "C:\\Users\\10122055\\OneDrive - NTT DATA Business Solutions\\Projekter\\Machine_Learning_Models\\.venv\\lib\\site-packages\\supervised\\preprocessing\\scale.py:35: FutureWarning: In a future version, `df.iloc[:, i] = newvals` will attempt to set the values inplace instead of always setting a new array. To retain the old behavior, use either `df[df.columns[i]] = newvals` or, if columns are non-unique, `df.isetitem(i, newvals)`\n"
     ]
    },
    {
     "name": "stdout",
     "output_type": "stream",
     "text": [
      "There was an error during 65_NearestNeighbors training.\n",
      "Please check AutoML_1\\errors.md for details.\n",
      "21_LightGBM rmse 6.932838 trained in 4.43 seconds\n",
      "12_Xgboost rmse 7.042853 trained in 4.01 seconds\n",
      "30_CatBoost rmse 6.906099 trained in 9.94 seconds\n",
      "39_RandomForest rmse 7.958077 trained in 9.46 seconds\n",
      "* Step golden_features will try to check up to 3 models\n",
      "None 10\n",
      "Add Golden Feature: Q_ratio_R\n",
      "Add Golden Feature: S_ratio_L\n",
      "Add Golden Feature: R_ratio_Q\n",
      "Add Golden Feature: L_ratio_S\n",
      "Add Golden Feature: Q_ratio_L\n",
      "Add Golden Feature: R_diff_S\n",
      "Add Golden Feature: Q_ratio_A\n",
      "Add Golden Feature: A_ratio_N\n",
      "Add Golden Feature: N_ratio_A\n",
      "Add Golden Feature: L_ratio_Q\n",
      "Created 10 Golden Features in 26.05 seconds.\n",
      "29_CatBoost_GoldenFeatures rmse 6.625433 trained in 49.51 seconds\n",
      "Skip kmeans_features because of the time limit.\n",
      "Not enough time to perform features selection. Skip\n",
      "Time needed for features selection ~ 74.0 seconds\n",
      "Please increase total_time_limit to at least (802 seconds) to have features selection\n",
      "Skip insert_random_feature because no parameters were generated.\n",
      "Skip features_selection because no parameters were generated.\n",
      "* Step hill_climbing_1 will try to check up to 31 models\n",
      "57_CatBoost_GoldenFeatures rmse 6.64265 trained in 29.84 seconds\n",
      "* Step hill_climbing_2 will try to check up to 30 models\n",
      "58_CatBoost_GoldenFeatures rmse 6.99459 trained in 25.96 seconds\n",
      "Skip boost_on_errors because of the time limit.\n",
      "* Step ensemble will try to check up to 1 model\n",
      "Ensemble rmse 6.489318 trained in 1.46 seconds\n",
      "* Step stack will try to check up to 19 models\n",
      "29_CatBoost_GoldenFeatures_Stacked rmse 6.430475 trained in 12.46 seconds\n",
      "5_Default_LightGBM_Stacked rmse 6.442651 trained in 4.8 seconds\n",
      "11_Xgboost_Stacked rmse 6.452699 trained in 4.35 seconds\n"
     ]
    },
    {
     "name": "stderr",
     "output_type": "stream",
     "text": [
      "C:\\Users\\10122055\\OneDrive - NTT DATA Business Solutions\\Projekter\\Machine_Learning_Models\\.venv\\lib\\site-packages\\supervised\\preprocessing\\scale.py:35: FutureWarning: In a future version, `df.iloc[:, i] = newvals` will attempt to set the values inplace instead of always setting a new array. To retain the old behavior, use either `df[df.columns[i]] = newvals` or, if columns are non-unique, `df.isetitem(i, newvals)`\n",
      "C:\\Users\\10122055\\OneDrive - NTT DATA Business Solutions\\Projekter\\Machine_Learning_Models\\.venv\\lib\\site-packages\\supervised\\preprocessing\\scale.py:35: FutureWarning: In a future version, `df.iloc[:, i] = newvals` will attempt to set the values inplace instead of always setting a new array. To retain the old behavior, use either `df[df.columns[i]] = newvals` or, if columns are non-unique, `df.isetitem(i, newvals)`\n",
      "C:\\Users\\10122055\\OneDrive - NTT DATA Business Solutions\\Projekter\\Machine_Learning_Models\\.venv\\lib\\site-packages\\supervised\\preprocessing\\scale.py:35: FutureWarning: In a future version, `df.iloc[:, i] = newvals` will attempt to set the values inplace instead of always setting a new array. To retain the old behavior, use either `df[df.columns[i]] = newvals` or, if columns are non-unique, `df.isetitem(i, newvals)`\n",
      "C:\\Users\\10122055\\OneDrive - NTT DATA Business Solutions\\Projekter\\Machine_Learning_Models\\.venv\\lib\\site-packages\\supervised\\preprocessing\\scale.py:35: FutureWarning: In a future version, `df.iloc[:, i] = newvals` will attempt to set the values inplace instead of always setting a new array. To retain the old behavior, use either `df[df.columns[i]] = newvals` or, if columns are non-unique, `df.isetitem(i, newvals)`\n",
      "C:\\Users\\10122055\\OneDrive - NTT DATA Business Solutions\\Projekter\\Machine_Learning_Models\\.venv\\lib\\site-packages\\supervised\\preprocessing\\scale.py:35: FutureWarning: In a future version, `df.iloc[:, i] = newvals` will attempt to set the values inplace instead of always setting a new array. To retain the old behavior, use either `df[df.columns[i]] = newvals` or, if columns are non-unique, `df.isetitem(i, newvals)`\n"
     ]
    },
    {
     "name": "stdout",
     "output_type": "stream",
     "text": [
      "8_Default_NeuralNetwork_Stacked rmse 6.829121 trained in 7.52 seconds\n",
      "* Step ensemble_stacked will try to check up to 1 model\n",
      "Ensemble_Stacked rmse 6.37972 trained in 2.6 seconds\n",
      "AutoML fit time: 310.79 seconds\n",
      "AutoML best model: Ensemble_Stacked\n"
     ]
    },
    {
     "data": {
      "text/html": [
       "<style>#sk-container-id-1 {color: black;background-color: white;}#sk-container-id-1 pre{padding: 0;}#sk-container-id-1 div.sk-toggleable {background-color: white;}#sk-container-id-1 label.sk-toggleable__label {cursor: pointer;display: block;width: 100%;margin-bottom: 0;padding: 0.3em;box-sizing: border-box;text-align: center;}#sk-container-id-1 label.sk-toggleable__label-arrow:before {content: \"▸\";float: left;margin-right: 0.25em;color: #696969;}#sk-container-id-1 label.sk-toggleable__label-arrow:hover:before {color: black;}#sk-container-id-1 div.sk-estimator:hover label.sk-toggleable__label-arrow:before {color: black;}#sk-container-id-1 div.sk-toggleable__content {max-height: 0;max-width: 0;overflow: hidden;text-align: left;background-color: #f0f8ff;}#sk-container-id-1 div.sk-toggleable__content pre {margin: 0.2em;color: black;border-radius: 0.25em;background-color: #f0f8ff;}#sk-container-id-1 input.sk-toggleable__control:checked~div.sk-toggleable__content {max-height: 200px;max-width: 100%;overflow: auto;}#sk-container-id-1 input.sk-toggleable__control:checked~label.sk-toggleable__label-arrow:before {content: \"▾\";}#sk-container-id-1 div.sk-estimator input.sk-toggleable__control:checked~label.sk-toggleable__label {background-color: #d4ebff;}#sk-container-id-1 div.sk-label input.sk-toggleable__control:checked~label.sk-toggleable__label {background-color: #d4ebff;}#sk-container-id-1 input.sk-hidden--visually {border: 0;clip: rect(1px 1px 1px 1px);clip: rect(1px, 1px, 1px, 1px);height: 1px;margin: -1px;overflow: hidden;padding: 0;position: absolute;width: 1px;}#sk-container-id-1 div.sk-estimator {font-family: monospace;background-color: #f0f8ff;border: 1px dotted black;border-radius: 0.25em;box-sizing: border-box;margin-bottom: 0.5em;}#sk-container-id-1 div.sk-estimator:hover {background-color: #d4ebff;}#sk-container-id-1 div.sk-parallel-item::after {content: \"\";width: 100%;border-bottom: 1px solid gray;flex-grow: 1;}#sk-container-id-1 div.sk-label:hover label.sk-toggleable__label {background-color: #d4ebff;}#sk-container-id-1 div.sk-serial::before {content: \"\";position: absolute;border-left: 1px solid gray;box-sizing: border-box;top: 0;bottom: 0;left: 50%;z-index: 0;}#sk-container-id-1 div.sk-serial {display: flex;flex-direction: column;align-items: center;background-color: white;padding-right: 0.2em;padding-left: 0.2em;position: relative;}#sk-container-id-1 div.sk-item {position: relative;z-index: 1;}#sk-container-id-1 div.sk-parallel {display: flex;align-items: stretch;justify-content: center;background-color: white;position: relative;}#sk-container-id-1 div.sk-item::before, #sk-container-id-1 div.sk-parallel-item::before {content: \"\";position: absolute;border-left: 1px solid gray;box-sizing: border-box;top: 0;bottom: 0;left: 50%;z-index: -1;}#sk-container-id-1 div.sk-parallel-item {display: flex;flex-direction: column;z-index: 1;position: relative;background-color: white;}#sk-container-id-1 div.sk-parallel-item:first-child::after {align-self: flex-end;width: 50%;}#sk-container-id-1 div.sk-parallel-item:last-child::after {align-self: flex-start;width: 50%;}#sk-container-id-1 div.sk-parallel-item:only-child::after {width: 0;}#sk-container-id-1 div.sk-dashed-wrapped {border: 1px dashed gray;margin: 0 0.4em 0.5em 0.4em;box-sizing: border-box;padding-bottom: 0.4em;background-color: white;}#sk-container-id-1 div.sk-label label {font-family: monospace;font-weight: bold;display: inline-block;line-height: 1.2em;}#sk-container-id-1 div.sk-label-container {text-align: center;}#sk-container-id-1 div.sk-container {/* jupyter's `normalize.less` sets `[hidden] { display: none; }` but bootstrap.min.css set `[hidden] { display: none !important; }` so we also need the `!important` here to be able to override the default hidden behavior on the sphinx rendered scikit-learn.org. See: https://github.com/scikit-learn/scikit-learn/issues/21755 */display: inline-block !important;position: relative;}#sk-container-id-1 div.sk-text-repr-fallback {display: none;}</style><div id=\"sk-container-id-1\" class=\"sk-top-container\"><div class=\"sk-text-repr-fallback\"><pre>AutoML(mode=&#x27;Compete&#x27;, random_state=42, total_time_limit=300)</pre><b>In a Jupyter environment, please rerun this cell to show the HTML representation or trust the notebook. <br />On GitHub, the HTML representation is unable to render, please try loading this page with nbviewer.org.</b></div><div class=\"sk-container\" hidden><div class=\"sk-item\"><div class=\"sk-estimator sk-toggleable\"><input class=\"sk-toggleable__control sk-hidden--visually\" id=\"sk-estimator-id-1\" type=\"checkbox\" checked><label for=\"sk-estimator-id-1\" class=\"sk-toggleable__label sk-toggleable__label-arrow\">AutoML</label><div class=\"sk-toggleable__content\"><pre>AutoML(mode=&#x27;Compete&#x27;, random_state=42, total_time_limit=300)</pre></div></div></div></div></div>"
      ],
      "text/plain": [
       "AutoML(mode='Compete', random_state=42, total_time_limit=300)"
      ]
     },
     "execution_count": 8,
     "metadata": {},
     "output_type": "execute_result"
    }
   ],
   "source": [
    "automl = AutoML(mode=\"Compete\", \n",
    "                total_time_limit=total_time_limit, \n",
    "                random_state=random_state)\n",
    "automl.fit(x_train, y_train)"
   ]
  },
  {
   "cell_type": "code",
   "execution_count": 9,
   "id": "0dcf01f2-0c9f-42f6-83b5-555b0b35ec99",
   "metadata": {},
   "outputs": [
    {
     "name": "stderr",
     "output_type": "stream",
     "text": [
      "C:\\Users\\10122055\\OneDrive - NTT DATA Business Solutions\\Projekter\\Machine_Learning_Models\\.venv\\lib\\site-packages\\supervised\\preprocessing\\scale.py:35: FutureWarning: In a future version, `df.iloc[:, i] = newvals` will attempt to set the values inplace instead of always setting a new array. To retain the old behavior, use either `df[df.columns[i]] = newvals` or, if columns are non-unique, `df.isetitem(i, newvals)`\n",
      "C:\\Users\\10122055\\OneDrive - NTT DATA Business Solutions\\Projekter\\Machine_Learning_Models\\.venv\\lib\\site-packages\\supervised\\preprocessing\\scale.py:35: FutureWarning: In a future version, `df.iloc[:, i] = newvals` will attempt to set the values inplace instead of always setting a new array. To retain the old behavior, use either `df[df.columns[i]] = newvals` or, if columns are non-unique, `df.isetitem(i, newvals)`\n",
      "C:\\Users\\10122055\\OneDrive - NTT DATA Business Solutions\\Projekter\\Machine_Learning_Models\\.venv\\lib\\site-packages\\supervised\\preprocessing\\scale.py:35: FutureWarning: In a future version, `df.iloc[:, i] = newvals` will attempt to set the values inplace instead of always setting a new array. To retain the old behavior, use either `df[df.columns[i]] = newvals` or, if columns are non-unique, `df.isetitem(i, newvals)`\n",
      "C:\\Users\\10122055\\OneDrive - NTT DATA Business Solutions\\Projekter\\Machine_Learning_Models\\.venv\\lib\\site-packages\\supervised\\preprocessing\\scale.py:35: FutureWarning: In a future version, `df.iloc[:, i] = newvals` will attempt to set the values inplace instead of always setting a new array. To retain the old behavior, use either `df[df.columns[i]] = newvals` or, if columns are non-unique, `df.isetitem(i, newvals)`\n",
      "C:\\Users\\10122055\\OneDrive - NTT DATA Business Solutions\\Projekter\\Machine_Learning_Models\\.venv\\lib\\site-packages\\supervised\\preprocessing\\scale.py:35: FutureWarning: In a future version, `df.iloc[:, i] = newvals` will attempt to set the values inplace instead of always setting a new array. To retain the old behavior, use either `df[df.columns[i]] = newvals` or, if columns are non-unique, `df.isetitem(i, newvals)`\n",
      "C:\\Users\\10122055\\OneDrive - NTT DATA Business Solutions\\Projekter\\Machine_Learning_Models\\.venv\\lib\\site-packages\\supervised\\preprocessing\\scale.py:35: FutureWarning: In a future version, `df.iloc[:, i] = newvals` will attempt to set the values inplace instead of always setting a new array. To retain the old behavior, use either `df[df.columns[i]] = newvals` or, if columns are non-unique, `df.isetitem(i, newvals)`\n",
      "C:\\Users\\10122055\\OneDrive - NTT DATA Business Solutions\\Projekter\\Machine_Learning_Models\\.venv\\lib\\site-packages\\supervised\\preprocessing\\scale.py:35: FutureWarning: In a future version, `df.iloc[:, i] = newvals` will attempt to set the values inplace instead of always setting a new array. To retain the old behavior, use either `df[df.columns[i]] = newvals` or, if columns are non-unique, `df.isetitem(i, newvals)`\n",
      "C:\\Users\\10122055\\OneDrive - NTT DATA Business Solutions\\Projekter\\Machine_Learning_Models\\.venv\\lib\\site-packages\\supervised\\preprocessing\\scale.py:35: FutureWarning: In a future version, `df.iloc[:, i] = newvals` will attempt to set the values inplace instead of always setting a new array. To retain the old behavior, use either `df[df.columns[i]] = newvals` or, if columns are non-unique, `df.isetitem(i, newvals)`\n",
      "C:\\Users\\10122055\\OneDrive - NTT DATA Business Solutions\\Projekter\\Machine_Learning_Models\\.venv\\lib\\site-packages\\supervised\\preprocessing\\scale.py:35: FutureWarning: In a future version, `df.iloc[:, i] = newvals` will attempt to set the values inplace instead of always setting a new array. To retain the old behavior, use either `df[df.columns[i]] = newvals` or, if columns are non-unique, `df.isetitem(i, newvals)`\n",
      "C:\\Users\\10122055\\OneDrive - NTT DATA Business Solutions\\Projekter\\Machine_Learning_Models\\.venv\\lib\\site-packages\\supervised\\preprocessing\\scale.py:35: FutureWarning: In a future version, `df.iloc[:, i] = newvals` will attempt to set the values inplace instead of always setting a new array. To retain the old behavior, use either `df[df.columns[i]] = newvals` or, if columns are non-unique, `df.isetitem(i, newvals)`\n",
      "C:\\Users\\10122055\\OneDrive - NTT DATA Business Solutions\\Projekter\\Machine_Learning_Models\\.venv\\lib\\site-packages\\supervised\\preprocessing\\scale.py:35: FutureWarning: In a future version, `df.iloc[:, i] = newvals` will attempt to set the values inplace instead of always setting a new array. To retain the old behavior, use either `df[df.columns[i]] = newvals` or, if columns are non-unique, `df.isetitem(i, newvals)`\n",
      "C:\\Users\\10122055\\OneDrive - NTT DATA Business Solutions\\Projekter\\Machine_Learning_Models\\.venv\\lib\\site-packages\\supervised\\preprocessing\\scale.py:35: FutureWarning: In a future version, `df.iloc[:, i] = newvals` will attempt to set the values inplace instead of always setting a new array. To retain the old behavior, use either `df[df.columns[i]] = newvals` or, if columns are non-unique, `df.isetitem(i, newvals)`\n",
      "C:\\Users\\10122055\\OneDrive - NTT DATA Business Solutions\\Projekter\\Machine_Learning_Models\\.venv\\lib\\site-packages\\supervised\\preprocessing\\scale.py:35: FutureWarning: In a future version, `df.iloc[:, i] = newvals` will attempt to set the values inplace instead of always setting a new array. To retain the old behavior, use either `df[df.columns[i]] = newvals` or, if columns are non-unique, `df.isetitem(i, newvals)`\n",
      "C:\\Users\\10122055\\OneDrive - NTT DATA Business Solutions\\Projekter\\Machine_Learning_Models\\.venv\\lib\\site-packages\\supervised\\preprocessing\\scale.py:35: FutureWarning: In a future version, `df.iloc[:, i] = newvals` will attempt to set the values inplace instead of always setting a new array. To retain the old behavior, use either `df[df.columns[i]] = newvals` or, if columns are non-unique, `df.isetitem(i, newvals)`\n",
      "C:\\Users\\10122055\\OneDrive - NTT DATA Business Solutions\\Projekter\\Machine_Learning_Models\\.venv\\lib\\site-packages\\supervised\\preprocessing\\scale.py:35: FutureWarning: In a future version, `df.iloc[:, i] = newvals` will attempt to set the values inplace instead of always setting a new array. To retain the old behavior, use either `df[df.columns[i]] = newvals` or, if columns are non-unique, `df.isetitem(i, newvals)`\n",
      "C:\\Users\\10122055\\OneDrive - NTT DATA Business Solutions\\Projekter\\Machine_Learning_Models\\.venv\\lib\\site-packages\\supervised\\preprocessing\\scale.py:35: FutureWarning: In a future version, `df.iloc[:, i] = newvals` will attempt to set the values inplace instead of always setting a new array. To retain the old behavior, use either `df[df.columns[i]] = newvals` or, if columns are non-unique, `df.isetitem(i, newvals)`\n",
      "C:\\Users\\10122055\\OneDrive - NTT DATA Business Solutions\\Projekter\\Machine_Learning_Models\\.venv\\lib\\site-packages\\supervised\\preprocessing\\scale.py:35: FutureWarning: In a future version, `df.iloc[:, i] = newvals` will attempt to set the values inplace instead of always setting a new array. To retain the old behavior, use either `df[df.columns[i]] = newvals` or, if columns are non-unique, `df.isetitem(i, newvals)`\n",
      "C:\\Users\\10122055\\OneDrive - NTT DATA Business Solutions\\Projekter\\Machine_Learning_Models\\.venv\\lib\\site-packages\\supervised\\preprocessing\\scale.py:35: FutureWarning: In a future version, `df.iloc[:, i] = newvals` will attempt to set the values inplace instead of always setting a new array. To retain the old behavior, use either `df[df.columns[i]] = newvals` or, if columns are non-unique, `df.isetitem(i, newvals)`\n",
      "C:\\Users\\10122055\\OneDrive - NTT DATA Business Solutions\\Projekter\\Machine_Learning_Models\\.venv\\lib\\site-packages\\supervised\\preprocessing\\scale.py:35: FutureWarning: In a future version, `df.iloc[:, i] = newvals` will attempt to set the values inplace instead of always setting a new array. To retain the old behavior, use either `df[df.columns[i]] = newvals` or, if columns are non-unique, `df.isetitem(i, newvals)`\n",
      "C:\\Users\\10122055\\OneDrive - NTT DATA Business Solutions\\Projekter\\Machine_Learning_Models\\.venv\\lib\\site-packages\\supervised\\preprocessing\\scale.py:35: FutureWarning: In a future version, `df.iloc[:, i] = newvals` will attempt to set the values inplace instead of always setting a new array. To retain the old behavior, use either `df[df.columns[i]] = newvals` or, if columns are non-unique, `df.isetitem(i, newvals)`\n",
      "C:\\Users\\10122055\\OneDrive - NTT DATA Business Solutions\\Projekter\\Machine_Learning_Models\\.venv\\lib\\site-packages\\supervised\\preprocessing\\scale.py:35: FutureWarning: In a future version, `df.iloc[:, i] = newvals` will attempt to set the values inplace instead of always setting a new array. To retain the old behavior, use either `df[df.columns[i]] = newvals` or, if columns are non-unique, `df.isetitem(i, newvals)`\n",
      "C:\\Users\\10122055\\OneDrive - NTT DATA Business Solutions\\Projekter\\Machine_Learning_Models\\.venv\\lib\\site-packages\\supervised\\preprocessing\\scale.py:35: FutureWarning: In a future version, `df.iloc[:, i] = newvals` will attempt to set the values inplace instead of always setting a new array. To retain the old behavior, use either `df[df.columns[i]] = newvals` or, if columns are non-unique, `df.isetitem(i, newvals)`\n",
      "C:\\Users\\10122055\\OneDrive - NTT DATA Business Solutions\\Projekter\\Machine_Learning_Models\\.venv\\lib\\site-packages\\supervised\\preprocessing\\scale.py:35: FutureWarning: In a future version, `df.iloc[:, i] = newvals` will attempt to set the values inplace instead of always setting a new array. To retain the old behavior, use either `df[df.columns[i]] = newvals` or, if columns are non-unique, `df.isetitem(i, newvals)`\n",
      "C:\\Users\\10122055\\OneDrive - NTT DATA Business Solutions\\Projekter\\Machine_Learning_Models\\.venv\\lib\\site-packages\\supervised\\preprocessing\\scale.py:35: FutureWarning: In a future version, `df.iloc[:, i] = newvals` will attempt to set the values inplace instead of always setting a new array. To retain the old behavior, use either `df[df.columns[i]] = newvals` or, if columns are non-unique, `df.isetitem(i, newvals)`\n",
      "C:\\Users\\10122055\\OneDrive - NTT DATA Business Solutions\\Projekter\\Machine_Learning_Models\\.venv\\lib\\site-packages\\supervised\\preprocessing\\scale.py:35: FutureWarning: In a future version, `df.iloc[:, i] = newvals` will attempt to set the values inplace instead of always setting a new array. To retain the old behavior, use either `df[df.columns[i]] = newvals` or, if columns are non-unique, `df.isetitem(i, newvals)`\n"
     ]
    },
    {
     "name": "stdout",
     "output_type": "stream",
     "text": [
      "Test spearman: SpearmanrResult(correlation=0.7325577610190409, pvalue=0.0)\n"
     ]
    },
    {
     "name": "stderr",
     "output_type": "stream",
     "text": [
      "C:\\Users\\10122055\\OneDrive - NTT DATA Business Solutions\\Projekter\\Machine_Learning_Models\\.venv\\lib\\site-packages\\supervised\\preprocessing\\scale.py:35: FutureWarning: In a future version, `df.iloc[:, i] = newvals` will attempt to set the values inplace instead of always setting a new array. To retain the old behavior, use either `df[df.columns[i]] = newvals` or, if columns are non-unique, `df.isetitem(i, newvals)`\n",
      "C:\\Users\\10122055\\OneDrive - NTT DATA Business Solutions\\Projekter\\Machine_Learning_Models\\.venv\\lib\\site-packages\\supervised\\preprocessing\\scale.py:35: FutureWarning: In a future version, `df.iloc[:, i] = newvals` will attempt to set the values inplace instead of always setting a new array. To retain the old behavior, use either `df[df.columns[i]] = newvals` or, if columns are non-unique, `df.isetitem(i, newvals)`\n",
      "C:\\Users\\10122055\\OneDrive - NTT DATA Business Solutions\\Projekter\\Machine_Learning_Models\\.venv\\lib\\site-packages\\supervised\\preprocessing\\scale.py:35: FutureWarning: In a future version, `df.iloc[:, i] = newvals` will attempt to set the values inplace instead of always setting a new array. To retain the old behavior, use either `df[df.columns[i]] = newvals` or, if columns are non-unique, `df.isetitem(i, newvals)`\n",
      "C:\\Users\\10122055\\OneDrive - NTT DATA Business Solutions\\Projekter\\Machine_Learning_Models\\.venv\\lib\\site-packages\\supervised\\preprocessing\\scale.py:35: FutureWarning: In a future version, `df.iloc[:, i] = newvals` will attempt to set the values inplace instead of always setting a new array. To retain the old behavior, use either `df[df.columns[i]] = newvals` or, if columns are non-unique, `df.isetitem(i, newvals)`\n",
      "C:\\Users\\10122055\\OneDrive - NTT DATA Business Solutions\\Projekter\\Machine_Learning_Models\\.venv\\lib\\site-packages\\supervised\\preprocessing\\scale.py:35: FutureWarning: In a future version, `df.iloc[:, i] = newvals` will attempt to set the values inplace instead of always setting a new array. To retain the old behavior, use either `df[df.columns[i]] = newvals` or, if columns are non-unique, `df.isetitem(i, newvals)`\n",
      "C:\\Users\\10122055\\OneDrive - NTT DATA Business Solutions\\Projekter\\Machine_Learning_Models\\.venv\\lib\\site-packages\\supervised\\preprocessing\\scale.py:35: FutureWarning: In a future version, `df.iloc[:, i] = newvals` will attempt to set the values inplace instead of always setting a new array. To retain the old behavior, use either `df[df.columns[i]] = newvals` or, if columns are non-unique, `df.isetitem(i, newvals)`\n",
      "C:\\Users\\10122055\\OneDrive - NTT DATA Business Solutions\\Projekter\\Machine_Learning_Models\\.venv\\lib\\site-packages\\supervised\\preprocessing\\scale.py:35: FutureWarning: In a future version, `df.iloc[:, i] = newvals` will attempt to set the values inplace instead of always setting a new array. To retain the old behavior, use either `df[df.columns[i]] = newvals` or, if columns are non-unique, `df.isetitem(i, newvals)`\n",
      "C:\\Users\\10122055\\OneDrive - NTT DATA Business Solutions\\Projekter\\Machine_Learning_Models\\.venv\\lib\\site-packages\\supervised\\preprocessing\\scale.py:35: FutureWarning: In a future version, `df.iloc[:, i] = newvals` will attempt to set the values inplace instead of always setting a new array. To retain the old behavior, use either `df[df.columns[i]] = newvals` or, if columns are non-unique, `df.isetitem(i, newvals)`\n",
      "C:\\Users\\10122055\\OneDrive - NTT DATA Business Solutions\\Projekter\\Machine_Learning_Models\\.venv\\lib\\site-packages\\supervised\\preprocessing\\scale.py:35: FutureWarning: In a future version, `df.iloc[:, i] = newvals` will attempt to set the values inplace instead of always setting a new array. To retain the old behavior, use either `df[df.columns[i]] = newvals` or, if columns are non-unique, `df.isetitem(i, newvals)`\n",
      "C:\\Users\\10122055\\OneDrive - NTT DATA Business Solutions\\Projekter\\Machine_Learning_Models\\.venv\\lib\\site-packages\\supervised\\preprocessing\\scale.py:35: FutureWarning: In a future version, `df.iloc[:, i] = newvals` will attempt to set the values inplace instead of always setting a new array. To retain the old behavior, use either `df[df.columns[i]] = newvals` or, if columns are non-unique, `df.isetitem(i, newvals)`\n",
      "C:\\Users\\10122055\\OneDrive - NTT DATA Business Solutions\\Projekter\\Machine_Learning_Models\\.venv\\lib\\site-packages\\supervised\\preprocessing\\scale.py:35: FutureWarning: In a future version, `df.iloc[:, i] = newvals` will attempt to set the values inplace instead of always setting a new array. To retain the old behavior, use either `df[df.columns[i]] = newvals` or, if columns are non-unique, `df.isetitem(i, newvals)`\n",
      "C:\\Users\\10122055\\OneDrive - NTT DATA Business Solutions\\Projekter\\Machine_Learning_Models\\.venv\\lib\\site-packages\\supervised\\preprocessing\\scale.py:35: FutureWarning: In a future version, `df.iloc[:, i] = newvals` will attempt to set the values inplace instead of always setting a new array. To retain the old behavior, use either `df[df.columns[i]] = newvals` or, if columns are non-unique, `df.isetitem(i, newvals)`\n",
      "C:\\Users\\10122055\\OneDrive - NTT DATA Business Solutions\\Projekter\\Machine_Learning_Models\\.venv\\lib\\site-packages\\supervised\\preprocessing\\scale.py:35: FutureWarning: In a future version, `df.iloc[:, i] = newvals` will attempt to set the values inplace instead of always setting a new array. To retain the old behavior, use either `df[df.columns[i]] = newvals` or, if columns are non-unique, `df.isetitem(i, newvals)`\n",
      "C:\\Users\\10122055\\OneDrive - NTT DATA Business Solutions\\Projekter\\Machine_Learning_Models\\.venv\\lib\\site-packages\\supervised\\preprocessing\\scale.py:35: FutureWarning: In a future version, `df.iloc[:, i] = newvals` will attempt to set the values inplace instead of always setting a new array. To retain the old behavior, use either `df[df.columns[i]] = newvals` or, if columns are non-unique, `df.isetitem(i, newvals)`\n",
      "C:\\Users\\10122055\\OneDrive - NTT DATA Business Solutions\\Projekter\\Machine_Learning_Models\\.venv\\lib\\site-packages\\supervised\\preprocessing\\scale.py:35: FutureWarning: In a future version, `df.iloc[:, i] = newvals` will attempt to set the values inplace instead of always setting a new array. To retain the old behavior, use either `df[df.columns[i]] = newvals` or, if columns are non-unique, `df.isetitem(i, newvals)`\n",
      "C:\\Users\\10122055\\OneDrive - NTT DATA Business Solutions\\Projekter\\Machine_Learning_Models\\.venv\\lib\\site-packages\\supervised\\preprocessing\\scale.py:35: FutureWarning: In a future version, `df.iloc[:, i] = newvals` will attempt to set the values inplace instead of always setting a new array. To retain the old behavior, use either `df[df.columns[i]] = newvals` or, if columns are non-unique, `df.isetitem(i, newvals)`\n",
      "C:\\Users\\10122055\\OneDrive - NTT DATA Business Solutions\\Projekter\\Machine_Learning_Models\\.venv\\lib\\site-packages\\supervised\\preprocessing\\scale.py:35: FutureWarning: In a future version, `df.iloc[:, i] = newvals` will attempt to set the values inplace instead of always setting a new array. To retain the old behavior, use either `df[df.columns[i]] = newvals` or, if columns are non-unique, `df.isetitem(i, newvals)`\n",
      "C:\\Users\\10122055\\OneDrive - NTT DATA Business Solutions\\Projekter\\Machine_Learning_Models\\.venv\\lib\\site-packages\\supervised\\preprocessing\\scale.py:35: FutureWarning: In a future version, `df.iloc[:, i] = newvals` will attempt to set the values inplace instead of always setting a new array. To retain the old behavior, use either `df[df.columns[i]] = newvals` or, if columns are non-unique, `df.isetitem(i, newvals)`\n",
      "C:\\Users\\10122055\\OneDrive - NTT DATA Business Solutions\\Projekter\\Machine_Learning_Models\\.venv\\lib\\site-packages\\supervised\\preprocessing\\scale.py:35: FutureWarning: In a future version, `df.iloc[:, i] = newvals` will attempt to set the values inplace instead of always setting a new array. To retain the old behavior, use either `df[df.columns[i]] = newvals` or, if columns are non-unique, `df.isetitem(i, newvals)`\n",
      "C:\\Users\\10122055\\OneDrive - NTT DATA Business Solutions\\Projekter\\Machine_Learning_Models\\.venv\\lib\\site-packages\\supervised\\preprocessing\\scale.py:35: FutureWarning: In a future version, `df.iloc[:, i] = newvals` will attempt to set the values inplace instead of always setting a new array. To retain the old behavior, use either `df[df.columns[i]] = newvals` or, if columns are non-unique, `df.isetitem(i, newvals)`\n",
      "C:\\Users\\10122055\\OneDrive - NTT DATA Business Solutions\\Projekter\\Machine_Learning_Models\\.venv\\lib\\site-packages\\supervised\\preprocessing\\scale.py:35: FutureWarning: In a future version, `df.iloc[:, i] = newvals` will attempt to set the values inplace instead of always setting a new array. To retain the old behavior, use either `df[df.columns[i]] = newvals` or, if columns are non-unique, `df.isetitem(i, newvals)`\n",
      "C:\\Users\\10122055\\OneDrive - NTT DATA Business Solutions\\Projekter\\Machine_Learning_Models\\.venv\\lib\\site-packages\\supervised\\preprocessing\\scale.py:35: FutureWarning: In a future version, `df.iloc[:, i] = newvals` will attempt to set the values inplace instead of always setting a new array. To retain the old behavior, use either `df[df.columns[i]] = newvals` or, if columns are non-unique, `df.isetitem(i, newvals)`\n",
      "C:\\Users\\10122055\\OneDrive - NTT DATA Business Solutions\\Projekter\\Machine_Learning_Models\\.venv\\lib\\site-packages\\supervised\\preprocessing\\scale.py:35: FutureWarning: In a future version, `df.iloc[:, i] = newvals` will attempt to set the values inplace instead of always setting a new array. To retain the old behavior, use either `df[df.columns[i]] = newvals` or, if columns are non-unique, `df.isetitem(i, newvals)`\n",
      "C:\\Users\\10122055\\OneDrive - NTT DATA Business Solutions\\Projekter\\Machine_Learning_Models\\.venv\\lib\\site-packages\\supervised\\preprocessing\\scale.py:35: FutureWarning: In a future version, `df.iloc[:, i] = newvals` will attempt to set the values inplace instead of always setting a new array. To retain the old behavior, use either `df[df.columns[i]] = newvals` or, if columns are non-unique, `df.isetitem(i, newvals)`\n",
      "C:\\Users\\10122055\\OneDrive - NTT DATA Business Solutions\\Projekter\\Machine_Learning_Models\\.venv\\lib\\site-packages\\supervised\\preprocessing\\scale.py:35: FutureWarning: In a future version, `df.iloc[:, i] = newvals` will attempt to set the values inplace instead of always setting a new array. To retain the old behavior, use either `df[df.columns[i]] = newvals` or, if columns are non-unique, `df.isetitem(i, newvals)`\n"
     ]
    }
   ],
   "source": [
    "predictions = automl.predict(x_test)\n",
    "print(\"Test spearman:\", spearmanr(y_test, predictions))\n",
    "submission[\"tm\"] = automl.predict(df_test)\n",
    "submission.to_csv(f\"submission_automl_ver{VER}.csv\", index=False)"
   ]
  }
 ],
 "metadata": {
  "kernelspec": {
   "display_name": "Python 3 (ipykernel)",
   "language": "python",
   "name": "python3"
  },
  "language_info": {
   "codemirror_mode": {
    "name": "ipython",
    "version": 3
   },
   "file_extension": ".py",
   "mimetype": "text/x-python",
   "name": "python",
   "nbconvert_exporter": "python",
   "pygments_lexer": "ipython3",
   "version": "3.10.7"
  }
 },
 "nbformat": 4,
 "nbformat_minor": 5
}
