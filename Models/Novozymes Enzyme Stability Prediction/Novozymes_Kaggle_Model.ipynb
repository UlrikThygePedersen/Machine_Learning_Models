{
 "cells": [
  {
   "cell_type": "markdown",
   "id": "441f67ca-b1c0-404a-9750-bdd940fa4a94",
   "metadata": {
    "tags": []
   },
   "source": [
    "# Novozymes Enzyme Stability Prediction - Random Forest Regressor Approach"
   ]
  },
  {
   "cell_type": "markdown",
   "id": "fcc38323-8ffa-4111-85e0-d090e9649bb9",
   "metadata": {},
   "source": [
    "# House Keeping"
   ]
  },
  {
   "cell_type": "code",
   "execution_count": 1,
   "id": "f7252d81",
   "metadata": {
    "_cell_guid": "b1076dfc-b9ad-4769-8c92-a6c4dae69d19",
    "_uuid": "8f2839f25d086af736a60e9eeb907d3b93b6e0e5",
    "papermill": {
     "duration": 0.031744,
     "end_time": "2022-11-24T06:52:20.596664",
     "exception": false,
     "start_time": "2022-11-24T06:52:20.564920",
     "status": "completed"
    },
    "tags": []
   },
   "outputs": [],
   "source": [
    "# import libraries\n",
    "\n",
    "import numpy as np # linear algebra stuff\n",
    "import pandas as pd # data processing stuff\n",
    "import seaborn as sns # plot fancy stuff\n",
    "import matplotlib.pyplot as plt # plot stuff\n",
    "import re # RegEx to find stuff\n",
    "from IPython.display import FileLink # add stuff to file\n",
    "import os # operating stuff\n",
    "\n",
    "from sklearn.ensemble import RandomForestRegressor # model to predict stuff\n",
    "from sklearn.model_selection import train_test_split # splitting stuff into more stuff\n",
    "from sklearn.model_selection import RandomizedSearchCV # check random stuff \n",
    "from sklearn import metrics # check stats on stuff\n",
    "\n",
    "from scipy import stats # stats on stuff\n",
    "from scipy.stats import randint # random stuff\n",
    "from scipy.stats import spearmanr # coefficient of stuff"
   ]
  },
  {
   "cell_type": "code",
   "execution_count": 2,
   "id": "9397907e-d447-4a2c-973f-7f1e48f5c6e8",
   "metadata": {},
   "outputs": [
    {
     "name": "stdout",
     "output_type": "stream",
     "text": [
      "Files in currenct directory:\n",
      "\n",
      ".\\jointplot.png\n",
      ".\\Novozymes_Kaggle_Model.ipynb\n",
      ".\\README.md\n",
      ".\\sample_submission.csv\n",
      ".\\submission.csv\n",
      ".\\test.csv\n",
      ".\\train.csv\n",
      ".\\train_updates_20220929.csv\n",
      ".\\wildtype_structure_prediction_af2.pdb\n",
      ".\\.ipynb_checkpoints\\enzyme-stability-prediction-rand-forest-approch-checkpoint.ipynb\n",
      ".\\.ipynb_checkpoints\\Novozymes_Kaggle_Model-checkpoint.ipynb\n",
      ".\\.ipynb_checkpoints\\sample_submission-checkpoint.csv\n",
      ".\\.ipynb_checkpoints\\wildtype_structure_prediction_af2-checkpoint.pdb\n"
     ]
    }
   ],
   "source": [
    "# list files in cd\n",
    "print('Files in currenct directory:\\n')\n",
    "for dirname, _, filenames in os.walk('.'):\n",
    "    for filename in filenames:\n",
    "        print(os.path.join(dirname, filename))"
   ]
  },
  {
   "cell_type": "code",
   "execution_count": 3,
   "id": "57685bf0",
   "metadata": {
    "papermill": {
     "duration": 0.453853,
     "end_time": "2022-11-24T06:52:22.304175",
     "exception": false,
     "start_time": "2022-11-24T06:52:21.850322",
     "status": "completed"
    },
    "tags": []
   },
   "outputs": [
    {
     "name": "stdout",
     "output_type": "stream",
     "text": [
      "Loaded the training dataset with the size (31390, 5) and columns ['seq_id', 'protein_sequence', 'pH', 'data_source', 'tm']\n",
      "\n",
      "Loaded the updates to the training dataset with the size (2434, 5) and columns ['seq_id', 'protein_sequence', 'pH', 'data_source', 'tm']\n",
      "\n",
      "Loaded the test dataset with the size (2413, 4) and columns ['seq_id', 'protein_sequence', 'pH', 'data_source']\n"
     ]
    }
   ],
   "source": [
    "# Load traning set\n",
    "train = pd.read_csv('train.csv')\n",
    "print(f'Loaded the training dataset with the size {train.shape} and columns {[train.columns[n] for n in range(len(train.columns))]}')\n",
    "\n",
    "# Load updates to the training set\n",
    "train_update = pd.read_csv('train_updates_20220929.csv')\n",
    "print(f'\\nLoaded the updates to the training dataset with the size {train_update.shape} and columns {[train_update.columns[n] for n in range(len(train_update.columns))]}')\n",
    "\n",
    "# Load test set \n",
    "test = pd.read_csv('test.csv')\n",
    "print(f'\\nLoaded the test dataset with the size {test.shape} and columns {[test.columns[n] for n in range(len(test.columns))]}')"
   ]
  },
  {
   "cell_type": "markdown",
   "id": "60fc13b5-70be-46eb-ae4b-2db69e7ac6d9",
   "metadata": {
    "tags": []
   },
   "source": [
    "# Exploratory Data Analysis"
   ]
  },
  {
   "cell_type": "code",
   "execution_count": 4,
   "id": "2ee87bcf",
   "metadata": {
    "papermill": {
     "duration": 0.031552,
     "end_time": "2022-11-24T06:52:22.556444",
     "exception": false,
     "start_time": "2022-11-24T06:52:22.524892",
     "status": "completed"
    },
    "tags": []
   },
   "outputs": [
    {
     "data": {
      "text/html": [
       "<div>\n",
       "<style scoped>\n",
       "    .dataframe tbody tr th:only-of-type {\n",
       "        vertical-align: middle;\n",
       "    }\n",
       "\n",
       "    .dataframe tbody tr th {\n",
       "        vertical-align: top;\n",
       "    }\n",
       "\n",
       "    .dataframe thead th {\n",
       "        text-align: right;\n",
       "    }\n",
       "</style>\n",
       "<table border=\"1\" class=\"dataframe\">\n",
       "  <thead>\n",
       "    <tr style=\"text-align: right;\">\n",
       "      <th></th>\n",
       "      <th>seq_id</th>\n",
       "      <th>protein_sequence</th>\n",
       "      <th>pH</th>\n",
       "      <th>data_source</th>\n",
       "      <th>tm</th>\n",
       "    </tr>\n",
       "  </thead>\n",
       "  <tbody>\n",
       "    <tr>\n",
       "      <th>0</th>\n",
       "      <td>0</td>\n",
       "      <td>AAAAKAAALALLGEAPEVVDIWLPAGWRQPFRVFRLERKGDGVLVG...</td>\n",
       "      <td>7.0</td>\n",
       "      <td>doi.org/10.1038/s41592-020-0801-4</td>\n",
       "      <td>75.7</td>\n",
       "    </tr>\n",
       "    <tr>\n",
       "      <th>1</th>\n",
       "      <td>1</td>\n",
       "      <td>AAADGEPLHNEEERAGAGQVGRSLPQESEEQRTGSRPRRRRDLGSR...</td>\n",
       "      <td>7.0</td>\n",
       "      <td>doi.org/10.1038/s41592-020-0801-4</td>\n",
       "      <td>50.5</td>\n",
       "    </tr>\n",
       "    <tr>\n",
       "      <th>2</th>\n",
       "      <td>2</td>\n",
       "      <td>AAAFSTPRATSYRILSSAGSGSTRADAPQVRRLHTTRDLLAKDYYA...</td>\n",
       "      <td>7.0</td>\n",
       "      <td>doi.org/10.1038/s41592-020-0801-4</td>\n",
       "      <td>40.5</td>\n",
       "    </tr>\n",
       "    <tr>\n",
       "      <th>3</th>\n",
       "      <td>3</td>\n",
       "      <td>AAASGLRTAIPAQPLRHLLQPAPRPCLRPFGLLSVRAGSARRSGLL...</td>\n",
       "      <td>7.0</td>\n",
       "      <td>doi.org/10.1038/s41592-020-0801-4</td>\n",
       "      <td>47.2</td>\n",
       "    </tr>\n",
       "    <tr>\n",
       "      <th>4</th>\n",
       "      <td>4</td>\n",
       "      <td>AAATKSGPRRQSQGASVRTFTPFYFLVEPVDTLSVRGSSVILNCSA...</td>\n",
       "      <td>7.0</td>\n",
       "      <td>doi.org/10.1038/s41592-020-0801-4</td>\n",
       "      <td>49.5</td>\n",
       "    </tr>\n",
       "  </tbody>\n",
       "</table>\n",
       "</div>"
      ],
      "text/plain": [
       "   seq_id                                   protein_sequence   pH  \\\n",
       "0       0  AAAAKAAALALLGEAPEVVDIWLPAGWRQPFRVFRLERKGDGVLVG...  7.0   \n",
       "1       1  AAADGEPLHNEEERAGAGQVGRSLPQESEEQRTGSRPRRRRDLGSR...  7.0   \n",
       "2       2  AAAFSTPRATSYRILSSAGSGSTRADAPQVRRLHTTRDLLAKDYYA...  7.0   \n",
       "3       3  AAASGLRTAIPAQPLRHLLQPAPRPCLRPFGLLSVRAGSARRSGLL...  7.0   \n",
       "4       4  AAATKSGPRRQSQGASVRTFTPFYFLVEPVDTLSVRGSSVILNCSA...  7.0   \n",
       "\n",
       "                         data_source    tm  \n",
       "0  doi.org/10.1038/s41592-020-0801-4  75.7  \n",
       "1  doi.org/10.1038/s41592-020-0801-4  50.5  \n",
       "2  doi.org/10.1038/s41592-020-0801-4  40.5  \n",
       "3  doi.org/10.1038/s41592-020-0801-4  47.2  \n",
       "4  doi.org/10.1038/s41592-020-0801-4  49.5  "
      ]
     },
     "execution_count": 4,
     "metadata": {},
     "output_type": "execute_result"
    }
   ],
   "source": [
    "train.head()"
   ]
  },
  {
   "cell_type": "code",
   "execution_count": 5,
   "id": "b00bdb84",
   "metadata": {
    "papermill": {
     "duration": 0.035451,
     "end_time": "2022-11-24T06:52:22.604199",
     "exception": false,
     "start_time": "2022-11-24T06:52:22.568748",
     "status": "completed"
    },
    "tags": []
   },
   "outputs": [
    {
     "name": "stdout",
     "output_type": "stream",
     "text": [
      "<class 'pandas.core.frame.DataFrame'>\n",
      "RangeIndex: 31390 entries, 0 to 31389\n",
      "Data columns (total 5 columns):\n",
      " #   Column            Non-Null Count  Dtype  \n",
      "---  ------            --------------  -----  \n",
      " 0   seq_id            31390 non-null  int64  \n",
      " 1   protein_sequence  31390 non-null  object \n",
      " 2   pH                31104 non-null  float64\n",
      " 3   data_source       28043 non-null  object \n",
      " 4   tm                31390 non-null  float64\n",
      "dtypes: float64(2), int64(1), object(2)\n",
      "memory usage: 1.2+ MB\n"
     ]
    }
   ],
   "source": [
    "train.info()"
   ]
  },
  {
   "cell_type": "code",
   "execution_count": 6,
   "id": "47cf5926",
   "metadata": {
    "papermill": {
     "duration": 0.042564,
     "end_time": "2022-11-24T06:52:22.659085",
     "exception": false,
     "start_time": "2022-11-24T06:52:22.616521",
     "status": "completed"
    },
    "tags": []
   },
   "outputs": [
    {
     "data": {
      "text/html": [
       "<div>\n",
       "<style scoped>\n",
       "    .dataframe tbody tr th:only-of-type {\n",
       "        vertical-align: middle;\n",
       "    }\n",
       "\n",
       "    .dataframe tbody tr th {\n",
       "        vertical-align: top;\n",
       "    }\n",
       "\n",
       "    .dataframe thead th {\n",
       "        text-align: right;\n",
       "    }\n",
       "</style>\n",
       "<table border=\"1\" class=\"dataframe\">\n",
       "  <thead>\n",
       "    <tr style=\"text-align: right;\">\n",
       "      <th></th>\n",
       "      <th>seq_id</th>\n",
       "      <th>pH</th>\n",
       "      <th>tm</th>\n",
       "    </tr>\n",
       "  </thead>\n",
       "  <tbody>\n",
       "    <tr>\n",
       "      <th>count</th>\n",
       "      <td>31390.000000</td>\n",
       "      <td>31104.000000</td>\n",
       "      <td>31390.000000</td>\n",
       "    </tr>\n",
       "    <tr>\n",
       "      <th>mean</th>\n",
       "      <td>15694.500000</td>\n",
       "      <td>6.892339</td>\n",
       "      <td>49.147337</td>\n",
       "    </tr>\n",
       "    <tr>\n",
       "      <th>std</th>\n",
       "      <td>9061.656811</td>\n",
       "      <td>1.612225</td>\n",
       "      <td>14.010089</td>\n",
       "    </tr>\n",
       "    <tr>\n",
       "      <th>min</th>\n",
       "      <td>0.000000</td>\n",
       "      <td>1.990000</td>\n",
       "      <td>-1.000000</td>\n",
       "    </tr>\n",
       "    <tr>\n",
       "      <th>25%</th>\n",
       "      <td>7847.250000</td>\n",
       "      <td>7.000000</td>\n",
       "      <td>42.100000</td>\n",
       "    </tr>\n",
       "    <tr>\n",
       "      <th>50%</th>\n",
       "      <td>15694.500000</td>\n",
       "      <td>7.000000</td>\n",
       "      <td>48.000000</td>\n",
       "    </tr>\n",
       "    <tr>\n",
       "      <th>75%</th>\n",
       "      <td>23541.750000</td>\n",
       "      <td>7.000000</td>\n",
       "      <td>53.800000</td>\n",
       "    </tr>\n",
       "    <tr>\n",
       "      <th>max</th>\n",
       "      <td>31389.000000</td>\n",
       "      <td>64.900000</td>\n",
       "      <td>130.000000</td>\n",
       "    </tr>\n",
       "  </tbody>\n",
       "</table>\n",
       "</div>"
      ],
      "text/plain": [
       "             seq_id            pH            tm\n",
       "count  31390.000000  31104.000000  31390.000000\n",
       "mean   15694.500000      6.892339     49.147337\n",
       "std     9061.656811      1.612225     14.010089\n",
       "min        0.000000      1.990000     -1.000000\n",
       "25%     7847.250000      7.000000     42.100000\n",
       "50%    15694.500000      7.000000     48.000000\n",
       "75%    23541.750000      7.000000     53.800000\n",
       "max    31389.000000     64.900000    130.000000"
      ]
     },
     "execution_count": 6,
     "metadata": {},
     "output_type": "execute_result"
    }
   ],
   "source": [
    "train.describe()"
   ]
  },
  {
   "cell_type": "code",
   "execution_count": 7,
   "id": "266d8687",
   "metadata": {
    "papermill": {
     "duration": 0.031314,
     "end_time": "2022-11-24T06:52:22.703035",
     "exception": false,
     "start_time": "2022-11-24T06:52:22.671721",
     "status": "completed"
    },
    "tags": []
   },
   "outputs": [
    {
     "data": {
      "text/html": [
       "<div>\n",
       "<style scoped>\n",
       "    .dataframe tbody tr th:only-of-type {\n",
       "        vertical-align: middle;\n",
       "    }\n",
       "\n",
       "    .dataframe tbody tr th {\n",
       "        vertical-align: top;\n",
       "    }\n",
       "\n",
       "    .dataframe thead th {\n",
       "        text-align: right;\n",
       "    }\n",
       "</style>\n",
       "<table border=\"1\" class=\"dataframe\">\n",
       "  <thead>\n",
       "    <tr style=\"text-align: right;\">\n",
       "      <th></th>\n",
       "      <th>seq_id</th>\n",
       "      <th>pH</th>\n",
       "      <th>tm</th>\n",
       "    </tr>\n",
       "  </thead>\n",
       "  <tbody>\n",
       "    <tr>\n",
       "      <th>seq_id</th>\n",
       "      <td>1.000000</td>\n",
       "      <td>-0.040164</td>\n",
       "      <td>0.008750</td>\n",
       "    </tr>\n",
       "    <tr>\n",
       "      <th>pH</th>\n",
       "      <td>-0.040164</td>\n",
       "      <td>1.000000</td>\n",
       "      <td>-0.044544</td>\n",
       "    </tr>\n",
       "    <tr>\n",
       "      <th>tm</th>\n",
       "      <td>0.008750</td>\n",
       "      <td>-0.044544</td>\n",
       "      <td>1.000000</td>\n",
       "    </tr>\n",
       "  </tbody>\n",
       "</table>\n",
       "</div>"
      ],
      "text/plain": [
       "          seq_id        pH        tm\n",
       "seq_id  1.000000 -0.040164  0.008750\n",
       "pH     -0.040164  1.000000 -0.044544\n",
       "tm      0.008750 -0.044544  1.000000"
      ]
     },
     "execution_count": 7,
     "metadata": {},
     "output_type": "execute_result"
    }
   ],
   "source": [
    "# corelation matrix of numerical values\n",
    "(train[[\n",
    "    'seq_id', \n",
    "    'pH', \n",
    "    'tm',]]\n",
    "    .corr())"
   ]
  },
  {
   "cell_type": "code",
   "execution_count": 8,
   "id": "2cc3f6d4",
   "metadata": {
    "papermill": {
     "duration": 0.034738,
     "end_time": "2022-11-24T06:52:22.822604",
     "exception": false,
     "start_time": "2022-11-24T06:52:22.787866",
     "status": "completed"
    },
    "tags": []
   },
   "outputs": [
    {
     "data": {
      "text/html": [
       "<div>\n",
       "<style scoped>\n",
       "    .dataframe tbody tr th:only-of-type {\n",
       "        vertical-align: middle;\n",
       "    }\n",
       "\n",
       "    .dataframe tbody tr th {\n",
       "        vertical-align: top;\n",
       "    }\n",
       "\n",
       "    .dataframe thead th {\n",
       "        text-align: right;\n",
       "    }\n",
       "</style>\n",
       "<table border=\"1\" class=\"dataframe\">\n",
       "  <thead>\n",
       "    <tr style=\"text-align: right;\">\n",
       "      <th></th>\n",
       "      <th>seq_id</th>\n",
       "      <th>protein_sequence</th>\n",
       "      <th>pH</th>\n",
       "      <th>tm</th>\n",
       "    </tr>\n",
       "  </thead>\n",
       "  <tbody>\n",
       "    <tr>\n",
       "      <th>0</th>\n",
       "      <td>0</td>\n",
       "      <td>AAAAKAAALALLGEAPEVVDIWLPAGWRQPFRVFRLERKGDGVLVG...</td>\n",
       "      <td>7.0</td>\n",
       "      <td>75.7</td>\n",
       "    </tr>\n",
       "    <tr>\n",
       "      <th>1</th>\n",
       "      <td>1</td>\n",
       "      <td>AAADGEPLHNEEERAGAGQVGRSLPQESEEQRTGSRPRRRRDLGSR...</td>\n",
       "      <td>7.0</td>\n",
       "      <td>50.5</td>\n",
       "    </tr>\n",
       "    <tr>\n",
       "      <th>2</th>\n",
       "      <td>2</td>\n",
       "      <td>AAAFSTPRATSYRILSSAGSGSTRADAPQVRRLHTTRDLLAKDYYA...</td>\n",
       "      <td>7.0</td>\n",
       "      <td>40.5</td>\n",
       "    </tr>\n",
       "    <tr>\n",
       "      <th>3</th>\n",
       "      <td>3</td>\n",
       "      <td>AAASGLRTAIPAQPLRHLLQPAPRPCLRPFGLLSVRAGSARRSGLL...</td>\n",
       "      <td>7.0</td>\n",
       "      <td>47.2</td>\n",
       "    </tr>\n",
       "    <tr>\n",
       "      <th>4</th>\n",
       "      <td>4</td>\n",
       "      <td>AAATKSGPRRQSQGASVRTFTPFYFLVEPVDTLSVRGSSVILNCSA...</td>\n",
       "      <td>7.0</td>\n",
       "      <td>49.5</td>\n",
       "    </tr>\n",
       "    <tr>\n",
       "      <th>...</th>\n",
       "      <td>...</td>\n",
       "      <td>...</td>\n",
       "      <td>...</td>\n",
       "      <td>...</td>\n",
       "    </tr>\n",
       "    <tr>\n",
       "      <th>31385</th>\n",
       "      <td>31385</td>\n",
       "      <td>YYMYSGGGSALAAGGGGAGRKGDWNDIDSIKKKDLHHSRGDEKAQG...</td>\n",
       "      <td>7.0</td>\n",
       "      <td>51.8</td>\n",
       "    </tr>\n",
       "    <tr>\n",
       "      <th>31386</th>\n",
       "      <td>31386</td>\n",
       "      <td>YYNDQHRLSSYSVETAMFLSWERAIVKPGAMFKKAVIGFNCNVDLI...</td>\n",
       "      <td>7.0</td>\n",
       "      <td>37.2</td>\n",
       "    </tr>\n",
       "    <tr>\n",
       "      <th>31387</th>\n",
       "      <td>31387</td>\n",
       "      <td>YYQRTLGAELLYKISFGEMPKSAQDSAENCPSGMQFPDTAIAHANV...</td>\n",
       "      <td>7.0</td>\n",
       "      <td>64.6</td>\n",
       "    </tr>\n",
       "    <tr>\n",
       "      <th>31388</th>\n",
       "      <td>31388</td>\n",
       "      <td>YYSFSDNITTVFLSRQAIDDDHSLSLGTISDVVESENGVVAADDAR...</td>\n",
       "      <td>7.0</td>\n",
       "      <td>50.7</td>\n",
       "    </tr>\n",
       "    <tr>\n",
       "      <th>31389</th>\n",
       "      <td>31389</td>\n",
       "      <td>YYVPDEYWQSLEVAHKLTFGYGYLTWEWVQGIRSYVYPLLIAGLYK...</td>\n",
       "      <td>7.0</td>\n",
       "      <td>37.6</td>\n",
       "    </tr>\n",
       "  </tbody>\n",
       "</table>\n",
       "<p>31390 rows × 4 columns</p>\n",
       "</div>"
      ],
      "text/plain": [
       "       seq_id                                   protein_sequence   pH    tm\n",
       "0           0  AAAAKAAALALLGEAPEVVDIWLPAGWRQPFRVFRLERKGDGVLVG...  7.0  75.7\n",
       "1           1  AAADGEPLHNEEERAGAGQVGRSLPQESEEQRTGSRPRRRRDLGSR...  7.0  50.5\n",
       "2           2  AAAFSTPRATSYRILSSAGSGSTRADAPQVRRLHTTRDLLAKDYYA...  7.0  40.5\n",
       "3           3  AAASGLRTAIPAQPLRHLLQPAPRPCLRPFGLLSVRAGSARRSGLL...  7.0  47.2\n",
       "4           4  AAATKSGPRRQSQGASVRTFTPFYFLVEPVDTLSVRGSSVILNCSA...  7.0  49.5\n",
       "...       ...                                                ...  ...   ...\n",
       "31385   31385  YYMYSGGGSALAAGGGGAGRKGDWNDIDSIKKKDLHHSRGDEKAQG...  7.0  51.8\n",
       "31386   31386  YYNDQHRLSSYSVETAMFLSWERAIVKPGAMFKKAVIGFNCNVDLI...  7.0  37.2\n",
       "31387   31387  YYQRTLGAELLYKISFGEMPKSAQDSAENCPSGMQFPDTAIAHANV...  7.0  64.6\n",
       "31388   31388  YYSFSDNITTVFLSRQAIDDDHSLSLGTISDVVESENGVVAADDAR...  7.0  50.7\n",
       "31389   31389  YYVPDEYWQSLEVAHKLTFGYGYLTWEWVQGIRSYVYPLLIAGLYK...  7.0  37.6\n",
       "\n",
       "[31390 rows x 4 columns]"
      ]
     },
     "execution_count": 8,
     "metadata": {},
     "output_type": "execute_result"
    }
   ],
   "source": [
    "# Data source is not needed for the remaining analysis\n",
    "train = train.drop(['data_source'], \n",
    "                    axis=1\n",
    "                    )\n",
    "train"
   ]
  },
  {
   "cell_type": "markdown",
   "id": "179b6cc9-4c5d-4ff6-a891-f78b3e89780b",
   "metadata": {},
   "source": [
    "# Data Cleaning"
   ]
  },
  {
   "cell_type": "code",
   "execution_count": 9,
   "id": "8a4898a3",
   "metadata": {
    "papermill": {
     "duration": 0.030713,
     "end_time": "2022-11-24T06:52:22.866672",
     "exception": false,
     "start_time": "2022-11-24T06:52:22.835959",
     "status": "completed"
    },
    "tags": []
   },
   "outputs": [
    {
     "name": "stdout",
     "output_type": "stream",
     "text": [
      "Shape of the training data before ourlier removal:\n",
      "seq_id                0\n",
      "protein_sequence      0\n",
      "pH                  286\n",
      "tm                    0\n",
      "dtype: int64\n",
      "\n",
      "Shape of the training data after ourlier removal:\n",
      "seq_id              0\n",
      "protein_sequence    0\n",
      "pH                  0\n",
      "tm                  0\n",
      "dtype: int64\n"
     ]
    }
   ],
   "source": [
    "# Find and replace null values with mean value\n",
    "print(f'Shape of the training data before ourlier removal:\\n{train.isnull().sum()}')\n",
    "\n",
    "train['pH'] = (train['pH']\n",
    "              .fillna(train['pH']\n",
    "              .mean()))\n",
    "\n",
    "print(f'\\nShape of the training data after ourlier removal:\\n{train.isnull().sum()}')"
   ]
  },
  {
   "cell_type": "code",
   "execution_count": 10,
   "id": "d426f0a5-9efb-4f38-a5f9-1cd77deaab73",
   "metadata": {},
   "outputs": [
    {
     "name": "stdout",
     "output_type": "stream",
     "text": [
      "Shape of the training data before ourlier removal: (31390, 4)\n",
      "\n",
      "Shape of the training data after ourlier removal: (31361, 4)\n",
      "\n",
      "Rows removed: 29, Columns removed: 0\n"
     ]
    }
   ],
   "source": [
    "# Remove any pH value below 0 and above 14\n",
    "print(f'Shape of the training data before ourlier removal: {train.shape}')\n",
    "\n",
    "row_before, col_before = train.shape\n",
    "\n",
    "train = train[train['pH'] <= 14]\n",
    "\n",
    "print(f'\\nShape of the training data after ourlier removal: {train.shape}')\n",
    "\n",
    "row_after, col_after = train.shape\n",
    "\n",
    "print(f'\\nRows removed: {row_before - row_after}, Columns removed: {col_before - col_after}')"
   ]
  },
  {
   "cell_type": "code",
   "execution_count": 11,
   "id": "1a461f96",
   "metadata": {
    "papermill": {
     "duration": 0.351792,
     "end_time": "2022-11-24T06:52:23.268725",
     "exception": false,
     "start_time": "2022-11-24T06:52:22.916933",
     "status": "completed"
    },
    "tags": []
   },
   "outputs": [
    {
     "data": {
      "text/plain": [
       "Text(0.5, 1.0, 'Heatmap for correlation between columns of training data')"
      ]
     },
     "execution_count": 11,
     "metadata": {},
     "output_type": "execute_result"
    },
    {
     "data": {
      "image/png": "[encoded data removed]",
      "text/plain": [
       "<Figure size 640x480 with 2 Axes>"
      ]
     },
     "metadata": {},
     "output_type": "display_data"
    }
   ],
   "source": [
    "# Heatmap of correlation matrix for training data columns\n",
    "sns.heatmap((train[[\n",
    "            'seq_id', \n",
    "            'pH', \n",
    "            'tm',\n",
    "            ]].corr()),\n",
    "            linewidths=1,\n",
    "            cmap=plt.cm.Reds, \n",
    "            annot=True)\n",
    "\n",
    "plt.title('Heatmap for correlation between columns of training data')"
   ]
  },
  {
   "cell_type": "markdown",
   "id": "7c3cd3d0-010f-4c86-8ce3-035f85d7bf55",
   "metadata": {},
   "source": [
    "# Feature Engineering"
   ]
  },
  {
   "cell_type": "code",
   "execution_count": 12,
   "id": "7f8bf9b1",
   "metadata": {
    "papermill": {
     "duration": 8.118732,
     "end_time": "2022-11-24T06:52:31.473498",
     "exception": false,
     "start_time": "2022-11-24T06:52:23.354766",
     "status": "completed"
    },
    "tags": []
   },
   "outputs": [],
   "source": [
    "%%capture --no-display \n",
    "# Hide error\n",
    "\n",
    "# Replace sequence with count of individual amino acids\n",
    "search_amino = ['A', 'C', 'D', 'E', 'F', 'G', 'H', 'I', 'K', 'L', 'M', 'N', 'P', 'Q', 'R', 'S', 'T', 'V', 'W', 'Y']\n",
    "for amino_acid in search_amino:\n",
    "     train[amino_acid] = (train['protein_sequence']\n",
    "                          .str\n",
    "                          .count(amino_acid,re.I))"
   ]
  },
  {
   "cell_type": "code",
   "execution_count": 13,
   "id": "18921433-e7d3-4330-be6b-f0f060f26f2e",
   "metadata": {},
   "outputs": [
    {
     "data": {
      "text/html": [
       "<div>\n",
       "<style scoped>\n",
       "    .dataframe tbody tr th:only-of-type {\n",
       "        vertical-align: middle;\n",
       "    }\n",
       "\n",
       "    .dataframe tbody tr th {\n",
       "        vertical-align: top;\n",
       "    }\n",
       "\n",
       "    .dataframe thead th {\n",
       "        text-align: right;\n",
       "    }\n",
       "</style>\n",
       "<table border=\"1\" class=\"dataframe\">\n",
       "  <thead>\n",
       "    <tr style=\"text-align: right;\">\n",
       "      <th></th>\n",
       "      <th>seq_id</th>\n",
       "      <th>pH</th>\n",
       "      <th>tm</th>\n",
       "      <th>A</th>\n",
       "      <th>C</th>\n",
       "      <th>D</th>\n",
       "      <th>E</th>\n",
       "      <th>F</th>\n",
       "      <th>G</th>\n",
       "      <th>H</th>\n",
       "      <th>...</th>\n",
       "      <th>M</th>\n",
       "      <th>N</th>\n",
       "      <th>P</th>\n",
       "      <th>Q</th>\n",
       "      <th>R</th>\n",
       "      <th>S</th>\n",
       "      <th>T</th>\n",
       "      <th>V</th>\n",
       "      <th>W</th>\n",
       "      <th>Y</th>\n",
       "    </tr>\n",
       "  </thead>\n",
       "  <tbody>\n",
       "    <tr>\n",
       "      <th>0</th>\n",
       "      <td>0</td>\n",
       "      <td>7.0</td>\n",
       "      <td>75.7</td>\n",
       "      <td>45</td>\n",
       "      <td>1</td>\n",
       "      <td>13</td>\n",
       "      <td>30</td>\n",
       "      <td>13</td>\n",
       "      <td>38</td>\n",
       "      <td>3</td>\n",
       "      <td>...</td>\n",
       "      <td>8</td>\n",
       "      <td>5</td>\n",
       "      <td>18</td>\n",
       "      <td>6</td>\n",
       "      <td>25</td>\n",
       "      <td>11</td>\n",
       "      <td>14</td>\n",
       "      <td>37</td>\n",
       "      <td>4</td>\n",
       "      <td>3</td>\n",
       "    </tr>\n",
       "    <tr>\n",
       "      <th>1</th>\n",
       "      <td>1</td>\n",
       "      <td>7.0</td>\n",
       "      <td>50.5</td>\n",
       "      <td>28</td>\n",
       "      <td>0</td>\n",
       "      <td>10</td>\n",
       "      <td>52</td>\n",
       "      <td>6</td>\n",
       "      <td>18</td>\n",
       "      <td>4</td>\n",
       "      <td>...</td>\n",
       "      <td>2</td>\n",
       "      <td>6</td>\n",
       "      <td>8</td>\n",
       "      <td>22</td>\n",
       "      <td>30</td>\n",
       "      <td>14</td>\n",
       "      <td>12</td>\n",
       "      <td>13</td>\n",
       "      <td>3</td>\n",
       "      <td>3</td>\n",
       "    </tr>\n",
       "    <tr>\n",
       "      <th>2</th>\n",
       "      <td>2</td>\n",
       "      <td>7.0</td>\n",
       "      <td>40.5</td>\n",
       "      <td>50</td>\n",
       "      <td>9</td>\n",
       "      <td>27</td>\n",
       "      <td>32</td>\n",
       "      <td>21</td>\n",
       "      <td>65</td>\n",
       "      <td>11</td>\n",
       "      <td>...</td>\n",
       "      <td>6</td>\n",
       "      <td>15</td>\n",
       "      <td>20</td>\n",
       "      <td>25</td>\n",
       "      <td>31</td>\n",
       "      <td>33</td>\n",
       "      <td>30</td>\n",
       "      <td>30</td>\n",
       "      <td>3</td>\n",
       "      <td>16</td>\n",
       "    </tr>\n",
       "    <tr>\n",
       "      <th>3</th>\n",
       "      <td>3</td>\n",
       "      <td>7.0</td>\n",
       "      <td>47.2</td>\n",
       "      <td>20</td>\n",
       "      <td>5</td>\n",
       "      <td>19</td>\n",
       "      <td>29</td>\n",
       "      <td>12</td>\n",
       "      <td>16</td>\n",
       "      <td>7</td>\n",
       "      <td>...</td>\n",
       "      <td>2</td>\n",
       "      <td>9</td>\n",
       "      <td>16</td>\n",
       "      <td>9</td>\n",
       "      <td>10</td>\n",
       "      <td>16</td>\n",
       "      <td>19</td>\n",
       "      <td>14</td>\n",
       "      <td>3</td>\n",
       "      <td>4</td>\n",
       "    </tr>\n",
       "    <tr>\n",
       "      <th>4</th>\n",
       "      <td>4</td>\n",
       "      <td>7.0</td>\n",
       "      <td>49.5</td>\n",
       "      <td>86</td>\n",
       "      <td>14</td>\n",
       "      <td>78</td>\n",
       "      <td>78</td>\n",
       "      <td>32</td>\n",
       "      <td>84</td>\n",
       "      <td>40</td>\n",
       "      <td>...</td>\n",
       "      <td>31</td>\n",
       "      <td>65</td>\n",
       "      <td>128</td>\n",
       "      <td>54</td>\n",
       "      <td>63</td>\n",
       "      <td>148</td>\n",
       "      <td>120</td>\n",
       "      <td>124</td>\n",
       "      <td>16</td>\n",
       "      <td>47</td>\n",
       "    </tr>\n",
       "    <tr>\n",
       "      <th>...</th>\n",
       "      <td>...</td>\n",
       "      <td>...</td>\n",
       "      <td>...</td>\n",
       "      <td>...</td>\n",
       "      <td>...</td>\n",
       "      <td>...</td>\n",
       "      <td>...</td>\n",
       "      <td>...</td>\n",
       "      <td>...</td>\n",
       "      <td>...</td>\n",
       "      <td>...</td>\n",
       "      <td>...</td>\n",
       "      <td>...</td>\n",
       "      <td>...</td>\n",
       "      <td>...</td>\n",
       "      <td>...</td>\n",
       "      <td>...</td>\n",
       "      <td>...</td>\n",
       "      <td>...</td>\n",
       "      <td>...</td>\n",
       "      <td>...</td>\n",
       "    </tr>\n",
       "    <tr>\n",
       "      <th>31385</th>\n",
       "      <td>31385</td>\n",
       "      <td>7.0</td>\n",
       "      <td>51.8</td>\n",
       "      <td>33</td>\n",
       "      <td>12</td>\n",
       "      <td>38</td>\n",
       "      <td>31</td>\n",
       "      <td>18</td>\n",
       "      <td>51</td>\n",
       "      <td>15</td>\n",
       "      <td>...</td>\n",
       "      <td>13</td>\n",
       "      <td>24</td>\n",
       "      <td>25</td>\n",
       "      <td>24</td>\n",
       "      <td>42</td>\n",
       "      <td>33</td>\n",
       "      <td>18</td>\n",
       "      <td>42</td>\n",
       "      <td>13</td>\n",
       "      <td>18</td>\n",
       "    </tr>\n",
       "    <tr>\n",
       "      <th>31386</th>\n",
       "      <td>31386</td>\n",
       "      <td>7.0</td>\n",
       "      <td>37.2</td>\n",
       "      <td>37</td>\n",
       "      <td>5</td>\n",
       "      <td>21</td>\n",
       "      <td>29</td>\n",
       "      <td>22</td>\n",
       "      <td>27</td>\n",
       "      <td>22</td>\n",
       "      <td>...</td>\n",
       "      <td>14</td>\n",
       "      <td>19</td>\n",
       "      <td>19</td>\n",
       "      <td>16</td>\n",
       "      <td>25</td>\n",
       "      <td>37</td>\n",
       "      <td>26</td>\n",
       "      <td>34</td>\n",
       "      <td>5</td>\n",
       "      <td>14</td>\n",
       "    </tr>\n",
       "    <tr>\n",
       "      <th>31387</th>\n",
       "      <td>31387</td>\n",
       "      <td>7.0</td>\n",
       "      <td>64.6</td>\n",
       "      <td>13</td>\n",
       "      <td>1</td>\n",
       "      <td>7</td>\n",
       "      <td>7</td>\n",
       "      <td>7</td>\n",
       "      <td>11</td>\n",
       "      <td>2</td>\n",
       "      <td>...</td>\n",
       "      <td>7</td>\n",
       "      <td>5</td>\n",
       "      <td>6</td>\n",
       "      <td>8</td>\n",
       "      <td>3</td>\n",
       "      <td>10</td>\n",
       "      <td>6</td>\n",
       "      <td>7</td>\n",
       "      <td>4</td>\n",
       "      <td>4</td>\n",
       "    </tr>\n",
       "    <tr>\n",
       "      <th>31388</th>\n",
       "      <td>31388</td>\n",
       "      <td>7.0</td>\n",
       "      <td>50.7</td>\n",
       "      <td>47</td>\n",
       "      <td>5</td>\n",
       "      <td>34</td>\n",
       "      <td>36</td>\n",
       "      <td>23</td>\n",
       "      <td>52</td>\n",
       "      <td>11</td>\n",
       "      <td>...</td>\n",
       "      <td>26</td>\n",
       "      <td>25</td>\n",
       "      <td>31</td>\n",
       "      <td>12</td>\n",
       "      <td>25</td>\n",
       "      <td>51</td>\n",
       "      <td>32</td>\n",
       "      <td>48</td>\n",
       "      <td>3</td>\n",
       "      <td>18</td>\n",
       "    </tr>\n",
       "    <tr>\n",
       "      <th>31389</th>\n",
       "      <td>31389</td>\n",
       "      <td>7.0</td>\n",
       "      <td>37.6</td>\n",
       "      <td>34</td>\n",
       "      <td>5</td>\n",
       "      <td>15</td>\n",
       "      <td>32</td>\n",
       "      <td>26</td>\n",
       "      <td>24</td>\n",
       "      <td>21</td>\n",
       "      <td>...</td>\n",
       "      <td>7</td>\n",
       "      <td>20</td>\n",
       "      <td>31</td>\n",
       "      <td>18</td>\n",
       "      <td>28</td>\n",
       "      <td>34</td>\n",
       "      <td>29</td>\n",
       "      <td>38</td>\n",
       "      <td>18</td>\n",
       "      <td>29</td>\n",
       "    </tr>\n",
       "  </tbody>\n",
       "</table>\n",
       "<p>31361 rows × 23 columns</p>\n",
       "</div>"
      ],
      "text/plain": [
       "       seq_id   pH    tm   A   C   D   E   F   G   H  ...   M   N    P   Q  \\\n",
       "0           0  7.0  75.7  45   1  13  30  13  38   3  ...   8   5   18   6   \n",
       "1           1  7.0  50.5  28   0  10  52   6  18   4  ...   2   6    8  22   \n",
       "2           2  7.0  40.5  50   9  27  32  21  65  11  ...   6  15   20  25   \n",
       "3           3  7.0  47.2  20   5  19  29  12  16   7  ...   2   9   16   9   \n",
       "4           4  7.0  49.5  86  14  78  78  32  84  40  ...  31  65  128  54   \n",
       "...       ...  ...   ...  ..  ..  ..  ..  ..  ..  ..  ...  ..  ..  ...  ..   \n",
       "31385   31385  7.0  51.8  33  12  38  31  18  51  15  ...  13  24   25  24   \n",
       "31386   31386  7.0  37.2  37   5  21  29  22  27  22  ...  14  19   19  16   \n",
       "31387   31387  7.0  64.6  13   1   7   7   7  11   2  ...   7   5    6   8   \n",
       "31388   31388  7.0  50.7  47   5  34  36  23  52  11  ...  26  25   31  12   \n",
       "31389   31389  7.0  37.6  34   5  15  32  26  24  21  ...   7  20   31  18   \n",
       "\n",
       "        R    S    T    V   W   Y  \n",
       "0      25   11   14   37   4   3  \n",
       "1      30   14   12   13   3   3  \n",
       "2      31   33   30   30   3  16  \n",
       "3      10   16   19   14   3   4  \n",
       "4      63  148  120  124  16  47  \n",
       "...    ..  ...  ...  ...  ..  ..  \n",
       "31385  42   33   18   42  13  18  \n",
       "31386  25   37   26   34   5  14  \n",
       "31387   3   10    6    7   4   4  \n",
       "31388  25   51   32   48   3  18  \n",
       "31389  28   34   29   38  18  29  \n",
       "\n",
       "[31361 rows x 23 columns]"
      ]
     },
     "execution_count": 13,
     "metadata": {},
     "output_type": "execute_result"
    }
   ],
   "source": [
    "train = train.drop(['protein_sequence'], \n",
    "                   axis=1)\n",
    "train"
   ]
  },
  {
   "cell_type": "code",
   "execution_count": 14,
   "id": "b4ab0787",
   "metadata": {
    "papermill": {
     "duration": 0.037154,
     "end_time": "2022-11-24T06:52:32.000315",
     "exception": false,
     "start_time": "2022-11-24T06:52:31.963161",
     "status": "completed"
    },
    "tags": []
   },
   "outputs": [
    {
     "data": {
      "text/html": [
       "<div>\n",
       "<style scoped>\n",
       "    .dataframe tbody tr th:only-of-type {\n",
       "        vertical-align: middle;\n",
       "    }\n",
       "\n",
       "    .dataframe tbody tr th {\n",
       "        vertical-align: top;\n",
       "    }\n",
       "\n",
       "    .dataframe thead th {\n",
       "        text-align: right;\n",
       "    }\n",
       "</style>\n",
       "<table border=\"1\" class=\"dataframe\">\n",
       "  <thead>\n",
       "    <tr style=\"text-align: right;\">\n",
       "      <th></th>\n",
       "      <th>seq_id</th>\n",
       "      <th>pH</th>\n",
       "    </tr>\n",
       "  </thead>\n",
       "  <tbody>\n",
       "    <tr>\n",
       "      <th>count</th>\n",
       "      <td>2413.000000</td>\n",
       "      <td>2413.0</td>\n",
       "    </tr>\n",
       "    <tr>\n",
       "      <th>mean</th>\n",
       "      <td>32596.000000</td>\n",
       "      <td>8.0</td>\n",
       "    </tr>\n",
       "    <tr>\n",
       "      <th>std</th>\n",
       "      <td>696.717422</td>\n",
       "      <td>0.0</td>\n",
       "    </tr>\n",
       "    <tr>\n",
       "      <th>min</th>\n",
       "      <td>31390.000000</td>\n",
       "      <td>8.0</td>\n",
       "    </tr>\n",
       "    <tr>\n",
       "      <th>25%</th>\n",
       "      <td>31993.000000</td>\n",
       "      <td>8.0</td>\n",
       "    </tr>\n",
       "    <tr>\n",
       "      <th>50%</th>\n",
       "      <td>32596.000000</td>\n",
       "      <td>8.0</td>\n",
       "    </tr>\n",
       "    <tr>\n",
       "      <th>75%</th>\n",
       "      <td>33199.000000</td>\n",
       "      <td>8.0</td>\n",
       "    </tr>\n",
       "    <tr>\n",
       "      <th>max</th>\n",
       "      <td>33802.000000</td>\n",
       "      <td>8.0</td>\n",
       "    </tr>\n",
       "  </tbody>\n",
       "</table>\n",
       "</div>"
      ],
      "text/plain": [
       "             seq_id      pH\n",
       "count   2413.000000  2413.0\n",
       "mean   32596.000000     8.0\n",
       "std      696.717422     0.0\n",
       "min    31390.000000     8.0\n",
       "25%    31993.000000     8.0\n",
       "50%    32596.000000     8.0\n",
       "75%    33199.000000     8.0\n",
       "max    33802.000000     8.0"
      ]
     },
     "execution_count": 14,
     "metadata": {},
     "output_type": "execute_result"
    }
   ],
   "source": [
    "test.describe()"
   ]
  },
  {
   "cell_type": "code",
   "execution_count": 15,
   "id": "79887d47",
   "metadata": {
    "papermill": {
     "duration": 0.038403,
     "end_time": "2022-11-24T06:52:32.395023",
     "exception": false,
     "start_time": "2022-11-24T06:52:32.356620",
     "status": "completed"
    },
    "tags": []
   },
   "outputs": [
    {
     "data": {
      "text/html": [
       "<div>\n",
       "<style scoped>\n",
       "    .dataframe tbody tr th:only-of-type {\n",
       "        vertical-align: middle;\n",
       "    }\n",
       "\n",
       "    .dataframe tbody tr th {\n",
       "        vertical-align: top;\n",
       "    }\n",
       "\n",
       "    .dataframe thead th {\n",
       "        text-align: right;\n",
       "    }\n",
       "</style>\n",
       "<table border=\"1\" class=\"dataframe\">\n",
       "  <thead>\n",
       "    <tr style=\"text-align: right;\">\n",
       "      <th></th>\n",
       "      <th>seq_id</th>\n",
       "      <th>pH</th>\n",
       "      <th>A</th>\n",
       "      <th>C</th>\n",
       "      <th>D</th>\n",
       "      <th>E</th>\n",
       "      <th>F</th>\n",
       "      <th>G</th>\n",
       "      <th>H</th>\n",
       "      <th>I</th>\n",
       "      <th>...</th>\n",
       "      <th>M</th>\n",
       "      <th>N</th>\n",
       "      <th>P</th>\n",
       "      <th>Q</th>\n",
       "      <th>R</th>\n",
       "      <th>S</th>\n",
       "      <th>T</th>\n",
       "      <th>V</th>\n",
       "      <th>W</th>\n",
       "      <th>Y</th>\n",
       "    </tr>\n",
       "  </thead>\n",
       "  <tbody>\n",
       "    <tr>\n",
       "      <th>0</th>\n",
       "      <td>31390</td>\n",
       "      <td>8</td>\n",
       "      <td>22</td>\n",
       "      <td>4</td>\n",
       "      <td>15</td>\n",
       "      <td>8</td>\n",
       "      <td>10</td>\n",
       "      <td>19</td>\n",
       "      <td>0</td>\n",
       "      <td>6</td>\n",
       "      <td>...</td>\n",
       "      <td>0</td>\n",
       "      <td>19</td>\n",
       "      <td>17</td>\n",
       "      <td>13</td>\n",
       "      <td>3</td>\n",
       "      <td>18</td>\n",
       "      <td>8</td>\n",
       "      <td>13</td>\n",
       "      <td>6</td>\n",
       "      <td>6</td>\n",
       "    </tr>\n",
       "    <tr>\n",
       "      <th>1</th>\n",
       "      <td>31391</td>\n",
       "      <td>8</td>\n",
       "      <td>22</td>\n",
       "      <td>4</td>\n",
       "      <td>15</td>\n",
       "      <td>7</td>\n",
       "      <td>10</td>\n",
       "      <td>19</td>\n",
       "      <td>0</td>\n",
       "      <td>6</td>\n",
       "      <td>...</td>\n",
       "      <td>0</td>\n",
       "      <td>19</td>\n",
       "      <td>17</td>\n",
       "      <td>13</td>\n",
       "      <td>3</td>\n",
       "      <td>18</td>\n",
       "      <td>8</td>\n",
       "      <td>13</td>\n",
       "      <td>6</td>\n",
       "      <td>6</td>\n",
       "    </tr>\n",
       "    <tr>\n",
       "      <th>2</th>\n",
       "      <td>31392</td>\n",
       "      <td>8</td>\n",
       "      <td>22</td>\n",
       "      <td>4</td>\n",
       "      <td>15</td>\n",
       "      <td>7</td>\n",
       "      <td>10</td>\n",
       "      <td>19</td>\n",
       "      <td>0</td>\n",
       "      <td>6</td>\n",
       "      <td>...</td>\n",
       "      <td>0</td>\n",
       "      <td>19</td>\n",
       "      <td>17</td>\n",
       "      <td>13</td>\n",
       "      <td>3</td>\n",
       "      <td>18</td>\n",
       "      <td>8</td>\n",
       "      <td>13</td>\n",
       "      <td>6</td>\n",
       "      <td>6</td>\n",
       "    </tr>\n",
       "    <tr>\n",
       "      <th>3</th>\n",
       "      <td>31393</td>\n",
       "      <td>8</td>\n",
       "      <td>22</td>\n",
       "      <td>5</td>\n",
       "      <td>15</td>\n",
       "      <td>7</td>\n",
       "      <td>10</td>\n",
       "      <td>19</td>\n",
       "      <td>0</td>\n",
       "      <td>6</td>\n",
       "      <td>...</td>\n",
       "      <td>0</td>\n",
       "      <td>19</td>\n",
       "      <td>17</td>\n",
       "      <td>13</td>\n",
       "      <td>3</td>\n",
       "      <td>18</td>\n",
       "      <td>8</td>\n",
       "      <td>13</td>\n",
       "      <td>6</td>\n",
       "      <td>6</td>\n",
       "    </tr>\n",
       "    <tr>\n",
       "      <th>4</th>\n",
       "      <td>31394</td>\n",
       "      <td>8</td>\n",
       "      <td>22</td>\n",
       "      <td>4</td>\n",
       "      <td>15</td>\n",
       "      <td>7</td>\n",
       "      <td>11</td>\n",
       "      <td>19</td>\n",
       "      <td>0</td>\n",
       "      <td>6</td>\n",
       "      <td>...</td>\n",
       "      <td>0</td>\n",
       "      <td>19</td>\n",
       "      <td>17</td>\n",
       "      <td>13</td>\n",
       "      <td>3</td>\n",
       "      <td>18</td>\n",
       "      <td>8</td>\n",
       "      <td>13</td>\n",
       "      <td>6</td>\n",
       "      <td>6</td>\n",
       "    </tr>\n",
       "  </tbody>\n",
       "</table>\n",
       "<p>5 rows × 22 columns</p>\n",
       "</div>"
      ],
      "text/plain": [
       "   seq_id  pH   A  C   D  E   F   G  H  I  ...  M   N   P   Q  R   S  T   V  \\\n",
       "0   31390   8  22  4  15  8  10  19  0  6  ...  0  19  17  13  3  18  8  13   \n",
       "1   31391   8  22  4  15  7  10  19  0  6  ...  0  19  17  13  3  18  8  13   \n",
       "2   31392   8  22  4  15  7  10  19  0  6  ...  0  19  17  13  3  18  8  13   \n",
       "3   31393   8  22  5  15  7  10  19  0  6  ...  0  19  17  13  3  18  8  13   \n",
       "4   31394   8  22  4  15  7  11  19  0  6  ...  0  19  17  13  3  18  8  13   \n",
       "\n",
       "   W  Y  \n",
       "0  6  6  \n",
       "1  6  6  \n",
       "2  6  6  \n",
       "3  6  6  \n",
       "4  6  6  \n",
       "\n",
       "[5 rows x 22 columns]"
      ]
     },
     "execution_count": 15,
     "metadata": {},
     "output_type": "execute_result"
    }
   ],
   "source": [
    "# Replace sequence with count of individual amino acids in the test set and drop unused columns\n",
    "test = test.drop(['data_source'],\n",
    "          axis=1,)\n",
    "\n",
    "for amino in search_amino:\n",
    "    test[amino]=test['protein_sequence'].str.count(amino,re.I)\n",
    "\n",
    "test = test.drop(['protein_sequence'],\n",
    "          axis=1,)\n",
    "\n",
    "test.head()"
   ]
  },
  {
   "cell_type": "markdown",
   "id": "766b139b-8a58-4f5e-b87d-ee5f5141024b",
   "metadata": {
    "papermill": {
     "duration": 0.023266,
     "end_time": "2022-11-24T06:52:32.433061",
     "exception": false,
     "start_time": "2022-11-24T06:52:32.409795",
     "status": "completed"
    },
    "tags": []
   },
   "source": [
    "# Data Visualization of training data"
   ]
  },
  {
   "cell_type": "code",
   "execution_count": 16,
   "id": "d401337a",
   "metadata": {
    "papermill": {
     "duration": 1.042581,
     "end_time": "2022-11-24T06:52:33.490517",
     "exception": false,
     "start_time": "2022-11-24T06:52:32.447936",
     "status": "completed"
    },
    "tags": []
   },
   "outputs": [
    {
     "data": {
      "image/png": "[encoded data removed]",
      "text/plain": [
       "<Figure size 600x600 with 3 Axes>"
      ]
     },
     "metadata": {},
     "output_type": "display_data"
    }
   ],
   "source": [
    "p = sns.jointplot(data = train,\n",
    "              x = \"pH\",\n",
    "              y = \"tm\")\n",
    "\n",
    "\n",
    "p.fig.suptitle(\"Jointplot with tm as a function of pH\", fontsize = 23)\n",
    "p.fig.tight_layout()\n",
    "p.fig.subplots_adjust(top = 0.92) # Reduce plot to make room"
   ]
  },
  {
   "cell_type": "markdown",
   "id": "732466e0-f35c-49a4-911a-c290acdf17d3",
   "metadata": {},
   "source": [
    "# Model Training"
   ]
  },
  {
   "cell_type": "code",
   "execution_count": 17,
   "id": "05c9a117",
   "metadata": {
    "papermill": {
     "duration": 0.027051,
     "end_time": "2022-11-24T06:52:33.621026",
     "exception": false,
     "start_time": "2022-11-24T06:52:33.593975",
     "status": "completed"
    },
    "tags": []
   },
   "outputs": [
    {
     "name": "stdout",
     "output_type": "stream",
     "text": [
      "Dataset shape before splitting: \n",
      "Train dataset features: (31361, 22) \n",
      "Train dataset labels: (31361,)\n",
      "\n",
      "Dataset shape after splitting: \n",
      "X_train: (25088, 22) \n",
      "X_valid: (6273, 22) \n",
      "y_train: (25088,) \n",
      "y_valid: (6273,)\n"
     ]
    }
   ],
   "source": [
    "# Split data in features and labels (tm)\n",
    "X = train.drop(['tm'],axis=1)\n",
    "y = train['tm']\n",
    "\n",
    "print(f'Dataset shape before splitting: \\nTrain dataset features: {X.shape} \\nTrain dataset labels: {y.shape}')\n",
    "\n",
    "X_train, X_valid, y_train, y_valid = train_test_split(X,\n",
    "                                                      y,\n",
    "                                                      test_size = 0.20,\n",
    "                                                      random_state = 42\n",
    "                                                     )\n",
    "\n",
    "(print(f'\\nDataset shape after splitting: \\nX_train: {X_train.shape} \\nX_valid: {X_valid.shape} \\ny_train: {y_train.shape} \\ny_valid: {y_valid.shape}'))"
   ]
  },
  {
   "cell_type": "code",
   "execution_count": 18,
   "id": "4782dbaf",
   "metadata": {
    "papermill": {
     "duration": 0.024292,
     "end_time": "2022-11-24T06:52:33.955858",
     "exception": false,
     "start_time": "2022-11-24T06:52:33.931566",
     "status": "completed"
    },
    "tags": []
   },
   "outputs": [
    {
     "name": "stdout",
     "output_type": "stream",
     "text": [
      "bootstrap: True\n",
      "ccp_alpha: 0.0\n",
      "criterion: squared_error\n",
      "max_depth: None\n",
      "max_features: 1.0\n",
      "max_leaf_nodes: None\n",
      "max_samples: None\n",
      "min_impurity_decrease: 0.0\n",
      "min_samples_leaf: 1\n",
      "min_samples_split: 2\n",
      "min_weight_fraction_leaf: 0.0\n",
      "n_estimators: 100\n",
      "n_jobs: None\n",
      "oob_score: False\n",
      "random_state: None\n",
      "verbose: 0\n",
      "warm_start: False\n"
     ]
    }
   ],
   "source": [
    "# Instanciate the model and show its parameters\n",
    "rf = RandomForestRegressor()\n",
    "\n",
    "for i in rf.get_params():\n",
    "    print(f'{i}: {rf.get_params()[i]}')"
   ]
  },
  {
   "cell_type": "code",
   "execution_count": 19,
   "id": "dafb6964",
   "metadata": {
    "papermill": {
     "duration": 0.030417,
     "end_time": "2022-11-24T06:52:34.046304",
     "exception": false,
     "start_time": "2022-11-24T06:52:34.015887",
     "status": "completed"
    },
    "tags": []
   },
   "outputs": [],
   "source": [
    "# Create a random_grid to tune hyperparameters\n",
    "random_grid={'max_depth':list(np.arange(10, 100, step=10)),\n",
    "              'n_estimators':np.arange(10, 500, step=50),\n",
    "              'max_features':randint(1,7),\n",
    "              'min_samples_leaf':randint(1,4),\n",
    "              'min_samples_split':np.arange(2, 10, step=2)\n",
    "             }"
   ]
  },
  {
   "cell_type": "code",
   "execution_count": 20,
   "id": "29e0f8da",
   "metadata": {
    "papermill": {
     "duration": 508.272634,
     "end_time": "2022-11-24T07:01:02.395183",
     "exception": false,
     "start_time": "2022-11-24T06:52:34.122549",
     "status": "completed"
    },
    "tags": []
   },
   "outputs": [
    {
     "name": "stdout",
     "output_type": "stream",
     "text": [
      "Fitting 3 folds for each of 10 candidates, totalling 30 fits\n"
     ]
    },
    {
     "data": {
      "text/html": [
       "<style>#sk-container-id-1 {color: black;background-color: white;}#sk-container-id-1 pre{padding: 0;}#sk-container-id-1 div.sk-toggleable {background-color: white;}#sk-container-id-1 label.sk-toggleable__label {cursor: pointer;display: block;width: 100%;margin-bottom: 0;padding: 0.3em;box-sizing: border-box;text-align: center;}#sk-container-id-1 label.sk-toggleable__label-arrow:before {content: \"▸\";float: left;margin-right: 0.25em;color: #696969;}#sk-container-id-1 label.sk-toggleable__label-arrow:hover:before {color: black;}#sk-container-id-1 div.sk-estimator:hover label.sk-toggleable__label-arrow:before {color: black;}#sk-container-id-1 div.sk-toggleable__content {max-height: 0;max-width: 0;overflow: hidden;text-align: left;background-color: #f0f8ff;}#sk-container-id-1 div.sk-toggleable__content pre {margin: 0.2em;color: black;border-radius: 0.25em;background-color: #f0f8ff;}#sk-container-id-1 input.sk-toggleable__control:checked~div.sk-toggleable__content {max-height: 200px;max-width: 100%;overflow: auto;}#sk-container-id-1 input.sk-toggleable__control:checked~label.sk-toggleable__label-arrow:before {content: \"▾\";}#sk-container-id-1 div.sk-estimator input.sk-toggleable__control:checked~label.sk-toggleable__label {background-color: #d4ebff;}#sk-container-id-1 div.sk-label input.sk-toggleable__control:checked~label.sk-toggleable__label {background-color: #d4ebff;}#sk-container-id-1 input.sk-hidden--visually {border: 0;clip: rect(1px 1px 1px 1px);clip: rect(1px, 1px, 1px, 1px);height: 1px;margin: -1px;overflow: hidden;padding: 0;position: absolute;width: 1px;}#sk-container-id-1 div.sk-estimator {font-family: monospace;background-color: #f0f8ff;border: 1px dotted black;border-radius: 0.25em;box-sizing: border-box;margin-bottom: 0.5em;}#sk-container-id-1 div.sk-estimator:hover {background-color: #d4ebff;}#sk-container-id-1 div.sk-parallel-item::after {content: \"\";width: 100%;border-bottom: 1px solid gray;flex-grow: 1;}#sk-container-id-1 div.sk-label:hover label.sk-toggleable__label {background-color: #d4ebff;}#sk-container-id-1 div.sk-serial::before {content: \"\";position: absolute;border-left: 1px solid gray;box-sizing: border-box;top: 0;bottom: 0;left: 50%;z-index: 0;}#sk-container-id-1 div.sk-serial {display: flex;flex-direction: column;align-items: center;background-color: white;padding-right: 0.2em;padding-left: 0.2em;position: relative;}#sk-container-id-1 div.sk-item {position: relative;z-index: 1;}#sk-container-id-1 div.sk-parallel {display: flex;align-items: stretch;justify-content: center;background-color: white;position: relative;}#sk-container-id-1 div.sk-item::before, #sk-container-id-1 div.sk-parallel-item::before {content: \"\";position: absolute;border-left: 1px solid gray;box-sizing: border-box;top: 0;bottom: 0;left: 50%;z-index: -1;}#sk-container-id-1 div.sk-parallel-item {display: flex;flex-direction: column;z-index: 1;position: relative;background-color: white;}#sk-container-id-1 div.sk-parallel-item:first-child::after {align-self: flex-end;width: 50%;}#sk-container-id-1 div.sk-parallel-item:last-child::after {align-self: flex-start;width: 50%;}#sk-container-id-1 div.sk-parallel-item:only-child::after {width: 0;}#sk-container-id-1 div.sk-dashed-wrapped {border: 1px dashed gray;margin: 0 0.4em 0.5em 0.4em;box-sizing: border-box;padding-bottom: 0.4em;background-color: white;}#sk-container-id-1 div.sk-label label {font-family: monospace;font-weight: bold;display: inline-block;line-height: 1.2em;}#sk-container-id-1 div.sk-label-container {text-align: center;}#sk-container-id-1 div.sk-container {/* jupyter's `normalize.less` sets `[hidden] { display: none; }` but bootstrap.min.css set `[hidden] { display: none !important; }` so we also need the `!important` here to be able to override the default hidden behavior on the sphinx rendered scikit-learn.org. See: https://github.com/scikit-learn/scikit-learn/issues/21755 */display: inline-block !important;position: relative;}#sk-container-id-1 div.sk-text-repr-fallback {display: none;}</style><div id=\"sk-container-id-1\" class=\"sk-top-container\"><div class=\"sk-text-repr-fallback\"><pre>RandomizedSearchCV(cv=3, estimator=RandomForestRegressor(random_state=42),\n",
       "                   n_jobs=-1,\n",
       "                   param_distributions={&#x27;max_depth&#x27;: [10, 20, 30, 40, 50, 60,\n",
       "                                                      70, 80, 90],\n",
       "                                        &#x27;max_features&#x27;: &lt;scipy.stats._distn_infrastructure.rv_discrete_frozen object at 0x000001F5EC92F340&gt;,\n",
       "                                        &#x27;min_samples_leaf&#x27;: &lt;scipy.stats._distn_infrastructure.rv_discrete_frozen object at 0x000001F5EC92CB50&gt;,\n",
       "                                        &#x27;min_samples_split&#x27;: array([2, 4, 6, 8]),\n",
       "                                        &#x27;n_estimators&#x27;: array([ 10,  60, 110, 160, 210, 260, 310, 360, 410, 460])},\n",
       "                   random_state=42, return_train_score=True,\n",
       "                   scoring=&#x27;neg_mean_absolute_error&#x27;, verbose=2)</pre><b>In a Jupyter environment, please rerun this cell to show the HTML representation or trust the notebook. <br />On GitHub, the HTML representation is unable to render, please try loading this page with nbviewer.org.</b></div><div class=\"sk-container\" hidden><div class=\"sk-item sk-dashed-wrapped\"><div class=\"sk-label-container\"><div class=\"sk-label sk-toggleable\"><input class=\"sk-toggleable__control sk-hidden--visually\" id=\"sk-estimator-id-1\" type=\"checkbox\" ><label for=\"sk-estimator-id-1\" class=\"sk-toggleable__label sk-toggleable__label-arrow\">RandomizedSearchCV</label><div class=\"sk-toggleable__content\"><pre>RandomizedSearchCV(cv=3, estimator=RandomForestRegressor(random_state=42),\n",
       "                   n_jobs=-1,\n",
       "                   param_distributions={&#x27;max_depth&#x27;: [10, 20, 30, 40, 50, 60,\n",
       "                                                      70, 80, 90],\n",
       "                                        &#x27;max_features&#x27;: &lt;scipy.stats._distn_infrastructure.rv_discrete_frozen object at 0x000001F5EC92F340&gt;,\n",
       "                                        &#x27;min_samples_leaf&#x27;: &lt;scipy.stats._distn_infrastructure.rv_discrete_frozen object at 0x000001F5EC92CB50&gt;,\n",
       "                                        &#x27;min_samples_split&#x27;: array([2, 4, 6, 8]),\n",
       "                                        &#x27;n_estimators&#x27;: array([ 10,  60, 110, 160, 210, 260, 310, 360, 410, 460])},\n",
       "                   random_state=42, return_train_score=True,\n",
       "                   scoring=&#x27;neg_mean_absolute_error&#x27;, verbose=2)</pre></div></div></div><div class=\"sk-parallel\"><div class=\"sk-parallel-item\"><div class=\"sk-item\"><div class=\"sk-label-container\"><div class=\"sk-label sk-toggleable\"><input class=\"sk-toggleable__control sk-hidden--visually\" id=\"sk-estimator-id-2\" type=\"checkbox\" ><label for=\"sk-estimator-id-2\" class=\"sk-toggleable__label sk-toggleable__label-arrow\">estimator: RandomForestRegressor</label><div class=\"sk-toggleable__content\"><pre>RandomForestRegressor(random_state=42)</pre></div></div></div><div class=\"sk-serial\"><div class=\"sk-item\"><div class=\"sk-estimator sk-toggleable\"><input class=\"sk-toggleable__control sk-hidden--visually\" id=\"sk-estimator-id-3\" type=\"checkbox\" ><label for=\"sk-estimator-id-3\" class=\"sk-toggleable__label sk-toggleable__label-arrow\">RandomForestRegressor</label><div class=\"sk-toggleable__content\"><pre>RandomForestRegressor(random_state=42)</pre></div></div></div></div></div></div></div></div></div></div>"
      ],
      "text/plain": [
       "RandomizedSearchCV(cv=3, estimator=RandomForestRegressor(random_state=42),\n",
       "                   n_jobs=-1,\n",
       "                   param_distributions={'max_depth': [10, 20, 30, 40, 50, 60,\n",
       "                                                      70, 80, 90],\n",
       "                                        'max_features': <scipy.stats._distn_infrastructure.rv_discrete_frozen object at 0x000001F5EC92F340>,\n",
       "                                        'min_samples_leaf': <scipy.stats._distn_infrastructure.rv_discrete_frozen object at 0x000001F5EC92CB50>,\n",
       "                                        'min_samples_split': array([2, 4, 6, 8]),\n",
       "                                        'n_estimators': array([ 10,  60, 110, 160, 210, 260, 310, 360, 410, 460])},\n",
       "                   random_state=42, return_train_score=True,\n",
       "                   scoring='neg_mean_absolute_error', verbose=2)"
      ]
     },
     "execution_count": 20,
     "metadata": {},
     "output_type": "execute_result"
    }
   ],
   "source": [
    "# Use the random grid to search for best hyperparameters\n",
    "# Create the base model to tune\n",
    "rf = RandomForestRegressor(random_state = 42)\n",
    "\n",
    "# Random search of parameters, using 3 fold cross validation\n",
    "rf_random = RandomizedSearchCV(estimator=rf, \n",
    "                               param_distributions=random_grid,\n",
    "                               n_iter=10, \n",
    "                               scoring='neg_mean_absolute_error', \n",
    "                               cv=3, \n",
    "                               verbose=2, \n",
    "                               random_state=42, \n",
    "                               n_jobs=-1,\n",
    "                               return_train_score=True\n",
    "                               )\n",
    "\n",
    "# Fit the random search model\n",
    "rf_random.fit(X_train, y_train)"
   ]
  },
  {
   "cell_type": "markdown",
   "id": "123c94f3-4d90-4fb1-be91-ac0f3fc23f9f",
   "metadata": {},
   "source": [
    "# Model Prediction"
   ]
  },
  {
   "cell_type": "code",
   "execution_count": 21,
   "id": "cd16a022",
   "metadata": {
    "papermill": {
     "duration": 0.787576,
     "end_time": "2022-11-24T07:01:03.199909",
     "exception": false,
     "start_time": "2022-11-24T07:01:02.412333",
     "status": "completed"
    },
    "tags": []
   },
   "outputs": [
    {
     "data": {
      "text/plain": [
       "(6273,)"
      ]
     },
     "execution_count": 21,
     "metadata": {},
     "output_type": "execute_result"
    }
   ],
   "source": [
    "y_predict= rf_random.predict(X_valid)\n",
    "y_predict.shape"
   ]
  },
  {
   "cell_type": "code",
   "execution_count": 22,
   "id": "6dcca93e",
   "metadata": {
    "papermill": {
     "duration": 0.027915,
     "end_time": "2022-11-24T07:01:03.244446",
     "exception": false,
     "start_time": "2022-11-24T07:01:03.216531",
     "status": "completed"
    },
    "tags": []
   },
   "outputs": [
    {
     "data": {
      "text/plain": [
       "(2413, 22)"
      ]
     },
     "execution_count": 22,
     "metadata": {},
     "output_type": "execute_result"
    }
   ],
   "source": [
    "test.shape"
   ]
  },
  {
   "cell_type": "code",
   "execution_count": 23,
   "id": "6ee94770",
   "metadata": {
    "papermill": {
     "duration": 0.452229,
     "end_time": "2022-11-24T07:01:03.713072",
     "exception": false,
     "start_time": "2022-11-24T07:01:03.260843",
     "status": "completed"
    },
    "tags": []
   },
   "outputs": [
    {
     "data": {
      "text/plain": [
       "<seaborn.axisgrid.FacetGrid at 0x1f5ef6c2ec0>"
      ]
     },
     "execution_count": 23,
     "metadata": {},
     "output_type": "execute_result"
    },
    {
     "data": {
      "image/png": "[encoded data removed]",
      "text/plain": [
       "<Figure size 500x500 with 1 Axes>"
      ]
     },
     "metadata": {},
     "output_type": "display_data"
    },
    {
     "data": {
      "image/png": "[encoded data removed]",
      "text/plain": [
       "<Figure size 500x500 with 1 Axes>"
      ]
     },
     "metadata": {},
     "output_type": "display_data"
    }
   ],
   "source": [
    "# Density Plot and Histogram of all arrival delays\n",
    "sns.displot(y_valid, \n",
    "            #hist=True, \n",
    "            #kde=True, \n",
    "            #bins=int(180/5), \n",
    "            #color='darkblue', \n",
    "            #hist_kws={'edgecolor':'black'},\n",
    "            #kde_kws={'linewidth': 4}\n",
    "            )\n",
    "\n",
    "# Density Plot and Histogram of all arrival delays\n",
    "sns.displot(y_predict, \n",
    "            #hist=True, \n",
    "            #kde=True, \n",
    "            #bins=int(180/5), \n",
    "            #color='red', \n",
    "            #hist_kws={'edgecolor':'green'},\n",
    "            #kde_kws={'linewidth': 4}\n",
    "            )"
   ]
  },
  {
   "cell_type": "code",
   "execution_count": 24,
   "id": "d25482ee",
   "metadata": {
    "papermill": {
     "duration": 0.030597,
     "end_time": "2022-11-24T07:01:03.760410",
     "exception": false,
     "start_time": "2022-11-24T07:01:03.729813",
     "status": "completed"
    },
    "tags": []
   },
   "outputs": [
    {
     "name": "stdout",
     "output_type": "stream",
     "text": [
      "Mean Absolute Error: 6.327197737205078\n",
      "Mean Squared Error: 80.83398936305935\n",
      "Root Mean Squared Error: 8.990772456416599\n"
     ]
    }
   ],
   "source": [
    "print('Mean Absolute Error:', metrics.mean_absolute_error(y_valid, y_predict))\n",
    "print('Mean Squared Error:', metrics.mean_squared_error(y_valid, y_predict))\n",
    "print('Root Mean Squared Error:', np.sqrt(metrics.mean_squared_error(y_valid, y_predict)))"
   ]
  },
  {
   "cell_type": "code",
   "execution_count": 25,
   "id": "34247bbc",
   "metadata": {
    "papermill": {
     "duration": 0.033549,
     "end_time": "2022-11-24T07:01:03.852209",
     "exception": false,
     "start_time": "2022-11-24T07:01:03.818660",
     "status": "completed"
    },
    "tags": []
   },
   "outputs": [
    {
     "data": {
      "text/plain": [
       "SpearmanrResult(correlation=0.576814793356326, pvalue=0.0)"
      ]
     },
     "execution_count": 25,
     "metadata": {},
     "output_type": "execute_result"
    }
   ],
   "source": [
    "stats.spearmanr(y_valid, y_predict)"
   ]
  },
  {
   "cell_type": "code",
   "execution_count": 26,
   "id": "8934c028",
   "metadata": {
    "papermill": {
     "duration": 0.026512,
     "end_time": "2022-11-24T07:01:03.895721",
     "exception": false,
     "start_time": "2022-11-24T07:01:03.869209",
     "status": "completed"
    },
    "tags": []
   },
   "outputs": [],
   "source": [
    "submission = pd.DataFrame()"
   ]
  },
  {
   "cell_type": "code",
   "execution_count": 27,
   "id": "118592b1",
   "metadata": {
    "papermill": {
     "duration": 0.027956,
     "end_time": "2022-11-24T07:01:03.940798",
     "exception": false,
     "start_time": "2022-11-24T07:01:03.912842",
     "status": "completed"
    },
    "tags": []
   },
   "outputs": [],
   "source": [
    "submission['seq_id'] = test['seq_id']"
   ]
  },
  {
   "cell_type": "code",
   "execution_count": 28,
   "id": "880c810e",
   "metadata": {
    "papermill": {
     "duration": 0.110026,
     "end_time": "2022-11-24T07:01:04.068479",
     "exception": false,
     "start_time": "2022-11-24T07:01:03.958453",
     "status": "completed"
    },
    "tags": []
   },
   "outputs": [],
   "source": [
    "submission['tm'] = rf_random.predict(test)"
   ]
  },
  {
   "cell_type": "code",
   "execution_count": 29,
   "id": "106fb356",
   "metadata": {
    "papermill": {
     "duration": 0.043763,
     "end_time": "2022-11-24T07:01:04.130142",
     "exception": false,
     "start_time": "2022-11-24T07:01:04.086379",
     "status": "completed"
    },
    "tags": []
   },
   "outputs": [
    {
     "data": {
      "text/html": [
       "<div>\n",
       "<style scoped>\n",
       "    .dataframe tbody tr th:only-of-type {\n",
       "        vertical-align: middle;\n",
       "    }\n",
       "\n",
       "    .dataframe tbody tr th {\n",
       "        vertical-align: top;\n",
       "    }\n",
       "\n",
       "    .dataframe thead th {\n",
       "        text-align: right;\n",
       "    }\n",
       "</style>\n",
       "<table border=\"1\" class=\"dataframe\">\n",
       "  <thead>\n",
       "    <tr style=\"text-align: right;\">\n",
       "      <th></th>\n",
       "      <th>seq_id</th>\n",
       "      <th>tm</th>\n",
       "    </tr>\n",
       "  </thead>\n",
       "  <tbody>\n",
       "    <tr>\n",
       "      <th>0</th>\n",
       "      <td>31390</td>\n",
       "      <td>46.104170</td>\n",
       "    </tr>\n",
       "    <tr>\n",
       "      <th>1</th>\n",
       "      <td>31391</td>\n",
       "      <td>45.909728</td>\n",
       "    </tr>\n",
       "    <tr>\n",
       "      <th>2</th>\n",
       "      <td>31392</td>\n",
       "      <td>45.803496</td>\n",
       "    </tr>\n",
       "    <tr>\n",
       "      <th>3</th>\n",
       "      <td>31393</td>\n",
       "      <td>46.421412</td>\n",
       "    </tr>\n",
       "    <tr>\n",
       "      <th>4</th>\n",
       "      <td>31394</td>\n",
       "      <td>46.219307</td>\n",
       "    </tr>\n",
       "    <tr>\n",
       "      <th>...</th>\n",
       "      <td>...</td>\n",
       "      <td>...</td>\n",
       "    </tr>\n",
       "    <tr>\n",
       "      <th>2408</th>\n",
       "      <td>33798</td>\n",
       "      <td>45.970896</td>\n",
       "    </tr>\n",
       "    <tr>\n",
       "      <th>2409</th>\n",
       "      <td>33799</td>\n",
       "      <td>45.980519</td>\n",
       "    </tr>\n",
       "    <tr>\n",
       "      <th>2410</th>\n",
       "      <td>33800</td>\n",
       "      <td>45.938867</td>\n",
       "    </tr>\n",
       "    <tr>\n",
       "      <th>2411</th>\n",
       "      <td>33801</td>\n",
       "      <td>45.870645</td>\n",
       "    </tr>\n",
       "    <tr>\n",
       "      <th>2412</th>\n",
       "      <td>33802</td>\n",
       "      <td>45.562225</td>\n",
       "    </tr>\n",
       "  </tbody>\n",
       "</table>\n",
       "<p>2413 rows × 2 columns</p>\n",
       "</div>"
      ],
      "text/plain": [
       "      seq_id         tm\n",
       "0      31390  46.104170\n",
       "1      31391  45.909728\n",
       "2      31392  45.803496\n",
       "3      31393  46.421412\n",
       "4      31394  46.219307\n",
       "...      ...        ...\n",
       "2408   33798  45.970896\n",
       "2409   33799  45.980519\n",
       "2410   33800  45.938867\n",
       "2411   33801  45.870645\n",
       "2412   33802  45.562225\n",
       "\n",
       "[2413 rows x 2 columns]"
      ]
     },
     "execution_count": 29,
     "metadata": {},
     "output_type": "execute_result"
    }
   ],
   "source": [
    "submission.to_csv('submission.csv',index=False)\n",
    "submission"
   ]
  },
  {
   "cell_type": "code",
   "execution_count": 30,
   "id": "24837f12",
   "metadata": {
    "papermill": {
     "duration": 0.027848,
     "end_time": "2022-11-24T07:01:04.175446",
     "exception": false,
     "start_time": "2022-11-24T07:01:04.147598",
     "status": "completed"
    },
    "tags": []
   },
   "outputs": [
    {
     "data": {
      "text/html": [
       "<a href='submission.csv' target='_blank'>submission.csv</a><br>"
      ],
      "text/plain": [
       "C:\\Users\\10122055\\OneDrive - NTT DATA Business Solutions\\Projekter\\Machine_Learning_Models\\Models\\Novozymes Enzyme Stability Prediction\\submission.csv"
      ]
     },
     "execution_count": 30,
     "metadata": {},
     "output_type": "execute_result"
    }
   ],
   "source": [
    "FileLink(r'submission.csv')"
   ]
  },
  {
   "cell_type": "code",
   "execution_count": null,
   "id": "7ad7dd2c",
   "metadata": {
    "papermill": {
     "duration": 0.017539,
     "end_time": "2022-11-24T07:01:04.211478",
     "exception": false,
     "start_time": "2022-11-24T07:01:04.193939",
     "status": "completed"
    },
    "tags": []
   },
   "outputs": [],
   "source": []
  }
 ],
 "metadata": {
  "kernelspec": {
   "display_name": "Python 3 (ipykernel)",
   "language": "python",
   "name": "python3"
  },
  "language_info": {
   "codemirror_mode": {
    "name": "ipython",
    "version": 3
   },
   "file_extension": ".py",
   "mimetype": "text/x-python",
   "name": "python",
   "nbconvert_exporter": "python",
   "pygments_lexer": "ipython3",
   "version": "3.10.7"
  },
  "papermill": {
   "default_parameters": {},
   "duration": 534.872282,
   "end_time": "2022-11-24T07:01:06.854032",
   "environment_variables": {},
   "exception": null,
   "input_path": "__notebook__.ipynb",
   "output_path": "__notebook__.ipynb",
   "parameters": {},
   "start_time": "2022-11-24T06:52:11.981750",
   "version": "2.3.4"
  },
  "vscode": {
   "interpreter": {
    "hash": "eb8199a3c65b345bc30f0ec1664247cbff5f651495ce12818f4c9a5d2f27a822"
   }
  }
 },
 "nbformat": 4,
 "nbformat_minor": 5
}
