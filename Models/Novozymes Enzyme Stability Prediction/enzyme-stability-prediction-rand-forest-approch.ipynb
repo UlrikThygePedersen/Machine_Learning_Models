{
 "cells": [
  {
   "cell_type": "code",
   "execution_count": 11,
   "id": "f7252d81",
   "metadata": {
    "_cell_guid": "b1076dfc-b9ad-4769-8c92-a6c4dae69d19",
    "_uuid": "8f2839f25d086af736a60e9eeb907d3b93b6e0e5",
    "papermill": {
     "duration": 0.031744,
     "end_time": "2022-11-24T06:52:20.596664",
     "exception": false,
     "start_time": "2022-11-24T06:52:20.564920",
     "status": "completed"
    },
    "tags": []
   },
   "outputs": [
    {
     "name": "stdout",
     "output_type": "stream",
     "text": [
      ".\\enzyme-stability-prediction-rand-forest-approch.ipynb\n",
      ".\\Novozymes_Kaggle_Model.ipynb\n",
      ".\\sample_submission.csv\n",
      ".\\test.csv\n",
      ".\\train.csv\n",
      ".\\wildtype_structure_prediction_af2.pdb\n",
      ".\\.ipynb_checkpoints\\enzyme-stability-prediction-rand-forest-approch-checkpoint.ipynb\n",
      ".\\.ipynb_checkpoints\\Novozymes_Kaggle_Model-checkpoint.ipynb\n"
     ]
    }
   ],
   "source": [
    "import numpy as np # linear algebra\n",
    "import pandas as pd # data processing, CSV file I/O (e.g. pd.read_csv)\n",
    "import seaborn as sns # plot fancy stuff\n",
    "import matplotlib.pyplot as plt #plot stuff\n",
    "\n",
    "import os\n",
    "for dirname, _, filenames in os.walk('.'):\n",
    "    for filename in filenames:\n",
    "        print(os.path.join(dirname, filename))"
   ]
  },
  {
   "cell_type": "code",
   "execution_count": 14,
   "id": "57685bf0",
   "metadata": {
    "papermill": {
     "duration": 0.453853,
     "end_time": "2022-11-24T06:52:22.304175",
     "exception": false,
     "start_time": "2022-11-24T06:52:21.850322",
     "status": "completed"
    },
    "tags": []
   },
   "outputs": [],
   "source": [
    "train = pd.read_csv('train.csv')"
   ]
  },
  {
   "cell_type": "code",
   "execution_count": 15,
   "id": "2c7a70c5",
   "metadata": {
    "papermill": {
     "duration": 0.045288,
     "end_time": "2022-11-24T06:52:22.361419",
     "exception": false,
     "start_time": "2022-11-24T06:52:22.316131",
     "status": "completed"
    },
    "tags": []
   },
   "outputs": [],
   "source": [
    "test = pd.read_csv('test.csv')"
   ]
  },
  {
   "cell_type": "code",
   "execution_count": 16,
   "id": "1aadd7a1",
   "metadata": {
    "papermill": {
     "duration": 0.028238,
     "end_time": "2022-11-24T06:52:22.401940",
     "exception": false,
     "start_time": "2022-11-24T06:52:22.373702",
     "status": "completed"
    },
    "tags": []
   },
   "outputs": [],
   "source": [
    "train_update = pd.read_csv('train_updates_20220929.csv')"
   ]
  },
  {
   "cell_type": "code",
   "execution_count": 17,
   "id": "03b3f34c",
   "metadata": {
    "papermill": {
     "duration": 0.043682,
     "end_time": "2022-11-24T06:52:22.457605",
     "exception": false,
     "start_time": "2022-11-24T06:52:22.413923",
     "status": "completed"
    },
    "tags": []
   },
   "outputs": [
    {
     "data": {
      "text/html": [
       "<div>\n",
       "<style scoped>\n",
       "    .dataframe tbody tr th:only-of-type {\n",
       "        vertical-align: middle;\n",
       "    }\n",
       "\n",
       "    .dataframe tbody tr th {\n",
       "        vertical-align: top;\n",
       "    }\n",
       "\n",
       "    .dataframe thead th {\n",
       "        text-align: right;\n",
       "    }\n",
       "</style>\n",
       "<table border=\"1\" class=\"dataframe\">\n",
       "  <thead>\n",
       "    <tr style=\"text-align: right;\">\n",
       "      <th></th>\n",
       "      <th>seq_id</th>\n",
       "      <th>protein_sequence</th>\n",
       "      <th>pH</th>\n",
       "      <th>data_source</th>\n",
       "    </tr>\n",
       "  </thead>\n",
       "  <tbody>\n",
       "    <tr>\n",
       "      <th>0</th>\n",
       "      <td>31390</td>\n",
       "      <td>VPVNPEPDATSVENVAEKTGSGDSQSDPIKADLEVKGQSALPFDVD...</td>\n",
       "      <td>8</td>\n",
       "      <td>Novozymes</td>\n",
       "    </tr>\n",
       "    <tr>\n",
       "      <th>1</th>\n",
       "      <td>31391</td>\n",
       "      <td>VPVNPEPDATSVENVAKKTGSGDSQSDPIKADLEVKGQSALPFDVD...</td>\n",
       "      <td>8</td>\n",
       "      <td>Novozymes</td>\n",
       "    </tr>\n",
       "    <tr>\n",
       "      <th>2</th>\n",
       "      <td>31392</td>\n",
       "      <td>VPVNPEPDATSVENVAKTGSGDSQSDPIKADLEVKGQSALPFDVDC...</td>\n",
       "      <td>8</td>\n",
       "      <td>Novozymes</td>\n",
       "    </tr>\n",
       "    <tr>\n",
       "      <th>3</th>\n",
       "      <td>31393</td>\n",
       "      <td>VPVNPEPDATSVENVALCTGSGDSQSDPIKADLEVKGQSALPFDVD...</td>\n",
       "      <td>8</td>\n",
       "      <td>Novozymes</td>\n",
       "    </tr>\n",
       "    <tr>\n",
       "      <th>4</th>\n",
       "      <td>31394</td>\n",
       "      <td>VPVNPEPDATSVENVALFTGSGDSQSDPIKADLEVKGQSALPFDVD...</td>\n",
       "      <td>8</td>\n",
       "      <td>Novozymes</td>\n",
       "    </tr>\n",
       "    <tr>\n",
       "      <th>...</th>\n",
       "      <td>...</td>\n",
       "      <td>...</td>\n",
       "      <td>...</td>\n",
       "      <td>...</td>\n",
       "    </tr>\n",
       "    <tr>\n",
       "      <th>2408</th>\n",
       "      <td>33798</td>\n",
       "      <td>VPVNPEPDATSVENVILKTGSGDSQSDPIKADLEVKGQSALPFDVD...</td>\n",
       "      <td>8</td>\n",
       "      <td>Novozymes</td>\n",
       "    </tr>\n",
       "    <tr>\n",
       "      <th>2409</th>\n",
       "      <td>33799</td>\n",
       "      <td>VPVNPEPDATSVENVLLKTGSGDSQSDPIKADLEVKGQSALPFDVD...</td>\n",
       "      <td>8</td>\n",
       "      <td>Novozymes</td>\n",
       "    </tr>\n",
       "    <tr>\n",
       "      <th>2410</th>\n",
       "      <td>33800</td>\n",
       "      <td>VPVNPEPDATSVENVNLKTGSGDSQSDPIKADLEVKGQSALPFDVD...</td>\n",
       "      <td>8</td>\n",
       "      <td>Novozymes</td>\n",
       "    </tr>\n",
       "    <tr>\n",
       "      <th>2411</th>\n",
       "      <td>33801</td>\n",
       "      <td>VPVNPEPDATSVENVPLKTGSGDSQSDPIKADLEVKGQSALPFDVD...</td>\n",
       "      <td>8</td>\n",
       "      <td>Novozymes</td>\n",
       "    </tr>\n",
       "    <tr>\n",
       "      <th>2412</th>\n",
       "      <td>33802</td>\n",
       "      <td>VPVNPEPDATSVENVWLKTGSGDSQSDPIKADLEVKGQSALPFDVD...</td>\n",
       "      <td>8</td>\n",
       "      <td>Novozymes</td>\n",
       "    </tr>\n",
       "  </tbody>\n",
       "</table>\n",
       "<p>2413 rows × 4 columns</p>\n",
       "</div>"
      ],
      "text/plain": [
       "      seq_id                                   protein_sequence  pH  \\\n",
       "0      31390  VPVNPEPDATSVENVAEKTGSGDSQSDPIKADLEVKGQSALPFDVD...   8   \n",
       "1      31391  VPVNPEPDATSVENVAKKTGSGDSQSDPIKADLEVKGQSALPFDVD...   8   \n",
       "2      31392  VPVNPEPDATSVENVAKTGSGDSQSDPIKADLEVKGQSALPFDVDC...   8   \n",
       "3      31393  VPVNPEPDATSVENVALCTGSGDSQSDPIKADLEVKGQSALPFDVD...   8   \n",
       "4      31394  VPVNPEPDATSVENVALFTGSGDSQSDPIKADLEVKGQSALPFDVD...   8   \n",
       "...      ...                                                ...  ..   \n",
       "2408   33798  VPVNPEPDATSVENVILKTGSGDSQSDPIKADLEVKGQSALPFDVD...   8   \n",
       "2409   33799  VPVNPEPDATSVENVLLKTGSGDSQSDPIKADLEVKGQSALPFDVD...   8   \n",
       "2410   33800  VPVNPEPDATSVENVNLKTGSGDSQSDPIKADLEVKGQSALPFDVD...   8   \n",
       "2411   33801  VPVNPEPDATSVENVPLKTGSGDSQSDPIKADLEVKGQSALPFDVD...   8   \n",
       "2412   33802  VPVNPEPDATSVENVWLKTGSGDSQSDPIKADLEVKGQSALPFDVD...   8   \n",
       "\n",
       "     data_source  \n",
       "0      Novozymes  \n",
       "1      Novozymes  \n",
       "2      Novozymes  \n",
       "3      Novozymes  \n",
       "4      Novozymes  \n",
       "...          ...  \n",
       "2408   Novozymes  \n",
       "2409   Novozymes  \n",
       "2410   Novozymes  \n",
       "2411   Novozymes  \n",
       "2412   Novozymes  \n",
       "\n",
       "[2413 rows x 4 columns]"
      ]
     },
     "execution_count": 17,
     "metadata": {},
     "output_type": "execute_result"
    }
   ],
   "source": [
    "test"
   ]
  },
  {
   "cell_type": "code",
   "execution_count": 7,
   "id": "7dce55f8",
   "metadata": {
    "execution": {
     "iopub.execute_input": "2022-11-24T06:52:22.483815Z",
     "iopub.status.busy": "2022-11-24T06:52:22.483064Z",
     "iopub.status.idle": "2022-11-24T06:52:22.509530Z",
     "shell.execute_reply": "2022-11-24T06:52:22.508161Z"
    },
    "papermill": {
     "duration": 0.042369,
     "end_time": "2022-11-24T06:52:22.512112",
     "exception": false,
     "start_time": "2022-11-24T06:52:22.469743",
     "status": "completed"
    },
    "tags": []
   },
   "outputs": [
    {
     "name": "stdout",
     "output_type": "stream",
     "text": [
      "<class 'pandas.core.frame.DataFrame'>\n",
      "RangeIndex: 2434 entries, 0 to 2433\n",
      "Data columns (total 5 columns):\n",
      " #   Column            Non-Null Count  Dtype  \n",
      "---  ------            --------------  -----  \n",
      " 0   seq_id            2434 non-null   int64  \n",
      " 1   protein_sequence  25 non-null     object \n",
      " 2   pH                25 non-null     float64\n",
      " 3   data_source       0 non-null      float64\n",
      " 4   tm                25 non-null     float64\n",
      "dtypes: float64(3), int64(1), object(1)\n",
      "memory usage: 95.2+ KB\n"
     ]
    }
   ],
   "source": [
    "train_update.info()"
   ]
  },
  {
   "cell_type": "code",
   "execution_count": 8,
   "id": "2ee87bcf",
   "metadata": {
    "execution": {
     "iopub.execute_input": "2022-11-24T06:52:22.540363Z",
     "iopub.status.busy": "2022-11-24T06:52:22.539102Z",
     "iopub.status.idle": "2022-11-24T06:52:22.554006Z",
     "shell.execute_reply": "2022-11-24T06:52:22.552806Z"
    },
    "papermill": {
     "duration": 0.031552,
     "end_time": "2022-11-24T06:52:22.556444",
     "exception": false,
     "start_time": "2022-11-24T06:52:22.524892",
     "status": "completed"
    },
    "tags": []
   },
   "outputs": [
    {
     "data": {
      "text/html": [
       "<div>\n",
       "<style scoped>\n",
       "    .dataframe tbody tr th:only-of-type {\n",
       "        vertical-align: middle;\n",
       "    }\n",
       "\n",
       "    .dataframe tbody tr th {\n",
       "        vertical-align: top;\n",
       "    }\n",
       "\n",
       "    .dataframe thead th {\n",
       "        text-align: right;\n",
       "    }\n",
       "</style>\n",
       "<table border=\"1\" class=\"dataframe\">\n",
       "  <thead>\n",
       "    <tr style=\"text-align: right;\">\n",
       "      <th></th>\n",
       "      <th>seq_id</th>\n",
       "      <th>protein_sequence</th>\n",
       "      <th>pH</th>\n",
       "      <th>data_source</th>\n",
       "      <th>tm</th>\n",
       "    </tr>\n",
       "  </thead>\n",
       "  <tbody>\n",
       "    <tr>\n",
       "      <th>0</th>\n",
       "      <td>0</td>\n",
       "      <td>AAAAKAAALALLGEAPEVVDIWLPAGWRQPFRVFRLERKGDGVLVG...</td>\n",
       "      <td>7.0</td>\n",
       "      <td>doi.org/10.1038/s41592-020-0801-4</td>\n",
       "      <td>75.7</td>\n",
       "    </tr>\n",
       "    <tr>\n",
       "      <th>1</th>\n",
       "      <td>1</td>\n",
       "      <td>AAADGEPLHNEEERAGAGQVGRSLPQESEEQRTGSRPRRRRDLGSR...</td>\n",
       "      <td>7.0</td>\n",
       "      <td>doi.org/10.1038/s41592-020-0801-4</td>\n",
       "      <td>50.5</td>\n",
       "    </tr>\n",
       "    <tr>\n",
       "      <th>2</th>\n",
       "      <td>2</td>\n",
       "      <td>AAAFSTPRATSYRILSSAGSGSTRADAPQVRRLHTTRDLLAKDYYA...</td>\n",
       "      <td>7.0</td>\n",
       "      <td>doi.org/10.1038/s41592-020-0801-4</td>\n",
       "      <td>40.5</td>\n",
       "    </tr>\n",
       "    <tr>\n",
       "      <th>3</th>\n",
       "      <td>3</td>\n",
       "      <td>AAASGLRTAIPAQPLRHLLQPAPRPCLRPFGLLSVRAGSARRSGLL...</td>\n",
       "      <td>7.0</td>\n",
       "      <td>doi.org/10.1038/s41592-020-0801-4</td>\n",
       "      <td>47.2</td>\n",
       "    </tr>\n",
       "    <tr>\n",
       "      <th>4</th>\n",
       "      <td>4</td>\n",
       "      <td>AAATKSGPRRQSQGASVRTFTPFYFLVEPVDTLSVRGSSVILNCSA...</td>\n",
       "      <td>7.0</td>\n",
       "      <td>doi.org/10.1038/s41592-020-0801-4</td>\n",
       "      <td>49.5</td>\n",
       "    </tr>\n",
       "  </tbody>\n",
       "</table>\n",
       "</div>"
      ],
      "text/plain": [
       "   seq_id                                   protein_sequence   pH  \\\n",
       "0       0  AAAAKAAALALLGEAPEVVDIWLPAGWRQPFRVFRLERKGDGVLVG...  7.0   \n",
       "1       1  AAADGEPLHNEEERAGAGQVGRSLPQESEEQRTGSRPRRRRDLGSR...  7.0   \n",
       "2       2  AAAFSTPRATSYRILSSAGSGSTRADAPQVRRLHTTRDLLAKDYYA...  7.0   \n",
       "3       3  AAASGLRTAIPAQPLRHLLQPAPRPCLRPFGLLSVRAGSARRSGLL...  7.0   \n",
       "4       4  AAATKSGPRRQSQGASVRTFTPFYFLVEPVDTLSVRGSSVILNCSA...  7.0   \n",
       "\n",
       "                         data_source    tm  \n",
       "0  doi.org/10.1038/s41592-020-0801-4  75.7  \n",
       "1  doi.org/10.1038/s41592-020-0801-4  50.5  \n",
       "2  doi.org/10.1038/s41592-020-0801-4  40.5  \n",
       "3  doi.org/10.1038/s41592-020-0801-4  47.2  \n",
       "4  doi.org/10.1038/s41592-020-0801-4  49.5  "
      ]
     },
     "execution_count": 8,
     "metadata": {},
     "output_type": "execute_result"
    }
   ],
   "source": [
    "train.head()"
   ]
  },
  {
   "cell_type": "code",
   "execution_count": 9,
   "id": "b00bdb84",
   "metadata": {
    "execution": {
     "iopub.execute_input": "2022-11-24T06:52:22.583018Z",
     "iopub.status.busy": "2022-11-24T06:52:22.582615Z",
     "iopub.status.idle": "2022-11-24T06:52:22.600950Z",
     "shell.execute_reply": "2022-11-24T06:52:22.599630Z"
    },
    "papermill": {
     "duration": 0.035451,
     "end_time": "2022-11-24T06:52:22.604199",
     "exception": false,
     "start_time": "2022-11-24T06:52:22.568748",
     "status": "completed"
    },
    "tags": []
   },
   "outputs": [
    {
     "name": "stdout",
     "output_type": "stream",
     "text": [
      "<class 'pandas.core.frame.DataFrame'>\n",
      "RangeIndex: 31390 entries, 0 to 31389\n",
      "Data columns (total 5 columns):\n",
      " #   Column            Non-Null Count  Dtype  \n",
      "---  ------            --------------  -----  \n",
      " 0   seq_id            31390 non-null  int64  \n",
      " 1   protein_sequence  31390 non-null  object \n",
      " 2   pH                31104 non-null  float64\n",
      " 3   data_source       28043 non-null  object \n",
      " 4   tm                31390 non-null  float64\n",
      "dtypes: float64(2), int64(1), object(2)\n",
      "memory usage: 1.2+ MB\n"
     ]
    }
   ],
   "source": [
    "train.info()"
   ]
  },
  {
   "cell_type": "code",
   "execution_count": 10,
   "id": "47cf5926",
   "metadata": {
    "execution": {
     "iopub.execute_input": "2022-11-24T06:52:22.630891Z",
     "iopub.status.busy": "2022-11-24T06:52:22.630282Z",
     "iopub.status.idle": "2022-11-24T06:52:22.656725Z",
     "shell.execute_reply": "2022-11-24T06:52:22.655571Z"
    },
    "papermill": {
     "duration": 0.042564,
     "end_time": "2022-11-24T06:52:22.659085",
     "exception": false,
     "start_time": "2022-11-24T06:52:22.616521",
     "status": "completed"
    },
    "tags": []
   },
   "outputs": [
    {
     "data": {
      "text/html": [
       "<div>\n",
       "<style scoped>\n",
       "    .dataframe tbody tr th:only-of-type {\n",
       "        vertical-align: middle;\n",
       "    }\n",
       "\n",
       "    .dataframe tbody tr th {\n",
       "        vertical-align: top;\n",
       "    }\n",
       "\n",
       "    .dataframe thead th {\n",
       "        text-align: right;\n",
       "    }\n",
       "</style>\n",
       "<table border=\"1\" class=\"dataframe\">\n",
       "  <thead>\n",
       "    <tr style=\"text-align: right;\">\n",
       "      <th></th>\n",
       "      <th>seq_id</th>\n",
       "      <th>pH</th>\n",
       "      <th>tm</th>\n",
       "    </tr>\n",
       "  </thead>\n",
       "  <tbody>\n",
       "    <tr>\n",
       "      <th>count</th>\n",
       "      <td>31390.000000</td>\n",
       "      <td>31104.000000</td>\n",
       "      <td>31390.000000</td>\n",
       "    </tr>\n",
       "    <tr>\n",
       "      <th>mean</th>\n",
       "      <td>15694.500000</td>\n",
       "      <td>6.892339</td>\n",
       "      <td>49.147337</td>\n",
       "    </tr>\n",
       "    <tr>\n",
       "      <th>std</th>\n",
       "      <td>9061.656811</td>\n",
       "      <td>1.612225</td>\n",
       "      <td>14.010089</td>\n",
       "    </tr>\n",
       "    <tr>\n",
       "      <th>min</th>\n",
       "      <td>0.000000</td>\n",
       "      <td>1.990000</td>\n",
       "      <td>-1.000000</td>\n",
       "    </tr>\n",
       "    <tr>\n",
       "      <th>25%</th>\n",
       "      <td>7847.250000</td>\n",
       "      <td>7.000000</td>\n",
       "      <td>42.100000</td>\n",
       "    </tr>\n",
       "    <tr>\n",
       "      <th>50%</th>\n",
       "      <td>15694.500000</td>\n",
       "      <td>7.000000</td>\n",
       "      <td>48.000000</td>\n",
       "    </tr>\n",
       "    <tr>\n",
       "      <th>75%</th>\n",
       "      <td>23541.750000</td>\n",
       "      <td>7.000000</td>\n",
       "      <td>53.800000</td>\n",
       "    </tr>\n",
       "    <tr>\n",
       "      <th>max</th>\n",
       "      <td>31389.000000</td>\n",
       "      <td>64.900000</td>\n",
       "      <td>130.000000</td>\n",
       "    </tr>\n",
       "  </tbody>\n",
       "</table>\n",
       "</div>"
      ],
      "text/plain": [
       "             seq_id            pH            tm\n",
       "count  31390.000000  31104.000000  31390.000000\n",
       "mean   15694.500000      6.892339     49.147337\n",
       "std     9061.656811      1.612225     14.010089\n",
       "min        0.000000      1.990000     -1.000000\n",
       "25%     7847.250000      7.000000     42.100000\n",
       "50%    15694.500000      7.000000     48.000000\n",
       "75%    23541.750000      7.000000     53.800000\n",
       "max    31389.000000     64.900000    130.000000"
      ]
     },
     "execution_count": 10,
     "metadata": {},
     "output_type": "execute_result"
    }
   ],
   "source": [
    "train.describe()"
   ]
  },
  {
   "cell_type": "code",
   "execution_count": 11,
   "id": "266d8687",
   "metadata": {
    "execution": {
     "iopub.execute_input": "2022-11-24T06:52:22.686186Z",
     "iopub.status.busy": "2022-11-24T06:52:22.685733Z",
     "iopub.status.idle": "2022-11-24T06:52:22.700821Z",
     "shell.execute_reply": "2022-11-24T06:52:22.699584Z"
    },
    "papermill": {
     "duration": 0.031314,
     "end_time": "2022-11-24T06:52:22.703035",
     "exception": false,
     "start_time": "2022-11-24T06:52:22.671721",
     "status": "completed"
    },
    "tags": []
   },
   "outputs": [
    {
     "data": {
      "text/html": [
       "<div>\n",
       "<style scoped>\n",
       "    .dataframe tbody tr th:only-of-type {\n",
       "        vertical-align: middle;\n",
       "    }\n",
       "\n",
       "    .dataframe tbody tr th {\n",
       "        vertical-align: top;\n",
       "    }\n",
       "\n",
       "    .dataframe thead th {\n",
       "        text-align: right;\n",
       "    }\n",
       "</style>\n",
       "<table border=\"1\" class=\"dataframe\">\n",
       "  <thead>\n",
       "    <tr style=\"text-align: right;\">\n",
       "      <th></th>\n",
       "      <th>seq_id</th>\n",
       "      <th>pH</th>\n",
       "      <th>tm</th>\n",
       "    </tr>\n",
       "  </thead>\n",
       "  <tbody>\n",
       "    <tr>\n",
       "      <th>seq_id</th>\n",
       "      <td>1.000000</td>\n",
       "      <td>-0.040164</td>\n",
       "      <td>0.008750</td>\n",
       "    </tr>\n",
       "    <tr>\n",
       "      <th>pH</th>\n",
       "      <td>-0.040164</td>\n",
       "      <td>1.000000</td>\n",
       "      <td>-0.044544</td>\n",
       "    </tr>\n",
       "    <tr>\n",
       "      <th>tm</th>\n",
       "      <td>0.008750</td>\n",
       "      <td>-0.044544</td>\n",
       "      <td>1.000000</td>\n",
       "    </tr>\n",
       "  </tbody>\n",
       "</table>\n",
       "</div>"
      ],
      "text/plain": [
       "          seq_id        pH        tm\n",
       "seq_id  1.000000 -0.040164  0.008750\n",
       "pH     -0.040164  1.000000 -0.044544\n",
       "tm      0.008750 -0.044544  1.000000"
      ]
     },
     "execution_count": 11,
     "metadata": {},
     "output_type": "execute_result"
    }
   ],
   "source": [
    "train.corr()"
   ]
  },
  {
   "cell_type": "code",
   "execution_count": 12,
   "id": "5b1143af",
   "metadata": {
    "execution": {
     "iopub.execute_input": "2022-11-24T06:52:22.730845Z",
     "iopub.status.busy": "2022-11-24T06:52:22.729919Z",
     "iopub.status.idle": "2022-11-24T06:52:22.737405Z",
     "shell.execute_reply": "2022-11-24T06:52:22.736291Z"
    },
    "papermill": {
     "duration": 0.023685,
     "end_time": "2022-11-24T06:52:22.739597",
     "exception": false,
     "start_time": "2022-11-24T06:52:22.715912",
     "status": "completed"
    },
    "tags": []
   },
   "outputs": [
    {
     "data": {
      "text/plain": [
       "Index(['seq_id', 'protein_sequence', 'pH', 'data_source', 'tm'], dtype='object')"
      ]
     },
     "execution_count": 12,
     "metadata": {},
     "output_type": "execute_result"
    }
   ],
   "source": [
    "train.columns"
   ]
  },
  {
   "cell_type": "code",
   "execution_count": 13,
   "id": "e78d82a7",
   "metadata": {
    "execution": {
     "iopub.execute_input": "2022-11-24T06:52:22.768524Z",
     "iopub.status.busy": "2022-11-24T06:52:22.767847Z",
     "iopub.status.idle": "2022-11-24T06:52:22.772387Z",
     "shell.execute_reply": "2022-11-24T06:52:22.771544Z"
    },
    "papermill": {
     "duration": 0.021675,
     "end_time": "2022-11-24T06:52:22.774499",
     "exception": false,
     "start_time": "2022-11-24T06:52:22.752824",
     "status": "completed"
    },
    "tags": []
   },
   "outputs": [],
   "source": [
    "#From above analysis we can find that there is no need of data_source from corelation and statistical description.\n",
    "#So lets remove it."
   ]
  },
  {
   "cell_type": "code",
   "execution_count": 14,
   "id": "2cc3f6d4",
   "metadata": {
    "execution": {
     "iopub.execute_input": "2022-11-24T06:52:22.802552Z",
     "iopub.status.busy": "2022-11-24T06:52:22.802140Z",
     "iopub.status.idle": "2022-11-24T06:52:22.820253Z",
     "shell.execute_reply": "2022-11-24T06:52:22.819049Z"
    },
    "papermill": {
     "duration": 0.034738,
     "end_time": "2022-11-24T06:52:22.822604",
     "exception": false,
     "start_time": "2022-11-24T06:52:22.787866",
     "status": "completed"
    },
    "tags": []
   },
   "outputs": [
    {
     "data": {
      "text/html": [
       "<div>\n",
       "<style scoped>\n",
       "    .dataframe tbody tr th:only-of-type {\n",
       "        vertical-align: middle;\n",
       "    }\n",
       "\n",
       "    .dataframe tbody tr th {\n",
       "        vertical-align: top;\n",
       "    }\n",
       "\n",
       "    .dataframe thead th {\n",
       "        text-align: right;\n",
       "    }\n",
       "</style>\n",
       "<table border=\"1\" class=\"dataframe\">\n",
       "  <thead>\n",
       "    <tr style=\"text-align: right;\">\n",
       "      <th></th>\n",
       "      <th>seq_id</th>\n",
       "      <th>protein_sequence</th>\n",
       "      <th>pH</th>\n",
       "      <th>tm</th>\n",
       "    </tr>\n",
       "  </thead>\n",
       "  <tbody>\n",
       "    <tr>\n",
       "      <th>0</th>\n",
       "      <td>0</td>\n",
       "      <td>AAAAKAAALALLGEAPEVVDIWLPAGWRQPFRVFRLERKGDGVLVG...</td>\n",
       "      <td>7.0</td>\n",
       "      <td>75.7</td>\n",
       "    </tr>\n",
       "    <tr>\n",
       "      <th>1</th>\n",
       "      <td>1</td>\n",
       "      <td>AAADGEPLHNEEERAGAGQVGRSLPQESEEQRTGSRPRRRRDLGSR...</td>\n",
       "      <td>7.0</td>\n",
       "      <td>50.5</td>\n",
       "    </tr>\n",
       "    <tr>\n",
       "      <th>2</th>\n",
       "      <td>2</td>\n",
       "      <td>AAAFSTPRATSYRILSSAGSGSTRADAPQVRRLHTTRDLLAKDYYA...</td>\n",
       "      <td>7.0</td>\n",
       "      <td>40.5</td>\n",
       "    </tr>\n",
       "    <tr>\n",
       "      <th>3</th>\n",
       "      <td>3</td>\n",
       "      <td>AAASGLRTAIPAQPLRHLLQPAPRPCLRPFGLLSVRAGSARRSGLL...</td>\n",
       "      <td>7.0</td>\n",
       "      <td>47.2</td>\n",
       "    </tr>\n",
       "    <tr>\n",
       "      <th>4</th>\n",
       "      <td>4</td>\n",
       "      <td>AAATKSGPRRQSQGASVRTFTPFYFLVEPVDTLSVRGSSVILNCSA...</td>\n",
       "      <td>7.0</td>\n",
       "      <td>49.5</td>\n",
       "    </tr>\n",
       "    <tr>\n",
       "      <th>...</th>\n",
       "      <td>...</td>\n",
       "      <td>...</td>\n",
       "      <td>...</td>\n",
       "      <td>...</td>\n",
       "    </tr>\n",
       "    <tr>\n",
       "      <th>31385</th>\n",
       "      <td>31385</td>\n",
       "      <td>YYMYSGGGSALAAGGGGAGRKGDWNDIDSIKKKDLHHSRGDEKAQG...</td>\n",
       "      <td>7.0</td>\n",
       "      <td>51.8</td>\n",
       "    </tr>\n",
       "    <tr>\n",
       "      <th>31386</th>\n",
       "      <td>31386</td>\n",
       "      <td>YYNDQHRLSSYSVETAMFLSWERAIVKPGAMFKKAVIGFNCNVDLI...</td>\n",
       "      <td>7.0</td>\n",
       "      <td>37.2</td>\n",
       "    </tr>\n",
       "    <tr>\n",
       "      <th>31387</th>\n",
       "      <td>31387</td>\n",
       "      <td>YYQRTLGAELLYKISFGEMPKSAQDSAENCPSGMQFPDTAIAHANV...</td>\n",
       "      <td>7.0</td>\n",
       "      <td>64.6</td>\n",
       "    </tr>\n",
       "    <tr>\n",
       "      <th>31388</th>\n",
       "      <td>31388</td>\n",
       "      <td>YYSFSDNITTVFLSRQAIDDDHSLSLGTISDVVESENGVVAADDAR...</td>\n",
       "      <td>7.0</td>\n",
       "      <td>50.7</td>\n",
       "    </tr>\n",
       "    <tr>\n",
       "      <th>31389</th>\n",
       "      <td>31389</td>\n",
       "      <td>YYVPDEYWQSLEVAHKLTFGYGYLTWEWVQGIRSYVYPLLIAGLYK...</td>\n",
       "      <td>7.0</td>\n",
       "      <td>37.6</td>\n",
       "    </tr>\n",
       "  </tbody>\n",
       "</table>\n",
       "<p>31390 rows × 4 columns</p>\n",
       "</div>"
      ],
      "text/plain": [
       "       seq_id                                   protein_sequence   pH    tm\n",
       "0           0  AAAAKAAALALLGEAPEVVDIWLPAGWRQPFRVFRLERKGDGVLVG...  7.0  75.7\n",
       "1           1  AAADGEPLHNEEERAGAGQVGRSLPQESEEQRTGSRPRRRRDLGSR...  7.0  50.5\n",
       "2           2  AAAFSTPRATSYRILSSAGSGSTRADAPQVRRLHTTRDLLAKDYYA...  7.0  40.5\n",
       "3           3  AAASGLRTAIPAQPLRHLLQPAPRPCLRPFGLLSVRAGSARRSGLL...  7.0  47.2\n",
       "4           4  AAATKSGPRRQSQGASVRTFTPFYFLVEPVDTLSVRGSSVILNCSA...  7.0  49.5\n",
       "...       ...                                                ...  ...   ...\n",
       "31385   31385  YYMYSGGGSALAAGGGGAGRKGDWNDIDSIKKKDLHHSRGDEKAQG...  7.0  51.8\n",
       "31386   31386  YYNDQHRLSSYSVETAMFLSWERAIVKPGAMFKKAVIGFNCNVDLI...  7.0  37.2\n",
       "31387   31387  YYQRTLGAELLYKISFGEMPKSAQDSAENCPSGMQFPDTAIAHANV...  7.0  64.6\n",
       "31388   31388  YYSFSDNITTVFLSRQAIDDDHSLSLGTISDVVESENGVVAADDAR...  7.0  50.7\n",
       "31389   31389  YYVPDEYWQSLEVAHKLTFGYGYLTWEWVQGIRSYVYPLLIAGLYK...  7.0  37.6\n",
       "\n",
       "[31390 rows x 4 columns]"
      ]
     },
     "execution_count": 14,
     "metadata": {},
     "output_type": "execute_result"
    }
   ],
   "source": [
    "train.drop(['data_source'],axis=1,inplace=True)\n",
    "train"
   ]
  },
  {
   "cell_type": "code",
   "execution_count": 15,
   "id": "8a4898a3",
   "metadata": {
    "execution": {
     "iopub.execute_input": "2022-11-24T06:52:22.851662Z",
     "iopub.status.busy": "2022-11-24T06:52:22.850692Z",
     "iopub.status.idle": "2022-11-24T06:52:22.864230Z",
     "shell.execute_reply": "2022-11-24T06:52:22.863168Z"
    },
    "papermill": {
     "duration": 0.030713,
     "end_time": "2022-11-24T06:52:22.866672",
     "exception": false,
     "start_time": "2022-11-24T06:52:22.835959",
     "status": "completed"
    },
    "tags": []
   },
   "outputs": [
    {
     "data": {
      "text/plain": [
       "seq_id                0\n",
       "protein_sequence      0\n",
       "pH                  286\n",
       "tm                    0\n",
       "dtype: int64"
      ]
     },
     "execution_count": 15,
     "metadata": {},
     "output_type": "execute_result"
    }
   ],
   "source": [
    "train.isnull().sum()#calculate null value present in training dataset."
   ]
  },
  {
   "cell_type": "code",
   "execution_count": 16,
   "id": "96586051",
   "metadata": {
    "execution": {
     "iopub.execute_input": "2022-11-24T06:52:22.895335Z",
     "iopub.status.busy": "2022-11-24T06:52:22.894910Z",
     "iopub.status.idle": "2022-11-24T06:52:22.901158Z",
     "shell.execute_reply": "2022-11-24T06:52:22.900344Z"
    },
    "papermill": {
     "duration": 0.023151,
     "end_time": "2022-11-24T06:52:22.903309",
     "exception": false,
     "start_time": "2022-11-24T06:52:22.880158",
     "status": "completed"
    },
    "tags": []
   },
   "outputs": [],
   "source": [
    "train['pH'] = train['pH'].fillna(train['pH'].mean())"
   ]
  },
  {
   "cell_type": "code",
   "execution_count": 17,
   "id": "1a461f96",
   "metadata": {
    "execution": {
     "iopub.execute_input": "2022-11-24T06:52:22.932139Z",
     "iopub.status.busy": "2022-11-24T06:52:22.931659Z",
     "iopub.status.idle": "2022-11-24T06:52:23.265960Z",
     "shell.execute_reply": "2022-11-24T06:52:23.264764Z"
    },
    "papermill": {
     "duration": 0.351792,
     "end_time": "2022-11-24T06:52:23.268725",
     "exception": false,
     "start_time": "2022-11-24T06:52:22.916933",
     "status": "completed"
    },
    "tags": []
   },
   "outputs": [
    {
     "data": {
      "text/plain": [
       "Text(0.5, 1.0, 'Heatmap for correlation between columns of training data')"
      ]
     },
     "execution_count": 17,
     "metadata": {},
     "output_type": "execute_result"
    },
    {
     "data": {
      "image/png": "[encoded data removed]",
      "text/plain": [
       "<Figure size 432x288 with 2 Axes>"
      ]
     },
     "metadata": {
      "needs_background": "light"
     },
     "output_type": "display_data"
    }
   ],
   "source": [
    "sns.heatmap(train.corr(),linewidths=1,cmap=plt.cm.Reds, annot=True);\n",
    "\n",
    "plt.title('Heatmap for correlation between columns of training data')"
   ]
  },
  {
   "cell_type": "code",
   "execution_count": 18,
   "id": "dc80d7e2",
   "metadata": {
    "execution": {
     "iopub.execute_input": "2022-11-24T06:52:23.298459Z",
     "iopub.status.busy": "2022-11-24T06:52:23.298061Z",
     "iopub.status.idle": "2022-11-24T06:52:23.302581Z",
     "shell.execute_reply": "2022-11-24T06:52:23.301411Z"
    },
    "papermill": {
     "duration": 0.022348,
     "end_time": "2022-11-24T06:52:23.304825",
     "exception": false,
     "start_time": "2022-11-24T06:52:23.282477",
     "status": "completed"
    },
    "tags": []
   },
   "outputs": [],
   "source": [
    "import re   #import regular expression module for individual amino acid extrcation "
   ]
  },
  {
   "cell_type": "code",
   "execution_count": 19,
   "id": "2e7d2431",
   "metadata": {
    "execution": {
     "iopub.execute_input": "2022-11-24T06:52:23.334337Z",
     "iopub.status.busy": "2022-11-24T06:52:23.333396Z",
     "iopub.status.idle": "2022-11-24T06:52:23.338673Z",
     "shell.execute_reply": "2022-11-24T06:52:23.337466Z"
    },
    "papermill": {
     "duration": 0.022358,
     "end_time": "2022-11-24T06:52:23.340927",
     "exception": false,
     "start_time": "2022-11-24T06:52:23.318569",
     "status": "completed"
    },
    "tags": []
   },
   "outputs": [],
   "source": [
    "search =\"A\"\n",
    "# count of occurrence of A and creating new column\n",
    "#train[\"A\"]=train[\"protein_sequence\"].str.count(search, re.I)"
   ]
  },
  {
   "cell_type": "code",
   "execution_count": 20,
   "id": "7f8bf9b1",
   "metadata": {
    "execution": {
     "iopub.execute_input": "2022-11-24T06:52:23.370311Z",
     "iopub.status.busy": "2022-11-24T06:52:23.369612Z",
     "iopub.status.idle": "2022-11-24T06:52:31.470264Z",
     "shell.execute_reply": "2022-11-24T06:52:31.468950Z"
    },
    "papermill": {
     "duration": 8.118732,
     "end_time": "2022-11-24T06:52:31.473498",
     "exception": false,
     "start_time": "2022-11-24T06:52:23.354766",
     "status": "completed"
    },
    "tags": []
   },
   "outputs": [],
   "source": [
    "#To make things easier here details of all amino acids are listed in search_amino.\n",
    "search_amino=['A', 'C', 'D', 'E', 'F', 'G', 'H', 'I', 'K', 'L', 'M', 'N', 'P', 'Q', 'R', 'S', 'T', 'V', 'W', 'Y']\n",
    "for amino_acid in search_amino:\n",
    "     train[amino_acid]=train['protein_sequence'].str.count(amino_acid,re.I)"
   ]
  },
  {
   "cell_type": "code",
   "execution_count": 21,
   "id": "17466a65",
   "metadata": {
    "execution": {
     "iopub.execute_input": "2022-11-24T06:52:31.503812Z",
     "iopub.status.busy": "2022-11-24T06:52:31.502807Z",
     "iopub.status.idle": "2022-11-24T06:52:31.547020Z",
     "shell.execute_reply": "2022-11-24T06:52:31.545778Z"
    },
    "papermill": {
     "duration": 0.06173,
     "end_time": "2022-11-24T06:52:31.549472",
     "exception": false,
     "start_time": "2022-11-24T06:52:31.487742",
     "status": "completed"
    },
    "tags": []
   },
   "outputs": [
    {
     "data": {
      "text/html": [
       "<div>\n",
       "<style scoped>\n",
       "    .dataframe tbody tr th:only-of-type {\n",
       "        vertical-align: middle;\n",
       "    }\n",
       "\n",
       "    .dataframe tbody tr th {\n",
       "        vertical-align: top;\n",
       "    }\n",
       "\n",
       "    .dataframe thead th {\n",
       "        text-align: right;\n",
       "    }\n",
       "</style>\n",
       "<table border=\"1\" class=\"dataframe\">\n",
       "  <thead>\n",
       "    <tr style=\"text-align: right;\">\n",
       "      <th></th>\n",
       "      <th>seq_id</th>\n",
       "      <th>pH</th>\n",
       "      <th>tm</th>\n",
       "      <th>A</th>\n",
       "      <th>C</th>\n",
       "      <th>D</th>\n",
       "      <th>E</th>\n",
       "      <th>F</th>\n",
       "      <th>G</th>\n",
       "      <th>H</th>\n",
       "      <th>...</th>\n",
       "      <th>M</th>\n",
       "      <th>N</th>\n",
       "      <th>P</th>\n",
       "      <th>Q</th>\n",
       "      <th>R</th>\n",
       "      <th>S</th>\n",
       "      <th>T</th>\n",
       "      <th>V</th>\n",
       "      <th>W</th>\n",
       "      <th>Y</th>\n",
       "    </tr>\n",
       "  </thead>\n",
       "  <tbody>\n",
       "    <tr>\n",
       "      <th>0</th>\n",
       "      <td>0</td>\n",
       "      <td>7.0</td>\n",
       "      <td>75.7</td>\n",
       "      <td>45</td>\n",
       "      <td>1</td>\n",
       "      <td>13</td>\n",
       "      <td>30</td>\n",
       "      <td>13</td>\n",
       "      <td>38</td>\n",
       "      <td>3</td>\n",
       "      <td>...</td>\n",
       "      <td>8</td>\n",
       "      <td>5</td>\n",
       "      <td>18</td>\n",
       "      <td>6</td>\n",
       "      <td>25</td>\n",
       "      <td>11</td>\n",
       "      <td>14</td>\n",
       "      <td>37</td>\n",
       "      <td>4</td>\n",
       "      <td>3</td>\n",
       "    </tr>\n",
       "    <tr>\n",
       "      <th>1</th>\n",
       "      <td>1</td>\n",
       "      <td>7.0</td>\n",
       "      <td>50.5</td>\n",
       "      <td>28</td>\n",
       "      <td>0</td>\n",
       "      <td>10</td>\n",
       "      <td>52</td>\n",
       "      <td>6</td>\n",
       "      <td>18</td>\n",
       "      <td>4</td>\n",
       "      <td>...</td>\n",
       "      <td>2</td>\n",
       "      <td>6</td>\n",
       "      <td>8</td>\n",
       "      <td>22</td>\n",
       "      <td>30</td>\n",
       "      <td>14</td>\n",
       "      <td>12</td>\n",
       "      <td>13</td>\n",
       "      <td>3</td>\n",
       "      <td>3</td>\n",
       "    </tr>\n",
       "    <tr>\n",
       "      <th>2</th>\n",
       "      <td>2</td>\n",
       "      <td>7.0</td>\n",
       "      <td>40.5</td>\n",
       "      <td>50</td>\n",
       "      <td>9</td>\n",
       "      <td>27</td>\n",
       "      <td>32</td>\n",
       "      <td>21</td>\n",
       "      <td>65</td>\n",
       "      <td>11</td>\n",
       "      <td>...</td>\n",
       "      <td>6</td>\n",
       "      <td>15</td>\n",
       "      <td>20</td>\n",
       "      <td>25</td>\n",
       "      <td>31</td>\n",
       "      <td>33</td>\n",
       "      <td>30</td>\n",
       "      <td>30</td>\n",
       "      <td>3</td>\n",
       "      <td>16</td>\n",
       "    </tr>\n",
       "    <tr>\n",
       "      <th>3</th>\n",
       "      <td>3</td>\n",
       "      <td>7.0</td>\n",
       "      <td>47.2</td>\n",
       "      <td>20</td>\n",
       "      <td>5</td>\n",
       "      <td>19</td>\n",
       "      <td>29</td>\n",
       "      <td>12</td>\n",
       "      <td>16</td>\n",
       "      <td>7</td>\n",
       "      <td>...</td>\n",
       "      <td>2</td>\n",
       "      <td>9</td>\n",
       "      <td>16</td>\n",
       "      <td>9</td>\n",
       "      <td>10</td>\n",
       "      <td>16</td>\n",
       "      <td>19</td>\n",
       "      <td>14</td>\n",
       "      <td>3</td>\n",
       "      <td>4</td>\n",
       "    </tr>\n",
       "    <tr>\n",
       "      <th>4</th>\n",
       "      <td>4</td>\n",
       "      <td>7.0</td>\n",
       "      <td>49.5</td>\n",
       "      <td>86</td>\n",
       "      <td>14</td>\n",
       "      <td>78</td>\n",
       "      <td>78</td>\n",
       "      <td>32</td>\n",
       "      <td>84</td>\n",
       "      <td>40</td>\n",
       "      <td>...</td>\n",
       "      <td>31</td>\n",
       "      <td>65</td>\n",
       "      <td>128</td>\n",
       "      <td>54</td>\n",
       "      <td>63</td>\n",
       "      <td>148</td>\n",
       "      <td>120</td>\n",
       "      <td>124</td>\n",
       "      <td>16</td>\n",
       "      <td>47</td>\n",
       "    </tr>\n",
       "    <tr>\n",
       "      <th>...</th>\n",
       "      <td>...</td>\n",
       "      <td>...</td>\n",
       "      <td>...</td>\n",
       "      <td>...</td>\n",
       "      <td>...</td>\n",
       "      <td>...</td>\n",
       "      <td>...</td>\n",
       "      <td>...</td>\n",
       "      <td>...</td>\n",
       "      <td>...</td>\n",
       "      <td>...</td>\n",
       "      <td>...</td>\n",
       "      <td>...</td>\n",
       "      <td>...</td>\n",
       "      <td>...</td>\n",
       "      <td>...</td>\n",
       "      <td>...</td>\n",
       "      <td>...</td>\n",
       "      <td>...</td>\n",
       "      <td>...</td>\n",
       "      <td>...</td>\n",
       "    </tr>\n",
       "    <tr>\n",
       "      <th>31385</th>\n",
       "      <td>31385</td>\n",
       "      <td>7.0</td>\n",
       "      <td>51.8</td>\n",
       "      <td>33</td>\n",
       "      <td>12</td>\n",
       "      <td>38</td>\n",
       "      <td>31</td>\n",
       "      <td>18</td>\n",
       "      <td>51</td>\n",
       "      <td>15</td>\n",
       "      <td>...</td>\n",
       "      <td>13</td>\n",
       "      <td>24</td>\n",
       "      <td>25</td>\n",
       "      <td>24</td>\n",
       "      <td>42</td>\n",
       "      <td>33</td>\n",
       "      <td>18</td>\n",
       "      <td>42</td>\n",
       "      <td>13</td>\n",
       "      <td>18</td>\n",
       "    </tr>\n",
       "    <tr>\n",
       "      <th>31386</th>\n",
       "      <td>31386</td>\n",
       "      <td>7.0</td>\n",
       "      <td>37.2</td>\n",
       "      <td>37</td>\n",
       "      <td>5</td>\n",
       "      <td>21</td>\n",
       "      <td>29</td>\n",
       "      <td>22</td>\n",
       "      <td>27</td>\n",
       "      <td>22</td>\n",
       "      <td>...</td>\n",
       "      <td>14</td>\n",
       "      <td>19</td>\n",
       "      <td>19</td>\n",
       "      <td>16</td>\n",
       "      <td>25</td>\n",
       "      <td>37</td>\n",
       "      <td>26</td>\n",
       "      <td>34</td>\n",
       "      <td>5</td>\n",
       "      <td>14</td>\n",
       "    </tr>\n",
       "    <tr>\n",
       "      <th>31387</th>\n",
       "      <td>31387</td>\n",
       "      <td>7.0</td>\n",
       "      <td>64.6</td>\n",
       "      <td>13</td>\n",
       "      <td>1</td>\n",
       "      <td>7</td>\n",
       "      <td>7</td>\n",
       "      <td>7</td>\n",
       "      <td>11</td>\n",
       "      <td>2</td>\n",
       "      <td>...</td>\n",
       "      <td>7</td>\n",
       "      <td>5</td>\n",
       "      <td>6</td>\n",
       "      <td>8</td>\n",
       "      <td>3</td>\n",
       "      <td>10</td>\n",
       "      <td>6</td>\n",
       "      <td>7</td>\n",
       "      <td>4</td>\n",
       "      <td>4</td>\n",
       "    </tr>\n",
       "    <tr>\n",
       "      <th>31388</th>\n",
       "      <td>31388</td>\n",
       "      <td>7.0</td>\n",
       "      <td>50.7</td>\n",
       "      <td>47</td>\n",
       "      <td>5</td>\n",
       "      <td>34</td>\n",
       "      <td>36</td>\n",
       "      <td>23</td>\n",
       "      <td>52</td>\n",
       "      <td>11</td>\n",
       "      <td>...</td>\n",
       "      <td>26</td>\n",
       "      <td>25</td>\n",
       "      <td>31</td>\n",
       "      <td>12</td>\n",
       "      <td>25</td>\n",
       "      <td>51</td>\n",
       "      <td>32</td>\n",
       "      <td>48</td>\n",
       "      <td>3</td>\n",
       "      <td>18</td>\n",
       "    </tr>\n",
       "    <tr>\n",
       "      <th>31389</th>\n",
       "      <td>31389</td>\n",
       "      <td>7.0</td>\n",
       "      <td>37.6</td>\n",
       "      <td>34</td>\n",
       "      <td>5</td>\n",
       "      <td>15</td>\n",
       "      <td>32</td>\n",
       "      <td>26</td>\n",
       "      <td>24</td>\n",
       "      <td>21</td>\n",
       "      <td>...</td>\n",
       "      <td>7</td>\n",
       "      <td>20</td>\n",
       "      <td>31</td>\n",
       "      <td>18</td>\n",
       "      <td>28</td>\n",
       "      <td>34</td>\n",
       "      <td>29</td>\n",
       "      <td>38</td>\n",
       "      <td>18</td>\n",
       "      <td>29</td>\n",
       "    </tr>\n",
       "  </tbody>\n",
       "</table>\n",
       "<p>31390 rows × 23 columns</p>\n",
       "</div>"
      ],
      "text/plain": [
       "       seq_id   pH    tm   A   C   D   E   F   G   H  ...   M   N    P   Q  \\\n",
       "0           0  7.0  75.7  45   1  13  30  13  38   3  ...   8   5   18   6   \n",
       "1           1  7.0  50.5  28   0  10  52   6  18   4  ...   2   6    8  22   \n",
       "2           2  7.0  40.5  50   9  27  32  21  65  11  ...   6  15   20  25   \n",
       "3           3  7.0  47.2  20   5  19  29  12  16   7  ...   2   9   16   9   \n",
       "4           4  7.0  49.5  86  14  78  78  32  84  40  ...  31  65  128  54   \n",
       "...       ...  ...   ...  ..  ..  ..  ..  ..  ..  ..  ...  ..  ..  ...  ..   \n",
       "31385   31385  7.0  51.8  33  12  38  31  18  51  15  ...  13  24   25  24   \n",
       "31386   31386  7.0  37.2  37   5  21  29  22  27  22  ...  14  19   19  16   \n",
       "31387   31387  7.0  64.6  13   1   7   7   7  11   2  ...   7   5    6   8   \n",
       "31388   31388  7.0  50.7  47   5  34  36  23  52  11  ...  26  25   31  12   \n",
       "31389   31389  7.0  37.6  34   5  15  32  26  24  21  ...   7  20   31  18   \n",
       "\n",
       "        R    S    T    V   W   Y  \n",
       "0      25   11   14   37   4   3  \n",
       "1      30   14   12   13   3   3  \n",
       "2      31   33   30   30   3  16  \n",
       "3      10   16   19   14   3   4  \n",
       "4      63  148  120  124  16  47  \n",
       "...    ..  ...  ...  ...  ..  ..  \n",
       "31385  42   33   18   42  13  18  \n",
       "31386  25   37   26   34   5  14  \n",
       "31387   3   10    6    7   4   4  \n",
       "31388  25   51   32   48   3  18  \n",
       "31389  28   34   29   38  18  29  \n",
       "\n",
       "[31390 rows x 23 columns]"
      ]
     },
     "execution_count": 21,
     "metadata": {},
     "output_type": "execute_result"
    }
   ],
   "source": [
    "train.drop(['protein_sequence'],axis=1,inplace=True)\n",
    "train"
   ]
  },
  {
   "cell_type": "code",
   "execution_count": 22,
   "id": "044e43bc",
   "metadata": {
    "execution": {
     "iopub.execute_input": "2022-11-24T06:52:31.579495Z",
     "iopub.status.busy": "2022-11-24T06:52:31.579104Z",
     "iopub.status.idle": "2022-11-24T06:52:31.917703Z",
     "shell.execute_reply": "2022-11-24T06:52:31.916457Z"
    },
    "papermill": {
     "duration": 0.356887,
     "end_time": "2022-11-24T06:52:31.920537",
     "exception": false,
     "start_time": "2022-11-24T06:52:31.563650",
     "status": "completed"
    },
    "tags": []
   },
   "outputs": [],
   "source": [
    "from sklearn.impute import SimpleImputer\n",
    "my_imputer = SimpleImputer()\n",
    "data_with_imputed_values = my_imputer.fit_transform(train)"
   ]
  },
  {
   "cell_type": "markdown",
   "id": "1d6138f5",
   "metadata": {
    "papermill": {
     "duration": 0.013748,
     "end_time": "2022-11-24T06:52:31.948890",
     "exception": false,
     "start_time": "2022-11-24T06:52:31.935142",
     "status": "completed"
    },
    "tags": []
   },
   "source": []
  },
  {
   "cell_type": "code",
   "execution_count": 23,
   "id": "b4ab0787",
   "metadata": {
    "execution": {
     "iopub.execute_input": "2022-11-24T06:52:31.979729Z",
     "iopub.status.busy": "2022-11-24T06:52:31.978648Z",
     "iopub.status.idle": "2022-11-24T06:52:31.997801Z",
     "shell.execute_reply": "2022-11-24T06:52:31.996570Z"
    },
    "papermill": {
     "duration": 0.037154,
     "end_time": "2022-11-24T06:52:32.000315",
     "exception": false,
     "start_time": "2022-11-24T06:52:31.963161",
     "status": "completed"
    },
    "tags": []
   },
   "outputs": [
    {
     "data": {
      "text/html": [
       "<div>\n",
       "<style scoped>\n",
       "    .dataframe tbody tr th:only-of-type {\n",
       "        vertical-align: middle;\n",
       "    }\n",
       "\n",
       "    .dataframe tbody tr th {\n",
       "        vertical-align: top;\n",
       "    }\n",
       "\n",
       "    .dataframe thead th {\n",
       "        text-align: right;\n",
       "    }\n",
       "</style>\n",
       "<table border=\"1\" class=\"dataframe\">\n",
       "  <thead>\n",
       "    <tr style=\"text-align: right;\">\n",
       "      <th></th>\n",
       "      <th>seq_id</th>\n",
       "      <th>pH</th>\n",
       "    </tr>\n",
       "  </thead>\n",
       "  <tbody>\n",
       "    <tr>\n",
       "      <th>count</th>\n",
       "      <td>2413.000000</td>\n",
       "      <td>2413.0</td>\n",
       "    </tr>\n",
       "    <tr>\n",
       "      <th>mean</th>\n",
       "      <td>32596.000000</td>\n",
       "      <td>8.0</td>\n",
       "    </tr>\n",
       "    <tr>\n",
       "      <th>std</th>\n",
       "      <td>696.717422</td>\n",
       "      <td>0.0</td>\n",
       "    </tr>\n",
       "    <tr>\n",
       "      <th>min</th>\n",
       "      <td>31390.000000</td>\n",
       "      <td>8.0</td>\n",
       "    </tr>\n",
       "    <tr>\n",
       "      <th>25%</th>\n",
       "      <td>31993.000000</td>\n",
       "      <td>8.0</td>\n",
       "    </tr>\n",
       "    <tr>\n",
       "      <th>50%</th>\n",
       "      <td>32596.000000</td>\n",
       "      <td>8.0</td>\n",
       "    </tr>\n",
       "    <tr>\n",
       "      <th>75%</th>\n",
       "      <td>33199.000000</td>\n",
       "      <td>8.0</td>\n",
       "    </tr>\n",
       "    <tr>\n",
       "      <th>max</th>\n",
       "      <td>33802.000000</td>\n",
       "      <td>8.0</td>\n",
       "    </tr>\n",
       "  </tbody>\n",
       "</table>\n",
       "</div>"
      ],
      "text/plain": [
       "             seq_id      pH\n",
       "count   2413.000000  2413.0\n",
       "mean   32596.000000     8.0\n",
       "std      696.717422     0.0\n",
       "min    31390.000000     8.0\n",
       "25%    31993.000000     8.0\n",
       "50%    32596.000000     8.0\n",
       "75%    33199.000000     8.0\n",
       "max    33802.000000     8.0"
      ]
     },
     "execution_count": 23,
     "metadata": {},
     "output_type": "execute_result"
    }
   ],
   "source": [
    "test.describe()"
   ]
  },
  {
   "cell_type": "code",
   "execution_count": 24,
   "id": "5c3cb3f1",
   "metadata": {
    "execution": {
     "iopub.execute_input": "2022-11-24T06:52:32.032237Z",
     "iopub.status.busy": "2022-11-24T06:52:32.031468Z",
     "iopub.status.idle": "2022-11-24T06:52:32.339553Z",
     "shell.execute_reply": "2022-11-24T06:52:32.338359Z"
    },
    "papermill": {
     "duration": 0.326916,
     "end_time": "2022-11-24T06:52:32.342314",
     "exception": false,
     "start_time": "2022-11-24T06:52:32.015398",
     "status": "completed"
    },
    "tags": []
   },
   "outputs": [],
   "source": [
    "search_amino=['A', 'C', 'D', 'E', 'F', 'G', 'H', 'I', 'K', 'L', 'M', 'N', 'P', 'Q', 'R', 'S', 'T', 'V', 'W', 'Y']\n",
    "for amino in search_amino:\n",
    "    test[amino]=test['protein_sequence'].str.count(amino,re.I)"
   ]
  },
  {
   "cell_type": "code",
   "execution_count": 25,
   "id": "79887d47",
   "metadata": {
    "execution": {
     "iopub.execute_input": "2022-11-24T06:52:32.373211Z",
     "iopub.status.busy": "2022-11-24T06:52:32.372410Z",
     "iopub.status.idle": "2022-11-24T06:52:32.392672Z",
     "shell.execute_reply": "2022-11-24T06:52:32.391354Z"
    },
    "papermill": {
     "duration": 0.038403,
     "end_time": "2022-11-24T06:52:32.395023",
     "exception": false,
     "start_time": "2022-11-24T06:52:32.356620",
     "status": "completed"
    },
    "tags": []
   },
   "outputs": [
    {
     "data": {
      "text/html": [
       "<div>\n",
       "<style scoped>\n",
       "    .dataframe tbody tr th:only-of-type {\n",
       "        vertical-align: middle;\n",
       "    }\n",
       "\n",
       "    .dataframe tbody tr th {\n",
       "        vertical-align: top;\n",
       "    }\n",
       "\n",
       "    .dataframe thead th {\n",
       "        text-align: right;\n",
       "    }\n",
       "</style>\n",
       "<table border=\"1\" class=\"dataframe\">\n",
       "  <thead>\n",
       "    <tr style=\"text-align: right;\">\n",
       "      <th></th>\n",
       "      <th>seq_id</th>\n",
       "      <th>pH</th>\n",
       "      <th>A</th>\n",
       "      <th>C</th>\n",
       "      <th>D</th>\n",
       "      <th>E</th>\n",
       "      <th>F</th>\n",
       "      <th>G</th>\n",
       "      <th>H</th>\n",
       "      <th>I</th>\n",
       "      <th>...</th>\n",
       "      <th>M</th>\n",
       "      <th>N</th>\n",
       "      <th>P</th>\n",
       "      <th>Q</th>\n",
       "      <th>R</th>\n",
       "      <th>S</th>\n",
       "      <th>T</th>\n",
       "      <th>V</th>\n",
       "      <th>W</th>\n",
       "      <th>Y</th>\n",
       "    </tr>\n",
       "  </thead>\n",
       "  <tbody>\n",
       "    <tr>\n",
       "      <th>0</th>\n",
       "      <td>31390</td>\n",
       "      <td>8</td>\n",
       "      <td>22</td>\n",
       "      <td>4</td>\n",
       "      <td>15</td>\n",
       "      <td>8</td>\n",
       "      <td>10</td>\n",
       "      <td>19</td>\n",
       "      <td>0</td>\n",
       "      <td>6</td>\n",
       "      <td>...</td>\n",
       "      <td>0</td>\n",
       "      <td>19</td>\n",
       "      <td>17</td>\n",
       "      <td>13</td>\n",
       "      <td>3</td>\n",
       "      <td>18</td>\n",
       "      <td>8</td>\n",
       "      <td>13</td>\n",
       "      <td>6</td>\n",
       "      <td>6</td>\n",
       "    </tr>\n",
       "    <tr>\n",
       "      <th>1</th>\n",
       "      <td>31391</td>\n",
       "      <td>8</td>\n",
       "      <td>22</td>\n",
       "      <td>4</td>\n",
       "      <td>15</td>\n",
       "      <td>7</td>\n",
       "      <td>10</td>\n",
       "      <td>19</td>\n",
       "      <td>0</td>\n",
       "      <td>6</td>\n",
       "      <td>...</td>\n",
       "      <td>0</td>\n",
       "      <td>19</td>\n",
       "      <td>17</td>\n",
       "      <td>13</td>\n",
       "      <td>3</td>\n",
       "      <td>18</td>\n",
       "      <td>8</td>\n",
       "      <td>13</td>\n",
       "      <td>6</td>\n",
       "      <td>6</td>\n",
       "    </tr>\n",
       "    <tr>\n",
       "      <th>2</th>\n",
       "      <td>31392</td>\n",
       "      <td>8</td>\n",
       "      <td>22</td>\n",
       "      <td>4</td>\n",
       "      <td>15</td>\n",
       "      <td>7</td>\n",
       "      <td>10</td>\n",
       "      <td>19</td>\n",
       "      <td>0</td>\n",
       "      <td>6</td>\n",
       "      <td>...</td>\n",
       "      <td>0</td>\n",
       "      <td>19</td>\n",
       "      <td>17</td>\n",
       "      <td>13</td>\n",
       "      <td>3</td>\n",
       "      <td>18</td>\n",
       "      <td>8</td>\n",
       "      <td>13</td>\n",
       "      <td>6</td>\n",
       "      <td>6</td>\n",
       "    </tr>\n",
       "    <tr>\n",
       "      <th>3</th>\n",
       "      <td>31393</td>\n",
       "      <td>8</td>\n",
       "      <td>22</td>\n",
       "      <td>5</td>\n",
       "      <td>15</td>\n",
       "      <td>7</td>\n",
       "      <td>10</td>\n",
       "      <td>19</td>\n",
       "      <td>0</td>\n",
       "      <td>6</td>\n",
       "      <td>...</td>\n",
       "      <td>0</td>\n",
       "      <td>19</td>\n",
       "      <td>17</td>\n",
       "      <td>13</td>\n",
       "      <td>3</td>\n",
       "      <td>18</td>\n",
       "      <td>8</td>\n",
       "      <td>13</td>\n",
       "      <td>6</td>\n",
       "      <td>6</td>\n",
       "    </tr>\n",
       "    <tr>\n",
       "      <th>4</th>\n",
       "      <td>31394</td>\n",
       "      <td>8</td>\n",
       "      <td>22</td>\n",
       "      <td>4</td>\n",
       "      <td>15</td>\n",
       "      <td>7</td>\n",
       "      <td>11</td>\n",
       "      <td>19</td>\n",
       "      <td>0</td>\n",
       "      <td>6</td>\n",
       "      <td>...</td>\n",
       "      <td>0</td>\n",
       "      <td>19</td>\n",
       "      <td>17</td>\n",
       "      <td>13</td>\n",
       "      <td>3</td>\n",
       "      <td>18</td>\n",
       "      <td>8</td>\n",
       "      <td>13</td>\n",
       "      <td>6</td>\n",
       "      <td>6</td>\n",
       "    </tr>\n",
       "  </tbody>\n",
       "</table>\n",
       "<p>5 rows × 22 columns</p>\n",
       "</div>"
      ],
      "text/plain": [
       "   seq_id  pH   A  C   D  E   F   G  H  I  ...  M   N   P   Q  R   S  T   V  \\\n",
       "0   31390   8  22  4  15  8  10  19  0  6  ...  0  19  17  13  3  18  8  13   \n",
       "1   31391   8  22  4  15  7  10  19  0  6  ...  0  19  17  13  3  18  8  13   \n",
       "2   31392   8  22  4  15  7  10  19  0  6  ...  0  19  17  13  3  18  8  13   \n",
       "3   31393   8  22  5  15  7  10  19  0  6  ...  0  19  17  13  3  18  8  13   \n",
       "4   31394   8  22  4  15  7  11  19  0  6  ...  0  19  17  13  3  18  8  13   \n",
       "\n",
       "   W  Y  \n",
       "0  6  6  \n",
       "1  6  6  \n",
       "2  6  6  \n",
       "3  6  6  \n",
       "4  6  6  \n",
       "\n",
       "[5 rows x 22 columns]"
      ]
     },
     "execution_count": 25,
     "metadata": {},
     "output_type": "execute_result"
    }
   ],
   "source": [
    "test.drop(['data_source','protein_sequence'],axis=1,inplace=True)\n",
    "test.head()"
   ]
  },
  {
   "cell_type": "code",
   "execution_count": 26,
   "id": "c379abff",
   "metadata": {
    "execution": {
     "iopub.execute_input": "2022-11-24T06:52:32.426172Z",
     "iopub.status.busy": "2022-11-24T06:52:32.425771Z",
     "iopub.status.idle": "2022-11-24T06:52:32.430609Z",
     "shell.execute_reply": "2022-11-24T06:52:32.429418Z"
    },
    "papermill": {
     "duration": 0.023266,
     "end_time": "2022-11-24T06:52:32.433061",
     "exception": false,
     "start_time": "2022-11-24T06:52:32.409795",
     "status": "completed"
    },
    "tags": []
   },
   "outputs": [],
   "source": [
    "#Data Visualization of training data"
   ]
  },
  {
   "cell_type": "code",
   "execution_count": 27,
   "id": "d401337a",
   "metadata": {
    "execution": {
     "iopub.execute_input": "2022-11-24T06:52:32.464845Z",
     "iopub.status.busy": "2022-11-24T06:52:32.463846Z",
     "iopub.status.idle": "2022-11-24T06:52:33.487929Z",
     "shell.execute_reply": "2022-11-24T06:52:33.486657Z"
    },
    "papermill": {
     "duration": 1.042581,
     "end_time": "2022-11-24T06:52:33.490517",
     "exception": false,
     "start_time": "2022-11-24T06:52:32.447936",
     "status": "completed"
    },
    "tags": []
   },
   "outputs": [
    {
     "data": {
      "text/plain": [
       "<seaborn.axisgrid.JointGrid at 0x7f1adec4e550>"
      ]
     },
     "execution_count": 27,
     "metadata": {},
     "output_type": "execute_result"
    },
    {
     "data": {
      "image/png": "[encoded data removed]",
      "text/plain": [
       "<Figure size 432x432 with 3 Axes>"
      ]
     },
     "metadata": {
      "needs_background": "light"
     },
     "output_type": "display_data"
    }
   ],
   "source": [
    "sns.jointplot(data=train, x=\"pH\", y=\"tm\")"
   ]
  },
  {
   "cell_type": "code",
   "execution_count": 28,
   "id": "fa88bcb9",
   "metadata": {
    "execution": {
     "iopub.execute_input": "2022-11-24T06:52:33.522924Z",
     "iopub.status.busy": "2022-11-24T06:52:33.522493Z",
     "iopub.status.idle": "2022-11-24T06:52:33.532474Z",
     "shell.execute_reply": "2022-11-24T06:52:33.531686Z"
    },
    "papermill": {
     "duration": 0.02849,
     "end_time": "2022-11-24T06:52:33.534362",
     "exception": false,
     "start_time": "2022-11-24T06:52:33.505872",
     "status": "completed"
    },
    "tags": []
   },
   "outputs": [
    {
     "data": {
      "text/plain": [
       "7.000000     26462\n",
       "7.500000       576\n",
       "8.000000       502\n",
       "3.000000       288\n",
       "6.892339       286\n",
       "             ...  \n",
       "3.140000         1\n",
       "2.530000         1\n",
       "2.810000         1\n",
       "39.000000        1\n",
       "10.300000        1\n",
       "Name: pH, Length: 116, dtype: int64"
      ]
     },
     "execution_count": 28,
     "metadata": {},
     "output_type": "execute_result"
    }
   ],
   "source": [
    "train['pH'].value_counts()"
   ]
  },
  {
   "cell_type": "code",
   "execution_count": 29,
   "id": "e341a490",
   "metadata": {
    "execution": {
     "iopub.execute_input": "2022-11-24T06:52:33.566944Z",
     "iopub.status.busy": "2022-11-24T06:52:33.566062Z",
     "iopub.status.idle": "2022-11-24T06:52:33.576110Z",
     "shell.execute_reply": "2022-11-24T06:52:33.575030Z"
    },
    "papermill": {
     "duration": 0.02879,
     "end_time": "2022-11-24T06:52:33.578386",
     "exception": false,
     "start_time": "2022-11-24T06:52:33.549596",
     "status": "completed"
    },
    "tags": []
   },
   "outputs": [
    {
     "data": {
      "text/plain": [
       "25.0     1472\n",
       "20.0      561\n",
       "50.0      200\n",
       "45.0      178\n",
       "49.7      176\n",
       "         ... \n",
       "98.1        1\n",
       "97.6        1\n",
       "92.7        1\n",
       "1.2         1\n",
       "103.0       1\n",
       "Name: tm, Length: 770, dtype: int64"
      ]
     },
     "execution_count": 29,
     "metadata": {},
     "output_type": "execute_result"
    }
   ],
   "source": [
    "train['tm'].value_counts()"
   ]
  },
  {
   "cell_type": "code",
   "execution_count": 30,
   "id": "05c9a117",
   "metadata": {
    "execution": {
     "iopub.execute_input": "2022-11-24T06:52:33.611250Z",
     "iopub.status.busy": "2022-11-24T06:52:33.610821Z",
     "iopub.status.idle": "2022-11-24T06:52:33.618688Z",
     "shell.execute_reply": "2022-11-24T06:52:33.617427Z"
    },
    "papermill": {
     "duration": 0.027051,
     "end_time": "2022-11-24T06:52:33.621026",
     "exception": false,
     "start_time": "2022-11-24T06:52:33.593975",
     "status": "completed"
    },
    "tags": []
   },
   "outputs": [],
   "source": [
    "x=train.drop(['tm'],axis=1)\n",
    "y=train['tm']"
   ]
  },
  {
   "cell_type": "code",
   "execution_count": 31,
   "id": "a8923928",
   "metadata": {
    "execution": {
     "iopub.execute_input": "2022-11-24T06:52:33.653849Z",
     "iopub.status.busy": "2022-11-24T06:52:33.653469Z",
     "iopub.status.idle": "2022-11-24T06:52:33.658171Z",
     "shell.execute_reply": "2022-11-24T06:52:33.657070Z"
    },
    "papermill": {
     "duration": 0.023884,
     "end_time": "2022-11-24T06:52:33.660446",
     "exception": false,
     "start_time": "2022-11-24T06:52:33.636562",
     "status": "completed"
    },
    "tags": []
   },
   "outputs": [],
   "source": [
    "from sklearn.model_selection import train_test_split"
   ]
  },
  {
   "cell_type": "code",
   "execution_count": 32,
   "id": "ad1d213f",
   "metadata": {
    "execution": {
     "iopub.execute_input": "2022-11-24T06:52:33.693375Z",
     "iopub.status.busy": "2022-11-24T06:52:33.692966Z",
     "iopub.status.idle": "2022-11-24T06:52:33.710861Z",
     "shell.execute_reply": "2022-11-24T06:52:33.709751Z"
    },
    "papermill": {
     "duration": 0.037374,
     "end_time": "2022-11-24T06:52:33.713482",
     "exception": false,
     "start_time": "2022-11-24T06:52:33.676108",
     "status": "completed"
    },
    "tags": []
   },
   "outputs": [],
   "source": [
    "x_train,x_valid,y_train,y_valid=train_test_split(x,y,test_size=0.20,random_state=42)"
   ]
  },
  {
   "cell_type": "code",
   "execution_count": 33,
   "id": "915e7ec3",
   "metadata": {
    "execution": {
     "iopub.execute_input": "2022-11-24T06:52:33.746050Z",
     "iopub.status.busy": "2022-11-24T06:52:33.745599Z",
     "iopub.status.idle": "2022-11-24T06:52:33.752326Z",
     "shell.execute_reply": "2022-11-24T06:52:33.751222Z"
    },
    "papermill": {
     "duration": 0.025567,
     "end_time": "2022-11-24T06:52:33.754476",
     "exception": false,
     "start_time": "2022-11-24T06:52:33.728909",
     "status": "completed"
    },
    "tags": []
   },
   "outputs": [
    {
     "data": {
      "text/plain": [
       "((25112, 22), (25112,))"
      ]
     },
     "execution_count": 33,
     "metadata": {},
     "output_type": "execute_result"
    }
   ],
   "source": [
    "x_train.shape,y_train.shape"
   ]
  },
  {
   "cell_type": "code",
   "execution_count": 34,
   "id": "a675605e",
   "metadata": {
    "execution": {
     "iopub.execute_input": "2022-11-24T06:52:33.787324Z",
     "iopub.status.busy": "2022-11-24T06:52:33.786916Z",
     "iopub.status.idle": "2022-11-24T06:52:33.872449Z",
     "shell.execute_reply": "2022-11-24T06:52:33.871504Z"
    },
    "papermill": {
     "duration": 0.105044,
     "end_time": "2022-11-24T06:52:33.874965",
     "exception": false,
     "start_time": "2022-11-24T06:52:33.769921",
     "status": "completed"
    },
    "tags": []
   },
   "outputs": [],
   "source": [
    "from sklearn.ensemble import RandomForestRegressor"
   ]
  },
  {
   "cell_type": "code",
   "execution_count": 35,
   "id": "854c9aec",
   "metadata": {
    "execution": {
     "iopub.execute_input": "2022-11-24T06:52:33.908333Z",
     "iopub.status.busy": "2022-11-24T06:52:33.907849Z",
     "iopub.status.idle": "2022-11-24T06:52:33.913489Z",
     "shell.execute_reply": "2022-11-24T06:52:33.912307Z"
    },
    "papermill": {
     "duration": 0.02499,
     "end_time": "2022-11-24T06:52:33.915828",
     "exception": false,
     "start_time": "2022-11-24T06:52:33.890838",
     "status": "completed"
    },
    "tags": []
   },
   "outputs": [],
   "source": [
    "from sklearn.model_selection import RandomizedSearchCV\n",
    "from pprint import pprint"
   ]
  },
  {
   "cell_type": "code",
   "execution_count": 36,
   "id": "4782dbaf",
   "metadata": {
    "execution": {
     "iopub.execute_input": "2022-11-24T06:52:33.948891Z",
     "iopub.status.busy": "2022-11-24T06:52:33.948469Z",
     "iopub.status.idle": "2022-11-24T06:52:33.953663Z",
     "shell.execute_reply": "2022-11-24T06:52:33.952557Z"
    },
    "papermill": {
     "duration": 0.024292,
     "end_time": "2022-11-24T06:52:33.955858",
     "exception": false,
     "start_time": "2022-11-24T06:52:33.931566",
     "status": "completed"
    },
    "tags": []
   },
   "outputs": [],
   "source": [
    "rf = RandomForestRegressor()"
   ]
  },
  {
   "cell_type": "code",
   "execution_count": 37,
   "id": "0c3af338",
   "metadata": {
    "execution": {
     "iopub.execute_input": "2022-11-24T06:52:33.989516Z",
     "iopub.status.busy": "2022-11-24T06:52:33.989119Z",
     "iopub.status.idle": "2022-11-24T06:52:33.995422Z",
     "shell.execute_reply": "2022-11-24T06:52:33.994244Z"
    },
    "papermill": {
     "duration": 0.027175,
     "end_time": "2022-11-24T06:52:33.998853",
     "exception": false,
     "start_time": "2022-11-24T06:52:33.971678",
     "status": "completed"
    },
    "tags": []
   },
   "outputs": [
    {
     "name": "stdout",
     "output_type": "stream",
     "text": [
      "{'bootstrap': True,\n",
      " 'ccp_alpha': 0.0,\n",
      " 'criterion': 'squared_error',\n",
      " 'max_depth': None,\n",
      " 'max_features': 'auto',\n",
      " 'max_leaf_nodes': None,\n",
      " 'max_samples': None,\n",
      " 'min_impurity_decrease': 0.0,\n",
      " 'min_samples_leaf': 1,\n",
      " 'min_samples_split': 2,\n",
      " 'min_weight_fraction_leaf': 0.0,\n",
      " 'n_estimators': 100,\n",
      " 'n_jobs': None,\n",
      " 'oob_score': False,\n",
      " 'random_state': None,\n",
      " 'verbose': 0,\n",
      " 'warm_start': False}\n"
     ]
    }
   ],
   "source": [
    "from pprint import pprint\n",
    "#lets find the parameters used by Randomforest models\n",
    "pprint(rf.get_params())"
   ]
  },
  {
   "cell_type": "code",
   "execution_count": 38,
   "id": "dafb6964",
   "metadata": {
    "execution": {
     "iopub.execute_input": "2022-11-24T06:52:34.034045Z",
     "iopub.status.busy": "2022-11-24T06:52:34.033152Z",
     "iopub.status.idle": "2022-11-24T06:52:34.043237Z",
     "shell.execute_reply": "2022-11-24T06:52:34.041195Z"
    },
    "papermill": {
     "duration": 0.030417,
     "end_time": "2022-11-24T06:52:34.046304",
     "exception": false,
     "start_time": "2022-11-24T06:52:34.015887",
     "status": "completed"
    },
    "tags": []
   },
   "outputs": [],
   "source": [
    "from scipy.stats import randint\n",
    "\n",
    "random_grid={'max_depth':list(np.arange(10, 100, step=10)),\n",
    "              'n_estimators':np.arange(10, 500, step=50),\n",
    "              'max_features':randint(1,7),\n",
    "              'min_samples_leaf':randint(1,4),\n",
    "              'min_samples_split':np.arange(2, 10, step=2)\n",
    "         }"
   ]
  },
  {
   "cell_type": "code",
   "execution_count": 39,
   "id": "997bf136",
   "metadata": {
    "execution": {
     "iopub.execute_input": "2022-11-24T06:52:34.089738Z",
     "iopub.status.busy": "2022-11-24T06:52:34.089175Z",
     "iopub.status.idle": "2022-11-24T06:52:34.100287Z",
     "shell.execute_reply": "2022-11-24T06:52:34.099037Z"
    },
    "papermill": {
     "duration": 0.038007,
     "end_time": "2022-11-24T06:52:34.103875",
     "exception": false,
     "start_time": "2022-11-24T06:52:34.065868",
     "status": "completed"
    },
    "tags": []
   },
   "outputs": [
    {
     "name": "stdout",
     "output_type": "stream",
     "text": [
      "{'max_depth': [10, 20, 30, 40, 50, 60, 70, 80, 90],\n",
      " 'max_features': <scipy.stats._distn_infrastructure.rv_frozen object at 0x7f1adaf36050>,\n",
      " 'min_samples_leaf': <scipy.stats._distn_infrastructure.rv_frozen object at 0x7f1adaf36290>,\n",
      " 'min_samples_split': array([2, 4, 6, 8]),\n",
      " 'n_estimators': array([ 10,  60, 110, 160, 210, 260, 310, 360, 410, 460])}\n"
     ]
    }
   ],
   "source": [
    "pprint(random_grid)"
   ]
  },
  {
   "cell_type": "code",
   "execution_count": 40,
   "id": "29e0f8da",
   "metadata": {
    "execution": {
     "iopub.execute_input": "2022-11-24T06:52:34.146655Z",
     "iopub.status.busy": "2022-11-24T06:52:34.145801Z",
     "iopub.status.idle": "2022-11-24T07:01:02.376855Z",
     "shell.execute_reply": "2022-11-24T07:01:02.375239Z"
    },
    "papermill": {
     "duration": 508.272634,
     "end_time": "2022-11-24T07:01:02.395183",
     "exception": false,
     "start_time": "2022-11-24T06:52:34.122549",
     "status": "completed"
    },
    "tags": []
   },
   "outputs": [
    {
     "name": "stdout",
     "output_type": "stream",
     "text": [
      "Fitting 3 folds for each of 50 candidates, totalling 150 fits\n",
      "[CV] END max_depth=50, max_features=2, min_samples_leaf=3, min_samples_split=6, n_estimators=360; total time=  12.0s\n",
      "[CV] END max_depth=50, max_features=2, min_samples_leaf=3, min_samples_split=6, n_estimators=360; total time=  12.3s\n",
      "[CV] END max_depth=50, max_features=4, min_samples_leaf=3, min_samples_split=4, n_estimators=210; total time=  11.9s\n",
      "[CV] END max_depth=50, max_features=1, min_samples_leaf=2, min_samples_split=4, n_estimators=410; total time=   9.7s\n",
      "[CV] END max_depth=10, max_features=3, min_samples_leaf=3, min_samples_split=6, n_estimators=460; total time=  11.6s\n",
      "[CV] END max_depth=30, max_features=4, min_samples_leaf=3, min_samples_split=8, n_estimators=410; total time=  22.6s\n",
      "[CV] END max_depth=90, max_features=2, min_samples_leaf=1, min_samples_split=4, n_estimators=160; total time=   6.8s\n",
      "[CV] END max_depth=70, max_features=4, min_samples_leaf=1, min_samples_split=8, n_estimators=110; total time=   6.7s\n",
      "[CV] END max_depth=20, max_features=6, min_samples_leaf=2, min_samples_split=4, n_estimators=460; total time=  34.4s\n",
      "[CV] END max_depth=20, max_features=2, min_samples_leaf=2, min_samples_split=8, n_estimators=360; total time=  10.8s\n",
      "[CV] END max_depth=50, max_features=5, min_samples_leaf=2, min_samples_split=6, n_estimators=210; total time=  15.3s\n",
      "[CV] END max_depth=50, max_features=5, min_samples_leaf=2, min_samples_split=6, n_estimators=210; total time=  15.3s\n",
      "[CV] END max_depth=80, max_features=2, min_samples_leaf=1, min_samples_split=8, n_estimators=410; total time=  14.8s\n",
      "[CV] END max_depth=70, max_features=2, min_samples_leaf=1, min_samples_split=8, n_estimators=310; total time=  11.3s\n",
      "[CV] END max_depth=90, max_features=4, min_samples_leaf=2, min_samples_split=2, n_estimators=310; total time=  19.5s\n",
      "[CV] END max_depth=60, max_features=3, min_samples_leaf=3, min_samples_split=2, n_estimators=110; total time=   4.9s\n",
      "[CV] END max_depth=60, max_features=3, min_samples_leaf=3, min_samples_split=2, n_estimators=110; total time=   5.1s\n",
      "[CV] END max_depth=60, max_features=3, min_samples_leaf=3, min_samples_split=2, n_estimators=110; total time=   5.0s\n",
      "[CV] END max_depth=50, max_features=6, min_samples_leaf=3, min_samples_split=2, n_estimators=210; total time=  17.5s\n",
      "[CV] END max_depth=70, max_features=6, min_samples_leaf=3, min_samples_split=6, n_estimators=410; total time=  33.4s\n",
      "[CV] END max_depth=70, max_features=3, min_samples_leaf=3, min_samples_split=4, n_estimators=60; total time=   2.8s\n",
      "[CV] END max_depth=70, max_features=3, min_samples_leaf=3, min_samples_split=4, n_estimators=60; total time=   2.8s\n",
      "[CV] END max_depth=90, max_features=5, min_samples_leaf=2, min_samples_split=8, n_estimators=160; total time=  11.4s\n",
      "[CV] END max_depth=40, max_features=5, min_samples_leaf=1, min_samples_split=6, n_estimators=310; total time=  23.7s\n",
      "[CV] END max_depth=60, max_features=3, min_samples_leaf=1, min_samples_split=4, n_estimators=210; total time=  11.1s\n",
      "[CV] END max_depth=60, max_features=1, min_samples_leaf=1, min_samples_split=4, n_estimators=10; total time=   0.3s\n",
      "[CV] END max_depth=60, max_features=1, min_samples_leaf=1, min_samples_split=4, n_estimators=10; total time=   0.3s\n",
      "[CV] END max_depth=40, max_features=4, min_samples_leaf=2, min_samples_split=6, n_estimators=60; total time=   3.6s\n",
      "[CV] END max_depth=30, max_features=1, min_samples_leaf=1, min_samples_split=2, n_estimators=360; total time=  11.7s\n"
     ]
    },
    {
     "name": "stderr",
     "output_type": "stream",
     "text": [
      "/opt/conda/lib/python3.7/site-packages/joblib/externals/loky/process_executor.py:691: UserWarning: A worker stopped while some jobs were given to the executor. This can be caused by a too short worker timeout or by a memory leak.\n",
      "  \"timeout or by a memory leak.\", UserWarning\n"
     ]
    },
    {
     "data": {
      "text/plain": [
       "RandomizedSearchCV(cv=3, estimator=RandomForestRegressor(random_state=42),\n",
       "                   n_iter=50, n_jobs=-1,\n",
       "                   param_distributions={'max_depth': [10, 20, 30, 40, 50, 60,\n",
       "                                                      70, 80, 90],\n",
       "                                        'max_features': <scipy.stats._distn_infrastructure.rv_frozen object at 0x7f1adaf36050>,\n",
       "                                        'min_samples_leaf': <scipy.stats._distn_infrastructure.rv_frozen object at 0x7f1adaf36290>,\n",
       "                                        'min_samples_split': array([2, 4, 6, 8]),\n",
       "                                        'n_estimators': array([ 10,  60, 110, 160, 210, 260, 310, 360, 410, 460])},\n",
       "                   random_state=42, return_train_score=True,\n",
       "                   scoring='neg_mean_absolute_error', verbose=2)"
      ]
     },
     "execution_count": 40,
     "metadata": {},
     "output_type": "execute_result"
    }
   ],
   "source": [
    "# Use the random grid to search for best hyperparameters\n",
    "#create the base model to tune\n",
    "rf = RandomForestRegressor(random_state = 42)\n",
    "# Random search of parameters, using 3 fold cross validation, \n",
    "rf_random = RandomizedSearchCV(estimator=rf, param_distributions=random_grid,\n",
    "                              n_iter = 50, scoring='neg_mean_absolute_error', \n",
    "                              cv =3, verbose=2, random_state=42, n_jobs=-1,\n",
    "                              return_train_score=True)\n",
    "\n",
    "# Fit the random search model\n",
    "rf_random.fit(x_train,y_train)"
   ]
  },
  {
   "cell_type": "code",
   "execution_count": 41,
   "id": "cd16a022",
   "metadata": {
    "execution": {
     "iopub.execute_input": "2022-11-24T07:01:02.431759Z",
     "iopub.status.busy": "2022-11-24T07:01:02.431282Z",
     "iopub.status.idle": "2022-11-24T07:01:03.197454Z",
     "shell.execute_reply": "2022-11-24T07:01:03.196255Z"
    },
    "papermill": {
     "duration": 0.787576,
     "end_time": "2022-11-24T07:01:03.199909",
     "exception": false,
     "start_time": "2022-11-24T07:01:02.412333",
     "status": "completed"
    },
    "tags": []
   },
   "outputs": [
    {
     "data": {
      "text/plain": [
       "(6278,)"
      ]
     },
     "execution_count": 41,
     "metadata": {},
     "output_type": "execute_result"
    }
   ],
   "source": [
    "y_predict= rf_random.predict(x_valid)\n",
    "y_predict.shape"
   ]
  },
  {
   "cell_type": "code",
   "execution_count": 42,
   "id": "6dcca93e",
   "metadata": {
    "execution": {
     "iopub.execute_input": "2022-11-24T07:01:03.234839Z",
     "iopub.status.busy": "2022-11-24T07:01:03.234436Z",
     "iopub.status.idle": "2022-11-24T07:01:03.242141Z",
     "shell.execute_reply": "2022-11-24T07:01:03.240972Z"
    },
    "papermill": {
     "duration": 0.027915,
     "end_time": "2022-11-24T07:01:03.244446",
     "exception": false,
     "start_time": "2022-11-24T07:01:03.216531",
     "status": "completed"
    },
    "tags": []
   },
   "outputs": [
    {
     "data": {
      "text/plain": [
       "(2413, 22)"
      ]
     },
     "execution_count": 42,
     "metadata": {},
     "output_type": "execute_result"
    }
   ],
   "source": [
    "test.shape"
   ]
  },
  {
   "cell_type": "code",
   "execution_count": 43,
   "id": "6ee94770",
   "metadata": {
    "execution": {
     "iopub.execute_input": "2022-11-24T07:01:03.280508Z",
     "iopub.status.busy": "2022-11-24T07:01:03.280107Z",
     "iopub.status.idle": "2022-11-24T07:01:03.710800Z",
     "shell.execute_reply": "2022-11-24T07:01:03.709852Z"
    },
    "papermill": {
     "duration": 0.452229,
     "end_time": "2022-11-24T07:01:03.713072",
     "exception": false,
     "start_time": "2022-11-24T07:01:03.260843",
     "status": "completed"
    },
    "tags": []
   },
   "outputs": [
    {
     "name": "stderr",
     "output_type": "stream",
     "text": [
      "/opt/conda/lib/python3.7/site-packages/seaborn/distributions.py:2619: FutureWarning: `distplot` is a deprecated function and will be removed in a future version. Please adapt your code to use either `displot` (a figure-level function with similar flexibility) or `histplot` (an axes-level function for histograms).\n",
      "  warnings.warn(msg, FutureWarning)\n",
      "/opt/conda/lib/python3.7/site-packages/seaborn/distributions.py:2619: FutureWarning: `distplot` is a deprecated function and will be removed in a future version. Please adapt your code to use either `displot` (a figure-level function with similar flexibility) or `histplot` (an axes-level function for histograms).\n",
      "  warnings.warn(msg, FutureWarning)\n"
     ]
    },
    {
     "data": {
      "text/plain": [
       "<AxesSubplot:xlabel='tm', ylabel='Density'>"
      ]
     },
     "execution_count": 43,
     "metadata": {},
     "output_type": "execute_result"
    },
    {
     "data": {
      "image/png": "[encoded data removed]",
      "text/plain": [
       "<Figure size 432x288 with 1 Axes>"
      ]
     },
     "metadata": {
      "needs_background": "light"
     },
     "output_type": "display_data"
    }
   ],
   "source": [
    "# Density Plot and Histogram of all arrival delays\n",
    "sns.distplot(y_valid, hist=True, kde=True, \n",
    "             bins=int(180/5), color = 'darkblue', \n",
    "             hist_kws={'edgecolor':'black'},\n",
    "             kde_kws={'linewidth': 4})\n",
    "# Density Plot and Histogram of all arrival delays\n",
    "sns.distplot(y_predict, hist=True, kde=True, \n",
    "             bins=int(180/5), color = 'red', \n",
    "             hist_kws={'edgecolor':'green'},\n",
    "             kde_kws={'linewidth': 4})\n"
   ]
  },
  {
   "cell_type": "code",
   "execution_count": 44,
   "id": "d25482ee",
   "metadata": {
    "execution": {
     "iopub.execute_input": "2022-11-24T07:01:03.748783Z",
     "iopub.status.busy": "2022-11-24T07:01:03.747875Z",
     "iopub.status.idle": "2022-11-24T07:01:03.758301Z",
     "shell.execute_reply": "2022-11-24T07:01:03.757214Z"
    },
    "papermill": {
     "duration": 0.030597,
     "end_time": "2022-11-24T07:01:03.760410",
     "exception": false,
     "start_time": "2022-11-24T07:01:03.729813",
     "status": "completed"
    },
    "tags": []
   },
   "outputs": [
    {
     "name": "stdout",
     "output_type": "stream",
     "text": [
      "Mean Absolute Error: 6.243216771014148\n",
      "Mean Squared Error: 78.06712196700825\n",
      "Root Mean Squared Error: 8.835560082247659\n"
     ]
    }
   ],
   "source": [
    "from sklearn import metrics\n",
    "print('Mean Absolute Error:', metrics.mean_absolute_error(y_valid, y_predict))\n",
    "print('Mean Squared Error:', metrics.mean_squared_error(y_valid, y_predict))\n",
    "print('Root Mean Squared Error:', np.sqrt(metrics.mean_squared_error(y_valid, y_predict)))"
   ]
  },
  {
   "cell_type": "code",
   "execution_count": 45,
   "id": "b71f40a1",
   "metadata": {
    "execution": {
     "iopub.execute_input": "2022-11-24T07:01:03.796126Z",
     "iopub.status.busy": "2022-11-24T07:01:03.795445Z",
     "iopub.status.idle": "2022-11-24T07:01:03.799737Z",
     "shell.execute_reply": "2022-11-24T07:01:03.798956Z"
    },
    "papermill": {
     "duration": 0.02447,
     "end_time": "2022-11-24T07:01:03.801808",
     "exception": false,
     "start_time": "2022-11-24T07:01:03.777338",
     "status": "completed"
    },
    "tags": []
   },
   "outputs": [],
   "source": [
    "from scipy.stats import spearmanr"
   ]
  },
  {
   "cell_type": "code",
   "execution_count": 46,
   "id": "34247bbc",
   "metadata": {
    "execution": {
     "iopub.execute_input": "2022-11-24T07:01:03.837235Z",
     "iopub.status.busy": "2022-11-24T07:01:03.836830Z",
     "iopub.status.idle": "2022-11-24T07:01:03.849899Z",
     "shell.execute_reply": "2022-11-24T07:01:03.848736Z"
    },
    "papermill": {
     "duration": 0.033549,
     "end_time": "2022-11-24T07:01:03.852209",
     "exception": false,
     "start_time": "2022-11-24T07:01:03.818660",
     "status": "completed"
    },
    "tags": []
   },
   "outputs": [
    {
     "data": {
      "text/plain": [
       "SpearmanrResult(correlation=0.5861139543637355, pvalue=0.0)"
      ]
     },
     "execution_count": 46,
     "metadata": {},
     "output_type": "execute_result"
    }
   ],
   "source": [
    "from scipy import stats\n",
    "\n",
    "stats.spearmanr(y_valid, y_predict)"
   ]
  },
  {
   "cell_type": "code",
   "execution_count": 47,
   "id": "8934c028",
   "metadata": {
    "execution": {
     "iopub.execute_input": "2022-11-24T07:01:03.888017Z",
     "iopub.status.busy": "2022-11-24T07:01:03.887593Z",
     "iopub.status.idle": "2022-11-24T07:01:03.893353Z",
     "shell.execute_reply": "2022-11-24T07:01:03.892130Z"
    },
    "papermill": {
     "duration": 0.026512,
     "end_time": "2022-11-24T07:01:03.895721",
     "exception": false,
     "start_time": "2022-11-24T07:01:03.869209",
     "status": "completed"
    },
    "tags": []
   },
   "outputs": [],
   "source": [
    "submission =pd.DataFrame()"
   ]
  },
  {
   "cell_type": "code",
   "execution_count": 48,
   "id": "118592b1",
   "metadata": {
    "execution": {
     "iopub.execute_input": "2022-11-24T07:01:03.932028Z",
     "iopub.status.busy": "2022-11-24T07:01:03.931602Z",
     "iopub.status.idle": "2022-11-24T07:01:03.938546Z",
     "shell.execute_reply": "2022-11-24T07:01:03.937698Z"
    },
    "papermill": {
     "duration": 0.027956,
     "end_time": "2022-11-24T07:01:03.940798",
     "exception": false,
     "start_time": "2022-11-24T07:01:03.912842",
     "status": "completed"
    },
    "tags": []
   },
   "outputs": [],
   "source": [
    "submission['seq_id']=test['seq_id']"
   ]
  },
  {
   "cell_type": "code",
   "execution_count": 49,
   "id": "880c810e",
   "metadata": {
    "execution": {
     "iopub.execute_input": "2022-11-24T07:01:03.978052Z",
     "iopub.status.busy": "2022-11-24T07:01:03.977264Z",
     "iopub.status.idle": "2022-11-24T07:01:04.065623Z",
     "shell.execute_reply": "2022-11-24T07:01:04.063947Z"
    },
    "papermill": {
     "duration": 0.110026,
     "end_time": "2022-11-24T07:01:04.068479",
     "exception": false,
     "start_time": "2022-11-24T07:01:03.958453",
     "status": "completed"
    },
    "tags": []
   },
   "outputs": [],
   "source": [
    "submission['tm'] =rf_random.predict(test)"
   ]
  },
  {
   "cell_type": "code",
   "execution_count": 50,
   "id": "106fb356",
   "metadata": {
    "execution": {
     "iopub.execute_input": "2022-11-24T07:01:04.105828Z",
     "iopub.status.busy": "2022-11-24T07:01:04.105328Z",
     "iopub.status.idle": "2022-11-24T07:01:04.127966Z",
     "shell.execute_reply": "2022-11-24T07:01:04.127081Z"
    },
    "papermill": {
     "duration": 0.043763,
     "end_time": "2022-11-24T07:01:04.130142",
     "exception": false,
     "start_time": "2022-11-24T07:01:04.086379",
     "status": "completed"
    },
    "tags": []
   },
   "outputs": [
    {
     "data": {
      "text/html": [
       "<div>\n",
       "<style scoped>\n",
       "    .dataframe tbody tr th:only-of-type {\n",
       "        vertical-align: middle;\n",
       "    }\n",
       "\n",
       "    .dataframe tbody tr th {\n",
       "        vertical-align: top;\n",
       "    }\n",
       "\n",
       "    .dataframe thead th {\n",
       "        text-align: right;\n",
       "    }\n",
       "</style>\n",
       "<table border=\"1\" class=\"dataframe\">\n",
       "  <thead>\n",
       "    <tr style=\"text-align: right;\">\n",
       "      <th></th>\n",
       "      <th>seq_id</th>\n",
       "      <th>tm</th>\n",
       "    </tr>\n",
       "  </thead>\n",
       "  <tbody>\n",
       "    <tr>\n",
       "      <th>0</th>\n",
       "      <td>31390</td>\n",
       "      <td>47.460957</td>\n",
       "    </tr>\n",
       "    <tr>\n",
       "      <th>1</th>\n",
       "      <td>31391</td>\n",
       "      <td>47.147371</td>\n",
       "    </tr>\n",
       "    <tr>\n",
       "      <th>2</th>\n",
       "      <td>31392</td>\n",
       "      <td>47.414311</td>\n",
       "    </tr>\n",
       "    <tr>\n",
       "      <th>3</th>\n",
       "      <td>31393</td>\n",
       "      <td>49.728537</td>\n",
       "    </tr>\n",
       "    <tr>\n",
       "      <th>4</th>\n",
       "      <td>31394</td>\n",
       "      <td>49.493891</td>\n",
       "    </tr>\n",
       "    <tr>\n",
       "      <th>...</th>\n",
       "      <td>...</td>\n",
       "      <td>...</td>\n",
       "    </tr>\n",
       "    <tr>\n",
       "      <th>2408</th>\n",
       "      <td>33798</td>\n",
       "      <td>47.216911</td>\n",
       "    </tr>\n",
       "    <tr>\n",
       "      <th>2409</th>\n",
       "      <td>33799</td>\n",
       "      <td>47.005208</td>\n",
       "    </tr>\n",
       "    <tr>\n",
       "      <th>2410</th>\n",
       "      <td>33800</td>\n",
       "      <td>47.356829</td>\n",
       "    </tr>\n",
       "    <tr>\n",
       "      <th>2411</th>\n",
       "      <td>33801</td>\n",
       "      <td>47.226983</td>\n",
       "    </tr>\n",
       "    <tr>\n",
       "      <th>2412</th>\n",
       "      <td>33802</td>\n",
       "      <td>46.839241</td>\n",
       "    </tr>\n",
       "  </tbody>\n",
       "</table>\n",
       "<p>2413 rows × 2 columns</p>\n",
       "</div>"
      ],
      "text/plain": [
       "      seq_id         tm\n",
       "0      31390  47.460957\n",
       "1      31391  47.147371\n",
       "2      31392  47.414311\n",
       "3      31393  49.728537\n",
       "4      31394  49.493891\n",
       "...      ...        ...\n",
       "2408   33798  47.216911\n",
       "2409   33799  47.005208\n",
       "2410   33800  47.356829\n",
       "2411   33801  47.226983\n",
       "2412   33802  46.839241\n",
       "\n",
       "[2413 rows x 2 columns]"
      ]
     },
     "execution_count": 50,
     "metadata": {},
     "output_type": "execute_result"
    }
   ],
   "source": [
    "submission.to_csv('submission.csv',index=False)\n",
    "submission"
   ]
  },
  {
   "cell_type": "code",
   "execution_count": 51,
   "id": "24837f12",
   "metadata": {
    "execution": {
     "iopub.execute_input": "2022-11-24T07:01:04.168269Z",
     "iopub.status.busy": "2022-11-24T07:01:04.167384Z",
     "iopub.status.idle": "2022-11-24T07:01:04.173392Z",
     "shell.execute_reply": "2022-11-24T07:01:04.172521Z"
    },
    "papermill": {
     "duration": 0.027848,
     "end_time": "2022-11-24T07:01:04.175446",
     "exception": false,
     "start_time": "2022-11-24T07:01:04.147598",
     "status": "completed"
    },
    "tags": []
   },
   "outputs": [
    {
     "data": {
      "text/html": [
       "<a href='submission.csv' target='_blank'>submission.csv</a><br>"
      ],
      "text/plain": [
       "/kaggle/working/submission.csv"
      ]
     },
     "execution_count": 51,
     "metadata": {},
     "output_type": "execute_result"
    }
   ],
   "source": [
    "from IPython.display import FileLink\n",
    "FileLink(r'submission.csv')"
   ]
  },
  {
   "cell_type": "code",
   "execution_count": null,
   "id": "7ad7dd2c",
   "metadata": {
    "papermill": {
     "duration": 0.017539,
     "end_time": "2022-11-24T07:01:04.211478",
     "exception": false,
     "start_time": "2022-11-24T07:01:04.193939",
     "status": "completed"
    },
    "tags": []
   },
   "outputs": [],
   "source": []
  }
 ],
 "metadata": {
  "kernelspec": {
   "display_name": "Python 3 (ipykernel)",
   "language": "python",
   "name": "python3"
  },
  "language_info": {
   "codemirror_mode": {
    "name": "ipython",
    "version": 3
   },
   "file_extension": ".py",
   "mimetype": "text/x-python",
   "name": "python",
   "nbconvert_exporter": "python",
   "pygments_lexer": "ipython3",
   "version": "3.10.7"
  },
  "papermill": {
   "default_parameters": {},
   "duration": 534.872282,
   "end_time": "2022-11-24T07:01:06.854032",
   "environment_variables": {},
   "exception": null,
   "input_path": "__notebook__.ipynb",
   "output_path": "__notebook__.ipynb",
   "parameters": {},
   "start_time": "2022-11-24T06:52:11.981750",
   "version": "2.3.4"
  }
 },
 "nbformat": 4,
 "nbformat_minor": 5
}
